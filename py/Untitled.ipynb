{
 "cells": [
  {
   "cell_type": "code",
   "execution_count": 5,
   "metadata": {},
   "outputs": [],
   "source": [
    "import numpy as np\n",
    "import math\n",
    "from matplotlib import pylab as plt\n",
    "from ROOT import TTree, TFile, TH2D, TCanvas, TH1F, gROOT\n",
    "from root_numpy import array2hist, hist2array, fill_hist, tree2array, root2array, list_trees\n",
    "import pandas as pd\n",
    "from root_pandas import read_root\n",
    "\n",
    "\n",
    "filenameg=\"../output/ClusterAllOne_main_phs1_gamma.root\"\n",
    "filename=\"../output/ClusterAllOne_main_phs1_electron.root\"\n",
    "inputFile=TFile(filename)\n",
    "tree=inputFile.Get(\"PhaseSpace\")\n",
    "# tree.ls()\n",
    "# tree.GetEntries()\n",
    "# list_trees(filename)\n",
    "inputFileg=TFile(filenameg)\n",
    "treeg=inputFileg.Get(\"PhaseSpace\")\n",
    "# treeg.ls()\n",
    "# treeg.GetEntries()\n",
    "\n",
    "filename_2g=\"../output/output-lana2-PhS-g.root\"\n",
    "inputFile_2g=TFile(filename_2g)\n",
    "tree_2g=inputFile_2g.Get(\"PhaseSpace\")\n",
    "# tree_2g.ls()\n",
    "# tree_2g.GetEntries()\n",
    "\n",
    "filename_2e=\"../output/output-lana2-PhS-e.root\"\n",
    "inputFile_2e=TFile(filename_2e)\n",
    "tree_2e=inputFile_2e.Get(\"PhaseSpace\")\n",
    "# tree_2e.ls()\n",
    "# tree_2e.GetEntries()\n"
   ]
  },
  {
   "cell_type": "code",
   "execution_count": 17,
   "metadata": {},
   "outputs": [
    {
     "name": "stdout",
     "output_type": "stream",
     "text": [
      "331660 9581278 10574 187547\n"
     ]
    }
   ],
   "source": [
    "dfg = read_root(filenameg, columns=['X','Y','Z','dX', 'dY','dZ','Weight','Ekine'])\n",
    "dfe = read_root(filename, columns=['X','Y','Z','dX', 'dY','dZ','Weight','Ekine'])\n",
    "\n",
    "df_2g = read_root(filename_2g, columns=['X','Y','Z','dX', 'dY','dZ','Weight','Ekine'])\n",
    "df_2e = read_root(filename_2e, columns=['X','Y','Z','dX', 'dY','dZ','Weight','Ekine'])\n",
    "print(len(dfe),len(dfg),len(df_2e),len(df_2g))"
   ]
  },
  {
   "cell_type": "code",
   "execution_count": 26,
   "metadata": {},
   "outputs": [
    {
     "name": "stdout",
     "output_type": "stream",
     "text": [
      "1716.8337\n",
      "268368.94\n",
      "14.341193\n",
      "4840.7104\n"
     ]
    },
    {
     "data": {
      "image/png": "[encoded data removed]",
      "text/plain": [
       "<Figure size 432x288 with 1 Axes>"
      ]
     },
     "metadata": {
      "needs_background": "light"
     },
     "output_type": "display_data"
    }
   ],
   "source": [
    "# dfe[['dX','dY']]\n",
    "print(dfe['Weight'].sum(axis = 0, skipna = True) )\n",
    "print(dfg['Weight'].sum(axis = 0, skipna = True) )\n",
    "print(df_2e['Weight'].sum(axis = 0, skipna = True) )\n",
    "print(df_2g['Weight'].sum(axis = 0, skipna = True))\n",
    "\n",
    "_=plt.hist(dfe['Ekine'],bins=100)"
   ]
  },
  {
   "cell_type": "code",
   "execution_count": null,
   "metadata": {},
   "outputs": [],
   "source": [
    "dfe['dXdY']=(dfe.dX**2+dfe.dY**2)**0.5\n",
    "dfg['dXdY']=(dfg.dX**2+dfg.dY**2)**0.5\n",
    "df_2e['dXdY']=(df_2e.dX**2+df_2e.dY**2)**0.5\n",
    "df_2g['dXdY']=(df_2g.dX**2+df_2g.dY**2)**0.5"
   ]
  },
  {
   "cell_type": "code",
   "execution_count": null,
   "metadata": {},
   "outputs": [],
   "source": [
    "ratioThetaXYe=dfe.dXdY/dfe.dZ\n",
    "ratioThetaXe=dfe.dX/dfe.dZ\n",
    "ratioThetaYe=dfe.dX/dfe.dZ\n",
    "\n",
    "ratioThetaXYg=dfg.dXdY/dfg.dZ\n",
    "ratioThetaXg=dfg.dX/dfg.dZ\n",
    "ratioThetaYg=dfg.dX/dfg.dZ\n",
    "\n",
    "ratioThetaXY_2e=df_2e.dXdY/df_2e.dZ\n",
    "ratioThetaX_2e=df_2e.dX/df_2e.dZ\n",
    "ratioThetaY_2e=df_2e.dX/df_2e.dZ\n",
    "\n",
    "ratioThetaXY_2g=df_2g.dXdY/df_2g.dZ\n",
    "ratioThetaX_2g=df_2g.dX/df_2g.dZ\n",
    "ratioThetaY_2g=df_2g.dX/df_2g.dZ\n"
   ]
  },
  {
   "cell_type": "code",
   "execution_count": null,
   "metadata": {},
   "outputs": [],
   "source": [
    "# def atanfunc:\n",
    "    \n",
    "df['thetaXY']=ratioThetaXY.apply(math.atan)*180/3.14\n",
    "df['thetaX']=ratioThetaX.apply(math.atan)*180/3.14\n",
    "df['thetaY']=ratioThetaY.apply(math.atan)*180/3.14\n",
    "\n",
    "dfg['thetaXY']=ratioThetaXYg.apply(math.atan)*180/3.14\n",
    "dfg['thetaX']=ratioThetaXg.apply(math.atan)*180/3.14\n",
    "dfg['thetaY']=ratioThetaYg.apply(math.atan)*180/3.14\n",
    "\n",
    "df_2e['thetaXY']=ratioThetaXY_2e.apply(math.atan)*180/3.14\n",
    "df_2e['thetaX']=ratioThetaX_2e.apply(math.atan)*180/3.14\n",
    "df_2e['thetaY']=ratioThetaY_2e.apply(math.atan)*180/3.14\n",
    "\n",
    "df_2g['thetaXY']=ratioThetaXY_2g.apply(math.atan)*180/3.14\n",
    "df_2g['thetaX']=ratioThetaX_2g.apply(math.atan)*180/3.14\n",
    "df_2g['thetaY']=ratioThetaY_2g.apply(math.atan)*180/3.14"
   ]
  },
  {
   "cell_type": "code",
   "execution_count": null,
   "metadata": {},
   "outputs": [],
   "source": [
    "df['XY']=(df.X**2+df.Y**2)**0.5\n",
    "dfg['XY']=(dfg.X**2+dfg.Y**2)**0.5\n",
    "df_2e['XY']=(df_2e.X**2+df_2e.Y**2)**0.5\n",
    "df_2g['XY']=(df_2g.X**2+df_2g.Y**2)**0.5"
   ]
  },
  {
   "cell_type": "code",
   "execution_count": null,
   "metadata": {
    "scrolled": false
   },
   "outputs": [],
   "source": [
    "# _=plt.hist2d(df.X,df.Y)\n",
    "# plt.colorbar()\n",
    "\n",
    "# subdf = df[(df['X']>0) & (df['Y']>0)]\n",
    "# subdfg = dfg[(dfg['X']>0) & (dfg['Y']>0)]\n",
    "# subdf_2e = df_2e[(df_2e['X']>0) & (df_2e['Y']>0)]\n",
    "# subdf_2g = df_2g[(df_2g['X']>0) & (df_2g['Y']>0)]\n",
    "\n",
    "# fig,(ax1,ax2)=plt.subplots(1,2,figsize=(16,4))\n",
    "# plt.figure(1)\n",
    "# plt.gca()\n",
    "# histrad=ax1.hist2d(df.X,df.Y,bins=[40,40])\n",
    "# ax1.set_xlabel('X (mm)')\n",
    "# ax1.set_ylabel('Y (mm)')\n",
    "# type(histrad[0])\n",
    "# plt.colorbar(histrad[0]) \n",
    "fig,ax=plt.subplots(2,2,figsize=(16,8))\n",
    "histrad=ax[0,0].hist2d(df.X,df.Y,bins=[80,80])\n",
    "ax[0,0].set_xlabel('X (mm)')\n",
    "ax[0,0].set_ylabel('Y (mm)')\n",
    "fig.colorbar(mappable=histrad[3], ax=ax[0,0]) \n",
    "# plt.figure(2)\n",
    "histradg=ax[0,1].hist2d(dfg.X,dfg.Y,bins=[500,500])\n",
    "ax[0,1].set_xlabel('X (mm)')\n",
    "ax[0,1].set_ylabel('Y (mm)')\n",
    "fig.colorbar(mappable=histradg[3], ax=ax[0,1]) \n",
    "\n",
    "histrad_2e=ax[1,0].hist2d(df_2e.X,df_2e.Y,bins=[80,80],cmax=20)\n",
    "ax[1,0].set_xlabel('X (mm)')\n",
    "ax[1,0].set_ylabel('Y (mm)')\n",
    "cb=fig.colorbar(mappable=histradg[3], ax=ax[1,0]) \n",
    "# cb.ax.set_xlim(0, 400)\n",
    "\n",
    "histrad_2g=ax[1,1].hist2d(df_2g.X,df_2g.Y,bins=[200,200])\n",
    "ax[1,1].set_xlabel('X (mm)')\n",
    "ax[1,1].set_ylabel('Y (mm)')\n",
    "fig.colorbar(mappable=histradg[3], ax=ax[1,1]) \n",
    "\n",
    "# fig.savefig('beamProfiles.png')\n",
    "\n"
   ]
  },
  {
   "cell_type": "code",
   "execution_count": null,
   "metadata": {
    "scrolled": true
   },
   "outputs": [],
   "source": [
    "x0=histrad[0][:,0]\n",
    "y0=histrad[0][0,:]\n",
    "x0=x0+y0\n",
    "print(x0.shape)\n",
    "ran=np.arange(0,len(x0))\n",
    "print(ran.shape)\n",
    "plt.plot(ran,x0)"
   ]
  },
  {
   "cell_type": "code",
   "execution_count": null,
   "metadata": {},
   "outputs": [],
   "source": [
    "histxy=plt.hist(subdf.XY,bins=40)\n",
    "arrxy=histxy[0]\n",
    "arrxyy=np.arange(1,41)\n",
    "print(arrxy)\n",
    "print(arrxyy)\n",
    "divxy=arrxy/arrxyy\n",
    "print(divxy)"
   ]
  },
  {
   "cell_type": "code",
   "execution_count": null,
   "metadata": {},
   "outputs": [],
   "source": [
    "plt.plot(divxy)"
   ]
  },
  {
   "cell_type": "code",
   "execution_count": null,
   "metadata": {},
   "outputs": [],
   "source": [
    "_=plt.hist(df.thetaXY,bins=100,histtype=u'step',density=True)\n",
    "_=plt.hist(dfg.thetaXY,bins=100,histtype=u'step',density=True,color='red')\n",
    "# plt.gca().invert_yaxis()\n"
   ]
  },
  {
   "cell_type": "code",
   "execution_count": null,
   "metadata": {},
   "outputs": [],
   "source": [
    "fig,ax=plt.subplots(1,2,figsize=(16,4))\n",
    "\n",
    "_=ax[0].hist(df.thetaX[df.XY<5],bins=100,histtype=u'step',density=True)\n",
    "_=ax[0].hist(df.thetaX[df.XY<35],bins=100,histtype=u'step',color='red',density=True)\n",
    "_=ax[1].hist(dfg.thetaX[dfg.XY<5],bins=100,histtype=u'step',color='green',density=True)\n",
    "_=ax[1].hist(dfg.thetaX[dfg.XY<35],bins=100,histtype=u'step',color='blue',density=True)"
   ]
  },
  {
   "cell_type": "code",
   "execution_count": null,
   "metadata": {
    "scrolled": true
   },
   "outputs": [],
   "source": [
    "fig,ax=plt.subplots(1,2,figsize=(16,4))\n",
    "\n",
    "_=ax[0].hist(-df.thetaXY[df.XY<5],bins=100,histtype=u'step',density=True)\n",
    "_=ax[0].hist(-df.thetaXY[df.XY<35],bins=100,histtype=u'step',color='red',density=True)\n",
    "ax[0].set_xlabel\n",
    "_=ax[1].hist(-dfg.thetaXY[dfg.XY<5],bins=100,histtype=u'step',density=True)\n",
    "_=ax[1].hist(-dfg.thetaXY[dfg.XY<35],bins=100,histtype=u'step',color='red',density=True)"
   ]
  },
  {
   "cell_type": "code",
   "execution_count": null,
   "metadata": {},
   "outputs": [],
   "source": [
    "_=plt.hist2d(df.X,df.dX)"
   ]
  },
  {
   "cell_type": "code",
   "execution_count": null,
   "metadata": {},
   "outputs": [],
   "source": []
  }
 ],
 "metadata": {
  "kernelspec": {
   "display_name": "Python 3",
   "language": "python",
   "name": "python3"
  },
  "language_info": {
   "codemirror_mode": {
    "name": "ipython",
    "version": 3
   },
   "file_extension": ".py",
   "mimetype": "text/x-python",
   "name": "python",
   "nbconvert_exporter": "python",
   "pygments_lexer": "ipython3",
   "version": "3.7.5"
  }
 },
 "nbformat": 4,
 "nbformat_minor": 2
}
