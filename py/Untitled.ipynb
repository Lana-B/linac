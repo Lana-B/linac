{
 "cells": [
  {
   "cell_type": "code",
   "execution_count": 1,
   "metadata": {},
   "outputs": [
    {
     "name": "stdout",
     "output_type": "stream",
     "text": [
      "Welcome to JupyROOT 6.22/02\n"
     ]
    }
   ],
   "source": [
    "import uproot\n",
    "import numpy as np\n",
    "import math\n",
    "from matplotlib import pylab as plt\n",
    "from ROOT import TTree, TFile, TH2D, TCanvas, TH1F, gROOT\n",
    "from root_numpy import array2hist, hist2array, fill_hist, tree2array, root2array, list_trees\n",
    "import pandas as pd\n",
    "from root_pandas import read_root\n",
    "from matplotlib import rc\n",
    "\n",
    "# plt.rcParams['text.usetex'] = True\n",
    "pd.set_option('use_inf_as_na', False)\n",
    "\n",
    "\n",
    "def midpoints(hvals):\n",
    "    hvals_shift=np.append(hvals[1:],0)\n",
    "\n",
    "    midp=(hvals+hvals_shift)/2.0\n",
    "    return midp[:-1]\n",
    "\n",
    "font = {'family': 'sanserif',\n",
    "        'color':  'black',\n",
    "        'weight': 'normal',\n",
    "        'size': 14,\n",
    "        }\n",
    "\n",
    "SMALL_SIZE = 12\n",
    "MEDIUM_SIZE = 15\n",
    "BIGGER_SIZE = 19\n",
    "\n",
    "plt.rc('font', size=SMALL_SIZE)          # controls default text sizes\n",
    "plt.rc('axes', titlesize=SMALL_SIZE)     # fontsize of the axes title\n",
    "plt.rc('axes', labelsize=MEDIUM_SIZE)    # fontsize of the x and y labels\n",
    "plt.rc('xtick', labelsize=SMALL_SIZE)    # fontsize of the tick labels\n",
    "plt.rc('ytick', labelsize=SMALL_SIZE)    # fontsize of the tick labels\n",
    "plt.rc('legend', fontsize=SMALL_SIZE)    # legend fontsize\n",
    "plt.rc('figure', titlesize=BIGGER_SIZE)  # fontsize of the figure title"
   ]
  },
  {
   "cell_type": "code",
   "execution_count": 2,
   "metadata": {},
   "outputs": [
    {
     "name": "stdout",
     "output_type": "stream",
     "text": [
      "/work/lb8075/PhaseSpaces/PhS2_10x10_p1_Elec_v3/output*.root   \n",
      "\n",
      "/work/as17540/PhaseSpaces/PhS2_10x10_p1_Elec_v2/output*GateMaterials_SeaLevel.db.root   \n",
      "\n"
     ]
    }
   ],
   "source": [
    "filenames_e=[\n",
    "            \"/work/lb8075/PhaseSpaces/PhS2_10x10_p1_Elec_v3/output*.root\",\\\n",
    "            \"/work/as17540/PhaseSpaces/PhS2_10x10_p1_Elec_v2/output*GateMaterials_SeaLevel.db.root\"\n",
    "]\n",
    "\n",
    "\n",
    "data_frame_dict={}\n",
    "\n",
    "for files_g in filenames_e:\n",
    "    print(f\"{files_g}   \\n\")\n",
    "    ur=uproot.pandas.iterate(files_g, \"PhaseSpace\", ['X','Y','dX','dY','Weight','Ekine','ProductionVolume'])\n",
    "    #This creates a set of dataframes for each files as it iterates through the * wildcards\n",
    "    mylist=list(ur)        \n",
    "    data_frame_dict[files_g]=pd.concat(mylist, ignore_index=True, sort=False  ,copy = False)\n",
    "    #The concat method then stitches all the pandas data frames for each file together into one data frame\n",
    "    #which is then stored in a dictionary, accessed by the the key files_g, whatever the filename is"
   ]
  },
  {
   "cell_type": "code",
   "execution_count": 10,
   "metadata": {},
   "outputs": [
    {
     "name": "stdout",
     "output_type": "stream",
     "text": [
      "/work/lb8075/PhaseSpaces/PhS2_10x10_p1_Elec_v3/output*.root\n",
      "/work/as17540/PhaseSpaces/PhS2_10x10_p1_Elec_v2/output*GateMaterials_SeaLevel.db.root\n"
     ]
    },
    {
     "data": {
      "image/png": "[encoded data removed]",
      "text/plain": [
       "<Figure size 432x288 with 1 Axes>"
      ]
     },
     "metadata": {
      "needs_background": "light"
     },
     "output_type": "display_data"
    }
   ],
   "source": [
    "for files_g in filenames_e:\n",
    "    df=data_frame_dict[files_g]\n",
    "    print(files_g)\n",
    "    _=plt.hist(df['Ekine'],bins=50,range=(0,6),density=True,histtype=\"step\")"
   ]
  },
  {
   "cell_type": "code",
   "execution_count": null,
   "metadata": {},
   "outputs": [],
   "source": []
  }
 ],
 "metadata": {
  "kernelspec": {
   "display_name": "Python 3",
   "language": "python",
   "name": "python3"
  },
  "language_info": {
   "codemirror_mode": {
    "name": "ipython",
    "version": 3
   },
   "file_extension": ".py",
   "mimetype": "text/x-python",
   "name": "python",
   "nbconvert_exporter": "python",
   "pygments_lexer": "ipython3",
   "version": "3.8.5"
  }
 },
 "nbformat": 4,
 "nbformat_minor": 4
}
