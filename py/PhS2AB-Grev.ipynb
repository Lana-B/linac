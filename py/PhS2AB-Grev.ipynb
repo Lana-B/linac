{
 "cells": [
  {
   "cell_type": "code",
   "execution_count": 1,
   "metadata": {},
   "outputs": [
    {
     "name": "stdout",
     "output_type": "stream",
     "text": [
      "Welcome to JupyROOT 6.22/02\n"
     ]
    }
   ],
   "source": [
    "import uproot\n",
    "import numpy as np\n",
    "import math\n",
    "from matplotlib import pylab as plt\n",
    "from ROOT import TTree, TFile, TH2D, TCanvas, TH1F, gROOT\n",
    "from root_numpy import array2hist, hist2array, fill_hist, tree2array, root2array, list_trees\n",
    "import pandas as pd\n",
    "from root_pandas import read_root\n",
    "from matplotlib import rc\n",
    "from matplotlib import colors as mplcol\n",
    "\n",
    "# plt.rcParams['text.usetex'] = True\n",
    "\n",
    "\n",
    "def midpoints(hvals):\n",
    "    hvals_shift=np.append(hvals[1:],0)\n",
    "\n",
    "    midp=(hvals+hvals_shift)/2.0\n",
    "    return midp[:-1]\n",
    "\n",
    "font = {'family': 'sanserif',\n",
    "        'color':  'black',\n",
    "        'weight': 'normal',\n",
    "        'size': 14,\n",
    "        }\n",
    "\n",
    "SMALL_SIZE = 12\n",
    "MEDIUM_SIZE = 15\n",
    "BIGGER_SIZE = 19\n",
    "\n",
    "plt.rc('font', size=SMALL_SIZE)          # controls default text sizes\n",
    "plt.rc('axes', titlesize=SMALL_SIZE)     # fontsize of the axes title\n",
    "plt.rc('axes', labelsize=MEDIUM_SIZE)    # fontsize of the x and y labels\n",
    "plt.rc('xtick', labelsize=SMALL_SIZE)    # fontsize of the tick labels\n",
    "plt.rc('ytick', labelsize=SMALL_SIZE)    # fontsize of the tick labels\n",
    "plt.rc('legend', fontsize=SMALL_SIZE)    # legend fontsize\n",
    "plt.rc('figure', titlesize=BIGGER_SIZE)  # fontsize of the figure title"
   ]
  },
  {
   "cell_type": "markdown",
   "metadata": {},
   "source": [
    "## Inspect what variables are inside the file"
   ]
  },
  {
   "cell_type": "code",
   "execution_count": 2,
   "metadata": {},
   "outputs": [
    {
     "name": "stdout",
     "output_type": "stream",
     "text": [
      "[b'AtomicNumber', b'Ekine', b'Weight', b'Mass', b'X', b'Y', b'Z', b'dX', b'dY', b'dZ', b'ProductionVolume', b'CreatorProcess', b'ProcessDefinedStep', b'TrackID', b'ParentID', b'EventID', b'RunID', b'TOut', b'TProd']\n"
     ]
    }
   ],
   "source": [
    "file = uproot.open(\"/work/lb8075/PhaseSpaces/PhS1AB_Gamma_ZeroBias/emoptstandard3_grev_output-PhS_bias50_196.root\")\n",
    "# print(file.keys())\n",
    "print(file['PhaseSpace'].keys())"
   ]
  },
  {
   "cell_type": "markdown",
   "metadata": {},
   "source": [
    "## Load root files. \n",
    "#### * loads all files \n",
    "#### Here I am creating a pandas data frame for each fieldsize/dataset and storing it in a dictionary where you access the pandas"
   ]
  },
  {
   "cell_type": "code",
   "execution_count": 4,
   "metadata": {},
   "outputs": [
    {
     "name": "stdout",
     "output_type": "stream",
     "text": [
      "/work/lb8075/PhaseSpaces/PhS1AB_Gamma_ZeroBias/emoptstandard4_grev_output-PhS_bias1_*1.root   \n",
      "\n",
      "/work/lb8075/PhaseSpaces/PhS1AB_Gamma_ZeroBias/emoptstandard4_grev_output-PhS_Gate9p0_*1.root   \n",
      "\n"
     ]
    }
   ],
   "source": [
    "filenames_g=[\n",
    "#             \"/work/lb8075/PhaseSpaces/PhS1AB_Gamma_ZeroBias/emoptstandard3_grev_output-PhS_bias1_*1.root\",\\\n",
    "#             \"/work/lb8075/PhaseSpaces/PhS1AB_Gamma_ZeroBias/emoptstandard3_grev_output-PhS_bias50_*1.root\",\\\n",
    "            \"/work/lb8075/PhaseSpaces/PhS1AB_Gamma_ZeroBias/emoptstandard4_grev_output-PhS_bias1_*1.root\",\\\n",
    "            \"/work/lb8075/PhaseSpaces/PhS1AB_Gamma_ZeroBias/emoptstandard4_grev_output-PhS_Gate9p0_*1.root\",\\\n",
    "#             \"/work/lb8075/PhaseSpaces/PhS1AB_Gamma_ZeroBias/emoptstandard4_grev_output-PhS_Gate8p2_*1.root\"\n",
    "]\n",
    "\n",
    "\n",
    "data_frame_dict={}\n",
    "\n",
    "for files_g in filenames_g:\n",
    "    print(f\"{files_g}   \\n\")\n",
    "    ur=uproot.pandas.iterate(files_g, \"PhaseSpace\", ['X','Y','dX','dY','Weight','Ekine'])\n",
    "    #This creates a set of dataframes for each files as it iterates through the * wildcards\n",
    "    mylist=list(ur)        \n",
    "    data_frame_dict[files_g]=pd.concat(mylist, ignore_index=True, sort=False  ,copy = False)\n",
    "    #The concat method then stitches all the pandas data frames for each file together into one data frame\n",
    "    #which is then stored in a dictionary, accessed by the the key files_g, whatever the filename is\n",
    "\n"
   ]
  },
  {
   "cell_type": "code",
   "execution_count": 5,
   "metadata": {},
   "outputs": [
    {
     "name": "stdout",
     "output_type": "stream",
     "text": [
      "/work/lb8075/PhaseSpaces/PhS1AB_Elec_ZeroBias/emoptstandard4_grev_output-PhS_bias1_*.root   \n",
      "\n",
      "/work/lb8075/PhaseSpaces/PhS1AB_Elec_ZeroBias/emoptstandard4_grev_output-PhS_Gate9p0_*.root   \n",
      "\n"
     ]
    }
   ],
   "source": [
    "filenames_e=[\n",
    "#             \"/work/lb8075/PhaseSpaces/PhS1AB_Elec_ZeroBias/emoptstandard3_grev_output-PhS_bias50_*.root\",\\\n",
    "#             \"/work/lb8075/PhaseSpaces/PhS1AB_Elec_ZeroBias/emoptstandard3_grev_output-PhS_bias1_*.root\",\\\n",
    "            \"/work/lb8075/PhaseSpaces/PhS1AB_Elec_ZeroBias/emoptstandard4_grev_output-PhS_bias1_*.root\",\\\n",
    "            \"/work/lb8075/PhaseSpaces/PhS1AB_Elec_ZeroBias/emoptstandard4_grev_output-PhS_Gate9p0_*.root\",\\\n",
    "#             \"/work/lb8075/PhaseSpaces/PhS1AB_Elec_ZeroBias/emoptstandard4_grev_output-PhS_Gate8p2_*.root\",\\\n",
    "\n",
    "]\n",
    "\n",
    "\n",
    "data_frame_dict_e={}\n",
    "\n",
    "for files_g in filenames_e:\n",
    "    print(f\"{files_g}   \\n\")\n",
    "    ur=uproot.pandas.iterate(files_g, \"PhaseSpace\", ['X','Y','dX','dY','Weight','Ekine'])\n",
    "    #This creates a set of dataframes for each files as it iterates through the * wildcards\n",
    "    mylist=list(ur)        \n",
    "    data_frame_dict_e[files_g]=pd.concat(mylist, ignore_index=True, sort=False  ,copy = False)\n",
    "    #The concat method then stitches all the pandas data frames for each file together into one data frame\n",
    "    #which is then stored in a dictionary, accessed by the the key files_g, whatever the filename is\n"
   ]
  },
  {
   "cell_type": "code",
   "execution_count": 6,
   "metadata": {},
   "outputs": [],
   "source": [
    "# for files_g in filenames_g:\n",
    "#     print(data_frame_dict[files_g]['ProductionVolume'].value_counts())\n",
    "for j,files_g in enumerate(filenames_g):\n",
    "\n",
    "    df=data_frame_dict[files_g]\n",
    "    df['dZ']=np.sqrt(1-(pow(df['dX'],2)+pow(df['dY'],2)))\n",
    "    df['dXdY']=(df.dX**2+df.dY**2)**0.5\n",
    "    ratioThetaXY=df.dXdY/df.dZ\n",
    "    ratioThetaX=df.dX/df.dZ\n",
    "    ratioThetaY=df.dY/df.dZ\n",
    "    df['thetaXY']=ratioThetaXY.apply(math.atan)*180/3.14\n",
    "    df['thetaX']=ratioThetaX.apply(math.atan)*180/3.14\n",
    "    df['thetaY']=ratioThetaY.apply(math.atan)*180/3.14\n",
    "    df['XY']=(df.X**2+df.Y**2)**0.5"
   ]
  },
  {
   "cell_type": "code",
   "execution_count": 7,
   "metadata": {},
   "outputs": [],
   "source": [
    "# for files_g in filenames_g:\n",
    "#     print(data_frame_dict[files_g]['ProductionVolume'].value_counts())\n",
    "for j,files_g in enumerate(filenames_e):\n",
    "\n",
    "    df=data_frame_dict_e[files_g]\n",
    "    df['dZ']=np.sqrt(1-(pow(df['dX'],2)+pow(df['dY'],2)))\n",
    "    df['dXdY']=(df.dX**2+df.dY**2)**0.5\n",
    "    ratioThetaXY=df.dXdY/df.dZ\n",
    "    ratioThetaX=df.dX/df.dZ\n",
    "    ratioThetaY=df.dY/df.dZ\n",
    "    df['thetaXY']=ratioThetaXY.apply(math.atan)*180/3.14\n",
    "    df['thetaX']=ratioThetaX.apply(math.atan)*180/3.14\n",
    "    df['thetaY']=ratioThetaY.apply(math.atan)*180/3.14\n",
    "    df['XY']=(df.X**2+df.Y**2)**0.5"
   ]
  },
  {
   "cell_type": "markdown",
   "metadata": {},
   "source": [
    "### Checking how many entries in files with different weights"
   ]
  },
  {
   "cell_type": "code",
   "execution_count": 8,
   "metadata": {},
   "outputs": [
    {
     "name": "stdout",
     "output_type": "stream",
     "text": [
      "1.0    3757329\n",
      "Name: Weight, dtype: int64\n",
      "1.0    376187\n",
      "Name: Weight, dtype: int64\n"
     ]
    }
   ],
   "source": [
    "for files_g in filenames_g:\n",
    "    print(data_frame_dict[files_g]['Weight'].value_counts())"
   ]
  },
  {
   "cell_type": "code",
   "execution_count": 9,
   "metadata": {},
   "outputs": [
    {
     "name": "stdout",
     "output_type": "stream",
     "text": [
      "1.0    148141\n",
      "Name: Weight, dtype: int64\n",
      "1.0    14915\n",
      "Name: Weight, dtype: int64\n"
     ]
    }
   ],
   "source": [
    "for files_g in filenames_e:\n",
    "    print(data_frame_dict_e[files_g]['Weight'].value_counts())"
   ]
  },
  {
   "cell_type": "markdown",
   "metadata": {},
   "source": [
    "### ..and total entries (without taking into account the weight)"
   ]
  },
  {
   "cell_type": "code",
   "execution_count": 10,
   "metadata": {},
   "outputs": [
    {
     "name": "stdout",
     "output_type": "stream",
     "text": [
      "3757329\n",
      "376187\n"
     ]
    }
   ],
   "source": [
    "for files_g in filenames_g:\n",
    "    print(data_frame_dict[files_g]['X'].count())"
   ]
  },
  {
   "cell_type": "markdown",
   "metadata": {},
   "source": [
    "### ..and with the weight, so we take into account the biasing "
   ]
  },
  {
   "cell_type": "code",
   "execution_count": 11,
   "metadata": {},
   "outputs": [
    {
     "name": "stdout",
     "output_type": "stream",
     "text": [
      "3757329.0\n",
      "376187.0\n"
     ]
    }
   ],
   "source": [
    "for files_g in filenames_g:\n",
    "    df=data_frame_dict[files_g]\n",
    "    print(df['Weight'].sum(axis = 0, skipna = True) ) \n",
    "    #skipping if there are any NANs\n"
   ]
  },
  {
   "cell_type": "code",
   "execution_count": 12,
   "metadata": {},
   "outputs": [],
   "source": [
    "# # for files_g in filenames_g:\n",
    "# plt.subplots(1,1,figsize=(19,4))\n",
    "# # creating a temporary dataframe to hold the one we're currently interating over\n",
    "# df=data_frame_dict[\"/work/lb8075/PhaseSpaces/PhS2_10x10_p1_Elec_v2/Skimmed_output*.root\"]\n",
    "# df['ProductionVolume']=df['ProductionVolume'].astype('str')\n",
    "\n",
    "# # plt.hist(df['ProductionVolume'])\n",
    "# # print(df.dtypes)\n",
    "# # df['ProductionVolume']=df['ProductionVolume'].astype('str')\n",
    "# # print(df.dtypes)\n",
    "\n",
    "# df['Weight'].astype('float16')\n",
    "# # print(df.dtypes)\n",
    "\n",
    "# # print(df2)\n",
    "# # _=plt.hist(df3)\n",
    "# #     plt.xlim(-100,100)\n",
    "# #     plt.ylim(-100,100)\n",
    "# #     plt.xlabel('X')\n",
    "# #     plt.ylabel('Y')\n",
    "# #     plt.colorbar()\n",
    "# # plt.show()\n",
    "# # df2=df['ProductionVolume']\n",
    "# # print(df['ProductionVolume'].dtypes)\n",
    "# # df['ProductionVolume']=df['ProductionVolume'].astype('str')\n",
    "# # print(df['ProductionVolume'].dtypes)\n",
    "\n",
    "# _=plt.hist(df['ProductionVolume'])"
   ]
  },
  {
   "cell_type": "markdown",
   "metadata": {},
   "source": [
    "### Plotting XY plane distributed electrons"
   ]
  },
  {
   "cell_type": "code",
   "execution_count": 13,
   "metadata": {},
   "outputs": [
    {
     "data": {
      "image/png": "[encoded data removed]",
      "text/plain": [
       "<Figure size 432x360 with 2 Axes>"
      ]
     },
     "metadata": {
      "needs_background": "light"
     },
     "output_type": "display_data"
    },
    {
     "data": {
      "image/png": "[encoded data removed]",
      "text/plain": [
       "<Figure size 432x360 with 2 Axes>"
      ]
     },
     "metadata": {
      "needs_background": "light"
     },
     "output_type": "display_data"
    }
   ],
   "source": [
    "for files_g in filenames_g:\n",
    "    fig,ax=plt.subplots(1,1,figsize=(6,5))\n",
    "    # creating a temporary dataframe to hold the one we're currently interating over\n",
    "    df=data_frame_dict[files_g]\n",
    "    _=plt.hist2d(df['X'],df['Y'],weights=df['Weight'],bins=(50,50))\n",
    "    plt.xlim(-100,100)\n",
    "    plt.ylim(-100,100)\n",
    "    plt.xlabel('X (mm)')\n",
    "    plt.ylabel('Y (mm)')\n",
    "    plt.colorbar()\n",
    "    plt.show()\n",
    "    fieldsize=files_g.split('_')[1]\n",
    "    savename=f\"Phase2_e_{fieldsize}norm.png\"\n",
    "    fig.savefig(savename)"
   ]
  },
  {
   "cell_type": "code",
   "execution_count": 14,
   "metadata": {},
   "outputs": [
    {
     "data": {
      "image/png": "[encoded data removed]",
      "text/plain": [
       "<Figure size 432x360 with 2 Axes>"
      ]
     },
     "metadata": {
      "needs_background": "light"
     },
     "output_type": "display_data"
    },
    {
     "data": {
      "image/png": "[encoded data removed]",
      "text/plain": [
       "<Figure size 432x360 with 2 Axes>"
      ]
     },
     "metadata": {
      "needs_background": "light"
     },
     "output_type": "display_data"
    }
   ],
   "source": [
    "for files_g in filenames_e:\n",
    "    fig,ax=plt.subplots(1,1,figsize=(6,5))\n",
    "    # creating a temporary dataframe to hold the one we're currently interating over\n",
    "    df=data_frame_dict_e[files_g]\n",
    "    _=plt.hist2d(df['X'],df['Y'],weights=df['Weight'],bins=(50,50))\n",
    "    plt.xlim(-100,100)\n",
    "    plt.ylim(-100,100)\n",
    "    plt.xlabel('X (mm)')\n",
    "    plt.ylabel('Y (mm)')\n",
    "    plt.colorbar()\n",
    "    plt.show()\n",
    "#     fieldsize=files_g.split('_')[1]\n",
    "#     savename=f\"Phase2_e_{fieldsize}norm.png\"\n",
    "#     fig.savefig(savename)"
   ]
  },
  {
   "cell_type": "code",
   "execution_count": 22,
   "metadata": {},
   "outputs": [
    {
     "data": {
      "image/png": "[encoded data removed]",
      "text/plain": [
       "<Figure size 432x360 with 1 Axes>"
      ]
     },
     "metadata": {
      "needs_background": "light"
     },
     "output_type": "display_data"
    }
   ],
   "source": [
    "fig,ax=plt.subplots(1,1,figsize=(6,5))\n",
    "\n",
    "for files_g in filenames_g:\n",
    "    # creating a temporary dataframe to hold the one we're currently interating over\n",
    "    df=data_frame_dict[files_g]\n",
    "    _=ax.hist(df['XY'],weights=df['Weight'],density=\"True\",histtype='step',bins=50)\n",
    "\n",
    "#     plt.xlabel('XY (mm)')\n",
    "#     plt.colorbar()\n",
    "plt.show()\n",
    "#     fieldsize=files_g.split('_')[1]\n",
    "\n",
    "#     savename=f\"Phase2_e_{fieldsize}XthetaX.png\"\n",
    "#     fig.savefig(savename)"
   ]
  },
  {
   "cell_type": "code",
   "execution_count": 23,
   "metadata": {},
   "outputs": [
    {
     "data": {
      "image/png": "[encoded data removed]",
      "text/plain": [
       "<Figure size 432x360 with 1 Axes>"
      ]
     },
     "metadata": {
      "needs_background": "light"
     },
     "output_type": "display_data"
    }
   ],
   "source": [
    "fig,ax=plt.subplots(1,1,figsize=(6,5))\n",
    "\n",
    "for files_g in filenames_e:\n",
    "    # creating a temporary dataframe to hold the one we're currently interating over\n",
    "    df=data_frame_dict_e[files_g]\n",
    "    _=ax.hist(df['XY'],weights=df['Weight'],density=\"True\",histtype='step',bins=50)\n",
    "\n",
    "#     plt.xlabel('XY (mm)')\n",
    "#     plt.colorbar()\n",
    "plt.show()\n",
    "#     fieldsize=files_g.split('_')[1]\n",
    "\n",
    "#     savename=f\"Phase2_e_{f"
   ]
  },
  {
   "cell_type": "code",
   "execution_count": 24,
   "metadata": {},
   "outputs": [
    {
     "data": {
      "image/png": "[encoded data removed]",
      "text/plain": [
       "<Figure size 432x360 with 1 Axes>"
      ]
     },
     "metadata": {
      "needs_background": "light"
     },
     "output_type": "display_data"
    }
   ],
   "source": [
    "fig,ax=plt.subplots(1,1,figsize=(6,5))\n",
    "\n",
    "for files_g in filenames_g:\n",
    "    # creating a temporary dataframe to hold the one we're currently interating over\n",
    "    df=data_frame_dict[files_g]\n",
    "    _=ax.hist(df['Ekine'],weights=df['Weight'],density=\"True\",histtype='step',bins=50)\n",
    "\n",
    "#     plt.xlabel('XY (mm)')\n",
    "#     plt.colorbar()\n",
    "plt.show()"
   ]
  },
  {
   "cell_type": "code",
   "execution_count": 18,
   "metadata": {},
   "outputs": [
    {
     "data": {
      "image/png": "[encoded data removed]",
      "text/plain": [
       "<Figure size 432x360 with 1 Axes>"
      ]
     },
     "metadata": {
      "needs_background": "light"
     },
     "output_type": "display_data"
    }
   ],
   "source": [
    "fig,ax=plt.subplots(1,1,figsize=(6,5))\n",
    "\n",
    "for files_g in filenames_e:\n",
    "    # creating a temporary dataframe to hold the one we're currently interating over\n",
    "    df=data_frame_dict_e[files_g]\n",
    "    _=ax.hist(df['Ekine'],weights=df['Weight'],histtype='step',bins=50,density=True)\n",
    "\n",
    "#     plt.xlabel('XY (mm)')\n",
    "#     plt.colorbar()\n",
    "plt.show()"
   ]
  },
  {
   "cell_type": "code",
   "execution_count": 25,
   "metadata": {},
   "outputs": [
    {
     "data": {
      "image/png": "[encoded data removed]",
      "text/plain": [
       "<Figure size 432x360 with 1 Axes>"
      ]
     },
     "metadata": {
      "needs_background": "light"
     },
     "output_type": "display_data"
    }
   ],
   "source": [
    "fig,ax=plt.subplots(1,1,figsize=(6,5))\n",
    "\n",
    "for files_g in filenames_g:\n",
    "    # creating a temporary dataframe to hold the one we're currently interating over\n",
    "    df=data_frame_dict[files_g]\n",
    "    _=ax.hist(df['XY'],weights=df['Weight']*df[\"Ekine\"],density=True,histtype='step',bins=50)\n",
    "\n",
    "#     plt.xlabel('XY (mm)')\n",
    "#     plt.colorbar()\n",
    "plt.show()"
   ]
  },
  {
   "cell_type": "code",
   "execution_count": 20,
   "metadata": {},
   "outputs": [
    {
     "data": {
      "image/png": "[encoded data removed]",
      "text/plain": [
       "<Figure size 432x360 with 1 Axes>"
      ]
     },
     "metadata": {
      "needs_background": "light"
     },
     "output_type": "display_data"
    }
   ],
   "source": [
    "fig,ax=plt.subplots(1,1,figsize=(6,5))\n",
    "\n",
    "for files_g in filenames_e:\n",
    "    # creating a temporary dataframe to hold the one we're currently interating over\n",
    "    df=data_frame_dict_e[files_g]\n",
    "    _=ax.hist(df['XY'],weights=df['Weight']*df[\"Ekine\"],histtype='step',bins=30,density=True)\n",
    "\n",
    "#     plt.xlabel('XY (mm)')\n",
    "#     plt.colorbar()\n",
    "plt.show()"
   ]
  },
  {
   "cell_type": "code",
   "execution_count": 21,
   "metadata": {},
   "outputs": [
    {
     "ename": "KeyboardInterrupt",
     "evalue": "",
     "output_type": "error",
     "traceback": [
      "\u001b[0;31m---------------------------------------------------------------------------\u001b[0m",
      "\u001b[0;31mKeyboardInterrupt\u001b[0m                         Traceback (most recent call last)",
      "\u001b[0;32m<ipython-input-21-50640ce3d825>\u001b[0m in \u001b[0;36m<module>\u001b[0;34m\u001b[0m\n\u001b[1;32m      4\u001b[0m     \u001b[0;31m# creating a temporary dataframe to hold the one we're currently interating over\u001b[0m\u001b[0;34m\u001b[0m\u001b[0;34m\u001b[0m\u001b[0;34m\u001b[0m\u001b[0m\n\u001b[1;32m      5\u001b[0m     \u001b[0mdf\u001b[0m\u001b[0;34m=\u001b[0m\u001b[0mdata_frame_dict\u001b[0m\u001b[0;34m[\u001b[0m\u001b[0mfiles_g\u001b[0m\u001b[0;34m]\u001b[0m\u001b[0;34m\u001b[0m\u001b[0;34m\u001b[0m\u001b[0m\n\u001b[0;32m----> 6\u001b[0;31m     \u001b[0m_\u001b[0m\u001b[0;34m=\u001b[0m\u001b[0max\u001b[0m\u001b[0;34m.\u001b[0m\u001b[0mhist\u001b[0m\u001b[0;34m(\u001b[0m\u001b[0mdf\u001b[0m\u001b[0;34m[\u001b[0m\u001b[0;34m'thetaXY'\u001b[0m\u001b[0;34m]\u001b[0m\u001b[0;34m,\u001b[0m\u001b[0mhisttype\u001b[0m\u001b[0;34m=\u001b[0m\u001b[0;34m'step'\u001b[0m\u001b[0;34m,\u001b[0m\u001b[0mbins\u001b[0m\u001b[0;34m=\u001b[0m\u001b[0;36m100\u001b[0m\u001b[0;34m)\u001b[0m\u001b[0;34m\u001b[0m\u001b[0;34m\u001b[0m\u001b[0m\n\u001b[0m\u001b[1;32m      7\u001b[0m \u001b[0;34m\u001b[0m\u001b[0m\n\u001b[1;32m      8\u001b[0m \u001b[0;31m#     plt.xlabel('XY (mm)')\u001b[0m\u001b[0;34m\u001b[0m\u001b[0;34m\u001b[0m\u001b[0;34m\u001b[0m\u001b[0m\n",
      "\u001b[0;32m~/.conda/envs/KDEpy/lib/python3.8/site-packages/matplotlib/__init__.py\u001b[0m in \u001b[0;36minner\u001b[0;34m(ax, data, *args, **kwargs)\u001b[0m\n\u001b[1;32m   1436\u001b[0m     \u001b[0;32mdef\u001b[0m \u001b[0minner\u001b[0m\u001b[0;34m(\u001b[0m\u001b[0max\u001b[0m\u001b[0;34m,\u001b[0m \u001b[0;34m*\u001b[0m\u001b[0margs\u001b[0m\u001b[0;34m,\u001b[0m \u001b[0mdata\u001b[0m\u001b[0;34m=\u001b[0m\u001b[0;32mNone\u001b[0m\u001b[0;34m,\u001b[0m \u001b[0;34m**\u001b[0m\u001b[0mkwargs\u001b[0m\u001b[0;34m)\u001b[0m\u001b[0;34m:\u001b[0m\u001b[0;34m\u001b[0m\u001b[0;34m\u001b[0m\u001b[0m\n\u001b[1;32m   1437\u001b[0m         \u001b[0;32mif\u001b[0m \u001b[0mdata\u001b[0m \u001b[0;32mis\u001b[0m \u001b[0;32mNone\u001b[0m\u001b[0;34m:\u001b[0m\u001b[0;34m\u001b[0m\u001b[0;34m\u001b[0m\u001b[0m\n\u001b[0;32m-> 1438\u001b[0;31m             \u001b[0;32mreturn\u001b[0m \u001b[0mfunc\u001b[0m\u001b[0;34m(\u001b[0m\u001b[0max\u001b[0m\u001b[0;34m,\u001b[0m \u001b[0;34m*\u001b[0m\u001b[0mmap\u001b[0m\u001b[0;34m(\u001b[0m\u001b[0msanitize_sequence\u001b[0m\u001b[0;34m,\u001b[0m \u001b[0margs\u001b[0m\u001b[0;34m)\u001b[0m\u001b[0;34m,\u001b[0m \u001b[0;34m**\u001b[0m\u001b[0mkwargs\u001b[0m\u001b[0;34m)\u001b[0m\u001b[0;34m\u001b[0m\u001b[0;34m\u001b[0m\u001b[0m\n\u001b[0m\u001b[1;32m   1439\u001b[0m \u001b[0;34m\u001b[0m\u001b[0m\n\u001b[1;32m   1440\u001b[0m         \u001b[0mbound\u001b[0m \u001b[0;34m=\u001b[0m \u001b[0mnew_sig\u001b[0m\u001b[0;34m.\u001b[0m\u001b[0mbind\u001b[0m\u001b[0;34m(\u001b[0m\u001b[0max\u001b[0m\u001b[0;34m,\u001b[0m \u001b[0;34m*\u001b[0m\u001b[0margs\u001b[0m\u001b[0;34m,\u001b[0m \u001b[0;34m**\u001b[0m\u001b[0mkwargs\u001b[0m\u001b[0;34m)\u001b[0m\u001b[0;34m\u001b[0m\u001b[0;34m\u001b[0m\u001b[0m\n",
      "\u001b[0;32m~/.conda/envs/KDEpy/lib/python3.8/site-packages/matplotlib/axes/_axes.py\u001b[0m in \u001b[0;36mhist\u001b[0;34m(self, x, bins, range, density, weights, cumulative, bottom, histtype, align, orientation, rwidth, log, color, label, stacked, **kwargs)\u001b[0m\n\u001b[1;32m   6566\u001b[0m \u001b[0;34m\u001b[0m\u001b[0m\n\u001b[1;32m   6567\u001b[0m         \u001b[0;31m# Massage 'x' for processing.\u001b[0m\u001b[0;34m\u001b[0m\u001b[0;34m\u001b[0m\u001b[0;34m\u001b[0m\u001b[0m\n\u001b[0;32m-> 6568\u001b[0;31m         \u001b[0mx\u001b[0m \u001b[0;34m=\u001b[0m \u001b[0mcbook\u001b[0m\u001b[0;34m.\u001b[0m\u001b[0m_reshape_2D\u001b[0m\u001b[0;34m(\u001b[0m\u001b[0mx\u001b[0m\u001b[0;34m,\u001b[0m \u001b[0;34m'x'\u001b[0m\u001b[0;34m)\u001b[0m\u001b[0;34m\u001b[0m\u001b[0;34m\u001b[0m\u001b[0m\n\u001b[0m\u001b[1;32m   6569\u001b[0m         \u001b[0mnx\u001b[0m \u001b[0;34m=\u001b[0m \u001b[0mlen\u001b[0m\u001b[0;34m(\u001b[0m\u001b[0mx\u001b[0m\u001b[0;34m)\u001b[0m  \u001b[0;31m# number of datasets\u001b[0m\u001b[0;34m\u001b[0m\u001b[0;34m\u001b[0m\u001b[0m\n\u001b[1;32m   6570\u001b[0m \u001b[0;34m\u001b[0m\u001b[0m\n",
      "\u001b[0;32m~/.conda/envs/KDEpy/lib/python3.8/site-packages/matplotlib/cbook/__init__.py\u001b[0m in \u001b[0;36m_reshape_2D\u001b[0;34m(X, name)\u001b[0m\n\u001b[1;32m   1374\u001b[0m             \u001b[0mis_1d\u001b[0m \u001b[0;34m=\u001b[0m \u001b[0;32mFalse\u001b[0m\u001b[0;34m\u001b[0m\u001b[0;34m\u001b[0m\u001b[0m\n\u001b[1;32m   1375\u001b[0m         \u001b[0mxi\u001b[0m \u001b[0;34m=\u001b[0m \u001b[0mnp\u001b[0m\u001b[0;34m.\u001b[0m\u001b[0masanyarray\u001b[0m\u001b[0;34m(\u001b[0m\u001b[0mxi\u001b[0m\u001b[0;34m)\u001b[0m\u001b[0;34m\u001b[0m\u001b[0;34m\u001b[0m\u001b[0m\n\u001b[0;32m-> 1376\u001b[0;31m         \u001b[0mnd\u001b[0m \u001b[0;34m=\u001b[0m \u001b[0mnp\u001b[0m\u001b[0;34m.\u001b[0m\u001b[0mndim\u001b[0m\u001b[0;34m(\u001b[0m\u001b[0mxi\u001b[0m\u001b[0;34m)\u001b[0m\u001b[0;34m\u001b[0m\u001b[0;34m\u001b[0m\u001b[0m\n\u001b[0m\u001b[1;32m   1377\u001b[0m         \u001b[0;32mif\u001b[0m \u001b[0mnd\u001b[0m \u001b[0;34m>\u001b[0m \u001b[0;36m1\u001b[0m\u001b[0;34m:\u001b[0m\u001b[0;34m\u001b[0m\u001b[0;34m\u001b[0m\u001b[0m\n\u001b[1;32m   1378\u001b[0m             \u001b[0;32mraise\u001b[0m \u001b[0mValueError\u001b[0m\u001b[0;34m(\u001b[0m\u001b[0;34mf'{name} must have 2 or fewer dimensions'\u001b[0m\u001b[0;34m)\u001b[0m\u001b[0;34m\u001b[0m\u001b[0;34m\u001b[0m\u001b[0m\n",
      "\u001b[0;31mKeyboardInterrupt\u001b[0m: "
     ]
    },
    {
     "data": {
      "image/png": "[encoded data removed]",
      "text/plain": [
       "<Figure size 432x360 with 1 Axes>"
      ]
     },
     "metadata": {
      "needs_background": "light"
     },
     "output_type": "display_data"
    }
   ],
   "source": [
    "fig,ax=plt.subplots(1,1,figsize=(6,5))\n",
    "\n",
    "for files_g in filenames_g:\n",
    "    # creating a temporary dataframe to hold the one we're currently interating over\n",
    "    df=data_frame_dict[files_g]\n",
    "    _=ax.hist(df['thetaXY'],histtype='step',bins=100)\n",
    "\n",
    "#     plt.xlabel('XY (mm)')\n",
    "#     plt.colorbar()\n",
    "plt.show()"
   ]
  },
  {
   "cell_type": "code",
   "execution_count": null,
   "metadata": {},
   "outputs": [],
   "source": [
    "fig,ax=plt.subplots(1,1,figsize=(6,5))\n",
    "\n",
    "for files_g in filenames_e:\n",
    "    # creating a temporary dataframe to hold the one we're currently interating over\n",
    "    df=data_frame_dict_e[files_g]\n",
    "    _=ax.hist(df['thetaXY'],weights=df['Weight'],histtype='step',bins=50,density=True)\n",
    "\n",
    "#     plt.xlabel('XY (mm)')\n",
    "#     plt.colorbar()\n",
    "plt.show()"
   ]
  },
  {
   "cell_type": "code",
   "execution_count": null,
   "metadata": {},
   "outputs": [],
   "source": [
    "for files_g in filenames_g:\n",
    "    fig,ax=plt.subplots(1,1,figsize=(10,5))\n",
    "    # creating a temporary dataframe to hold the one we're currently interating over\n",
    "    df=data_frame_dict[files_g]\n",
    "    _=plt.hist2d(df['XY'],df['thetaXY'],norm=mplcol.LogNorm(),bins=(350,350))\n",
    "#     plt.xlim(-100,100)\n",
    "#     plt.ylim(-100,100)\n",
    "#     plt.xlabel('X (mm)')\n",
    "#     plt.ylabel(r'$\\theta_{\\rm{X}}$ ($^{\\circ}$)')\n",
    "\n",
    "\n",
    "    plt.colorbar(norm='log')\n",
    "    plt.show()\n",
    "#     fieldsize=files_g.split('_')[1]\n",
    "\n",
    "#     savename=f\"Phase2_e_{fieldsize}XthetaX.png\"\n",
    "#     fig.savefig(savename)"
   ]
  },
  {
   "cell_type": "code",
   "execution_count": null,
   "metadata": {},
   "outputs": [],
   "source": [
    "for files_g in filenames_g:\n",
    "    fig,ax=plt.subplots(1,1,figsize=(10,5))\n",
    "    # creating a temporary dataframe to hold the one we're currently interating over\n",
    "    df=data_frame_dict[files_g]\n",
    "    _=plt.hist2d(df['Ekine'],df['thetaXY'],norm=mplcol.LogNorm(),bins=(350,350))\n",
    "\n",
    "\n",
    "    plt.colorbar(norm='log')\n",
    "    plt.show()"
   ]
  },
  {
   "cell_type": "code",
   "execution_count": null,
   "metadata": {},
   "outputs": [],
   "source": [
    "for files_g in filenames_g:\n",
    "    fig,ax=plt.subplots(1,1,figsize=(6,5))\n",
    "    # creating a temporary dataframe to hold the one we're currently interating over\n",
    "    df=data_frame_dict[files_g]\n",
    "    _=plt.hist2d(df['X'],df['thetaX'],bins=(50,50))\n",
    "#     plt.xlim(-100,100)\n",
    "#     plt.ylim(-100,100)\n",
    "    plt.xlabel('X (mm)')\n",
    "    plt.ylabel(r'$\\theta_{\\rm{X}}$ ($^{\\circ}$)')\n",
    "    plt.colorbar()\n",
    "    plt.show()\n",
    "    fieldsize=files_g.split('_')[1]\n",
    "\n",
    "    savename=f\"Phase2_e_{fieldsize}XthetaX.png\"\n",
    "    fig.savefig(savename)"
   ]
  },
  {
   "cell_type": "code",
   "execution_count": null,
   "metadata": {},
   "outputs": [],
   "source": [
    "for files_g in filenames_g:\n",
    "    fig,ax=plt.subplots(1,1,figsize=(6,5))\n",
    "    # creating a temporary dataframe to hold the one we're currently interating over\n",
    "    df=data_frame_dict[files_g]\n",
    "    _=plt.hist2d(df['X'],df['thetaY'],bins=(50,50))#,vmax=8100\n",
    "#     plt.xlim(-100,100)\n",
    "#     plt.ylim(-100,100)\n",
    "    plt.xlabel('X (mm)')\n",
    "    plt.ylabel(r'$\\theta_{\\rm{Y}}$ (deg)')\n",
    "    plt.colorbar()\n",
    "    plt.show()\n",
    "    fieldsize=files_g.split('_')[1]\n",
    "\n",
    "    savename=f\"Phase2_e_{fieldsize}XthetaY.png\"\n",
    "    fig.savefig(savename)"
   ]
  },
  {
   "cell_type": "code",
   "execution_count": null,
   "metadata": {},
   "outputs": [],
   "source": [
    "for files_g in filenames_g:\n",
    "    fig,ax=plt.subplots(1,1,figsize=(6,5))\n",
    "    # creating a temporary dataframe to hold the one we're currently interating over\n",
    "    df=data_frame_dict[files_g]\n",
    "    _=plt.hist2d(df['Y'],df['thetaY'],bins=(50,50))\n",
    "#     plt.xlim(-100,100)\n",
    "#     plt.ylim(-100,100)\n",
    "    plt.xlabel('Y (mm)')\n",
    "    plt.ylabel(r'$\\theta_{\\rm{Y}}$')\n",
    "    plt.colorbar()\n",
    "    plt.show()\n",
    "    fieldsize=files_g.split('_')[1]\n",
    "\n",
    "    savename=f\"Phase2_e_{fieldsize}YthetaY.png\"\n",
    "    fig.savefig(savename)\n"
   ]
  },
  {
   "cell_type": "code",
   "execution_count": null,
   "metadata": {
    "scrolled": false
   },
   "outputs": [],
   "source": [
    "for files_g in filenames_g:\n",
    "    fig,ax=plt.subplots(1,1,figsize=(6,5))\n",
    "    # creating a temporary dataframe to hold the one we're currently interating over\n",
    "    df=data_frame_dict[files_g]\n",
    "    _=plt.hist2d(df['Y'],df['thetaX'],bins=(50,50))\n",
    "#     plt.xlim(-100,100)\n",
    "#     plt.ylim(-100,100)\n",
    "    plt.xlabel('Y (mm)')\n",
    "    plt.ylabel(r'$\\theta_{\\rm{Y}}$')\n",
    "    plt.colorbar()\n",
    "    plt.show()\n",
    "    fieldsize=files_g.split('_')[1]\n",
    "\n",
    "    savename=f\"Phase2_e_{fieldsize}YthetaX.png\"\n",
    "    print(savename)\n",
    "    fig.savefig(savename)\n"
   ]
  },
  {
   "cell_type": "code",
   "execution_count": null,
   "metadata": {},
   "outputs": [],
   "source": [
    "for files_g in filenames_g:\n",
    "    plt.subplots(1,1,figsize=(6,5))\n",
    "    df=data_frame_dict[files_g]\n",
    "    \n",
    "    _=plt.hist2d(df['X'],df['dX'],bins=(100,100))\n",
    "    #using _ just suppresses the output of plt.hist2d\n",
    "    plt.xlim(-80,80)\n",
    "    plt.ylim(-0.8,0.8)\n",
    "    plt.colorbar()\n",
    "    plt.show()\n"
   ]
  },
  {
   "cell_type": "code",
   "execution_count": null,
   "metadata": {},
   "outputs": [],
   "source": [
    "fig,ax=plt.subplots(1,1,figsize=(10,5))\n",
    "\n",
    "for files_g in filenames_g:\n",
    "        df=data_frame_dict[files_g]\n",
    "        y,x,_=plt.hist(df['Ekine'],density=True,histtype='step',bins=(80),label=files_g[30:-33])\n",
    "#         print(f\"{midpoints(y)} and x {x}\")\n",
    "\n",
    "# plt.yscale('log')\n",
    "plt.legend()\n",
    "# plt.xlim(0,5.8)\n",
    "# plt.ylim(0.001,1.2)\n",
    "plt.show()\n",
    "fig.savefig(\"Phase2_Ekine_all.png\")\n",
    "\n",
    "\n",
    "    "
   ]
  },
  {
   "cell_type": "code",
   "execution_count": null,
   "metadata": {},
   "outputs": [],
   "source": [
    "for files_g in filenames_g:\n",
    "    plt.subplots(1,1,figsize=(6,5))\n",
    "    # creating a temporary dataframe to hold the one we're currently interating over\n",
    "    df=data_frame_dict[files_g]\n",
    "    _=plt.hist2d(df['X'],df['Y'],bins=(50,50),weights=df['Weight'],vmax=6000)\n",
    "#     plt.xlim(-100,100)\n",
    "#     plt.ylim(-100,100)\n",
    "    plt.xlabel('X')\n",
    "    plt.ylabel('Y')\n",
    "    plt.colorbar()\n",
    "    plt.show()\n"
   ]
  },
  {
   "cell_type": "code",
   "execution_count": null,
   "metadata": {},
   "outputs": [],
   "source": [
    "for files_g in filenames_g:\n",
    "    plt.subplots(1,1,figsize=(8,4))\n",
    "    df=data_frame_dict[files_g]\n",
    "    \n",
    "    _=plt.hist2d(df['X'],df['dX'],weights=df['Weight'],bins=(100,100),vmax=3050)\n",
    "    #using _ just suppresses the output if plt.hist2d\n",
    "    plt.xlim(-80,80)\n",
    "    plt.ylim(-0.8,0.8)\n",
    "    plt.colorbar()\n",
    "    plt.show()\n"
   ]
  },
  {
   "cell_type": "code",
   "execution_count": null,
   "metadata": {},
   "outputs": [],
   "source": [
    "for files_g in filenames_g:\n",
    "    plt.subplots(1,1,figsize=(8,4))\n",
    "    df=data_frame_dict[files_g]\n",
    "    _=plt.hist2d(df['Ekine'],df['dX'],weights=df['Weight'],bins=(300,50))\n",
    "#     plt.xlim(-80,80)\n",
    "#     plt.ylim(-0.7,0.7)\n",
    "    plt.colorbar()\n",
    "    plt.show()\n"
   ]
  },
  {
   "cell_type": "code",
   "execution_count": null,
   "metadata": {},
   "outputs": [],
   "source": [
    "plt.subplots(1,1,figsize=(10,5))\n",
    "\n",
    "for files_g in filenames_g:\n",
    "        df=data_frame_dict[files_g]\n",
    "        y,x,_=plt.hist(df['X'],histtype='step',bins=(80),label=files_g[30:-33])\n",
    "#         print(f\"{midpoints(y)} and x {x}\")\n",
    "\n",
    "# plt.yscale('log')\n",
    "plt.legend()\n",
    "# plt.xlim(0,5.8)\n",
    "# plt.ylim(0.001,1.2)\n",
    "plt.show()\n",
    "\n",
    "\n",
    "    "
   ]
  },
  {
   "cell_type": "code",
   "execution_count": null,
   "metadata": {},
   "outputs": [],
   "source": [
    "plt.subplots(1,1,figsize=(10,5))\n",
    "\n",
    "for files_g in filenames_g:\n",
    "        df=data_frame_dict[files_g]\n",
    "        y,x,_=plt.hist(df['Y'],histtype='step',bins=(80),label=files_g[30:-33])\n",
    "#         print(f\"{midpoints(y)} and x {x}\")\n",
    "\n",
    "# plt.yscale('log')\n",
    "plt.legend()\n",
    "# plt.xlim(0,5.8)\n",
    "# plt.ylim(0.001,1.2)\n",
    "plt.show()\n"
   ]
  },
  {
   "cell_type": "code",
   "execution_count": null,
   "metadata": {},
   "outputs": [],
   "source": [
    "plt.subplots(1,1,figsize=(10,5))\n",
    "\n",
    "for files_g in filenames_g:\n",
    "        df=data_frame_dict[files_g]\n",
    "        y,x,_=plt.hist(df['Y'],histtype='step',bins=(80),label=files_g[30:-33])\n",
    "        y,x,_=plt.hist(df['X'],histtype='step',bins=(80),label=files_g[30:-33])\n",
    "#         print(f\"{midpoints(y)} and x {x}\")\n",
    "\n",
    "# plt.yscale('log')\n",
    "plt.legend()\n",
    "# plt.xlim(0,5.8)\n",
    "# plt.ylim(0.001,1.2)\n",
    "plt.show()"
   ]
  },
  {
   "cell_type": "code",
   "execution_count": null,
   "metadata": {},
   "outputs": [],
   "source": [
    "plt.subplots(1,1,figsize=(10,5))\n",
    "\n",
    "for files_g in filenames_g:\n",
    "        df=data_frame_dict[files_g]\n",
    "        y,x,_=plt.hist(df['Ekine'],density=True,histtype='step',bins=(80),label=files_g[30:-33])\n",
    "#         print(f\"{midpoints(y)} and x {x}\")\n",
    "\n",
    "# plt.yscale('log')\n",
    "plt.legend()\n",
    "# plt.xlim(0,5.8)\n",
    "plt.ylim(0.001,1.2)\n",
    "plt.show()\n",
    "\n",
    "for j,yi in enumerate(y):\n",
    "    print(f\"/gate/source/mybeam/gps/hist/point {x[j]:.4f} {y[j]*1000:.2f}\")\n",
    "    \n",
    "    \n",
    "    "
   ]
  },
  {
   "cell_type": "code",
   "execution_count": null,
   "metadata": {},
   "outputs": [],
   "source": [
    "plt.subplots(1,1,figsize=(10,5))\n",
    "\n",
    "for files_g in filenames_g:\n",
    "\n",
    "        _=plt.hist(data_frame_dict[files_g]['X'],weights=data_frame_dict[files_g]['Weight'],histtype='step',bins=(80),label=files_g[30:-13])\n",
    "\n",
    "plt.yscale('log')\n",
    "plt.legend()\n",
    "# plt.xlim(0,5.8)\n",
    "# plt.ylim(0.001,1)\n",
    "plt.show()\n"
   ]
  },
  {
   "cell_type": "code",
   "execution_count": null,
   "metadata": {},
   "outputs": [],
   "source": [
    "plt.subplots(1,1,figsize=(10,5))\n",
    "\n",
    "for files_g in filenames_g:\n",
    "\n",
    "    _=plt.hist(data_frame_dict[files_g]['dX'][data_frame_dict[files_g]['X']<40][data_frame_dict[files_g]['X']>30],histtype='step',bins=(80),label=files_g[30:-13])\n",
    "\n",
    "plt.yscale('log')\n",
    "plt.legend(loc=\"upper left\")\n",
    "# plt.xlim(0,5.8)\n",
    "# plt.ylim(0.001,1)\n",
    "plt.show()\n"
   ]
  },
  {
   "cell_type": "code",
   "execution_count": null,
   "metadata": {},
   "outputs": [],
   "source": [
    "\n",
    "\n"
   ]
  },
  {
   "cell_type": "code",
   "execution_count": null,
   "metadata": {},
   "outputs": [],
   "source": []
  },
  {
   "cell_type": "code",
   "execution_count": null,
   "metadata": {},
   "outputs": [],
   "source": [
    "filenames_g=[\n",
    "            \"/work/lb8075/PhaseSpaces/PhS1AB_Gamma_Params/output-PhS_bias100_3.root\",\\\n",
    "            \"/work/lb8075/PhaseSpaces/PhS1AB_Gamma_Params/output-PhS_bias1_3.root\"\n",
    "]\n"
   ]
  },
  {
   "cell_type": "code",
   "execution_count": null,
   "metadata": {},
   "outputs": [],
   "source": [
    "\n",
    "data_frame_dict={}\n",
    "\n",
    "for files_g in filenames_g:\n",
    "    print(f\"{files_g}   \\n\")\n",
    "    ur=uproot.pandas.iterate(files_g, \"PhaseSpace\", ['X','Y','dX','dY','Weight','Ekine','ProductionVolume','CreatorProcess'])\n",
    "    #This creates a set of dataframes for each files as it iterates through the * wildcards\n",
    "    mylist=list(ur)        \n",
    "    data_frame_dict[files_g]=pd.concat(mylist, ignore_index=True, sort=False  ,copy = False)\n",
    "    #The concat method then stitches all the pandas data frames for each file together into one data frame\n",
    "    #which is then stored in a dictionary, accessed by the the key files_g, whatever the filename is\n",
    "\n"
   ]
  },
  {
   "cell_type": "code",
   "execution_count": null,
   "metadata": {},
   "outputs": [],
   "source": [
    "for files_g in filenames_g:\n",
    "#     print(data_frame_dict[files_g]['ProductionVolume'].value_counts())\n",
    "    print(data_frame_dict[files_g].groupby('ProductionVolume')['Weight'].sum())\n"
   ]
  },
  {
   "cell_type": "code",
   "execution_count": null,
   "metadata": {},
   "outputs": [],
   "source": [
    "for files_g in filenames_g:\n",
    "    plt.subplots(1,1,figsize=(19,4))\n",
    "# creating a temporary dataframe to hold the one we're currently interating over\n",
    "    df=data_frame_dict[files_g]\n",
    "    np2=df['CreatorProcess'].to_numpy(dtype=\"str\")\n",
    "    np3=df['Weight'].to_numpy(dtype=\"float16\")\n",
    "    np2=np2.astype('str')\n",
    "    print(np2.dtype)\n",
    "    print(np3.dtype)\n",
    "\n",
    "# plt.hist(df['ProductionVolume'])\n",
    "# print(df.dtypes)\n",
    "# df['ProductionVolume']=df['ProductionVolume'].astype('str')\n",
    "# print(df.dtypes)\n",
    "\n",
    "#     df['Weight'].astype('float16')\n",
    "# print(df.dtypes)\n",
    "\n",
    "# print(df2)\n",
    "# _=plt.hist(df3)\n",
    "#     plt.xlim(-100,100)\n",
    "#     plt.ylim(-100,100)\n",
    "#     plt.xlabel('X')\n",
    "#     plt.ylabel('Y')\n",
    "#     plt.colorbar()\n",
    "# plt.show()\n",
    "# df2=df['ProductionVolume']\n",
    "# print(df['ProductionVolume'].dtypes)\n",
    "# df['ProductionVolume']=df['ProductionVolume'].astype('str')\n",
    "# print(df['ProductionVolume'].dtypes)\n",
    "\n",
    "#     df['CreatorProcess'].value_counts().plot(kind='bar',logy=True, ylim=(1,5500000))\n",
    "    plt.hist2d(np2,np3)"
   ]
  },
  {
   "cell_type": "code",
   "execution_count": null,
   "metadata": {},
   "outputs": [],
   "source": []
  },
  {
   "cell_type": "markdown",
   "metadata": {},
   "source": [
    "## Inspecting phase 1A"
   ]
  },
  {
   "cell_type": "code",
   "execution_count": null,
   "metadata": {},
   "outputs": [],
   "source": [
    "filenames_g=[\n",
    "            \"/work/lb8075/PhaseSpaces/PhS1A_Gamma/output-1A_bias100_3.root\",\\\n",
    "            \"/work/lb8075/PhaseSpaces/PhS1A_Gamma/output-1A_bias1_3.root\"\n",
    "]\n",
    "\n",
    "#ran 10x more bias 1 than bias 100"
   ]
  },
  {
   "cell_type": "code",
   "execution_count": null,
   "metadata": {},
   "outputs": [],
   "source": [
    "data_frame_dict={}\n",
    "\n",
    "for files_g in filenames_g:\n",
    "    print(f\"{files_g}   \\n\")\n",
    "    ur=uproot.pandas.iterate(files_g, \"PhaseSpace\", ['X','Y','dX','dY','Weight','Ekine','ParticleName','ProductionVolume','CreatorProcess'])\n",
    "    #This creates a set of dataframes for each files as it iterates through the * wildcards\n",
    "    mylist=list(ur)        \n",
    "    data_frame_dict[files_g]=pd.concat(mylist, ignore_index=True, sort=False  ,copy = False)\n",
    "    #The concat method then stitches all the pandas data frames for each file together into one data frame\n",
    "    #which is then stored in a dictionary, accessed by the the key files_g, whatever the filename is\n",
    "\n"
   ]
  },
  {
   "cell_type": "code",
   "execution_count": null,
   "metadata": {},
   "outputs": [],
   "source": [
    "for files_g in filenames_g:\n",
    "#     print(data_frame_dict[files_g]['ProductionVolume'].value_counts())\n",
    "    print(data_frame_dict[files_g].groupby('ProductionVolume')['Weight'].sum())\n"
   ]
  },
  {
   "cell_type": "code",
   "execution_count": null,
   "metadata": {},
   "outputs": [],
   "source": [
    "for files_g in filenames_g:\n",
    "    plt.subplots(1,1,figsize=(10,5))\n",
    "    print(files_g)\n",
    "#     print(data_frame_dict[files_g]['ProductionVolume'].value_counts())\n",
    "    df=data_frame_dict[files_g]\n",
    "    df['CreatorProcess']=df['CreatorProcess'].astype(\"str\")\n",
    "\n",
    "#     df['Weight'][df['Weight']<0.5].plot(kind='bar')\n",
    "#     (df['ProductionVolume'][df['Weight']>0.5]).value_counts().plot(kind='bar')\n",
    "    (df['CreatorProcess'][df['Weight']>0.5]).value_counts().plot(kind='bar')\n",
    "    "
   ]
  },
  {
   "cell_type": "code",
   "execution_count": null,
   "metadata": {},
   "outputs": [],
   "source": [
    "plt.subplots(1,1,figsize=(10,5))\n",
    "print(files_g)\n",
    "#     print(data_frame_dict[files_g]['ProductionVolume'].value_counts())\n",
    "df=data_frame_dict[\"/work/lb8075/PhaseSpaces/PhS1A_Gamma/output-1A_bias100_3.root\"]\n",
    "df['ProductionVolume']=df['ProductionVolume'].astype(\"str\")\n",
    "\n",
    "#     df['Weight'][df['Weight']<0.5].plot(kind='bar')\n",
    "#     (df['ProductionVolume'][df['Weight']>0.5]).value_counts().plot(kind='bar')\n",
    "(df['ParticleName'][df['Weight']<0.5]).value_counts().plot(kind='bar',logy=True,ylim=(1,10000000))\n",
    "                   \n",
    "for files_g in filenames_g:\n",
    "    plt.subplots(1,1,figsize=(10,5))\n",
    "    print(files_g)\n",
    "#     print(data_frame_dict[files_g]['ProductionVolume'].value_counts())\n",
    "    df=data_frame_dict[files_g]\n",
    "    df['ProductionVolume']=df['ProductionVolume'].astype(\"str\")\n",
    "\n",
    "#     df['Weight'][df['Weight']<0.5].plot(kind='bar')\n",
    "#     (df['ProductionVolume'][df['Weight']>0.5]).value_counts().plot(kind='bar')\n",
    "    (df['ParticleName'][df['Weight']>0.5]).value_counts().plot(kind='bar',logy=True,ylim=(1,10000000))\n",
    "    "
   ]
  },
  {
   "cell_type": "code",
   "execution_count": null,
   "metadata": {},
   "outputs": [],
   "source": [
    "plt.subplots(1,1,figsize=(7,3))\n",
    "print(files_g)\n",
    "#     print(data_frame_dict[files_g]['ProductionVolume'].value_counts())\n",
    "df=data_frame_dict[\"/work/lb8075/PhaseSpaces/PhS1A_Gamma/output-1A_bias100_3.root\"]\n",
    "df['ProductionVolume']=df['ProductionVolume'].astype(\"str\")\n",
    "\n",
    "#     df['Weight'][df['Weight']<0.5].plot(kind='bar')\n",
    "#     (df['ProductionVolume'][df['Weight']>0.5]).value_counts().plot(kind='bar')\n",
    "(df['ProductionVolume'][df['Weight']<0.5]).value_counts().plot(kind='bar',sort_columns=True)\n",
    "    \n",
    "for files_g in filenames_g:\n",
    "    plt.subplots(1,1,figsize=(7,3))\n",
    "    print(files_g)\n",
    "#     print(data_frame_dict[files_g]['ProductionVolume'].value_counts())\n",
    "    df=data_frame_dict[files_g]\n",
    "    df['ProductionVolume']=df['ProductionVolume'].astype(\"str\")\n",
    "\n",
    "#     df['Weight'][df['Weight']<0.5].plot(kind='bar')\n",
    "#     (df['ProductionVolume'][df['Weight']>0.5]).value_counts().plot(kind='bar')\n",
    "    (df['ProductionVolume'][df['Weight']>0.5]).value_counts().plot(kind='bar',sort_columns=True)\n",
    "    "
   ]
  },
  {
   "cell_type": "code",
   "execution_count": null,
   "metadata": {},
   "outputs": [],
   "source": [
    "for files_g in filenames_g:\n",
    "    plt.subplots(1,1,figsize=(10,5))\n",
    "\n",
    "#     print(data_frame_dict[files_g]['ProductionVolume'].value_counts())\n",
    "    df=data_frame_dict[files_g]\n",
    "#     df['ProductionVolume']=df['ProductionVolume'].astype(\"str\")\n",
    "\n",
    "    df['Weight'].hist()"
   ]
  },
  {
   "cell_type": "code",
   "execution_count": null,
   "metadata": {},
   "outputs": [],
   "source": [
    "for files_g in filenames_g:\n",
    "    print(data_frame_dict[files_g]['X'].count())"
   ]
  },
  {
   "cell_type": "code",
   "execution_count": null,
   "metadata": {},
   "outputs": [],
   "source": [
    "for files_g in filenames_g:\n",
    "    print(data_frame_dict[files_g]['Weight'].value_counts())"
   ]
  },
  {
   "cell_type": "code",
   "execution_count": null,
   "metadata": {},
   "outputs": [],
   "source": [
    "for j,files_g in enumerate(filenames_g):\n",
    "    df=data_frame_dict[files_g]\n",
    "    if j==0:\n",
    "        col=\"cyan\"\n",
    "    else:\n",
    "        col=\"magenta\"\n",
    "    plt.hist(df['X'],density=True,weights=df['Weight'],histtype='step',color=col)"
   ]
  },
  {
   "cell_type": "code",
   "execution_count": null,
   "metadata": {},
   "outputs": [],
   "source": [
    "for j,files_g in enumerate(filenames_g):\n",
    "    df=data_frame_dict[files_g]\n",
    "    if j==0:\n",
    "        col=\"cyan\"\n",
    "    else:\n",
    "        col=\"magenta\"\n",
    "    plt.hist(df['Ekine'],density=True,weights=df['Weight'],histtype='step',color=col)"
   ]
  },
  {
   "cell_type": "code",
   "execution_count": null,
   "metadata": {},
   "outputs": [],
   "source": [
    "for j,files_g in enumerate(filenames_g):\n",
    "    df=data_frame_dict[files_g]\n",
    "    if j==0:\n",
    "        col=\"cyan\"\n",
    "    else:\n",
    "        col=\"magenta\"\n",
    "    plt.hist(df['X'][df['Y']<1],density=True,weights=df['Weight'][df['Y']<1],histtype='step',color=col)"
   ]
  },
  {
   "cell_type": "code",
   "execution_count": null,
   "metadata": {},
   "outputs": [],
   "source": [
    "for j,files_g in enumerate(filenames_g):\n",
    "    plt.subplots(1,1,figsize=(6,5))\n",
    "\n",
    "    df=data_frame_dict[files_g]\n",
    "\n",
    "    plt.hist2d(df['X'][df['ParticleName']==b'gamma'],df['Y'][df['ParticleName']==b'gamma'],weights=df['Weight'][df['ParticleName']==b'gamma'],bins=(60,60))"
   ]
  },
  {
   "cell_type": "code",
   "execution_count": null,
   "metadata": {
    "scrolled": false
   },
   "outputs": [],
   "source": [
    "df=data_frame_dict[\"/work/lb8075/PhaseSpaces/PhS1A_Gamma/output-1A_bias100_3.root\"]\n",
    "dfsubgamma=df[[\"ProductionVolume\",\"CreatorProcess\",\"ParticleName\",\"Weight\"]][df['Weight']>0.5][df['ParticleName']==b\"gamma\"]\n",
    "dfsubgamma[\"ProductionVolume\"].value_counts().plot(kind='bar',logy=True)"
   ]
  },
  {
   "cell_type": "code",
   "execution_count": null,
   "metadata": {},
   "outputs": [],
   "source": [
    "df=data_frame_dict[\"/work/lb8075/PhaseSpaces/PhS1A_Gamma/output-1A_bias100_3.root\"]\n",
    "df\n",
    "# dfsubgamma=df[df['CreatorProcess']==b'eBrem']\n",
    "# dfsubgamma"
   ]
  },
  {
   "cell_type": "code",
   "execution_count": null,
   "metadata": {},
   "outputs": [],
   "source": [
    "dfsubgamma=df[df['ProductionVolume']==b'target_log'][df['Weight']>0.5][df['ParticleName']==b'gamma']\n",
    "dfsubgamma"
   ]
  },
  {
   "cell_type": "code",
   "execution_count": null,
   "metadata": {
    "scrolled": false
   },
   "outputs": [],
   "source": [
    "df=data_frame_dict[\"/work/lb8075/PhaseSpaces/PhS1A_Gamma/output-1A_bias100_3.root\"]\n",
    "dfsubelec=df[[\"ProductionVolume\",\"CreatorProcess\",\"ParticleName\",\"Weight\"]][df['Weight']>0.5][df['ParticleName']==b\"e-\"]\n",
    "dfsubelec[\"ProductionVolume\"].value_counts().plot(kind='bar')"
   ]
  },
  {
   "cell_type": "code",
   "execution_count": null,
   "metadata": {},
   "outputs": [],
   "source": [
    "pd.set_option('display.max_rows',1000)\n"
   ]
  },
  {
   "cell_type": "code",
   "execution_count": null,
   "metadata": {},
   "outputs": [],
   "source": [
    "df1=data_frame_dict[\"/work/lb8075/PhaseSpaces/PhS1A_Gamma/output-1A_bias1_3.root\"]\n",
    "dfsubgamma=df1[[\"ProductionVolume\",\"CreatorProcess\",\"ParticleName\",\"Weight\"]][df1['ParticleName']==b\"gamma\"]\n",
    "dfsubgamma[\"ProductionVolume\"].value_counts().plot(kind='bar',logy=True)\n"
   ]
  },
  {
   "cell_type": "code",
   "execution_count": null,
   "metadata": {},
   "outputs": [],
   "source": [
    "# plt.subplots(1,1,figsize=(15,10))\n",
    "\n",
    "for j,files_g in enumerate(filenames_g):\n",
    "    df=data_frame_dict[files_g]\n",
    "    dfsubgamma=df[[\"ProductionVolume\",\"CreatorProcess\",\"ParticleName\",\"Weight\"]][df['ParticleName']==b\"gamma\"]\n",
    "    # dfsubgamma[\"ProductionVolume\"].value_counts().plot(kind='bar',logy=True)\n",
    "    print(dfsubgamma.groupby('ProductionVolume')['Weight'].value_counts())\n",
    "    print(\"\")"
   ]
  },
  {
   "cell_type": "code",
   "execution_count": null,
   "metadata": {},
   "outputs": [],
   "source": [
    "plt.subplots(1,1,figsize=(10,4))\n",
    "df[\"ProductionVolume\"][df['ParticleName']==b\"gamma\"].hist(histtype='bar', weights=df['Weight'][df['ParticleName']==b\"gamma\"])"
   ]
  },
  {
   "cell_type": "code",
   "execution_count": null,
   "metadata": {},
   "outputs": [],
   "source": [
    "df=data_frame_dict[\"/work/lb8075/PhaseSpaces/PhS1A_Gamma/output-1A_bias100_3.root\"]\n",
    "dfsubgamma=df[[\"ProductionVolume\",\"CreatorProcess\",\"ParticleName\",\"Weight\"]][df['ParticleName']==b\"gamma\"]\n",
    "# dfsubgamma[\"ProductionVolume\"].value_counts().plot(kind='bar',logy=True)[df['ParticleName']==b\"gamma\"]\n",
    "df[\"ProductionVolume\"][df['ParticleName']==b\"gamma\"].hist(histtype='bar', weights=df['Weight'][df['ParticleName']==b\"gamma\"])"
   ]
  },
  {
   "cell_type": "code",
   "execution_count": null,
   "metadata": {},
   "outputs": [],
   "source": [
    "plt.subplots(1,1,figsize=(15,10))\n",
    "\n",
    "for j,files_g in enumerate(filenames_g):\n",
    "    df=data_frame_dict[files_g]\n",
    "    print(files_g)\n",
    "    if j==0:\n",
    "        col=\"cyan\"\n",
    "        factor=10\n",
    "    else:\n",
    "        col=\"magenta\"\n",
    "        factor=1\n",
    "    df[\"ProductionVolume\"][df['ParticleName']==b\"gamma\"].hist(histtype='step',log=True, weights=factor*df['Weight'][df['ParticleName']==b\"gamma\"],color=col)"
   ]
  },
  {
   "cell_type": "code",
   "execution_count": null,
   "metadata": {},
   "outputs": [],
   "source": []
  },
  {
   "cell_type": "code",
   "execution_count": null,
   "metadata": {},
   "outputs": [],
   "source": []
  },
  {
   "cell_type": "code",
   "execution_count": null,
   "metadata": {},
   "outputs": [],
   "source": [
    "filenames_g=[\n",
    "            \"/work/lb8075/PhaseSpaces/PhS1AB_Gamma_ZeroBias/output-PhS_bias1_76.root\"\n",
    "]"
   ]
  },
  {
   "cell_type": "code",
   "execution_count": null,
   "metadata": {},
   "outputs": [],
   "source": [
    "data_frame_dict={}\n",
    "\n",
    "for files_g in filenames_g:\n",
    "    print(f\"{files_g}   \\n\")\n",
    "    ur=uproot.pandas.iterate(files_g, \"PhaseSpace\", ['X','Y','dX','dY','dZ','Weight','Ekine','ProductionVolume','CreatorProcess'])\n",
    "    #This creates a set of dataframes for each files as it iterates through the * wildcards\n",
    "    mylist=list(ur)        \n",
    "    data_frame_dict[files_g]=pd.concat(mylist, ignore_index=True, sort=False  ,copy = False)\n",
    "    #The concat method then stitches all the pandas data frames for each file together into one data frame\n",
    "    #which is then stored in a dictionary, accessed by the the key files_g, whatever the filename is\n"
   ]
  },
  {
   "cell_type": "code",
   "execution_count": null,
   "metadata": {},
   "outputs": [],
   "source": [
    "for j,files_g in enumerate(filenames_g):\n",
    "\n",
    "    df=data_frame_dict[files_g]\n",
    "    data_frame_dict[files_g]['dXdY']=(data_frame_dict[files_g].dX**2+data_frame_dict[files_g].dY**2)**0.5\n",
    "    ratioThetaXY=data_frame_dict[files_g].dXdY/data_frame_dict[files_g].dZ\n",
    "    ratioThetaX=data_frame_dict[files_g].dX/data_frame_dict[files_g].dZ\n",
    "    ratioThetaY=data_frame_dict[files_g].dX/data_frame_dict[files_g].dZ\n",
    "    data_frame_dict[files_g]['thetaXY']=ratioThetaXY.apply(math.atan)*180/3.14\n",
    "    data_frame_dict[files_g]['thetaX']=ratioThetaX.apply(math.atan)*180/3.14\n",
    "    data_frame_dict[files_g]['thetaY']=ratioThetaY.apply(math.atan)*180/3.14\n",
    "    data_frame_dict[files_g]['XY']=(data_frame_dict[files_g].X**2+data_frame_dict[files_g].Y**2)**0.5\n"
   ]
  },
  {
   "cell_type": "code",
   "execution_count": null,
   "metadata": {},
   "outputs": [],
   "source": [
    "for j,files_g in enumerate(filenames_g):\n",
    "    plt.subplots(1,1,figsize=(6,5))\n",
    "\n",
    "    df=data_frame_dict[files_g]\n",
    "\n",
    "    plt.hist2d(df['X'],df['Y'],weights=df['Weight'],bins=(60,60))\n",
    "    plt.colorbar()"
   ]
  },
  {
   "cell_type": "code",
   "execution_count": null,
   "metadata": {},
   "outputs": [],
   "source": [
    "for j,files_g in enumerate(filenames_g):\n",
    "    plt.subplots(1,1,figsize=(6,5))\n",
    "\n",
    "    df=data_frame_dict[files_g]\n",
    "\n",
    "    _=plt.hist2d(df['X'][df['Y']<10][df['Y']>-10],df['thetaX'][df['Y']<10][df['Y']>-10],weights=df['Weight'][df['Y']<10][df['Y']>-10],bins=(200,200))\n",
    "    plt.ylim(-30,30)\n",
    "    plt.colorbar()"
   ]
  },
  {
   "cell_type": "code",
   "execution_count": null,
   "metadata": {},
   "outputs": [],
   "source": [
    "for j,files_g in enumerate(filenames_g):\n",
    "    plt.subplots(1,1,figsize=(6,5))\n",
    "\n",
    "    df=data_frame_dict[files_g]\n",
    "\n",
    "    _=plt.hist2d(df['XY'],df['thetaXY'],weights=df['Weight'],bins=(100,200))\n",
    "    plt.ylim(-20,0)\n",
    "    plt.colorbar()"
   ]
  },
  {
   "cell_type": "code",
   "execution_count": null,
   "metadata": {},
   "outputs": [],
   "source": []
  }
 ],
 "metadata": {
  "kernelspec": {
   "display_name": "Python 3",
   "language": "python",
   "name": "python3"
  },
  "language_info": {
   "codemirror_mode": {
    "name": "ipython",
    "version": 3
   },
   "file_extension": ".py",
   "mimetype": "text/x-python",
   "name": "python",
   "nbconvert_exporter": "python",
   "pygments_lexer": "ipython3",
   "version": "3.8.5"
  }
 },
 "nbformat": 4,
 "nbformat_minor": 2
}
