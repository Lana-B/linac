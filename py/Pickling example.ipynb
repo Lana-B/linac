{
 "cells": [
  {
   "cell_type": "code",
   "execution_count": 1,
   "metadata": {},
   "outputs": [
    {
     "name": "stdout",
     "output_type": "stream",
     "text": [
      "Welcome to JupyROOT 6.18/04\n"
     ]
    }
   ],
   "source": [
    "import numpy as np\n",
    "import math\n",
    "from matplotlib import pylab as plt\n",
    "from ROOT import TTree, TFile, TH2D, TCanvas, TH1F, gROOT\n",
    "from root_numpy import array2hist, hist2array, fill_hist, tree2array, root2array, list_trees\n",
    "import pandas as pd\n",
    "from root_pandas import read_root\n",
    "import pickle\n",
    "import lzma"
   ]
  },
  {
   "cell_type": "code",
   "execution_count": 12,
   "metadata": {},
   "outputs": [],
   "source": [
    "for filenum in range(1,3):\n",
    "    filename=\"../PhS2_5x5/output-lana2-PhS-e\"+str(filenum)+\".root\"\n",
    "    inputFile=TFile(filename)\n",
    "    tree=inputFile.Get(\"PhaseSpace\")\n",
    "    #dfe = read_root(filename, columns=['X','Y','Z','dX', 'dY','dZ','Weight','Ekine','ProductionVolume','CreatorProcess'])\n",
    "    with lzma.open(\"../Phs2_5x5/RLZMA-Skimmed2_e\"+str(filenum)+\".pkl\", \"w\") as f:\n",
    "        pickle.dump(tree, f)"
   ]
  },
  {
   "cell_type": "code",
   "execution_count": 18,
   "metadata": {},
   "outputs": [
    {
     "ename": "ValueError",
     "evalue": "chain is empty",
     "output_type": "error",
     "traceback": [
      "\u001b[0;31m---------------------------------------------------------------------------\u001b[0m",
      "\u001b[0;31mValueError\u001b[0m                                Traceback (most recent call last)",
      "\u001b[0;32m<ipython-input-18-eddf4e6fd754>\u001b[0m in \u001b[0;36m<module>\u001b[0;34m\u001b[0m\n\u001b[1;32m      4\u001b[0m \u001b[0mcomptree\u001b[0m\u001b[0;34m.\u001b[0m\u001b[0mWrite\u001b[0m\u001b[0;34m(\u001b[0m\u001b[0;34m)\u001b[0m\u001b[0;34m\u001b[0m\u001b[0;34m\u001b[0m\u001b[0m\n\u001b[1;32m      5\u001b[0m \u001b[0mrootfile\u001b[0m\u001b[0;34m.\u001b[0m\u001b[0mClose\u001b[0m\u001b[0;34m(\u001b[0m\u001b[0;34m)\u001b[0m\u001b[0;34m\u001b[0m\u001b[0;34m\u001b[0m\u001b[0m\n\u001b[0;32m----> 6\u001b[0;31m \u001b[0mdfe\u001b[0m \u001b[0;34m=\u001b[0m \u001b[0mread_root\u001b[0m\u001b[0;34m(\u001b[0m\u001b[0;34m\"../Phs2_5x5/testpickledelete.root\"\u001b[0m\u001b[0;34m,\u001b[0m \u001b[0mcolumns\u001b[0m\u001b[0;34m=\u001b[0m\u001b[0;34m[\u001b[0m\u001b[0;34m'X'\u001b[0m\u001b[0;34m,\u001b[0m\u001b[0;34m'Y'\u001b[0m\u001b[0;34m,\u001b[0m\u001b[0;34m'dX'\u001b[0m\u001b[0;34m,\u001b[0m \u001b[0;34m'dY'\u001b[0m\u001b[0;34m,\u001b[0m\u001b[0;34m'dZ'\u001b[0m\u001b[0;34m,\u001b[0m\u001b[0;34m'Weight'\u001b[0m\u001b[0;34m,\u001b[0m\u001b[0;34m'Ekine'\u001b[0m\u001b[0;34m,\u001b[0m\u001b[0;34m'ProductionVolume'\u001b[0m\u001b[0;34m,\u001b[0m\u001b[0;34m'CreatorProcess'\u001b[0m\u001b[0;34m]\u001b[0m\u001b[0;34m)\u001b[0m\u001b[0;34m\u001b[0m\u001b[0;34m\u001b[0m\u001b[0m\n\u001b[0m",
      "\u001b[0;32m/usr/local/lib/python3.7/site-packages/root_pandas/readwrite.py\u001b[0m in \u001b[0;36mread_root\u001b[0;34m(paths, key, columns, ignore, chunksize, where, flatten, *args, **kwargs)\u001b[0m\n\u001b[1;32m    274\u001b[0m         \u001b[0;32mreturn\u001b[0m \u001b[0mgenchunk\u001b[0m\u001b[0;34m(\u001b[0m\u001b[0;34m)\u001b[0m\u001b[0;34m\u001b[0m\u001b[0;34m\u001b[0m\u001b[0m\n\u001b[1;32m    275\u001b[0m \u001b[0;34m\u001b[0m\u001b[0m\n\u001b[0;32m--> 276\u001b[0;31m     \u001b[0marr\u001b[0m \u001b[0;34m=\u001b[0m \u001b[0mroot2array\u001b[0m\u001b[0;34m(\u001b[0m\u001b[0mpaths\u001b[0m\u001b[0;34m,\u001b[0m \u001b[0mkey\u001b[0m\u001b[0;34m,\u001b[0m \u001b[0mall_vars\u001b[0m\u001b[0;34m,\u001b[0m \u001b[0mselection\u001b[0m\u001b[0;34m=\u001b[0m\u001b[0mwhere\u001b[0m\u001b[0;34m,\u001b[0m \u001b[0;34m*\u001b[0m\u001b[0margs\u001b[0m\u001b[0;34m,\u001b[0m \u001b[0;34m**\u001b[0m\u001b[0mkwargs\u001b[0m\u001b[0;34m)\u001b[0m\u001b[0;34m\u001b[0m\u001b[0;34m\u001b[0m\u001b[0m\n\u001b[0m\u001b[1;32m    277\u001b[0m     \u001b[0;32mif\u001b[0m \u001b[0mflatten\u001b[0m\u001b[0;34m:\u001b[0m\u001b[0;34m\u001b[0m\u001b[0;34m\u001b[0m\u001b[0m\n\u001b[1;32m    278\u001b[0m         \u001b[0marr\u001b[0m \u001b[0;34m=\u001b[0m \u001b[0mdo_flatten\u001b[0m\u001b[0;34m(\u001b[0m\u001b[0marr\u001b[0m\u001b[0;34m,\u001b[0m \u001b[0mflatten\u001b[0m\u001b[0;34m)\u001b[0m\u001b[0;34m\u001b[0m\u001b[0;34m\u001b[0m\u001b[0m\n",
      "\u001b[0;32m/usr/local/lib/python3.7/site-packages/root_numpy/_tree.py\u001b[0m in \u001b[0;36mroot2array\u001b[0;34m(filenames, treename, branches, selection, object_selection, start, stop, step, include_weight, weight_name, cache_size, warn_missing_tree)\u001b[0m\n\u001b[1;32m    239\u001b[0m         \u001b[0mweight_name\u001b[0m\u001b[0;34m,\u001b[0m\u001b[0;34m\u001b[0m\u001b[0;34m\u001b[0m\u001b[0m\n\u001b[1;32m    240\u001b[0m         \u001b[0mcache_size\u001b[0m\u001b[0;34m,\u001b[0m\u001b[0;34m\u001b[0m\u001b[0;34m\u001b[0m\u001b[0m\n\u001b[0;32m--> 241\u001b[0;31m         warn_missing_tree)\n\u001b[0m\u001b[1;32m    242\u001b[0m \u001b[0;34m\u001b[0m\u001b[0m\n\u001b[1;32m    243\u001b[0m     \u001b[0;32mif\u001b[0m \u001b[0mflatten\u001b[0m\u001b[0;34m:\u001b[0m\u001b[0;34m\u001b[0m\u001b[0;34m\u001b[0m\u001b[0m\n",
      "\u001b[0;32mroot_numpy/src/tree.pyx\u001b[0m in \u001b[0;36m_librootnumpy.root2array_fromfile\u001b[0;34m()\u001b[0m\n",
      "\u001b[0;32mroot_numpy/src/tree.pyx\u001b[0m in \u001b[0;36m_librootnumpy.tree2array\u001b[0;34m()\u001b[0m\n",
      "\u001b[0;32mroot_numpy/src/tree.pyx\u001b[0m in \u001b[0;36m_librootnumpy.handle_load\u001b[0;34m()\u001b[0m\n",
      "\u001b[0;31mValueError\u001b[0m: chain is empty"
     ]
    },
    {
     "name": "stderr",
     "output_type": "stream",
     "text": [
      "Error in <TFile::ReadBuffer>: error reading all requested bytes from file ../Phs2_5x5/testpickledelete.root, got 138084 of 611848\n",
      "Error in <TBranch::GetBasket>: File: ../Phs2_5x5/testpickledelete.root at byte:0, branch:CreatorProcess, entry:0, badread=1, nerrors=5, basketnumber=0\n"
     ]
    }
   ],
   "source": [
    "rootfile=TFile(\"../Phs2_5x5/testpickledelete.root\",\"RECREATE\")\n",
    "rootfile.cd()\n",
    "comptree=pickle.load(lzma.open(\"../Phs2_5x5/Skimmed/Skimmed-PhS2-gamma353.pkl\", \"rb\"))\n",
    "comptree.Write()\n",
    "rootfile.Close()\n",
    "dfe = read_root(\"../Phs2_5x5/testpickledelete.root\", columns=['X','Y','dX', 'dY','dZ','Weight','Ekine','ProductionVolume','CreatorProcess'])\n"
   ]
  },
  {
   "cell_type": "code",
   "execution_count": 11,
   "metadata": {},
   "outputs": [
    {
     "ename": "ValueError",
     "evalue": "chain is empty",
     "output_type": "error",
     "traceback": [
      "\u001b[0;31m---------------------------------------------------------------------------\u001b[0m",
      "\u001b[0;31mValueError\u001b[0m                                Traceback (most recent call last)",
      "\u001b[0;32m<ipython-input-11-b8c317c359e9>\u001b[0m in \u001b[0;36m<module>\u001b[0;34m\u001b[0m\n\u001b[0;32m----> 1\u001b[0;31m \u001b[0mdfe\u001b[0m \u001b[0;34m=\u001b[0m \u001b[0mread_root\u001b[0m\u001b[0;34m(\u001b[0m\u001b[0;34m\"../Phs2_5x5/testpickledelete.root\"\u001b[0m\u001b[0;34m,\u001b[0m \u001b[0mcolumns\u001b[0m\u001b[0;34m=\u001b[0m\u001b[0;34m[\u001b[0m\u001b[0;34m'X'\u001b[0m\u001b[0;34m,\u001b[0m\u001b[0;34m'Y'\u001b[0m\u001b[0;34m,\u001b[0m\u001b[0;34m'dX'\u001b[0m\u001b[0;34m,\u001b[0m \u001b[0;34m'dY'\u001b[0m\u001b[0;34m,\u001b[0m\u001b[0;34m'dZ'\u001b[0m\u001b[0;34m,\u001b[0m\u001b[0;34m'Weight'\u001b[0m\u001b[0;34m,\u001b[0m\u001b[0;34m'Ekine'\u001b[0m\u001b[0;34m,\u001b[0m\u001b[0;34m'ProductionVolume'\u001b[0m\u001b[0;34m,\u001b[0m\u001b[0;34m'CreatorProcess'\u001b[0m\u001b[0;34m]\u001b[0m\u001b[0;34m)\u001b[0m\u001b[0;34m\u001b[0m\u001b[0;34m\u001b[0m\u001b[0m\n\u001b[0m\u001b[1;32m      2\u001b[0m \u001b[0;34m\u001b[0m\u001b[0m\n\u001b[1;32m      3\u001b[0m \u001b[0;31m# gettreeting=tree2array(tree)\u001b[0m\u001b[0;34m\u001b[0m\u001b[0;34m\u001b[0m\u001b[0;34m\u001b[0m\u001b[0m\n\u001b[1;32m      4\u001b[0m \u001b[0;34m\u001b[0m\u001b[0m\n\u001b[1;32m      5\u001b[0m \u001b[0;34m\u001b[0m\u001b[0m\n",
      "\u001b[0;32m/usr/local/lib/python3.7/site-packages/root_pandas/readwrite.py\u001b[0m in \u001b[0;36mread_root\u001b[0;34m(paths, key, columns, ignore, chunksize, where, flatten, *args, **kwargs)\u001b[0m\n\u001b[1;32m    274\u001b[0m         \u001b[0;32mreturn\u001b[0m \u001b[0mgenchunk\u001b[0m\u001b[0;34m(\u001b[0m\u001b[0;34m)\u001b[0m\u001b[0;34m\u001b[0m\u001b[0;34m\u001b[0m\u001b[0m\n\u001b[1;32m    275\u001b[0m \u001b[0;34m\u001b[0m\u001b[0m\n\u001b[0;32m--> 276\u001b[0;31m     \u001b[0marr\u001b[0m \u001b[0;34m=\u001b[0m \u001b[0mroot2array\u001b[0m\u001b[0;34m(\u001b[0m\u001b[0mpaths\u001b[0m\u001b[0;34m,\u001b[0m \u001b[0mkey\u001b[0m\u001b[0;34m,\u001b[0m \u001b[0mall_vars\u001b[0m\u001b[0;34m,\u001b[0m \u001b[0mselection\u001b[0m\u001b[0;34m=\u001b[0m\u001b[0mwhere\u001b[0m\u001b[0;34m,\u001b[0m \u001b[0;34m*\u001b[0m\u001b[0margs\u001b[0m\u001b[0;34m,\u001b[0m \u001b[0;34m**\u001b[0m\u001b[0mkwargs\u001b[0m\u001b[0;34m)\u001b[0m\u001b[0;34m\u001b[0m\u001b[0;34m\u001b[0m\u001b[0m\n\u001b[0m\u001b[1;32m    277\u001b[0m     \u001b[0;32mif\u001b[0m \u001b[0mflatten\u001b[0m\u001b[0;34m:\u001b[0m\u001b[0;34m\u001b[0m\u001b[0;34m\u001b[0m\u001b[0m\n\u001b[1;32m    278\u001b[0m         \u001b[0marr\u001b[0m \u001b[0;34m=\u001b[0m \u001b[0mdo_flatten\u001b[0m\u001b[0;34m(\u001b[0m\u001b[0marr\u001b[0m\u001b[0;34m,\u001b[0m \u001b[0mflatten\u001b[0m\u001b[0;34m)\u001b[0m\u001b[0;34m\u001b[0m\u001b[0;34m\u001b[0m\u001b[0m\n",
      "\u001b[0;32m/usr/local/lib/python3.7/site-packages/root_numpy/_tree.py\u001b[0m in \u001b[0;36mroot2array\u001b[0;34m(filenames, treename, branches, selection, object_selection, start, stop, step, include_weight, weight_name, cache_size, warn_missing_tree)\u001b[0m\n\u001b[1;32m    239\u001b[0m         \u001b[0mweight_name\u001b[0m\u001b[0;34m,\u001b[0m\u001b[0;34m\u001b[0m\u001b[0;34m\u001b[0m\u001b[0m\n\u001b[1;32m    240\u001b[0m         \u001b[0mcache_size\u001b[0m\u001b[0;34m,\u001b[0m\u001b[0;34m\u001b[0m\u001b[0;34m\u001b[0m\u001b[0m\n\u001b[0;32m--> 241\u001b[0;31m         warn_missing_tree)\n\u001b[0m\u001b[1;32m    242\u001b[0m \u001b[0;34m\u001b[0m\u001b[0m\n\u001b[1;32m    243\u001b[0m     \u001b[0;32mif\u001b[0m \u001b[0mflatten\u001b[0m\u001b[0;34m:\u001b[0m\u001b[0;34m\u001b[0m\u001b[0;34m\u001b[0m\u001b[0m\n",
      "\u001b[0;32mroot_numpy/src/tree.pyx\u001b[0m in \u001b[0;36m_librootnumpy.root2array_fromfile\u001b[0;34m()\u001b[0m\n",
      "\u001b[0;32mroot_numpy/src/tree.pyx\u001b[0m in \u001b[0;36m_librootnumpy.tree2array\u001b[0;34m()\u001b[0m\n",
      "\u001b[0;32mroot_numpy/src/tree.pyx\u001b[0m in \u001b[0;36m_librootnumpy.handle_load\u001b[0;34m()\u001b[0m\n",
      "\u001b[0;31mValueError\u001b[0m: chain is empty"
     ]
    },
    {
     "name": "stderr",
     "output_type": "stream",
     "text": [
      "Error in <TFile::ReadBuffer>: error reading all requested bytes from file ../Phs2_5x5/testpickledelete.root, got 138084 of 611848\n",
      "Error in <TBranch::GetBasket>: File: ../Phs2_5x5/testpickledelete.root at byte:0, branch:CreatorProcess, entry:0, badread=1, nerrors=3, basketnumber=0\n"
     ]
    }
   ],
   "source": [
    "dfe = read_root(\"../Phs2_5x5/testpickledelete.root\", columns=['X','Y','dX', 'dY','dZ','Weight','Ekine','ProductionVolume','CreatorProcess'])\n",
    "\n",
    "# gettreeting=tree2array(tree)\n",
    "\n",
    "\n",
    "# comptree.Write()\n",
    "# comptree.Print()\n",
    "# rootfile.Close()"
   ]
  },
  {
   "cell_type": "code",
   "execution_count": 11,
   "metadata": {},
   "outputs": [
    {
     "ename": "ValueError",
     "evalue": "chain is empty",
     "output_type": "error",
     "traceback": [
      "\u001b[0;31m---------------------------------------------------------------------------\u001b[0m",
      "\u001b[0;31mValueError\u001b[0m                                Traceback (most recent call last)",
      "\u001b[0;32m<ipython-input-11-937c54c8457e>\u001b[0m in \u001b[0;36m<module>\u001b[0;34m\u001b[0m\n\u001b[0;32m----> 1\u001b[0;31m \u001b[0mdfe\u001b[0m \u001b[0;34m=\u001b[0m \u001b[0mread_root\u001b[0m\u001b[0;34m(\u001b[0m\u001b[0;34m\"../Phs2_5x5/Rnewfiletest.root\"\u001b[0m\u001b[0;34m,\u001b[0m \u001b[0mcolumns\u001b[0m\u001b[0;34m=\u001b[0m\u001b[0;34m[\u001b[0m\u001b[0;34m'X'\u001b[0m\u001b[0;34m,\u001b[0m\u001b[0;34m'Y'\u001b[0m\u001b[0;34m,\u001b[0m\u001b[0;34m'Z'\u001b[0m\u001b[0;34m,\u001b[0m\u001b[0;34m'dX'\u001b[0m\u001b[0;34m,\u001b[0m \u001b[0;34m'dY'\u001b[0m\u001b[0;34m,\u001b[0m\u001b[0;34m'dZ'\u001b[0m\u001b[0;34m,\u001b[0m\u001b[0;34m'Weight'\u001b[0m\u001b[0;34m,\u001b[0m\u001b[0;34m'Ekine'\u001b[0m\u001b[0;34m,\u001b[0m\u001b[0;34m'ProductionVolume'\u001b[0m\u001b[0;34m,\u001b[0m\u001b[0;34m'CreatorProcess'\u001b[0m\u001b[0;34m]\u001b[0m\u001b[0;34m)\u001b[0m\u001b[0;34m\u001b[0m\u001b[0;34m\u001b[0m\u001b[0m\n\u001b[0m",
      "\u001b[0;32m/usr/local/lib/python3.7/site-packages/root_pandas/readwrite.py\u001b[0m in \u001b[0;36mread_root\u001b[0;34m(paths, key, columns, ignore, chunksize, where, flatten, *args, **kwargs)\u001b[0m\n\u001b[1;32m    274\u001b[0m         \u001b[0;32mreturn\u001b[0m \u001b[0mgenchunk\u001b[0m\u001b[0;34m(\u001b[0m\u001b[0;34m)\u001b[0m\u001b[0;34m\u001b[0m\u001b[0;34m\u001b[0m\u001b[0m\n\u001b[1;32m    275\u001b[0m \u001b[0;34m\u001b[0m\u001b[0m\n\u001b[0;32m--> 276\u001b[0;31m     \u001b[0marr\u001b[0m \u001b[0;34m=\u001b[0m \u001b[0mroot2array\u001b[0m\u001b[0;34m(\u001b[0m\u001b[0mpaths\u001b[0m\u001b[0;34m,\u001b[0m \u001b[0mkey\u001b[0m\u001b[0;34m,\u001b[0m \u001b[0mall_vars\u001b[0m\u001b[0;34m,\u001b[0m \u001b[0mselection\u001b[0m\u001b[0;34m=\u001b[0m\u001b[0mwhere\u001b[0m\u001b[0;34m,\u001b[0m \u001b[0;34m*\u001b[0m\u001b[0margs\u001b[0m\u001b[0;34m,\u001b[0m \u001b[0;34m**\u001b[0m\u001b[0mkwargs\u001b[0m\u001b[0;34m)\u001b[0m\u001b[0;34m\u001b[0m\u001b[0;34m\u001b[0m\u001b[0m\n\u001b[0m\u001b[1;32m    277\u001b[0m     \u001b[0;32mif\u001b[0m \u001b[0mflatten\u001b[0m\u001b[0;34m:\u001b[0m\u001b[0;34m\u001b[0m\u001b[0;34m\u001b[0m\u001b[0m\n\u001b[1;32m    278\u001b[0m         \u001b[0marr\u001b[0m \u001b[0;34m=\u001b[0m \u001b[0mdo_flatten\u001b[0m\u001b[0;34m(\u001b[0m\u001b[0marr\u001b[0m\u001b[0;34m,\u001b[0m \u001b[0mflatten\u001b[0m\u001b[0;34m)\u001b[0m\u001b[0;34m\u001b[0m\u001b[0;34m\u001b[0m\u001b[0m\n",
      "\u001b[0;32m/usr/local/lib/python3.7/site-packages/root_numpy/_tree.py\u001b[0m in \u001b[0;36mroot2array\u001b[0;34m(filenames, treename, branches, selection, object_selection, start, stop, step, include_weight, weight_name, cache_size, warn_missing_tree)\u001b[0m\n\u001b[1;32m    239\u001b[0m         \u001b[0mweight_name\u001b[0m\u001b[0;34m,\u001b[0m\u001b[0;34m\u001b[0m\u001b[0;34m\u001b[0m\u001b[0m\n\u001b[1;32m    240\u001b[0m         \u001b[0mcache_size\u001b[0m\u001b[0;34m,\u001b[0m\u001b[0;34m\u001b[0m\u001b[0;34m\u001b[0m\u001b[0m\n\u001b[0;32m--> 241\u001b[0;31m         warn_missing_tree)\n\u001b[0m\u001b[1;32m    242\u001b[0m \u001b[0;34m\u001b[0m\u001b[0m\n\u001b[1;32m    243\u001b[0m     \u001b[0;32mif\u001b[0m \u001b[0mflatten\u001b[0m\u001b[0;34m:\u001b[0m\u001b[0;34m\u001b[0m\u001b[0;34m\u001b[0m\u001b[0m\n",
      "\u001b[0;32mroot_numpy/src/tree.pyx\u001b[0m in \u001b[0;36m_librootnumpy.root2array_fromfile\u001b[0;34m()\u001b[0m\n",
      "\u001b[0;32mroot_numpy/src/tree.pyx\u001b[0m in \u001b[0;36m_librootnumpy.tree2array\u001b[0;34m()\u001b[0m\n",
      "\u001b[0;32mroot_numpy/src/tree.pyx\u001b[0m in \u001b[0;36m_librootnumpy.handle_load\u001b[0;34m()\u001b[0m\n",
      "\u001b[0;31mValueError\u001b[0m: chain is empty"
     ]
    },
    {
     "name": "stderr",
     "output_type": "stream",
     "text": [
      "Error in <TFile::ReadBuffer>: error reading all requested bytes from file ../Phs2_5x5/Rnewfiletest.root, got 3219 of 91222\n",
      "Error in <TBranch::GetBasket>: File: ../Phs2_5x5/Rnewfiletest.root at byte:0, branch:CreatorProcess, entry:0, badread=1, nerrors=1, basketnumber=0\n"
     ]
    }
   ],
   "source": [
    "\n",
    "dfe = read_root(\"../Phs2_5x5/Rnewfiletest.root\", columns=['X','Y','Z','dX', 'dY','dZ','Weight','Ekine','ProductionVolume','CreatorProcess'])"
   ]
  },
  {
   "cell_type": "code",
   "execution_count": 9,
   "metadata": {},
   "outputs": [
    {
     "ename": "TypeError",
     "evalue": "'float' object is not callable",
     "output_type": "error",
     "traceback": [
      "\u001b[0;31m---------------------------------------------------------------------------\u001b[0m",
      "\u001b[0;31mTypeError\u001b[0m                                 Traceback (most recent call last)",
      "\u001b[0;32m<ipython-input-9-cf0ce3427005>\u001b[0m in \u001b[0;36m<module>\u001b[0;34m\u001b[0m\n\u001b[1;32m      1\u001b[0m \u001b[0mnewting\u001b[0m\u001b[0;34m.\u001b[0m\u001b[0mPrint\u001b[0m\u001b[0;34m(\u001b[0m\u001b[0;34m)\u001b[0m\u001b[0;34m\u001b[0m\u001b[0;34m\u001b[0m\u001b[0m\n\u001b[0;32m----> 2\u001b[0;31m \u001b[0mnewting\u001b[0m\u001b[0;34m.\u001b[0m\u001b[0mEkine\u001b[0m\u001b[0;34m(\u001b[0m\u001b[0;34m)\u001b[0m\u001b[0;34m\u001b[0m\u001b[0;34m\u001b[0m\u001b[0m\n\u001b[0m",
      "\u001b[0;31mTypeError\u001b[0m: 'float' object is not callable"
     ]
    },
    {
     "name": "stdout",
     "output_type": "stream",
     "text": [
      "******************************************************************************\n",
      "*Tree    :PhaseSpace: Phase space tree                                       *\n",
      "*Entries :     3094 : Total =          348738 bytes  File  Size =     103968 *\n",
      "*        :          : Tree compression factor =   3.27                       *\n",
      "******************************************************************************\n",
      "*Br    0 :AtomicNumber : AtomicNumber/I                                      *\n",
      "*Entries :     3094 : Total  Size=      12974 bytes  File Size  =        128 *\n",
      "*Baskets :        1 : Basket Size=      32000 bytes  Compression=  97.35     *\n",
      "*............................................................................*\n",
      "*Br    1 :Ekine     : Ekine/F                                                *\n",
      "*Entries :     3094 : Total  Size=      12939 bytes  File Size  =      11331 *\n",
      "*Baskets :        1 : Basket Size=      32000 bytes  Compression=   1.10     *\n",
      "*............................................................................*\n",
      "*Br    2 :Weight    : Weight/F                                               *\n",
      "*Entries :     3094 : Total  Size=      12944 bytes  File Size  =        617 *\n",
      "*Baskets :        1 : Basket Size=      32000 bytes  Compression=  20.19     *\n",
      "*............................................................................*\n",
      "*Br    3 :Mass      : Mass/I                                                 *\n",
      "*Entries :     3094 : Total  Size=      12934 bytes  File Size  =        120 *\n",
      "*Baskets :        1 : Basket Size=      32000 bytes  Compression= 103.78     *\n",
      "*............................................................................*\n",
      "*Br    4 :X         : X/F                                                    *\n",
      "*Entries :     3094 : Total  Size=      12919 bytes  File Size  =      11607 *\n",
      "*Baskets :        1 : Basket Size=      32000 bytes  Compression=   1.07     *\n",
      "*............................................................................*\n",
      "*Br    5 :Y         : Y/F                                                    *\n",
      "*Entries :     3094 : Total  Size=      12919 bytes  File Size  =      11596 *\n",
      "*Baskets :        1 : Basket Size=      32000 bytes  Compression=   1.07     *\n",
      "*............................................................................*\n",
      "*Br    6 :Z         : Z/F                                                    *\n",
      "*Entries :     3094 : Total  Size=      12919 bytes  File Size  =        171 *\n",
      "*Baskets :        1 : Basket Size=      32000 bytes  Compression=  72.81     *\n",
      "*............................................................................*\n",
      "*Br    7 :dX        : dX/F                                                   *\n",
      "*Entries :     3094 : Total  Size=      12924 bytes  File Size  =      11588 *\n",
      "*Baskets :        1 : Basket Size=      32000 bytes  Compression=   1.07     *\n",
      "*............................................................................*\n",
      "*Br    8 :dY        : dY/F                                                   *\n",
      "*Entries :     3094 : Total  Size=      12924 bytes  File Size  =      11612 *\n",
      "*Baskets :        1 : Basket Size=      32000 bytes  Compression=   1.07     *\n",
      "*............................................................................*\n",
      "*Br    9 :dZ        : dZ/F                                                   *\n",
      "*Entries :     3094 : Total  Size=      12924 bytes  File Size  =      10746 *\n",
      "*Baskets :        1 : Basket Size=      32000 bytes  Compression=   1.16     *\n",
      "*............................................................................*\n",
      "*Br   10 :ProductionVolume : ProductionVolume/C                              *\n",
      "*Entries :     3094 : Total  Size=      50147 bytes  File Size  =       9814 *\n",
      "*Baskets :        2 : Basket Size=      32000 bytes  Compression=   5.06     *\n",
      "*............................................................................*\n",
      "*Br   11 :CreatorProcess : CreatorProcess/C                                  *\n",
      "*Entries :     3094 : Total  Size=      57453 bytes  File Size  =       8633 *\n",
      "*Baskets :        3 : Basket Size=      32000 bytes  Compression=   6.59     *\n",
      "*............................................................................*\n",
      "*Br   12 :ProcessDefinedStep : ProcessDefinedStep/C                          *\n",
      "*Entries :     3094 : Total  Size=      59620 bytes  File Size  =       7267 *\n",
      "*Baskets :        3 : Basket Size=      32000 bytes  Compression=   8.13     *\n",
      "*............................................................................*\n",
      "*Br   13 :TrackID   : TrackID/I                                              *\n",
      "*Entries :     3094 : Total  Size=      12949 bytes  File Size  =       4176 *\n",
      "*Baskets :        1 : Basket Size=      32000 bytes  Compression=   2.98     *\n",
      "*............................................................................*\n",
      "*Br   14 :ParentID  : ParentID/I                                             *\n",
      "*Entries :     3094 : Total  Size=      12954 bytes  File Size  =       1246 *\n",
      "*Baskets :        1 : Basket Size=      32000 bytes  Compression=  10.00     *\n",
      "*............................................................................*\n",
      "*Br   15 :EventID   : EventID/I                                              *\n",
      "*Entries :     3094 : Total  Size=      12949 bytes  File Size  =       3195 *\n",
      "*Baskets :        1 : Basket Size=      32000 bytes  Compression=   3.90     *\n",
      "*............................................................................*\n",
      "*Br   16 :RunID     : RunID/I                                                *\n",
      "*Entries :     3094 : Total  Size=      12939 bytes  File Size  =        121 *\n",
      "*Baskets :        1 : Basket Size=      32000 bytes  Compression= 102.93     *\n",
      "*............................................................................*\n"
     ]
    }
   ],
   "source": []
  },
  {
   "cell_type": "code",
   "execution_count": null,
   "metadata": {},
   "outputs": [],
   "source": []
  }
 ],
 "metadata": {
  "kernelspec": {
   "display_name": "Python 3",
   "language": "python",
   "name": "python3"
  },
  "language_info": {
   "codemirror_mode": {
    "name": "ipython",
    "version": 3
   },
   "file_extension": ".py",
   "mimetype": "text/x-python",
   "name": "python",
   "nbconvert_exporter": "python",
   "pygments_lexer": "ipython3",
   "version": "3.8.5"
  }
 },
 "nbformat": 4,
 "nbformat_minor": 2
}
