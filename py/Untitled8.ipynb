{
 "cells": [
  {
   "cell_type": "code",
   "execution_count": 11,
   "metadata": {},
   "outputs": [
    {
     "data": {
      "text/html": [
       "<div>\n",
       "<style scoped>\n",
       "    .dataframe tbody tr th:only-of-type {\n",
       "        vertical-align: middle;\n",
       "    }\n",
       "\n",
       "    .dataframe tbody tr th {\n",
       "        vertical-align: top;\n",
       "    }\n",
       "\n",
       "    .dataframe thead th {\n",
       "        text-align: right;\n",
       "    }\n",
       "</style>\n",
       "<table border=\"1\" class=\"dataframe\">\n",
       "  <thead>\n",
       "    <tr style=\"text-align: right;\">\n",
       "      <th></th>\n",
       "      <th>X</th>\n",
       "      <th>Y</th>\n",
       "      <th>Z</th>\n",
       "      <th>dX</th>\n",
       "      <th>dY</th>\n",
       "      <th>dZ</th>\n",
       "      <th>Ekine</th>\n",
       "      <th>Weight</th>\n",
       "    </tr>\n",
       "  </thead>\n",
       "  <tbody>\n",
       "    <tr>\n",
       "      <th>0</th>\n",
       "      <td>-6.312126</td>\n",
       "      <td>-9.651634</td>\n",
       "      <td>-5.000000e-07</td>\n",
       "      <td>0.199387</td>\n",
       "      <td>-0.021205</td>\n",
       "      <td>0.979691</td>\n",
       "      <td>1.168125</td>\n",
       "      <td>0.007839</td>\n",
       "    </tr>\n",
       "    <tr>\n",
       "      <th>1</th>\n",
       "      <td>4.391789</td>\n",
       "      <td>1.472693</td>\n",
       "      <td>-5.000000e-07</td>\n",
       "      <td>0.191503</td>\n",
       "      <td>-0.140327</td>\n",
       "      <td>0.971409</td>\n",
       "      <td>2.978122</td>\n",
       "      <td>0.016249</td>\n",
       "    </tr>\n",
       "    <tr>\n",
       "      <th>2</th>\n",
       "      <td>0.617644</td>\n",
       "      <td>-14.306315</td>\n",
       "      <td>-5.000000e-07</td>\n",
       "      <td>-0.030798</td>\n",
       "      <td>0.120537</td>\n",
       "      <td>0.992231</td>\n",
       "      <td>3.339259</td>\n",
       "      <td>0.005263</td>\n",
       "    </tr>\n",
       "    <tr>\n",
       "      <th>3</th>\n",
       "      <td>20.427998</td>\n",
       "      <td>-8.313815</td>\n",
       "      <td>-5.000000e-07</td>\n",
       "      <td>0.218072</td>\n",
       "      <td>-0.165714</td>\n",
       "      <td>0.961761</td>\n",
       "      <td>1.121096</td>\n",
       "      <td>0.010903</td>\n",
       "    </tr>\n",
       "    <tr>\n",
       "      <th>4</th>\n",
       "      <td>-13.975844</td>\n",
       "      <td>11.929956</td>\n",
       "      <td>-5.000000e-07</td>\n",
       "      <td>0.070389</td>\n",
       "      <td>0.131494</td>\n",
       "      <td>0.988815</td>\n",
       "      <td>0.202723</td>\n",
       "      <td>0.025889</td>\n",
       "    </tr>\n",
       "    <tr>\n",
       "      <th>...</th>\n",
       "      <td>...</td>\n",
       "      <td>...</td>\n",
       "      <td>...</td>\n",
       "      <td>...</td>\n",
       "      <td>...</td>\n",
       "      <td>...</td>\n",
       "      <td>...</td>\n",
       "      <td>...</td>\n",
       "    </tr>\n",
       "    <tr>\n",
       "      <th>10788954</th>\n",
       "      <td>5.359998</td>\n",
       "      <td>-11.219370</td>\n",
       "      <td>-5.000000e-07</td>\n",
       "      <td>0.103468</td>\n",
       "      <td>-0.299456</td>\n",
       "      <td>0.948483</td>\n",
       "      <td>0.874929</td>\n",
       "      <td>0.017147</td>\n",
       "    </tr>\n",
       "    <tr>\n",
       "      <th>10788955</th>\n",
       "      <td>2.092199</td>\n",
       "      <td>-5.120715</td>\n",
       "      <td>-5.000000e-07</td>\n",
       "      <td>0.181729</td>\n",
       "      <td>-0.005933</td>\n",
       "      <td>0.983331</td>\n",
       "      <td>3.922955</td>\n",
       "      <td>0.021199</td>\n",
       "    </tr>\n",
       "    <tr>\n",
       "      <th>10788956</th>\n",
       "      <td>12.824273</td>\n",
       "      <td>11.555041</td>\n",
       "      <td>-5.000000e-07</td>\n",
       "      <td>0.360823</td>\n",
       "      <td>0.168489</td>\n",
       "      <td>0.917288</td>\n",
       "      <td>1.052695</td>\n",
       "      <td>0.010845</td>\n",
       "    </tr>\n",
       "    <tr>\n",
       "      <th>10788957</th>\n",
       "      <td>-23.003811</td>\n",
       "      <td>26.272291</td>\n",
       "      <td>-5.000000e-07</td>\n",
       "      <td>-0.111375</td>\n",
       "      <td>0.255714</td>\n",
       "      <td>0.960316</td>\n",
       "      <td>2.459726</td>\n",
       "      <td>0.005179</td>\n",
       "    </tr>\n",
       "    <tr>\n",
       "      <th>10788958</th>\n",
       "      <td>-7.124751</td>\n",
       "      <td>-21.352222</td>\n",
       "      <td>-5.000000e-07</td>\n",
       "      <td>-0.015438</td>\n",
       "      <td>-0.272678</td>\n",
       "      <td>0.961982</td>\n",
       "      <td>0.749070</td>\n",
       "      <td>0.000698</td>\n",
       "    </tr>\n",
       "  </tbody>\n",
       "</table>\n",
       "<p>10788959 rows × 8 columns</p>\n",
       "</div>"
      ],
      "text/plain": [
       "                  X          Y             Z        dX        dY        dZ  \\\n",
       "0         -6.312126  -9.651634 -5.000000e-07  0.199387 -0.021205  0.979691   \n",
       "1          4.391789   1.472693 -5.000000e-07  0.191503 -0.140327  0.971409   \n",
       "2          0.617644 -14.306315 -5.000000e-07 -0.030798  0.120537  0.992231   \n",
       "3         20.427998  -8.313815 -5.000000e-07  0.218072 -0.165714  0.961761   \n",
       "4        -13.975844  11.929956 -5.000000e-07  0.070389  0.131494  0.988815   \n",
       "...             ...        ...           ...       ...       ...       ...   \n",
       "10788954   5.359998 -11.219370 -5.000000e-07  0.103468 -0.299456  0.948483   \n",
       "10788955   2.092199  -5.120715 -5.000000e-07  0.181729 -0.005933  0.983331   \n",
       "10788956  12.824273  11.555041 -5.000000e-07  0.360823  0.168489  0.917288   \n",
       "10788957 -23.003811  26.272291 -5.000000e-07 -0.111375  0.255714  0.960316   \n",
       "10788958  -7.124751 -21.352222 -5.000000e-07 -0.015438 -0.272678  0.961982   \n",
       "\n",
       "             Ekine    Weight  \n",
       "0         1.168125  0.007839  \n",
       "1         2.978122  0.016249  \n",
       "2         3.339259  0.005263  \n",
       "3         1.121096  0.010903  \n",
       "4         0.202723  0.025889  \n",
       "...            ...       ...  \n",
       "10788954  0.874929  0.017147  \n",
       "10788955  3.922955  0.021199  \n",
       "10788956  1.052695  0.010845  \n",
       "10788957  2.459726  0.005179  \n",
       "10788958  0.749070  0.000698  \n",
       "\n",
       "[10788959 rows x 8 columns]"
      ]
     },
     "execution_count": 11,
     "metadata": {},
     "output_type": "execute_result"
    }
   ],
   "source": [
    "import numpy as np\n",
    "import math\n",
    "from matplotlib import pylab as plt\n",
    "import pandas as pd\n",
    "from root_pandas import read_root, to_root\n",
    "import uproot\n",
    "# import time\n",
    "# from mpl_toolkits.mplot3d import Axes3D # <--- This is important for 3d plotting \n",
    "from scipy import stats\n",
    "\n",
    "filename=\"~/Masters2020/Inaki/May/genel.root\"    \n",
    "ur=uproot.pandas.iterate(filename, \"PhaseSpace\", ['X','Y','Z','dX','dY','dZ','Ekine','Weight'])\n",
    "\n",
    "mylist=list(ur)        \n",
    "dftot=pd.concat(mylist, ignore_index=True, sort=False  ,copy = False)\n",
    "dftot"
   ]
  },
  {
   "cell_type": "code",
   "execution_count": 13,
   "metadata": {},
   "outputs": [
    {
     "data": {
      "text/plain": [
       "X        -8.712511e+00\n",
       "Y        -8.917599e+00\n",
       "Z        -5.000000e-07\n",
       "dX       -5.132920e-01\n",
       "dY       -8.825969e-01\n",
       "dZ                 NaN\n",
       "Ekine     2.271030e-01\n",
       "Weight    2.353696e-02\n",
       "Name: 13939, dtype: float32"
      ]
     },
     "execution_count": 13,
     "metadata": {},
     "output_type": "execute_result"
    }
   ],
   "source": [
    "dftot.iloc[13939]"
   ]
  },
  {
   "cell_type": "code",
   "execution_count": 14,
   "metadata": {},
   "outputs": [
    {
     "data": {
      "text/plain": [
       "X        -2.660027e+00\n",
       "Y        -5.291212e+00\n",
       "Z        -5.000000e-07\n",
       "dX       -4.684417e-02\n",
       "dY       -1.778068e-01\n",
       "dZ        9.829499e-01\n",
       "Ekine     2.046754e+00\n",
       "Weight    1.377258e-02\n",
       "Name: 13940, dtype: float32"
      ]
     },
     "execution_count": 14,
     "metadata": {},
     "output_type": "execute_result"
    }
   ],
   "source": [
    "dftot.iloc[13940]"
   ]
  },
  {
   "cell_type": "code",
   "execution_count": 15,
   "metadata": {},
   "outputs": [
    {
     "data": {
      "text/plain": [
       "X        -1.739090e+00\n",
       "Y         1.197956e+01\n",
       "Z        -5.000000e-07\n",
       "dX       -2.044949e-02\n",
       "dY       -7.816196e-02\n",
       "dZ        9.967309e-01\n",
       "Ekine     5.306303e-02\n",
       "Weight    2.426142e-02\n",
       "Name: 13941, dtype: float32"
      ]
     },
     "execution_count": 15,
     "metadata": {},
     "output_type": "execute_result"
    }
   ],
   "source": [
    "dftot.iloc[13941]"
   ]
  },
  {
   "cell_type": "code",
   "execution_count": 16,
   "metadata": {},
   "outputs": [
    {
     "data": {
      "image/png": "[encoded data removed]",
      "text/plain": [
       "<Figure size 432x288 with 1 Axes>"
      ]
     },
     "metadata": {
      "needs_background": "light"
     },
     "output_type": "display_data"
    }
   ],
   "source": [
    "_=plt.hist(dftot['dX'],bins=100,histtype='step',color='red',density=True)"
   ]
  },
  {
   "cell_type": "code",
   "execution_count": 17,
   "metadata": {},
   "outputs": [
    {
     "data": {
      "image/png": "[encoded data removed]",
      "text/plain": [
       "<Figure size 432x288 with 1 Axes>"
      ]
     },
     "metadata": {
      "needs_background": "light"
     },
     "output_type": "display_data"
    }
   ],
   "source": [
    "_=plt.hist(dftot['dY'],bins=100,histtype='step',color='red',density=True)"
   ]
  },
  {
   "cell_type": "code",
   "execution_count": 22,
   "metadata": {},
   "outputs": [
    {
     "data": {
      "image/png": "[encoded data removed]",
      "text/plain": [
       "<Figure size 648x648 with 1 Axes>"
      ]
     },
     "metadata": {
      "needs_background": "light"
     },
     "output_type": "display_data"
    }
   ],
   "source": [
    "plt.figure(figsize=(9,9))\n",
    "_=plt.hist2d(dftot['dX'],dftot['dY'],bins=(2000,2000),range=((-0.75,0.5),(-0.9,-0.7)))\n"
   ]
  },
  {
   "cell_type": "code",
   "execution_count": 25,
   "metadata": {},
   "outputs": [
    {
     "data": {
      "text/html": [
       "<div>\n",
       "<style scoped>\n",
       "    .dataframe tbody tr th:only-of-type {\n",
       "        vertical-align: middle;\n",
       "    }\n",
       "\n",
       "    .dataframe tbody tr th {\n",
       "        vertical-align: top;\n",
       "    }\n",
       "\n",
       "    .dataframe thead th {\n",
       "        text-align: right;\n",
       "    }\n",
       "</style>\n",
       "<table border=\"1\" class=\"dataframe\">\n",
       "  <thead>\n",
       "    <tr style=\"text-align: right;\">\n",
       "      <th></th>\n",
       "      <th>X</th>\n",
       "      <th>Y</th>\n",
       "      <th>Z</th>\n",
       "      <th>dX</th>\n",
       "      <th>dY</th>\n",
       "      <th>dZ</th>\n",
       "      <th>Ekine</th>\n",
       "      <th>Weight</th>\n",
       "    </tr>\n",
       "  </thead>\n",
       "  <tbody>\n",
       "    <tr>\n",
       "      <th>0</th>\n",
       "      <td>-6.312126</td>\n",
       "      <td>-9.651634</td>\n",
       "      <td>-5.000000e-07</td>\n",
       "      <td>0.199387</td>\n",
       "      <td>-0.021205</td>\n",
       "      <td>0.979691</td>\n",
       "      <td>1.168125</td>\n",
       "      <td>0.007839</td>\n",
       "    </tr>\n",
       "    <tr>\n",
       "      <th>1</th>\n",
       "      <td>4.391789</td>\n",
       "      <td>1.472693</td>\n",
       "      <td>-5.000000e-07</td>\n",
       "      <td>0.191503</td>\n",
       "      <td>-0.140327</td>\n",
       "      <td>0.971409</td>\n",
       "      <td>2.978122</td>\n",
       "      <td>0.016249</td>\n",
       "    </tr>\n",
       "    <tr>\n",
       "      <th>2</th>\n",
       "      <td>0.617644</td>\n",
       "      <td>-14.306315</td>\n",
       "      <td>-5.000000e-07</td>\n",
       "      <td>-0.030798</td>\n",
       "      <td>0.120537</td>\n",
       "      <td>0.992231</td>\n",
       "      <td>3.339259</td>\n",
       "      <td>0.005263</td>\n",
       "    </tr>\n",
       "    <tr>\n",
       "      <th>3</th>\n",
       "      <td>20.427998</td>\n",
       "      <td>-8.313815</td>\n",
       "      <td>-5.000000e-07</td>\n",
       "      <td>0.218072</td>\n",
       "      <td>-0.165714</td>\n",
       "      <td>0.961761</td>\n",
       "      <td>1.121096</td>\n",
       "      <td>0.010903</td>\n",
       "    </tr>\n",
       "    <tr>\n",
       "      <th>4</th>\n",
       "      <td>-13.975844</td>\n",
       "      <td>11.929956</td>\n",
       "      <td>-5.000000e-07</td>\n",
       "      <td>0.070389</td>\n",
       "      <td>0.131494</td>\n",
       "      <td>0.988815</td>\n",
       "      <td>0.202723</td>\n",
       "      <td>0.025889</td>\n",
       "    </tr>\n",
       "    <tr>\n",
       "      <th>...</th>\n",
       "      <td>...</td>\n",
       "      <td>...</td>\n",
       "      <td>...</td>\n",
       "      <td>...</td>\n",
       "      <td>...</td>\n",
       "      <td>...</td>\n",
       "      <td>...</td>\n",
       "      <td>...</td>\n",
       "    </tr>\n",
       "    <tr>\n",
       "      <th>10788954</th>\n",
       "      <td>5.359998</td>\n",
       "      <td>-11.219370</td>\n",
       "      <td>-5.000000e-07</td>\n",
       "      <td>0.103468</td>\n",
       "      <td>-0.299456</td>\n",
       "      <td>0.948483</td>\n",
       "      <td>0.874929</td>\n",
       "      <td>0.017147</td>\n",
       "    </tr>\n",
       "    <tr>\n",
       "      <th>10788955</th>\n",
       "      <td>2.092199</td>\n",
       "      <td>-5.120715</td>\n",
       "      <td>-5.000000e-07</td>\n",
       "      <td>0.181729</td>\n",
       "      <td>-0.005933</td>\n",
       "      <td>0.983331</td>\n",
       "      <td>3.922955</td>\n",
       "      <td>0.021199</td>\n",
       "    </tr>\n",
       "    <tr>\n",
       "      <th>10788956</th>\n",
       "      <td>12.824273</td>\n",
       "      <td>11.555041</td>\n",
       "      <td>-5.000000e-07</td>\n",
       "      <td>0.360823</td>\n",
       "      <td>0.168489</td>\n",
       "      <td>0.917288</td>\n",
       "      <td>1.052695</td>\n",
       "      <td>0.010845</td>\n",
       "    </tr>\n",
       "    <tr>\n",
       "      <th>10788957</th>\n",
       "      <td>-23.003811</td>\n",
       "      <td>26.272291</td>\n",
       "      <td>-5.000000e-07</td>\n",
       "      <td>-0.111375</td>\n",
       "      <td>0.255714</td>\n",
       "      <td>0.960316</td>\n",
       "      <td>2.459726</td>\n",
       "      <td>0.005179</td>\n",
       "    </tr>\n",
       "    <tr>\n",
       "      <th>10788958</th>\n",
       "      <td>-7.124751</td>\n",
       "      <td>-21.352222</td>\n",
       "      <td>-5.000000e-07</td>\n",
       "      <td>-0.015438</td>\n",
       "      <td>-0.272678</td>\n",
       "      <td>0.961982</td>\n",
       "      <td>0.749070</td>\n",
       "      <td>0.000698</td>\n",
       "    </tr>\n",
       "  </tbody>\n",
       "</table>\n",
       "<p>10788555 rows × 8 columns</p>\n",
       "</div>"
      ],
      "text/plain": [
       "                  X          Y             Z        dX        dY        dZ  \\\n",
       "0         -6.312126  -9.651634 -5.000000e-07  0.199387 -0.021205  0.979691   \n",
       "1          4.391789   1.472693 -5.000000e-07  0.191503 -0.140327  0.971409   \n",
       "2          0.617644 -14.306315 -5.000000e-07 -0.030798  0.120537  0.992231   \n",
       "3         20.427998  -8.313815 -5.000000e-07  0.218072 -0.165714  0.961761   \n",
       "4        -13.975844  11.929956 -5.000000e-07  0.070389  0.131494  0.988815   \n",
       "...             ...        ...           ...       ...       ...       ...   \n",
       "10788954   5.359998 -11.219370 -5.000000e-07  0.103468 -0.299456  0.948483   \n",
       "10788955   2.092199  -5.120715 -5.000000e-07  0.181729 -0.005933  0.983331   \n",
       "10788956  12.824273  11.555041 -5.000000e-07  0.360823  0.168489  0.917288   \n",
       "10788957 -23.003811  26.272291 -5.000000e-07 -0.111375  0.255714  0.960316   \n",
       "10788958  -7.124751 -21.352222 -5.000000e-07 -0.015438 -0.272678  0.961982   \n",
       "\n",
       "             Ekine    Weight  \n",
       "0         1.168125  0.007839  \n",
       "1         2.978122  0.016249  \n",
       "2         3.339259  0.005263  \n",
       "3         1.121096  0.010903  \n",
       "4         0.202723  0.025889  \n",
       "...            ...       ...  \n",
       "10788954  0.874929  0.017147  \n",
       "10788955  3.922955  0.021199  \n",
       "10788956  1.052695  0.010845  \n",
       "10788957  2.459726  0.005179  \n",
       "10788958  0.749070  0.000698  \n",
       "\n",
       "[10788555 rows x 8 columns]"
      ]
     },
     "execution_count": 25,
     "metadata": {},
     "output_type": "execute_result"
    }
   ],
   "source": [
    "dftot.dropna(axis='index')"
   ]
  },
  {
   "cell_type": "code",
   "execution_count": null,
   "metadata": {},
   "outputs": [],
   "source": []
  }
 ],
 "metadata": {
  "kernelspec": {
   "display_name": "Python 3",
   "language": "python",
   "name": "python3"
  },
  "language_info": {
   "codemirror_mode": {
    "name": "ipython",
    "version": 3
   },
   "file_extension": ".py",
   "mimetype": "text/x-python",
   "name": "python",
   "nbconvert_exporter": "python",
   "pygments_lexer": "ipython3",
   "version": "3.7.7"
  }
 },
 "nbformat": 4,
 "nbformat_minor": 2
}
