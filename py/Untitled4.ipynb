{
 "cells": [
  {
   "cell_type": "code",
   "execution_count": 3,
   "metadata": {},
   "outputs": [],
   "source": [
    "import numpy as np\n",
    "import math\n",
    "from matplotlib import pylab as plt\n",
    "# from ROOT import TTree, TFile, TH2D, TCanvas, TH1F, gROOT\n",
    "# from root_numpy import array2hist, hist2array, fill_hist, tree2array, root2array, list_trees\n",
    "import pandas as pd\n",
    "# from root_pandas import read_root\n",
    "import uproot\n",
    "import time"
   ]
  },
  {
   "cell_type": "code",
   "execution_count": 6,
   "metadata": {},
   "outputs": [
    {
     "name": "stdout",
     "output_type": "stream",
     "text": [
      "41.877455949783325\n"
     ]
    }
   ],
   "source": [
    "filename=\"../PhS2_5x5/Skimmed/Skimmed-PhS-e*.root\"    \n",
    "ur=uproot.pandas.iterate(filename, \"PhaseSpace\", ['X','Y','dX','dY','Weight','Ekine','ProductionVolume','CreatorProcess'])\n",
    "prevtime=time.time()\n",
    "mylist=list(ur)        \n",
    "newtime=time.time()\n",
    "\n",
    "print(newtime-prevtime)\n",
    "\n",
    "prevtime=time.time()\n",
    "dftot5=pd.concat(mylist, ignore_index=True, sort=False  ,copy = False)\n",
    "newtime=time.time()\n",
    "dftot5[['X','Y','dX','dY','Weight','Ekine']]=dftot5[['X','Y','dX','dY','Weight','Ekine']].astype('float16')\n"
   ]
  },
  {
   "cell_type": "code",
   "execution_count": 7,
   "metadata": {},
   "outputs": [
    {
     "data": {
      "text/html": [
       "<div>\n",
       "<style scoped>\n",
       "    .dataframe tbody tr th:only-of-type {\n",
       "        vertical-align: middle;\n",
       "    }\n",
       "\n",
       "    .dataframe tbody tr th {\n",
       "        vertical-align: top;\n",
       "    }\n",
       "\n",
       "    .dataframe thead th {\n",
       "        text-align: right;\n",
       "    }\n",
       "</style>\n",
       "<table border=\"1\" class=\"dataframe\">\n",
       "  <thead>\n",
       "    <tr style=\"text-align: right;\">\n",
       "      <th></th>\n",
       "      <th>X</th>\n",
       "      <th>Y</th>\n",
       "      <th>dX</th>\n",
       "      <th>dY</th>\n",
       "      <th>Weight</th>\n",
       "      <th>Ekine</th>\n",
       "      <th>ProductionVolume</th>\n",
       "      <th>CreatorProcess</th>\n",
       "    </tr>\n",
       "  </thead>\n",
       "  <tbody>\n",
       "    <tr>\n",
       "      <th>0</th>\n",
       "      <td>7.390625</td>\n",
       "      <td>-0.467041</td>\n",
       "      <td>0.700195</td>\n",
       "      <td>0.396729</td>\n",
       "      <td>0.000400</td>\n",
       "      <td>0.055756</td>\n",
       "      <td>b'ompton'</td>\n",
       "      <td>b'WrappedCompton'</td>\n",
       "    </tr>\n",
       "    <tr>\n",
       "      <th>1</th>\n",
       "      <td>13.757812</td>\n",
       "      <td>-17.531250</td>\n",
       "      <td>0.079468</td>\n",
       "      <td>-0.686523</td>\n",
       "      <td>0.000400</td>\n",
       "      <td>0.186523</td>\n",
       "      <td>b'ompton'</td>\n",
       "      <td>b'WrappedCompton'</td>\n",
       "    </tr>\n",
       "    <tr>\n",
       "      <th>2</th>\n",
       "      <td>23.281250</td>\n",
       "      <td>5.566406</td>\n",
       "      <td>0.132568</td>\n",
       "      <td>-0.247070</td>\n",
       "      <td>0.000400</td>\n",
       "      <td>0.176758</td>\n",
       "      <td>b'ompton'</td>\n",
       "      <td>b'WrappedCompton'</td>\n",
       "    </tr>\n",
       "    <tr>\n",
       "      <th>3</th>\n",
       "      <td>19.875000</td>\n",
       "      <td>-23.421875</td>\n",
       "      <td>0.391846</td>\n",
       "      <td>-0.149780</td>\n",
       "      <td>0.000400</td>\n",
       "      <td>0.051941</td>\n",
       "      <td>b'ompton'</td>\n",
       "      <td>b'WrappedCompton'</td>\n",
       "    </tr>\n",
       "    <tr>\n",
       "      <th>4</th>\n",
       "      <td>-50.218750</td>\n",
       "      <td>-6.253906</td>\n",
       "      <td>-0.570312</td>\n",
       "      <td>0.168823</td>\n",
       "      <td>0.000008</td>\n",
       "      <td>0.631348</td>\n",
       "      <td>b'ompton'</td>\n",
       "      <td>b'WrappedCompton'</td>\n",
       "    </tr>\n",
       "    <tr>\n",
       "      <th>...</th>\n",
       "      <td>...</td>\n",
       "      <td>...</td>\n",
       "      <td>...</td>\n",
       "      <td>...</td>\n",
       "      <td>...</td>\n",
       "      <td>...</td>\n",
       "      <td>...</td>\n",
       "      <td>...</td>\n",
       "    </tr>\n",
       "    <tr>\n",
       "      <th>3162272</th>\n",
       "      <td>-2.847656</td>\n",
       "      <td>12.664062</td>\n",
       "      <td>-0.257080</td>\n",
       "      <td>0.237915</td>\n",
       "      <td>0.000008</td>\n",
       "      <td>1.044922</td>\n",
       "      <td>b'ompton'</td>\n",
       "      <td>b'WrappedCompton'</td>\n",
       "    </tr>\n",
       "    <tr>\n",
       "      <th>3162273</th>\n",
       "      <td>38.968750</td>\n",
       "      <td>4.367188</td>\n",
       "      <td>0.239990</td>\n",
       "      <td>0.195557</td>\n",
       "      <td>0.000008</td>\n",
       "      <td>0.910156</td>\n",
       "      <td>b'ompton'</td>\n",
       "      <td>b'WrappedCompton'</td>\n",
       "    </tr>\n",
       "    <tr>\n",
       "      <th>3162274</th>\n",
       "      <td>47.718750</td>\n",
       "      <td>2.541016</td>\n",
       "      <td>0.327148</td>\n",
       "      <td>0.055481</td>\n",
       "      <td>0.000008</td>\n",
       "      <td>1.312500</td>\n",
       "      <td>b'ompton'</td>\n",
       "      <td>b'WrappedCompton'</td>\n",
       "    </tr>\n",
       "    <tr>\n",
       "      <th>3162275</th>\n",
       "      <td>2.173828</td>\n",
       "      <td>2.523438</td>\n",
       "      <td>0.018173</td>\n",
       "      <td>-0.345215</td>\n",
       "      <td>0.000400</td>\n",
       "      <td>0.921387</td>\n",
       "      <td>b'ompton'</td>\n",
       "      <td>b'WrappedCompton'</td>\n",
       "    </tr>\n",
       "    <tr>\n",
       "      <th>3162276</th>\n",
       "      <td>19.937500</td>\n",
       "      <td>0.699707</td>\n",
       "      <td>0.367676</td>\n",
       "      <td>-0.267578</td>\n",
       "      <td>0.000400</td>\n",
       "      <td>0.755371</td>\n",
       "      <td>b'jaws_x1_log'</td>\n",
       "      <td>b'eIoni'</td>\n",
       "    </tr>\n",
       "  </tbody>\n",
       "</table>\n",
       "<p>3162277 rows × 8 columns</p>\n",
       "</div>"
      ],
      "text/plain": [
       "                 X          Y        dX        dY    Weight     Ekine  \\\n",
       "0         7.390625  -0.467041  0.700195  0.396729  0.000400  0.055756   \n",
       "1        13.757812 -17.531250  0.079468 -0.686523  0.000400  0.186523   \n",
       "2        23.281250   5.566406  0.132568 -0.247070  0.000400  0.176758   \n",
       "3        19.875000 -23.421875  0.391846 -0.149780  0.000400  0.051941   \n",
       "4       -50.218750  -6.253906 -0.570312  0.168823  0.000008  0.631348   \n",
       "...            ...        ...       ...       ...       ...       ...   \n",
       "3162272  -2.847656  12.664062 -0.257080  0.237915  0.000008  1.044922   \n",
       "3162273  38.968750   4.367188  0.239990  0.195557  0.000008  0.910156   \n",
       "3162274  47.718750   2.541016  0.327148  0.055481  0.000008  1.312500   \n",
       "3162275   2.173828   2.523438  0.018173 -0.345215  0.000400  0.921387   \n",
       "3162276  19.937500   0.699707  0.367676 -0.267578  0.000400  0.755371   \n",
       "\n",
       "        ProductionVolume     CreatorProcess  \n",
       "0              b'ompton'  b'WrappedCompton'  \n",
       "1              b'ompton'  b'WrappedCompton'  \n",
       "2              b'ompton'  b'WrappedCompton'  \n",
       "3              b'ompton'  b'WrappedCompton'  \n",
       "4              b'ompton'  b'WrappedCompton'  \n",
       "...                  ...                ...  \n",
       "3162272        b'ompton'  b'WrappedCompton'  \n",
       "3162273        b'ompton'  b'WrappedCompton'  \n",
       "3162274        b'ompton'  b'WrappedCompton'  \n",
       "3162275        b'ompton'  b'WrappedCompton'  \n",
       "3162276   b'jaws_x1_log'           b'eIoni'  \n",
       "\n",
       "[3162277 rows x 8 columns]"
      ]
     },
     "execution_count": 7,
     "metadata": {},
     "output_type": "execute_result"
    }
   ],
   "source": [
    "dftot5"
   ]
  },
  {
   "cell_type": "code",
   "execution_count": 8,
   "metadata": {},
   "outputs": [
    {
     "name": "stdout",
     "output_type": "stream",
     "text": [
      "162.34188532829285\n"
     ]
    }
   ],
   "source": [
    "filename=\"../PhS2_5x5/Skimmed/Skimmed-PhS-g*.root\"    \n",
    "ur=uproot.pandas.iterate(filename, \"PhaseSpace\", ['X','Y','dX','dY','Weight','Ekine','ProductionVolume','CreatorProcess'])\n",
    "prevtime=time.time()\n",
    "mylist=list(ur)        \n",
    "newtime=time.time()\n",
    "\n",
    "print(newtime-prevtime)\n",
    "\n",
    "prevtime=time.time()\n",
    "dftot5g=pd.concat(mylist, ignore_index=True, sort=False  ,copy = False)\n",
    "newtime=time.time()\n",
    "dftot5g[['X','Y','dX','dY','Weight','Ekine']]=dftot5g[['X','Y','dX','dY','Weight','Ekine']].astype('float16')\n"
   ]
  },
  {
   "cell_type": "code",
   "execution_count": 30,
   "metadata": {},
   "outputs": [
    {
     "data": {
      "text/plain": [
       "<BarContainer object of 1000 artists>"
      ]
     },
     "execution_count": 30,
     "metadata": {},
     "output_type": "execute_result"
    },
    {
     "data": {
      "image/png": "[encoded data removed]",
      "text/plain": [
       "<Figure size 1944x216 with 1 Axes>"
      ]
     },
     "metadata": {
      "needs_background": "light"
     },
     "output_type": "display_data"
    }
   ],
   "source": [
    "plt.figure(figsize=(27,3))\n",
    "plt.bar(dftot5g.head(1000)['ProductionVolume'],dftot5g.head(1000)['Weight'])"
   ]
  },
  {
   "cell_type": "code",
   "execution_count": 45,
   "metadata": {},
   "outputs": [],
   "source": [
    "unique5g=dftot5g.Weight.unique()"
   ]
  },
  {
   "cell_type": "code",
   "execution_count": 46,
   "metadata": {},
   "outputs": [],
   "source": [
    "unique5e=dftot5.Weight.unique()"
   ]
  },
  {
   "cell_type": "code",
   "execution_count": 68,
   "metadata": {},
   "outputs": [
    {
     "data": {
      "text/plain": [
       "array([0.e+00, 2.e-07, 8.e-06, 4.e-04, 2.e-02, 1.e+00], dtype=float16)"
      ]
     },
     "execution_count": 68,
     "metadata": {},
     "output_type": "execute_result"
    }
   ],
   "source": [
    "arr5g=np.array(unique5g)\n",
    "np.sort(arr5g)"
   ]
  },
  {
   "cell_type": "code",
   "execution_count": 75,
   "metadata": {},
   "outputs": [],
   "source": [
    "dftot5g=dftot5g.sort_values(by='Weight')"
   ]
  },
  {
   "cell_type": "code",
   "execution_count": 76,
   "metadata": {},
   "outputs": [],
   "source": [
    "df5gcounts=dftot5g['Weight'].value_counts()"
   ]
  },
  {
   "cell_type": "code",
   "execution_count": 107,
   "metadata": {},
   "outputs": [
    {
     "data": {
      "text/plain": [
       "b'world_lo'         27589890\n",
       "b'jaws_x2_eBrem'      612670\n",
       "b'jaws_x1_eBrem'      608119\n",
       "b'jaws_y2_eBrem'       63246\n",
       "b'jaws_y1_eBrem'       63001\n",
       "                      ...   \n",
       "b'mlc_y3_lcompt'           2\n",
       "b'jaws_y2VeBrem'           2\n",
       "b'jaws_y1VeBrem'           1\n",
       "b'mlc_y2_lcompt'           1\n",
       "b'mlc_y10_compt'           1\n",
       "Name: ProductionVolume, Length: 106, dtype: int64"
      ]
     },
     "execution_count": 107,
     "metadata": {},
     "output_type": "execute_result"
    }
   ],
   "source": [
    "dftot5gPV=dftot5g['ProductionVolume'].value_counts()\n",
    "dftot5gPV"
   ]
  },
  {
   "cell_type": "code",
   "execution_count": 110,
   "metadata": {},
   "outputs": [
    {
     "data": {
      "text/plain": [
       "<matplotlib.axes._subplots.AxesSubplot at 0x207615250>"
      ]
     },
     "execution_count": 110,
     "metadata": {},
     "output_type": "execute_result"
    },
    {
     "data": {
      "image/png": "[encoded data removed]",
      "text/plain": [
       "<Figure size 2160x288 with 1 Axes>"
      ]
     },
     "metadata": {
      "needs_background": "light"
     },
     "output_type": "display_data"
    }
   ],
   "source": [
    "plt.figure(figsize=(30,4))\n",
    "dftot5gPV.plot.bar()\n"
   ]
  },
  {
   "cell_type": "code",
   "execution_count": 95,
   "metadata": {},
   "outputs": [
    {
     "data": {
      "text/plain": [
       "4.000664e-04    2698897\n",
       "7.987022e-06     337178\n",
       "2.000427e-02      97172\n",
       "1.788139e-07      27763\n",
       "0.000000e+00        865\n",
       "1.000000e+00        402\n",
       "Name: Weight, dtype: int64"
      ]
     },
     "execution_count": 95,
     "metadata": {},
     "output_type": "execute_result"
    }
   ],
   "source": [
    "df5ecounts=dftot5['Weight'].value_counts()\n",
    "df5ecounts"
   ]
  },
  {
   "cell_type": "markdown",
   "metadata": {},
   "source": [
    "0.000000e+00        865\n",
    "1.788139e-07      27763\n",
    "7.987022e-06     337178\n",
    "4.000664e-04    2698897\n",
    "2.000427e-02      97172\n",
    "1.000000e+00        402"
   ]
  },
  {
   "cell_type": "code",
   "execution_count": 82,
   "metadata": {},
   "outputs": [
    {
     "data": {
      "text/plain": [
       "2.000427e-02    27544324\n",
       "4.000664e-04     1449163\n",
       "7.987022e-06      208739\n",
       "1.000000e+00      160708\n",
       "1.788139e-07       12130\n",
       "0.000000e+00         307\n",
       "Name: Weight, dtype: int64"
      ]
     },
     "execution_count": 82,
     "metadata": {},
     "output_type": "execute_result"
    }
   ],
   "source": [
    "df5gcounts"
   ]
  },
  {
   "cell_type": "markdown",
   "metadata": {},
   "source": [
    "# PhS2\n",
    "```\n",
    "0                  307   1/(50)^n \n",
    "0.00000016       12130   1/50/50/50/50 \n",
    "0.000008        208739   1/50/50/50 \n",
    "0.0004         1449163   1/50/50 \n",
    "0.02          27544324   1/50 \n",
    "1               160708   1 \n",
    "```\n",
    "# PhS1\n",
    "```\n",
    "0.0004           68 \n",
    "0.02        9502899 \n",
    "1             78311 \n",
    "```"
   ]
  },
  {
   "cell_type": "code",
   "execution_count": 91,
   "metadata": {
    "scrolled": true
   },
   "outputs": [
    {
     "data": {
      "image/png": "[encoded data removed]",
      "text/plain": [
       "<Figure size 432x288 with 1 Axes>"
      ]
     },
     "metadata": {
      "needs_background": "light"
     },
     "output_type": "display_data"
    }
   ],
   "source": [
    "_=plt.hist(dftot5g[dftot5g['Weight']>0.5]['Ekine'],bins=100)"
   ]
  },
  {
   "cell_type": "code",
   "execution_count": 92,
   "metadata": {},
   "outputs": [
    {
     "data": {
      "image/png": "[encoded data removed]",
      "text/plain": [
       "<Figure size 432x288 with 1 Axes>"
      ]
     },
     "metadata": {
      "needs_background": "light"
     },
     "output_type": "display_data"
    }
   ],
   "source": [
    "_=plt.hist(dftot5g[(dftot5g['Weight']<0.5)&(dftot5g['Weight']>1e-03)]['Ekine'],bins=100)"
   ]
  },
  {
   "cell_type": "code",
   "execution_count": 88,
   "metadata": {},
   "outputs": [
    {
     "data": {
      "image/png": "[encoded data removed]",
      "text/plain": [
       "<Figure size 432x288 with 1 Axes>"
      ]
     },
     "metadata": {
      "needs_background": "light"
     },
     "output_type": "display_data"
    }
   ],
   "source": [
    "_=plt.hist(dftot5g[dftot5g['Weight']<5e-04]['Ekine'],bins=100)"
   ]
  },
  {
   "cell_type": "code",
   "execution_count": 94,
   "metadata": {},
   "outputs": [
    {
     "data": {
      "image/png": "[encoded data removed]",
      "text/plain": [
       "<Figure size 432x288 with 1 Axes>"
      ]
     },
     "metadata": {
      "needs_background": "light"
     },
     "output_type": "display_data"
    }
   ],
   "source": [
    "_=plt.hist(dftot5g[dftot5g['Weight']<1.688139e-07]['Ekine'],bins=100)"
   ]
  },
  {
   "cell_type": "code",
   "execution_count": null,
   "metadata": {},
   "outputs": [],
   "source": []
  }
 ],
 "metadata": {
  "kernelspec": {
   "display_name": "Python 3",
   "language": "python",
   "name": "python3"
  },
  "language_info": {
   "codemirror_mode": {
    "name": "ipython",
    "version": 3
   },
   "file_extension": ".py",
   "mimetype": "text/x-python",
   "name": "python",
   "nbconvert_exporter": "python",
   "pygments_lexer": "ipython3",
   "version": "3.8.5"
  }
 },
 "nbformat": 4,
 "nbformat_minor": 2
}
