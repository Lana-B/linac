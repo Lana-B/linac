{
 "cells": [
  {
   "cell_type": "code",
   "execution_count": 2,
   "metadata": {},
   "outputs": [],
   "source": [
    "import numpy as np\n",
    "import math\n",
    "from matplotlib import pylab as plt\n",
    "# from ROOT import TTree, TFile, TH2D, TCanvas, TH1F, gROOT\n",
    "# from root_numpy import array2hist, hist2array, fill_hist, tree2array, root2array, list_trees\n",
    "import pandas as pd\n",
    "# from root_pandas import read_root\n",
    "import uproot\n",
    "import time"
   ]
  },
  {
   "cell_type": "code",
   "execution_count": 14,
   "metadata": {},
   "outputs": [
    {
     "name": "stdout",
     "output_type": "stream",
     "text": [
      "0.12218809127807617\n",
      "0.0003437995910644531\n"
     ]
    }
   ],
   "source": [
    "ur=uproot.pandas.iterate(\"../output-lana2-PhS-g1.root\", \"PhaseSpace\", ['X','Y','dX','dY','Weight','Ekine'])\n",
    "\n",
    "\n",
    "prevtime=time.time()\n",
    "mylist=list(ur)        \n",
    "newtime=time.time()\n",
    "\n",
    "print(newtime-prevtime)\n",
    "\n",
    "prevtime=time.time()\n",
    "dftot=pd.concat(mylist, ignore_index=True, sort=False  ,copy = False)\n",
    "newtime=time.time()\n",
    "print(newtime-prevtime)"
   ]
  },
  {
   "cell_type": "code",
   "execution_count": 15,
   "metadata": {},
   "outputs": [
    {
     "data": {
      "text/plain": [
       "(0, 1000)"
      ]
     },
     "execution_count": 15,
     "metadata": {},
     "output_type": "execute_result"
    },
    {
     "data": {
      "image/png": "[encoded data removed]",
      "text/plain": [
       "<Figure size 432x288 with 1 Axes>"
      ]
     },
     "metadata": {
      "needs_background": "light"
     },
     "output_type": "display_data"
    }
   ],
   "source": [
    "plt.plot(dftot[\"Weight\"])\n",
    "plt.xlim(0,1000)"
   ]
  },
  {
   "cell_type": "code",
   "execution_count": 17,
   "metadata": {},
   "outputs": [],
   "source": [
    "dftot['Weight']=dftot['Weight']*10000000\n"
   ]
  },
  {
   "cell_type": "code",
   "execution_count": 18,
   "metadata": {},
   "outputs": [
    {
     "data": {
      "text/plain": [
       "2.000000e+05    27864\n",
       "4.000000e+03     1568\n",
       "8.000000e+01      231\n",
       "1.000000e+07      163\n",
       "1.600000e+00       14\n",
       "Name: Weight, dtype: int64"
      ]
     },
     "execution_count": 18,
     "metadata": {},
     "output_type": "execute_result"
    }
   ],
   "source": [
    "dftot['Weight'].value_counts()"
   ]
  },
  {
   "cell_type": "code",
   "execution_count": null,
   "metadata": {},
   "outputs": [],
   "source": []
  }
 ],
 "metadata": {
  "kernelspec": {
   "display_name": "Python 3",
   "language": "python",
   "name": "python3"
  },
  "language_info": {
   "codemirror_mode": {
    "name": "ipython",
    "version": 3
   },
   "file_extension": ".py",
   "mimetype": "text/x-python",
   "name": "python",
   "nbconvert_exporter": "python",
   "pygments_lexer": "ipython3",
   "version": "3.7.7"
  }
 },
 "nbformat": 4,
 "nbformat_minor": 2
}
