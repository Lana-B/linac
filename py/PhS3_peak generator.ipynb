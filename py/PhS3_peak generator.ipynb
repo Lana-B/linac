{
 "cells": [
  {
   "cell_type": "code",
   "execution_count": 2,
   "metadata": {},
   "outputs": [],
   "source": [
    "import numpy as np\n",
    "import subprocess \n"
   ]
  },
  {
   "cell_type": "code",
   "execution_count": 3,
   "metadata": {},
   "outputs": [
    {
     "name": "stdout",
     "output_type": "stream",
     "text": [
      "/gate/world/daughters/name         PSlayer1 \n",
      "/gate/world/daughters/insert       box \n",
      "/gate/PSlayer1/setMaterial                  Silicon \n",
      "/gate/PSlayer1/geometry/setXLength          11.0 mm \n",
      "/gate/PSlayer1/geometry/setYLength          11.0 mm \n",
      "/gate/PSlayer1/geometry/setZLength          10.0 nm \n",
      "/gate/PSlayer1/placement/setTranslation     0 0 450000005.0 nm \n",
      "/gate/PSlayer1/vis/setVisible               1 \n",
      "/gate/PSlayer1/vis/setColor                 blue\n",
      "/gate/PSlayer1/vis/forceSolid\n",
      "/gate/world/daughters/name         peakLayer1 \n",
      "/gate/world/daughters/insert       box \n",
      "/gate/peakLayer1/setMaterial                  Silicon \n",
      "/gate/peakLayer1/geometry/setXLength          5.0 mm \n",
      "/gate/peakLayer1/geometry/setYLength          5.0 mm \n",
      "/gate/peakLayer1/geometry/setZLength          500000.0 nm \n",
      "/gate/peakLayer1/placement/setTranslation     0 0 450250010.0 nm \n",
      "/gate/peakLayer1/vis/setVisible               1 \n",
      "/gate/peakLayer1/vis/setColor                 grey\n",
      "/gate/peakLayer1/vis/forceSolid\n",
      "\n"
     ]
    },
    {
     "data": {
      "text/plain": [
       "CompletedProcess(args='pbcopy', returncode=0)"
      ]
     },
     "execution_count": 3,
     "metadata": {},
     "output_type": "execute_result"
    }
   ],
   "source": [
    "peak_z=500000.0 #nm\n",
    "PS_z=10.0 #nm\n",
    "epi_z=10000.0 #nm\n",
    "start_pos=449995000.0 #nm\n",
    "# peak_z=10.0 #nm\n",
    "# PS_z=5.0 #nm\n",
    "# epi_z=0.0 #nm\n",
    "# start_pos=100.0 #nm\n",
    "\n",
    "interval=(peak_z/2.0)+(PS_z/2.0)\n",
    "transPS_z=start_pos+(epi_z/2.0)+(PS_z/2.0)\n",
    "transPeak_z=start_pos+(epi_z/2.0)+(PS_z)+(peak_z/2.0)\n",
    "# print(interval)\n",
    "total_string=\"\"\n",
    "for i in range(1,2):\n",
    "    \n",
    "#     print(\"/gate/world/daughters/name         PSlayer\"+str(i)+\" \\n\"+ \\\n",
    "#     \"/gate/world/daughters/insert       box \\n\"+ \\\n",
    "#     \"/gate/PSlayer\"+str(i)+\"/setMaterial                  Silicon \\n\"+ \\\n",
    "#     \"/gate/PSlayer\"+str(i)+\"/geometry/setXLength          11.0 mm \\n\"+ \\\n",
    "#     \"/gate/PSlayer\"+str(i)+\"/geometry/setYLength          11.0 mm \\n\"+ \\\n",
    "#     \"/gate/PSlayer\"+str(i)+\"/geometry/setZLength          \"+str(PS_z)+\" nm \\n\"+ \\\n",
    "#     \"/gate/PSlayer\"+str(i)+\"/placement/setTranslation     0 0 \"+str(transPS_z)+\" nm \\n\"+ \\\n",
    "#     \"/gate/PSlayer\"+str(i)+\"/vis/setVisible               1 \\n\"+ \\\n",
    "#     \"/gate/PSlayer\"+str(i)+\"/vis/setColor                 blue\\n\"+\n",
    "#     \"/gate/PSlayer\"+str(i)+\"/vis/forceSolid\\n\")    \n",
    "    \n",
    "#     print(\"/gate/world/daughters/name         peakLayer\"+str(i)+\" \\n\"+ \\\n",
    "#     \"/gate/world/daughters/insert       box \\n\"+ \\\n",
    "#     \"/gate/peakLayer\"+str(i)+\"/setMaterial                  Silicon \\n\"+ \\\n",
    "#     \"/gate/peakLayer\"+str(i)+\"/geometry/setXLength          5.0 mm \\n\"+ \\\n",
    "#     \"/gate/peakLayer\"+str(i)+\"/geometry/setYLength          5.0 mm \\n\"+ \\\n",
    "#     \"/gate/peakLayer\"+str(i)+\"/geometry/setZLength          \"+str(peak_z)+\" nm \\n\"+ \\\n",
    "#     \"/gate/peakLayer\"+str(i)+\"/placement/setTranslation     0 0 \"+str(transPeak_z)+\" nm \\n\"+ \\\n",
    "#     \"/gate/peakLayer\"+str(i)+\"/vis/setVisible               1 \\n\"+ \\\n",
    "#     \"/gate/peakLayer\"+str(i)+\"/vis/setColor                 grey\\n\"+\n",
    "#     \"/gate/peakLayer\"+str(i)+\"/vis/forceSolid\\n\")\n",
    "\n",
    "    stringthing=\"/gate/world/daughters/name         PSlayer\"+str(i)+\" \\n\"+ \\\n",
    "    \"/gate/world/daughters/insert       box \\n\"+ \\\n",
    "    \"/gate/PSlayer\"+str(i)+\"/setMaterial                  Silicon \\n\"+ \\\n",
    "    \"/gate/PSlayer\"+str(i)+\"/geometry/setXLength          11.0 mm \\n\"+ \\\n",
    "    \"/gate/PSlayer\"+str(i)+\"/geometry/setYLength          11.0 mm \\n\"+ \\\n",
    "    \"/gate/PSlayer\"+str(i)+\"/geometry/setZLength          \"+str(PS_z)+\" nm \\n\"+ \\\n",
    "    \"/gate/PSlayer\"+str(i)+\"/placement/setTranslation     0 0 \"+str(transPS_z)+\" nm \\n\"+ \\\n",
    "    \"/gate/PSlayer\"+str(i)+\"/vis/setVisible               1 \\n\"+ \\\n",
    "    \"/gate/PSlayer\"+str(i)+\"/vis/setColor                 blue\\n\"+\\\n",
    "    \"/gate/PSlayer\"+str(i)+\"/vis/forceSolid\\n\"    \n",
    "    \n",
    "    stringthing2=\"/gate/world/daughters/name         peakLayer\"+str(i)+\" \\n\"+ \\\n",
    "    \"/gate/world/daughters/insert       box \\n\"+ \\\n",
    "    \"/gate/peakLayer\"+str(i)+\"/setMaterial                  Silicon \\n\"+ \\\n",
    "    \"/gate/peakLayer\"+str(i)+\"/geometry/setXLength          5.0 mm \\n\"+ \\\n",
    "    \"/gate/peakLayer\"+str(i)+\"/geometry/setYLength          5.0 mm \\n\"+ \\\n",
    "    \"/gate/peakLayer\"+str(i)+\"/geometry/setZLength          \"+str(peak_z)+\" nm \\n\"+ \\\n",
    "    \"/gate/peakLayer\"+str(i)+\"/placement/setTranslation     0 0 \"+str(transPeak_z)+\" nm \\n\"+ \\\n",
    "    \"/gate/peakLayer\"+str(i)+\"/vis/setVisible               1 \\n\"+ \\\n",
    "    \"/gate/peakLayer\"+str(i)+\"/vis/setColor                 grey\\n\"+\\\n",
    "    \"/gate/peakLayer\"+str(i)+\"/vis/forceSolid\\n\"\n",
    "\n",
    "    transPS_z=transPeak_z+interval\n",
    "    transPeak_z=transPS_z+interval\n",
    "    total_string=total_string+stringthing+stringthing2\n",
    "print(total_string)\n",
    "subprocess.run(\"pbcopy\", universal_newlines=True, input=total_string)"
   ]
  },
  {
   "cell_type": "code",
   "execution_count": null,
   "metadata": {},
   "outputs": [],
   "source": []
  },
  {
   "cell_type": "code",
   "execution_count": null,
   "metadata": {},
   "outputs": [],
   "source": []
  }
 ],
 "metadata": {
  "kernelspec": {
   "display_name": "Python 3",
   "language": "python",
   "name": "python3"
  },
  "language_info": {
   "codemirror_mode": {
    "name": "ipython",
    "version": 3
   },
   "file_extension": ".py",
   "mimetype": "text/x-python",
   "name": "python",
   "nbconvert_exporter": "python",
   "pygments_lexer": "ipython3",
   "version": "3.7.7"
  }
 },
 "nbformat": 4,
 "nbformat_minor": 2
}
