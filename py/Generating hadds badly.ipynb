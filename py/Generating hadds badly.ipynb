{
 "cells": [
  {
   "cell_type": "code",
   "execution_count": 7,
   "metadata": {},
   "outputs": [
    {
     "name": "stdout",
     "output_type": "stream",
     "text": [
      "hadd /scratch/lb8075/KDEGenerator/GammaOutput/generatedGammasSkimmed10Halfmm*1000.root /hdfs/user/lb8075/KDEGenerator/GammasOutput/generatedGammas3nSkimmed10Halfmm*00.root\n",
      "hadd /scratch/lb8075/KDEGenerator/GammaOutput/generatedGammasSkimmed10Halfmm*1.root /hdfs/user/lb8075/KDEGenerator/GammasOutput/generatedGammas3nSkimmed10Halfmm*01.root /hdfs/user/lb8075/KDEGenerator/GammasOutput/generatedGammas3nSkimmed10Halfmm1.root\n",
      "hadd /scratch/lb8075/KDEGenerator/GammaOutput/generatedGammasSkimmed10Halfmm*2.root /hdfs/user/lb8075/KDEGenerator/GammasOutput/generatedGammas3nSkimmed10Halfmm*02.root /hdfs/user/lb8075/KDEGenerator/GammasOutput/generatedGammas3nSkimmed10Halfmm2.root\n",
      "hadd /scratch/lb8075/KDEGenerator/GammaOutput/generatedGammasSkimmed10Halfmm*3.root /hdfs/user/lb8075/KDEGenerator/GammasOutput/generatedGammas3nSkimmed10Halfmm*03.root /hdfs/user/lb8075/KDEGenerator/GammasOutput/generatedGammas3nSkimmed10Halfmm3.root\n",
      "hadd /scratch/lb8075/KDEGenerator/GammaOutput/generatedGammasSkimmed10Halfmm*4.root /hdfs/user/lb8075/KDEGenerator/GammasOutput/generatedGammas3nSkimmed10Halfmm*04.root /hdfs/user/lb8075/KDEGenerator/GammasOutput/generatedGammas3nSkimmed10Halfmm4.root\n",
      "hadd /scratch/lb8075/KDEGenerator/GammaOutput/generatedGammasSkimmed10Halfmm*5.root /hdfs/user/lb8075/KDEGenerator/GammasOutput/generatedGammas3nSkimmed10Halfmm*05.root /hdfs/user/lb8075/KDEGenerator/GammasOutput/generatedGammas3nSkimmed10Halfmm5.root\n",
      "hadd /scratch/lb8075/KDEGenerator/GammaOutput/generatedGammasSkimmed10Halfmm*6.root /hdfs/user/lb8075/KDEGenerator/GammasOutput/generatedGammas3nSkimmed10Halfmm*06.root /hdfs/user/lb8075/KDEGenerator/GammasOutput/generatedGammas3nSkimmed10Halfmm6.root\n",
      "hadd /scratch/lb8075/KDEGenerator/GammaOutput/generatedGammasSkimmed10Halfmm*7.root /hdfs/user/lb8075/KDEGenerator/GammasOutput/generatedGammas3nSkimmed10Halfmm*07.root /hdfs/user/lb8075/KDEGenerator/GammasOutput/generatedGammas3nSkimmed10Halfmm7.root\n",
      "hadd /scratch/lb8075/KDEGenerator/GammaOutput/generatedGammasSkimmed10Halfmm*8.root /hdfs/user/lb8075/KDEGenerator/GammasOutput/generatedGammas3nSkimmed10Halfmm*08.root /hdfs/user/lb8075/KDEGenerator/GammasOutput/generatedGammas3nSkimmed10Halfmm8.root\n",
      "hadd /scratch/lb8075/KDEGenerator/GammaOutput/generatedGammasSkimmed10Halfmm*9.root /hdfs/user/lb8075/KDEGenerator/GammasOutput/generatedGammas3nSkimmed10Halfmm*09.root /hdfs/user/lb8075/KDEGenerator/GammasOutput/generatedGammas3nSkimmed10Halfmm9.root\n"
     ]
    }
   ],
   "source": [
    "i=0\n",
    "stringt=\"hadd /scratch/lb8075/KDEGenerator/GammaOutput/generatedGammasSkimmed10Halfmm*100\"+str(i)+\".root\"\n",
    "stringt+=\" /hdfs/user/lb8075/KDEGenerator/GammasOutput/generatedGammas3nSkimmed10Halfmm*0\"+str(i)+\".root\"\n",
    "print(stringt)\n",
    "\n",
    "for i in range(1,10):\n",
    "    stringt=\"hadd /scratch/lb8075/KDEGenerator/GammaOutput/generatedGammasSkimmed10Halfmm*\"+str(i)+\".root\"\n",
    "    stringt+=\" /hdfs/user/lb8075/KDEGenerator/GammasOutput/generatedGammas3nSkimmed10Halfmm*0\"+str(i)+\".root\"\n",
    "    stringt+=\" /hdfs/user/lb8075/KDEGenerator/GammasOutput/generatedGammas3nSkimmed10Halfmm\"+str(i)+\".root\"\n",
    "    print(stringt)\n"
   ]
  },
  {
   "cell_type": "code",
   "execution_count": 1,
   "metadata": {},
   "outputs": [
    {
     "name": "stdout",
     "output_type": "stream",
     "text": [
      "hadd /scratch/lb8075/KDEGenerator/GammaOutput/generatedGammasSkimmed10Halfmm*50.root /hdfs/user/lb8075/KDEGenerator/GammasOutput/generatedGammas3nSkimmed10Halfmm*50.root\n",
      "hadd /scratch/lb8075/KDEGenerator/GammaOutput/generatedGammasSkimmed10Halfmm*51.root /hdfs/user/lb8075/KDEGenerator/GammasOutput/generatedGammas3nSkimmed10Halfmm*51.root\n",
      "hadd /scratch/lb8075/KDEGenerator/GammaOutput/generatedGammasSkimmed10Halfmm*52.root /hdfs/user/lb8075/KDEGenerator/GammasOutput/generatedGammas3nSkimmed10Halfmm*52.root\n",
      "hadd /scratch/lb8075/KDEGenerator/GammaOutput/generatedGammasSkimmed10Halfmm*53.root /hdfs/user/lb8075/KDEGenerator/GammasOutput/generatedGammas3nSkimmed10Halfmm*53.root\n",
      "hadd /scratch/lb8075/KDEGenerator/GammaOutput/generatedGammasSkimmed10Halfmm*54.root /hdfs/user/lb8075/KDEGenerator/GammasOutput/generatedGammas3nSkimmed10Halfmm*54.root\n",
      "hadd /scratch/lb8075/KDEGenerator/GammaOutput/generatedGammasSkimmed10Halfmm*55.root /hdfs/user/lb8075/KDEGenerator/GammasOutput/generatedGammas3nSkimmed10Halfmm*55.root\n",
      "hadd /scratch/lb8075/KDEGenerator/GammaOutput/generatedGammasSkimmed10Halfmm*56.root /hdfs/user/lb8075/KDEGenerator/GammasOutput/generatedGammas3nSkimmed10Halfmm*56.root\n",
      "hadd /scratch/lb8075/KDEGenerator/GammaOutput/generatedGammasSkimmed10Halfmm*57.root /hdfs/user/lb8075/KDEGenerator/GammasOutput/generatedGammas3nSkimmed10Halfmm*57.root\n",
      "hadd /scratch/lb8075/KDEGenerator/GammaOutput/generatedGammasSkimmed10Halfmm*58.root /hdfs/user/lb8075/KDEGenerator/GammasOutput/generatedGammas3nSkimmed10Halfmm*58.root\n",
      "hadd /scratch/lb8075/KDEGenerator/GammaOutput/generatedGammasSkimmed10Halfmm*59.root /hdfs/user/lb8075/KDEGenerator/GammasOutput/generatedGammas3nSkimmed10Halfmm*59.root\n",
      "hadd /scratch/lb8075/KDEGenerator/GammaOutput/generatedGammasSkimmed10Halfmm*60.root /hdfs/user/lb8075/KDEGenerator/GammasOutput/generatedGammas3nSkimmed10Halfmm*60.root\n",
      "hadd /scratch/lb8075/KDEGenerator/GammaOutput/generatedGammasSkimmed10Halfmm*61.root /hdfs/user/lb8075/KDEGenerator/GammasOutput/generatedGammas3nSkimmed10Halfmm*61.root\n",
      "hadd /scratch/lb8075/KDEGenerator/GammaOutput/generatedGammasSkimmed10Halfmm*62.root /hdfs/user/lb8075/KDEGenerator/GammasOutput/generatedGammas3nSkimmed10Halfmm*62.root\n",
      "hadd /scratch/lb8075/KDEGenerator/GammaOutput/generatedGammasSkimmed10Halfmm*63.root /hdfs/user/lb8075/KDEGenerator/GammasOutput/generatedGammas3nSkimmed10Halfmm*63.root\n",
      "hadd /scratch/lb8075/KDEGenerator/GammaOutput/generatedGammasSkimmed10Halfmm*64.root /hdfs/user/lb8075/KDEGenerator/GammasOutput/generatedGammas3nSkimmed10Halfmm*64.root\n",
      "hadd /scratch/lb8075/KDEGenerator/GammaOutput/generatedGammasSkimmed10Halfmm*65.root /hdfs/user/lb8075/KDEGenerator/GammasOutput/generatedGammas3nSkimmed10Halfmm*65.root\n",
      "hadd /scratch/lb8075/KDEGenerator/GammaOutput/generatedGammasSkimmed10Halfmm*66.root /hdfs/user/lb8075/KDEGenerator/GammasOutput/generatedGammas3nSkimmed10Halfmm*66.root\n",
      "hadd /scratch/lb8075/KDEGenerator/GammaOutput/generatedGammasSkimmed10Halfmm*67.root /hdfs/user/lb8075/KDEGenerator/GammasOutput/generatedGammas3nSkimmed10Halfmm*67.root\n",
      "hadd /scratch/lb8075/KDEGenerator/GammaOutput/generatedGammasSkimmed10Halfmm*68.root /hdfs/user/lb8075/KDEGenerator/GammasOutput/generatedGammas3nSkimmed10Halfmm*68.root\n",
      "hadd /scratch/lb8075/KDEGenerator/GammaOutput/generatedGammasSkimmed10Halfmm*69.root /hdfs/user/lb8075/KDEGenerator/GammasOutput/generatedGammas3nSkimmed10Halfmm*69.root\n",
      "hadd /scratch/lb8075/KDEGenerator/GammaOutput/generatedGammasSkimmed10Halfmm*70.root /hdfs/user/lb8075/KDEGenerator/GammasOutput/generatedGammas3nSkimmed10Halfmm*70.root\n",
      "hadd /scratch/lb8075/KDEGenerator/GammaOutput/generatedGammasSkimmed10Halfmm*71.root /hdfs/user/lb8075/KDEGenerator/GammasOutput/generatedGammas3nSkimmed10Halfmm*71.root\n",
      "hadd /scratch/lb8075/KDEGenerator/GammaOutput/generatedGammasSkimmed10Halfmm*72.root /hdfs/user/lb8075/KDEGenerator/GammasOutput/generatedGammas3nSkimmed10Halfmm*72.root\n",
      "hadd /scratch/lb8075/KDEGenerator/GammaOutput/generatedGammasSkimmed10Halfmm*73.root /hdfs/user/lb8075/KDEGenerator/GammasOutput/generatedGammas3nSkimmed10Halfmm*73.root\n",
      "hadd /scratch/lb8075/KDEGenerator/GammaOutput/generatedGammasSkimmed10Halfmm*74.root /hdfs/user/lb8075/KDEGenerator/GammasOutput/generatedGammas3nSkimmed10Halfmm*74.root\n",
      "hadd /scratch/lb8075/KDEGenerator/GammaOutput/generatedGammasSkimmed10Halfmm*75.root /hdfs/user/lb8075/KDEGenerator/GammasOutput/generatedGammas3nSkimmed10Halfmm*75.root\n",
      "hadd /scratch/lb8075/KDEGenerator/GammaOutput/generatedGammasSkimmed10Halfmm*76.root /hdfs/user/lb8075/KDEGenerator/GammasOutput/generatedGammas3nSkimmed10Halfmm*76.root\n",
      "hadd /scratch/lb8075/KDEGenerator/GammaOutput/generatedGammasSkimmed10Halfmm*77.root /hdfs/user/lb8075/KDEGenerator/GammasOutput/generatedGammas3nSkimmed10Halfmm*77.root\n",
      "hadd /scratch/lb8075/KDEGenerator/GammaOutput/generatedGammasSkimmed10Halfmm*78.root /hdfs/user/lb8075/KDEGenerator/GammasOutput/generatedGammas3nSkimmed10Halfmm*78.root\n",
      "hadd /scratch/lb8075/KDEGenerator/GammaOutput/generatedGammasSkimmed10Halfmm*79.root /hdfs/user/lb8075/KDEGenerator/GammasOutput/generatedGammas3nSkimmed10Halfmm*79.root\n",
      "hadd /scratch/lb8075/KDEGenerator/GammaOutput/generatedGammasSkimmed10Halfmm*80.root /hdfs/user/lb8075/KDEGenerator/GammasOutput/generatedGammas3nSkimmed10Halfmm*80.root\n",
      "hadd /scratch/lb8075/KDEGenerator/GammaOutput/generatedGammasSkimmed10Halfmm*81.root /hdfs/user/lb8075/KDEGenerator/GammasOutput/generatedGammas3nSkimmed10Halfmm*81.root\n",
      "hadd /scratch/lb8075/KDEGenerator/GammaOutput/generatedGammasSkimmed10Halfmm*82.root /hdfs/user/lb8075/KDEGenerator/GammasOutput/generatedGammas3nSkimmed10Halfmm*82.root\n",
      "hadd /scratch/lb8075/KDEGenerator/GammaOutput/generatedGammasSkimmed10Halfmm*83.root /hdfs/user/lb8075/KDEGenerator/GammasOutput/generatedGammas3nSkimmed10Halfmm*83.root\n",
      "hadd /scratch/lb8075/KDEGenerator/GammaOutput/generatedGammasSkimmed10Halfmm*84.root /hdfs/user/lb8075/KDEGenerator/GammasOutput/generatedGammas3nSkimmed10Halfmm*84.root\n",
      "hadd /scratch/lb8075/KDEGenerator/GammaOutput/generatedGammasSkimmed10Halfmm*85.root /hdfs/user/lb8075/KDEGenerator/GammasOutput/generatedGammas3nSkimmed10Halfmm*85.root\n",
      "hadd /scratch/lb8075/KDEGenerator/GammaOutput/generatedGammasSkimmed10Halfmm*86.root /hdfs/user/lb8075/KDEGenerator/GammasOutput/generatedGammas3nSkimmed10Halfmm*86.root\n",
      "hadd /scratch/lb8075/KDEGenerator/GammaOutput/generatedGammasSkimmed10Halfmm*87.root /hdfs/user/lb8075/KDEGenerator/GammasOutput/generatedGammas3nSkimmed10Halfmm*87.root\n",
      "hadd /scratch/lb8075/KDEGenerator/GammaOutput/generatedGammasSkimmed10Halfmm*88.root /hdfs/user/lb8075/KDEGenerator/GammasOutput/generatedGammas3nSkimmed10Halfmm*88.root\n",
      "hadd /scratch/lb8075/KDEGenerator/GammaOutput/generatedGammasSkimmed10Halfmm*89.root /hdfs/user/lb8075/KDEGenerator/GammasOutput/generatedGammas3nSkimmed10Halfmm*89.root\n",
      "hadd /scratch/lb8075/KDEGenerator/GammaOutput/generatedGammasSkimmed10Halfmm*90.root /hdfs/user/lb8075/KDEGenerator/GammasOutput/generatedGammas3nSkimmed10Halfmm*90.root\n",
      "hadd /scratch/lb8075/KDEGenerator/GammaOutput/generatedGammasSkimmed10Halfmm*91.root /hdfs/user/lb8075/KDEGenerator/GammasOutput/generatedGammas3nSkimmed10Halfmm*91.root\n",
      "hadd /scratch/lb8075/KDEGenerator/GammaOutput/generatedGammasSkimmed10Halfmm*92.root /hdfs/user/lb8075/KDEGenerator/GammasOutput/generatedGammas3nSkimmed10Halfmm*92.root\n",
      "hadd /scratch/lb8075/KDEGenerator/GammaOutput/generatedGammasSkimmed10Halfmm*93.root /hdfs/user/lb8075/KDEGenerator/GammasOutput/generatedGammas3nSkimmed10Halfmm*93.root\n",
      "hadd /scratch/lb8075/KDEGenerator/GammaOutput/generatedGammasSkimmed10Halfmm*94.root /hdfs/user/lb8075/KDEGenerator/GammasOutput/generatedGammas3nSkimmed10Halfmm*94.root\n",
      "hadd /scratch/lb8075/KDEGenerator/GammaOutput/generatedGammasSkimmed10Halfmm*95.root /hdfs/user/lb8075/KDEGenerator/GammasOutput/generatedGammas3nSkimmed10Halfmm*95.root\n",
      "hadd /scratch/lb8075/KDEGenerator/GammaOutput/generatedGammasSkimmed10Halfmm*96.root /hdfs/user/lb8075/KDEGenerator/GammasOutput/generatedGammas3nSkimmed10Halfmm*96.root\n",
      "hadd /scratch/lb8075/KDEGenerator/GammaOutput/generatedGammasSkimmed10Halfmm*97.root /hdfs/user/lb8075/KDEGenerator/GammasOutput/generatedGammas3nSkimmed10Halfmm*97.root\n",
      "hadd /scratch/lb8075/KDEGenerator/GammaOutput/generatedGammasSkimmed10Halfmm*98.root /hdfs/user/lb8075/KDEGenerator/GammasOutput/generatedGammas3nSkimmed10Halfmm*98.root\n",
      "hadd /scratch/lb8075/KDEGenerator/GammaOutput/generatedGammasSkimmed10Halfmm*99.root /hdfs/user/lb8075/KDEGenerator/GammasOutput/generatedGammas3nSkimmed10Halfmm*99.root\n"
     ]
    }
   ],
   "source": [
    "for i in range(50,100):\n",
    "    stringt=\"hadd /scratch/lb8075/KDEGenerator/GammaOutput/generatedGammasSkimmed10Halfmm*\"+str(i)+\".root\"\n",
    "    stringt+=\" /hdfs/user/lb8075/KDEGenerator/GammasOutput/generatedGammas3nSkimmed10Halfmm*\"+str(i)+\".root\"\n",
    "    print(stringt)"
   ]
  },
  {
   "cell_type": "code",
   "execution_count": null,
   "metadata": {},
   "outputs": [],
   "source": []
  }
 ],
 "metadata": {
  "kernelspec": {
   "display_name": "Python 3",
   "language": "python",
   "name": "python3"
  },
  "language_info": {
   "codemirror_mode": {
    "name": "ipython",
    "version": 3
   },
   "file_extension": ".py",
   "mimetype": "text/x-python",
   "name": "python",
   "nbconvert_exporter": "python",
   "pygments_lexer": "ipython3",
   "version": "3.8.5"
  }
 },
 "nbformat": 4,
 "nbformat_minor": 2
}
