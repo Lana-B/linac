{
 "cells": [
  {
   "cell_type": "code",
   "execution_count": 2,
   "metadata": {},
   "outputs": [],
   "source": [
    "import numpy as np\n",
    "from matplotlib import pylab as plt\n",
    "import pyperclip as clip\n",
    "import subprocess \n",
    "\n",
    "\n"
   ]
  },
  {
   "cell_type": "code",
   "execution_count": 3,
   "metadata": {},
   "outputs": [],
   "source": [
    "points_on_leaf=np.arange(0,79,5)"
   ]
  },
  {
   "cell_type": "code",
   "execution_count": 4,
   "metadata": {},
   "outputs": [],
   "source": [
    "lengths_at_points=np.array([160.5,162,163.1,164.3,165.2,165.8,166.2,166.6,166.9,167.1,166.9,166.5,166.1,165.4,164.5,163.5])\n",
    "lengths_at_points=np.flip(lengths_at_points)"
   ]
  },
  {
   "cell_type": "code",
   "execution_count": 5,
   "metadata": {},
   "outputs": [
    {
     "data": {
      "text/plain": [
       "(20, 180)"
      ]
     },
     "execution_count": 5,
     "metadata": {},
     "output_type": "execute_result"
    },
    {
     "data": {
      "image/png": "[encoded data removed]",
      "text/plain": [
       "<Figure size 432x1008 with 1 Axes>"
      ]
     },
     "metadata": {
      "needs_background": "light"
     },
     "output_type": "display_data"
    }
   ],
   "source": [
    "fig,ax=plt.subplots(1,1,figsize=(6,14))\n",
    "plt.plot(points_on_leaf,lengths_at_points)\n",
    "plt.ylim(20,180)"
   ]
  },
  {
   "cell_type": "code",
   "execution_count": 6,
   "metadata": {},
   "outputs": [
    {
     "name": "stdout",
     "output_type": "stream",
     "text": [
      "0   0   0 1 0   0 0 163.5\n",
      "0   0   0 1 0   0 5 164.5\n",
      "0   0   0 1 0   0 10 165.4\n",
      "0   0   0 1 0   0 15 166.1\n",
      "0   0   0 1 0   0 20 166.5\n",
      "0   0   0 1 0   0 25 166.9\n",
      "0   0   0 1 0   0 30 167.1\n",
      "0   0   0 1 0   0 35 166.9\n",
      "0   0   0 1 0   0 40 166.6\n",
      "0   0   0 1 0   0 45 166.2\n",
      "0   0   0 1 0   0 50 165.8\n",
      "0   0   0 1 0   0 55 165.2\n",
      "0   0   0 1 0   0 60 164.3\n",
      "0   0   0 1 0   0 65 163.1\n",
      "0   0   0 1 0   0 70 162.0\n",
      "0   0   0 1 0   0 75 160.5\n"
     ]
    }
   ],
   "source": [
    "for ij,point in enumerate(points_on_leaf):\n",
    "    print(\"0   0   0 1 0   0 \"+str(point)+\" \"+str(lengths_at_points[ij]))"
   ]
  },
  {
   "cell_type": "code",
   "execution_count": 1,
   "metadata": {},
   "outputs": [
    {
     "ename": "NameError",
     "evalue": "name 'points_on_leaf' is not defined",
     "output_type": "error",
     "traceback": [
      "\u001b[0;31m---------------------------------------------------------------------------\u001b[0m",
      "\u001b[0;31mNameError\u001b[0m                                 Traceback (most recent call last)",
      "\u001b[0;32m<ipython-input-1-00ac32eebc31>\u001b[0m in \u001b[0;36m<module>\u001b[0;34m\u001b[0m\n\u001b[1;32m      3\u001b[0m \u001b[0mhalf_length_x0\u001b[0m\u001b[0;34m=\u001b[0m\u001b[0;36m1\u001b[0m\u001b[0;34m\u001b[0m\u001b[0;34m\u001b[0m\u001b[0m\n\u001b[1;32m      4\u001b[0m \u001b[0mtotal_string\u001b[0m\u001b[0;34m=\u001b[0m\u001b[0;34m\"\"\u001b[0m\u001b[0;34m\u001b[0m\u001b[0;34m\u001b[0m\u001b[0m\n\u001b[0;32m----> 5\u001b[0;31m \u001b[0;32mfor\u001b[0m \u001b[0mij\u001b[0m \u001b[0;32min\u001b[0m \u001b[0mrange\u001b[0m\u001b[0;34m(\u001b[0m\u001b[0;36m0\u001b[0m\u001b[0;34m,\u001b[0m\u001b[0mlen\u001b[0m\u001b[0;34m(\u001b[0m\u001b[0mpoints_on_leaf\u001b[0m\u001b[0;34m)\u001b[0m\u001b[0;34m-\u001b[0m\u001b[0;36m1\u001b[0m\u001b[0;34m)\u001b[0m\u001b[0;34m:\u001b[0m\u001b[0;34m\u001b[0m\u001b[0;34m\u001b[0m\u001b[0m\n\u001b[0m\u001b[1;32m      6\u001b[0m     \u001b[0mmlc_string\u001b[0m\u001b[0;34m=\u001b[0m\u001b[0;34m\"mlc_y\"\u001b[0m\u001b[0;34m+\u001b[0m\u001b[0mstr\u001b[0m\u001b[0;34m(\u001b[0m\u001b[0mij\u001b[0m\u001b[0;34m)\u001b[0m\u001b[0;34m\u001b[0m\u001b[0;34m\u001b[0m\u001b[0m\n\u001b[1;32m      7\u001b[0m     \u001b[0;32mif\u001b[0m \u001b[0mlengths_at_points\u001b[0m\u001b[0;34m[\u001b[0m\u001b[0mij\u001b[0m\u001b[0;34m]\u001b[0m\u001b[0;34m<\u001b[0m\u001b[0mlengths_at_points\u001b[0m\u001b[0;34m[\u001b[0m\u001b[0mij\u001b[0m\u001b[0;34m+\u001b[0m\u001b[0;36m1\u001b[0m\u001b[0;34m]\u001b[0m\u001b[0;34m:\u001b[0m\u001b[0;34m\u001b[0m\u001b[0;34m\u001b[0m\u001b[0m\n",
      "\u001b[0;31mNameError\u001b[0m: name 'points_on_leaf' is not defined"
     ]
    }
   ],
   "source": [
    "narrow_x0=1\n",
    "wide_x0=1\n",
    "half_length_x0=1\n",
    "total_string=\"\"\n",
    "for ij in range(0,len(points_on_leaf)-1):\n",
    "    mlc_string=\"mlc_y\"+str(ij)\n",
    "    if lengths_at_points[ij]<lengths_at_points[ij+1]:\n",
    "        narrow_x=lengths_at_points[ij]\n",
    "        wide_x=lengths_at_points[ij+1]\n",
    "    else:\n",
    "        wide_x=lengths_at_points[ij+1]\n",
    "        narrow_x=lengths_at_points[ij]\n",
    "        \n",
    "    if ij==0:\n",
    "        narrow_x0=narrow_x\n",
    "        wide_x0=wide_x\n",
    "        half_length_x0=wide_x0+narrow_x0/2\n",
    "        \n",
    "    half_length_x=(wide_x+narrow_x)/4\n",
    "    \n",
    "    translation_x=30+half_length_x\n",
    "    translation_z=30-ij*5\n",
    "    stringthing=\"/gate/mlc_leaf/daughters/name                      \"+mlc_string+\" \\n\"+\\\n",
    "    \"/gate/mlc_leaf/daughters/insert                      wedge \\n\"+\\\n",
    "    \"/gate/\"+mlc_string+\"/setMaterial                  Tungsten \\n\"+\\\n",
    "    \"/gate/\"+mlc_string+\"/geometry/setNarrowerXLength  \"+str(narrow_x)+\" mm \\n\"+\\\n",
    "    \"/gate/\"+mlc_string+\"/geometry/setXLength          \"+str(wide_x)+\" mm  \\n\"+\\\n",
    "    \"/gate/\"+mlc_string+\"/geometry/setYLength          5 mm \\n\"+\\\n",
    "    \"/gate/\"+mlc_string+\"/geometry/setZLength          3 mm \\n\"+\\\n",
    "    \"/gate/\"+mlc_string+\"/placement/setTranslation     \"+str(translation_x)+\" 50 \"+str(translation_z)+\" mm \\n\"+\\\n",
    "    \"/gate/\"+mlc_string+\"/placement/setRotationAxis    1 0 0  \\n\"+\\\n",
    "    \"/gate/\"+mlc_string+\"/placement/setRotationAngle   90 deg \\n\"+\\\n",
    "    \"/gate/\"+mlc_string+\"/vis/setVisible               1 \\n\"+\\\n",
    "    \"/gate/\"+mlc_string+\"/vis/setColor                 magenta \\n\"\n",
    "    total_string=total_string+stringthing\n",
    "print(total_string)\n",
    "subprocess.run(\"pbcopy\", universal_newlines=True, input=total_string)"
   ]
  },
  {
   "cell_type": "code",
   "execution_count": 26,
   "metadata": {},
   "outputs": [],
   "source": [
    "distance_for_scattering=6\n",
    "lengths_at_points2=lengths_at_points-distance_for_scattering\n",
    "#for making kill volumes inside leaf"
   ]
  },
  {
   "cell_type": "code",
   "execution_count": 28,
   "metadata": {
    "scrolled": true
   },
   "outputs": [
    {
     "name": "stdout",
     "output_type": "stream",
     "text": [
      "/gate/mlc_y0/daughters/name                      mlc_y0_kill \n",
      "/gate/mlc_y0/daughters/insert                      wedge \n",
      "/gate/mlc_y0_kill/setMaterial                  Tungsten \n",
      "/gate/mlc_y0_kill/geometry/setNarrowerXLength  157.5 mm \n",
      "/gate/mlc_y0_kill/geometry/setXLength          158.5 mm  \n",
      "/gate/mlc_y0_kill/geometry/setYLength          5 mm \n",
      "/gate/mlc_y0_kill/geometry/setZLength          3 mm \n",
      "/gate/mlc_y0_kill/placement/setTranslation     -3 0 0 mm \n",
      "/gate/mlc_y0_kill/vis/setVisible               1 \n",
      "/gate/mlc_y0_kill/vis/setColor                 white \n",
      "/gate/mlc_y1/daughters/name                      mlc_y1_kill \n",
      "/gate/mlc_y1/daughters/insert                      wedge \n",
      "/gate/mlc_y1_kill/setMaterial                  Tungsten \n",
      "/gate/mlc_y1_kill/geometry/setNarrowerXLength  158.5 mm \n",
      "/gate/mlc_y1_kill/geometry/setXLength          159.4 mm  \n",
      "/gate/mlc_y1_kill/geometry/setYLength          5 mm \n",
      "/gate/mlc_y1_kill/geometry/setZLength          3 mm \n",
      "/gate/mlc_y1_kill/placement/setTranslation     -3 0 0 mm \n",
      "/gate/mlc_y1_kill/vis/setVisible               1 \n",
      "/gate/mlc_y1_kill/vis/setColor                 white \n",
      "/gate/mlc_y2/daughters/name                      mlc_y2_kill \n",
      "/gate/mlc_y2/daughters/insert                      wedge \n",
      "/gate/mlc_y2_kill/setMaterial                  Tungsten \n",
      "/gate/mlc_y2_kill/geometry/setNarrowerXLength  159.4 mm \n",
      "/gate/mlc_y2_kill/geometry/setXLength          160.1 mm  \n",
      "/gate/mlc_y2_kill/geometry/setYLength          5 mm \n",
      "/gate/mlc_y2_kill/geometry/setZLength          3 mm \n",
      "/gate/mlc_y2_kill/placement/setTranslation     -3 0 0 mm \n",
      "/gate/mlc_y2_kill/vis/setVisible               1 \n",
      "/gate/mlc_y2_kill/vis/setColor                 white \n",
      "/gate/mlc_y3/daughters/name                      mlc_y3_kill \n",
      "/gate/mlc_y3/daughters/insert                      wedge \n",
      "/gate/mlc_y3_kill/setMaterial                  Tungsten \n",
      "/gate/mlc_y3_kill/geometry/setNarrowerXLength  160.1 mm \n",
      "/gate/mlc_y3_kill/geometry/setXLength          160.5 mm  \n",
      "/gate/mlc_y3_kill/geometry/setYLength          5 mm \n",
      "/gate/mlc_y3_kill/geometry/setZLength          3 mm \n",
      "/gate/mlc_y3_kill/placement/setTranslation     -3 0 0 mm \n",
      "/gate/mlc_y3_kill/vis/setVisible               1 \n",
      "/gate/mlc_y3_kill/vis/setColor                 white \n",
      "/gate/mlc_y4/daughters/name                      mlc_y4_kill \n",
      "/gate/mlc_y4/daughters/insert                      wedge \n",
      "/gate/mlc_y4_kill/setMaterial                  Tungsten \n",
      "/gate/mlc_y4_kill/geometry/setNarrowerXLength  160.5 mm \n",
      "/gate/mlc_y4_kill/geometry/setXLength          160.9 mm  \n",
      "/gate/mlc_y4_kill/geometry/setYLength          5 mm \n",
      "/gate/mlc_y4_kill/geometry/setZLength          3 mm \n",
      "/gate/mlc_y4_kill/placement/setTranslation     -3 0 0 mm \n",
      "/gate/mlc_y4_kill/vis/setVisible               1 \n",
      "/gate/mlc_y4_kill/vis/setColor                 white \n",
      "/gate/mlc_y5/daughters/name                      mlc_y5_kill \n",
      "/gate/mlc_y5/daughters/insert                      wedge \n",
      "/gate/mlc_y5_kill/setMaterial                  Tungsten \n",
      "/gate/mlc_y5_kill/geometry/setNarrowerXLength  160.9 mm \n",
      "/gate/mlc_y5_kill/geometry/setXLength          161.1 mm  \n",
      "/gate/mlc_y5_kill/geometry/setYLength          5 mm \n",
      "/gate/mlc_y5_kill/geometry/setZLength          3 mm \n",
      "/gate/mlc_y5_kill/placement/setTranslation     -3 0 0 mm \n",
      "/gate/mlc_y5_kill/vis/setVisible               1 \n",
      "/gate/mlc_y5_kill/vis/setColor                 white \n",
      "/gate/mlc_y6/daughters/name                      mlc_y6_kill \n",
      "/gate/mlc_y6/daughters/insert                      wedge \n",
      "/gate/mlc_y6_kill/setMaterial                  Tungsten \n",
      "/gate/mlc_y6_kill/geometry/setNarrowerXLength  161.1 mm \n",
      "/gate/mlc_y6_kill/geometry/setXLength          160.9 mm  \n",
      "/gate/mlc_y6_kill/geometry/setYLength          5 mm \n",
      "/gate/mlc_y6_kill/geometry/setZLength          3 mm \n",
      "/gate/mlc_y6_kill/placement/setTranslation     -3 0 0 mm \n",
      "/gate/mlc_y6_kill/vis/setVisible               1 \n",
      "/gate/mlc_y6_kill/vis/setColor                 white \n",
      "/gate/mlc_y7/daughters/name                      mlc_y7_kill \n",
      "/gate/mlc_y7/daughters/insert                      wedge \n",
      "/gate/mlc_y7_kill/setMaterial                  Tungsten \n",
      "/gate/mlc_y7_kill/geometry/setNarrowerXLength  160.9 mm \n",
      "/gate/mlc_y7_kill/geometry/setXLength          160.6 mm  \n",
      "/gate/mlc_y7_kill/geometry/setYLength          5 mm \n",
      "/gate/mlc_y7_kill/geometry/setZLength          3 mm \n",
      "/gate/mlc_y7_kill/placement/setTranslation     -3 0 0 mm \n",
      "/gate/mlc_y7_kill/vis/setVisible               1 \n",
      "/gate/mlc_y7_kill/vis/setColor                 white \n",
      "/gate/mlc_y8/daughters/name                      mlc_y8_kill \n",
      "/gate/mlc_y8/daughters/insert                      wedge \n",
      "/gate/mlc_y8_kill/setMaterial                  Tungsten \n",
      "/gate/mlc_y8_kill/geometry/setNarrowerXLength  160.6 mm \n",
      "/gate/mlc_y8_kill/geometry/setXLength          160.2 mm  \n",
      "/gate/mlc_y8_kill/geometry/setYLength          5 mm \n",
      "/gate/mlc_y8_kill/geometry/setZLength          3 mm \n",
      "/gate/mlc_y8_kill/placement/setTranslation     -3 0 0 mm \n",
      "/gate/mlc_y8_kill/vis/setVisible               1 \n",
      "/gate/mlc_y8_kill/vis/setColor                 white \n",
      "/gate/mlc_y9/daughters/name                      mlc_y9_kill \n",
      "/gate/mlc_y9/daughters/insert                      wedge \n",
      "/gate/mlc_y9_kill/setMaterial                  Tungsten \n",
      "/gate/mlc_y9_kill/geometry/setNarrowerXLength  160.2 mm \n",
      "/gate/mlc_y9_kill/geometry/setXLength          159.8 mm  \n",
      "/gate/mlc_y9_kill/geometry/setYLength          5 mm \n",
      "/gate/mlc_y9_kill/geometry/setZLength          3 mm \n",
      "/gate/mlc_y9_kill/placement/setTranslation     -3 0 0 mm \n",
      "/gate/mlc_y9_kill/vis/setVisible               1 \n",
      "/gate/mlc_y9_kill/vis/setColor                 white \n",
      "/gate/mlc_y10/daughters/name                      mlc_y10_kill \n",
      "/gate/mlc_y10/daughters/insert                      wedge \n",
      "/gate/mlc_y10_kill/setMaterial                  Tungsten \n",
      "/gate/mlc_y10_kill/geometry/setNarrowerXLength  159.8 mm \n",
      "/gate/mlc_y10_kill/geometry/setXLength          159.2 mm  \n",
      "/gate/mlc_y10_kill/geometry/setYLength          5 mm \n",
      "/gate/mlc_y10_kill/geometry/setZLength          3 mm \n",
      "/gate/mlc_y10_kill/placement/setTranslation     -3 0 0 mm \n",
      "/gate/mlc_y10_kill/vis/setVisible               1 \n",
      "/gate/mlc_y10_kill/vis/setColor                 white \n",
      "/gate/mlc_y11/daughters/name                      mlc_y11_kill \n",
      "/gate/mlc_y11/daughters/insert                      wedge \n",
      "/gate/mlc_y11_kill/setMaterial                  Tungsten \n",
      "/gate/mlc_y11_kill/geometry/setNarrowerXLength  159.2 mm \n",
      "/gate/mlc_y11_kill/geometry/setXLength          158.3 mm  \n",
      "/gate/mlc_y11_kill/geometry/setYLength          5 mm \n",
      "/gate/mlc_y11_kill/geometry/setZLength          3 mm \n",
      "/gate/mlc_y11_kill/placement/setTranslation     -3 0 0 mm \n",
      "/gate/mlc_y11_kill/vis/setVisible               1 \n",
      "/gate/mlc_y11_kill/vis/setColor                 white \n",
      "/gate/mlc_y12/daughters/name                      mlc_y12_kill \n",
      "/gate/mlc_y12/daughters/insert                      wedge \n",
      "/gate/mlc_y12_kill/setMaterial                  Tungsten \n",
      "/gate/mlc_y12_kill/geometry/setNarrowerXLength  158.3 mm \n",
      "/gate/mlc_y12_kill/geometry/setXLength          157.1 mm  \n",
      "/gate/mlc_y12_kill/geometry/setYLength          5 mm \n",
      "/gate/mlc_y12_kill/geometry/setZLength          3 mm \n",
      "/gate/mlc_y12_kill/placement/setTranslation     -3 0 0 mm \n",
      "/gate/mlc_y12_kill/vis/setVisible               1 \n",
      "/gate/mlc_y12_kill/vis/setColor                 white \n",
      "/gate/mlc_y13/daughters/name                      mlc_y13_kill \n",
      "/gate/mlc_y13/daughters/insert                      wedge \n",
      "/gate/mlc_y13_kill/setMaterial                  Tungsten \n",
      "/gate/mlc_y13_kill/geometry/setNarrowerXLength  157.1 mm \n",
      "/gate/mlc_y13_kill/geometry/setXLength          156.0 mm  \n",
      "/gate/mlc_y13_kill/geometry/setYLength          5 mm \n",
      "/gate/mlc_y13_kill/geometry/setZLength          3 mm \n",
      "/gate/mlc_y13_kill/placement/setTranslation     -3 0 0 mm \n",
      "/gate/mlc_y13_kill/vis/setVisible               1 \n",
      "/gate/mlc_y13_kill/vis/setColor                 white \n",
      "/gate/mlc_y14/daughters/name                      mlc_y14_kill \n",
      "/gate/mlc_y14/daughters/insert                      wedge \n",
      "/gate/mlc_y14_kill/setMaterial                  Tungsten \n",
      "/gate/mlc_y14_kill/geometry/setNarrowerXLength  156.0 mm \n",
      "/gate/mlc_y14_kill/geometry/setXLength          154.5 mm  \n",
      "/gate/mlc_y14_kill/geometry/setYLength          5 mm \n",
      "/gate/mlc_y14_kill/geometry/setZLength          3 mm \n",
      "/gate/mlc_y14_kill/placement/setTranslation     -3 0 0 mm \n",
      "/gate/mlc_y14_kill/vis/setVisible               1 \n",
      "/gate/mlc_y14_kill/vis/setColor                 white \n",
      "\n"
     ]
    },
    {
     "data": {
      "text/plain": [
       "CompletedProcess(args='pbcopy', returncode=0)"
      ]
     },
     "execution_count": 28,
     "metadata": {},
     "output_type": "execute_result"
    }
   ],
   "source": [
    "narrow_x0=1\n",
    "wide_x0=1\n",
    "half_length_x0=1\n",
    "total_string=\"\"\n",
    "kill_string=\"/gate/actor/addActor   KillActor                         MyActor \\n\"+\\\n",
    "\"/gate/actor/MyActor/save                                 MyOutputFile.txt \\n\"+\\\n",
    "\"/gate/actor/MyActor/attachTo                             mlc_leaf \\n\"+\\\n",
    "\"/gate/actor/MyActor/addFilter                            volumeFilter \\n\"\n",
    "for ij in range(0,len(points_on_leaf)-1):\n",
    "    mlc_string=\"mlc_y\"+str(ij)\n",
    "    mlc_string_kill=\"mlc_y\"+str(ij)+\"_kill\"\n",
    "    if lengths_at_points[ij]<lengths_at_points2[ij+1]:\n",
    "        narrow_x=lengths_at_points2[ij]\n",
    "        wide_x=lengths_at_points2[ij+1]\n",
    "    else:\n",
    "        wide_x=lengths_at_points2[ij+1]\n",
    "        narrow_x=lengths_at_points2[ij]\n",
    "        \n",
    "    if ij==0:\n",
    "        narrow_x0=narrow_x\n",
    "        wide_x0=wide_x\n",
    "        half_length_x0=wide_x0+narrow_x0/2\n",
    "        \n",
    "    half_length_x=(wide_x+narrow_x)/4\n",
    "    \n",
    "    translation_x=-int(distance_for_scattering/2)\n",
    "    translation_z=0\n",
    "    stringthing=\"/gate/\"+mlc_string+\"/daughters/name                      \"+mlc_string_kill+\" \\n\"+\\\n",
    "    \"/gate/\"+mlc_string+\"/daughters/insert                      wedge \\n\"+\\\n",
    "    \"/gate/\"+mlc_string_kill+\"/setMaterial                  Tungsten \\n\"+\\\n",
    "    \"/gate/\"+mlc_string_kill+\"/geometry/setNarrowerXLength  \"+str(narrow_x)+\" mm \\n\"+\\\n",
    "    \"/gate/\"+mlc_string_kill+\"/geometry/setXLength          \"+str(wide_x)+\" mm  \\n\"+\\\n",
    "    \"/gate/\"+mlc_string_kill+\"/geometry/setYLength          5 mm \\n\"+\\\n",
    "    \"/gate/\"+mlc_string_kill+\"/geometry/setZLength          3 mm \\n\"+\\\n",
    "    \"/gate/\"+mlc_string_kill+\"/placement/setTranslation     \"+str(translation_x)+\" 0 \"+str(translation_z)+\" mm \\n\"+\\\n",
    "    \"/gate/\"+mlc_string_kill+\"/vis/setVisible               1 \\n\"+\\\n",
    "    \"/gate/\"+mlc_string_kill+\"/vis/setColor                 white \\n\"\n",
    "    total_string=total_string+stringthing\n",
    "    stringthingkill=\"/gate/actor/MyActor/volumeFilter/addVolume \"+mlc_string+\"\\n\"\n",
    "    kill_string=kill_string+stringthingkill\n",
    "print(total_string)\n",
    "\n",
    "subprocess.run(\"pbcopy\", universal_newlines=True, input=total_string)"
   ]
  },
  {
   "cell_type": "code",
   "execution_count": 21,
   "metadata": {},
   "outputs": [
    {
     "name": "stdout",
     "output_type": "stream",
     "text": [
      "/gate/actor/addActor   KillActor                         MyActor \n",
      "/gate/actor/MyActor/save                                 MyOutputFile.tx \n",
      "t/gate/actor/MyActor/attachTo                             MyVolume \n",
      "/gate/actor/MyActor/addFilter                            volumeFilter \n",
      "/gate/actor/MyActor/volumeFilter/addVolume mlc_y0_kill\n",
      "/gate/actor/MyActor/volumeFilter/addVolume mlc_y1_kill\n",
      "/gate/actor/MyActor/volumeFilter/addVolume mlc_y2_kill\n",
      "/gate/actor/MyActor/volumeFilter/addVolume mlc_y3_kill\n",
      "/gate/actor/MyActor/volumeFilter/addVolume mlc_y4_kill\n",
      "/gate/actor/MyActor/volumeFilter/addVolume mlc_y5_kill\n",
      "/gate/actor/MyActor/volumeFilter/addVolume mlc_y6_kill\n",
      "/gate/actor/MyActor/volumeFilter/addVolume mlc_y7_kill\n",
      "/gate/actor/MyActor/volumeFilter/addVolume mlc_y8_kill\n",
      "/gate/actor/MyActor/volumeFilter/addVolume mlc_y9_kill\n",
      "/gate/actor/MyActor/volumeFilter/addVolume mlc_y10_kill\n",
      "/gate/actor/MyActor/volumeFilter/addVolume mlc_y11_kill\n",
      "/gate/actor/MyActor/volumeFilter/addVolume mlc_y12_kill\n",
      "/gate/actor/MyActor/volumeFilter/addVolume mlc_y13_kill\n",
      "/gate/actor/MyActor/volumeFilter/addVolume mlc_y14_kill\n",
      "\n"
     ]
    },
    {
     "data": {
      "text/plain": [
       "CompletedProcess(args='pbcopy', returncode=0)"
      ]
     },
     "execution_count": 21,
     "metadata": {},
     "output_type": "execute_result"
    }
   ],
   "source": [
    "print(kill_string)\n",
    "subprocess.run(\"pbcopy\", universal_newlines=True, input=kill_string)"
   ]
  },
  {
   "cell_type": "code",
   "execution_count": 18,
   "metadata": {},
   "outputs": [
    {
     "name": "stdout",
     "output_type": "stream",
     "text": [
      "0   0     0 1 0   -200 -60 0 \n",
      "0   180   0 0 1   200 -60 0 \n",
      "0   0     0 1 0   -200 -57 0 \n",
      "0   180   0 0 1   200 -57 0 \n",
      "0   0     0 1 0   -200 -54 0 \n",
      "0   180   0 0 1   200 -54 0 \n",
      "0   0     0 1 0   -200 -51 0 \n",
      "0   180   0 0 1   200 -51 0 \n",
      "0   0     0 1 0   -200 -48 0 \n",
      "0   180   0 0 1   200 -48 0 \n",
      "0   0     0 1 0   -200 -45 0 \n",
      "0   180   0 0 1   200 -45 0 \n",
      "0   0     0 1 0   -200 -42 0 \n",
      "0   180   0 0 1   200 -42 0 \n",
      "0   0     0 1 0   -200 -39 0 \n",
      "0   180   0 0 1   200 -39 0 \n",
      "0   0     0 1 0   -200 -36 0 \n",
      "0   180   0 0 1   200 -36 0 \n",
      "0   0     0 1 0   -200 -33 0 \n",
      "0   180   0 0 1   200 -33 0 \n",
      "0   0     0 1 0   -200 -30 0 \n",
      "0   180   0 0 1   200 -30 0 \n",
      "0   0     0 1 0   -200 -27 0 \n",
      "0   180   0 0 1   200 -27 0 \n",
      "0   0     0 1 0   -200 -24 0 \n",
      "0   180   0 0 1   200 -24 0 \n",
      "0   0     0 1 0   -200 -21 0 \n",
      "0   180   0 0 1   200 -21 0 \n",
      "0   0     0 1 0   -200 -18 0 \n",
      "0   180   0 0 1   200 -18 0 \n",
      "0   0     0 1 0   -200 -15 0 \n",
      "0   180   0 0 1   200 -15 0 \n",
      "0   0     0 1 0   -200 -12 0 \n",
      "0   180   0 0 1   200 -12 0 \n",
      "0   0     0 1 0   -200 -9 0 \n",
      "0   180   0 0 1   200 -9 0 \n",
      "0   0     0 1 0   -200 -6 0 \n",
      "0   180   0 0 1   200 -6 0 \n",
      "0   0     0 1 0   -200 -3 0 \n",
      "0   180   0 0 1   200 -3 0 \n",
      "0   0     0 1 0   -200 0 0 \n",
      "0   180   0 0 1   200 0 0 \n",
      "0   0     0 1 0   -200 3 0 \n",
      "0   180   0 0 1   200 3 0 \n",
      "0   0     0 1 0   -200 6 0 \n",
      "0   180   0 0 1   200 6 0 \n",
      "0   0     0 1 0   -200 9 0 \n",
      "0   180   0 0 1   200 9 0 \n",
      "0   0     0 1 0   -200 12 0 \n",
      "0   180   0 0 1   200 12 0 \n",
      "0   0     0 1 0   -200 15 0 \n",
      "0   180   0 0 1   200 15 0 \n",
      "0   0     0 1 0   -200 18 0 \n",
      "0   180   0 0 1   200 18 0 \n",
      "0   0     0 1 0   -200 21 0 \n",
      "0   180   0 0 1   200 21 0 \n",
      "0   0     0 1 0   -200 24 0 \n",
      "0   180   0 0 1   200 24 0 \n",
      "0   0     0 1 0   -200 27 0 \n",
      "0   180   0 0 1   200 27 0 \n",
      "0   0     0 1 0   -200 30 0 \n",
      "0   180   0 0 1   200 30 0 \n",
      "0   0     0 1 0   -200 33 0 \n",
      "0   180   0 0 1   200 33 0 \n",
      "0   0     0 1 0   -200 36 0 \n",
      "0   180   0 0 1   200 36 0 \n",
      "0   0     0 1 0   -200 39 0 \n",
      "0   180   0 0 1   200 39 0 \n",
      "0   0     0 1 0   -200 42 0 \n",
      "0   180   0 0 1   200 42 0 \n",
      "0   0     0 1 0   -200 45 0 \n",
      "0   180   0 0 1   200 45 0 \n",
      "0   0     0 1 0   -200 48 0 \n",
      "0   180   0 0 1   200 48 0 \n",
      "0   0     0 1 0   -200 51 0 \n",
      "0   180   0 0 1   200 51 0 \n",
      "0   0     0 1 0   -200 54 0 \n",
      "0   180   0 0 1   200 54 0 \n",
      "0   0     0 1 0   -200 57 0 \n",
      "0   180   0 0 1   200 57 0 \n",
      "0   0     0 1 0   -200 60 0 \n",
      "0   180   0 0 1   200 60 0 \n",
      "\n"
     ]
    },
    {
     "data": {
      "text/plain": [
       "CompletedProcess(args='pbcopy', returncode=0)"
      ]
     },
     "execution_count": 18,
     "metadata": {},
     "output_type": "execute_result"
    }
   ],
   "source": [
    "total_string=\"\"\n",
    "for step in range (-60,61,3):\n",
    "    stringForCopy1=\"0   0     0 1 0   -200 \"+str(step)+\" 0 \\n\"\n",
    "    stringForCopy2=\"0   180   0 0 1   200 \"+str(step)+\" 0 \\n\"\n",
    "    total_string=total_string+stringForCopy1\n",
    "    total_string=total_string+stringForCopy2\n",
    "print(total_string)\n",
    "subprocess.run(\"pbcopy\", universal_newlines=True, input=total_string)"
   ]
  },
  {
   "cell_type": "code",
   "execution_count": null,
   "metadata": {},
   "outputs": [],
   "source": []
  },
  {
   "cell_type": "code",
   "execution_count": null,
   "metadata": {},
   "outputs": [],
   "source": []
  }
 ],
 "metadata": {
  "kernelspec": {
   "display_name": "Python 3",
   "language": "python",
   "name": "python3"
  },
  "language_info": {
   "codemirror_mode": {
    "name": "ipython",
    "version": 3
   },
   "file_extension": ".py",
   "mimetype": "text/x-python",
   "name": "python",
   "nbconvert_exporter": "python",
   "pygments_lexer": "ipython3",
   "version": "3.7.7"
  }
 },
 "nbformat": 4,
 "nbformat_minor": 2
}
