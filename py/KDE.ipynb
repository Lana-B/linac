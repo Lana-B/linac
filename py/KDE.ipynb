{
 "cells": [
  {
   "cell_type": "code",
   "execution_count": 2,
   "metadata": {},
   "outputs": [],
   "source": [
    "import numpy as np\n",
    "import math\n",
    "from matplotlib import pylab as plt\n",
    "# from ROOT import TTree, TFile, TH2D, TCanvas, TH1F, gROOT\n",
    "# from root_numpy import array2hist, hist2array, fill_hist, tree2array, root2array, list_trees\n",
    "import pandas as pd\n",
    "# from root_pandas import read_root\n",
    "# import uproot\n",
    "import time\n",
    "from mpl_toolkits.mplot3d import Axes3D # <--- This is important for 3d plotting \n",
    "\n",
    "from scipy import stats"
   ]
  },
  {
   "cell_type": "code",
   "execution_count": 3,
   "metadata": {},
   "outputs": [
    {
     "name": "stdout",
     "output_type": "stream",
     "text": [
      "read\n"
     ]
    }
   ],
   "source": [
    "# df5e = pd.read_pickle(\"electron5x5.pkl\")\n",
    "# print(\"read\")\n",
    "# df5g = pd.read_pickle(\"../PhS2_5x5/Gamma5x5.pkl\")\n",
    "# print(\"read\")\n",
    "df10e = pd.read_pickle(\"electron10x10.pkl\")\n",
    "print(\"read\")\n",
    "# df10g = pd.read_pickle(\"../PhS2_10x10/Gamma10x10.pkl\")\n",
    "# print(\"read\")\n",
    "# df20e = pd.read_pickle(\"electron20x20.pkl\")\n",
    "# print(\"read\")\n",
    "# df20g = pd.read_pickle(\"../PhS2_20x20/Gamma20x20.pkl\")\n",
    "# print(\"read\")"
   ]
  },
  {
   "cell_type": "code",
   "execution_count": 4,
   "metadata": {},
   "outputs": [
    {
     "data": {
      "text/html": [
       "<div>\n",
       "<style scoped>\n",
       "    .dataframe tbody tr th:only-of-type {\n",
       "        vertical-align: middle;\n",
       "    }\n",
       "\n",
       "    .dataframe tbody tr th {\n",
       "        vertical-align: top;\n",
       "    }\n",
       "\n",
       "    .dataframe thead th {\n",
       "        text-align: right;\n",
       "    }\n",
       "</style>\n",
       "<table border=\"1\" class=\"dataframe\">\n",
       "  <thead>\n",
       "    <tr style=\"text-align: right;\">\n",
       "      <th></th>\n",
       "      <th>X</th>\n",
       "      <th>Y</th>\n",
       "      <th>dX</th>\n",
       "      <th>dY</th>\n",
       "      <th>Weight</th>\n",
       "      <th>Ekine</th>\n",
       "    </tr>\n",
       "  </thead>\n",
       "  <tbody>\n",
       "    <tr>\n",
       "      <th>0</th>\n",
       "      <td>0.794922</td>\n",
       "      <td>13.781250</td>\n",
       "      <td>-0.136719</td>\n",
       "      <td>0.086121</td>\n",
       "      <td>0.0004</td>\n",
       "      <td>0.702637</td>\n",
       "    </tr>\n",
       "    <tr>\n",
       "      <th>1</th>\n",
       "      <td>-5.476562</td>\n",
       "      <td>-3.904297</td>\n",
       "      <td>-0.007820</td>\n",
       "      <td>-0.283203</td>\n",
       "      <td>0.0004</td>\n",
       "      <td>0.299805</td>\n",
       "    </tr>\n",
       "    <tr>\n",
       "      <th>2</th>\n",
       "      <td>-18.984375</td>\n",
       "      <td>-2.642578</td>\n",
       "      <td>0.099365</td>\n",
       "      <td>0.356445</td>\n",
       "      <td>0.0004</td>\n",
       "      <td>0.626465</td>\n",
       "    </tr>\n",
       "    <tr>\n",
       "      <th>3</th>\n",
       "      <td>59.906250</td>\n",
       "      <td>-11.468750</td>\n",
       "      <td>0.398682</td>\n",
       "      <td>0.154419</td>\n",
       "      <td>0.0004</td>\n",
       "      <td>0.495850</td>\n",
       "    </tr>\n",
       "    <tr>\n",
       "      <th>4</th>\n",
       "      <td>27.125000</td>\n",
       "      <td>-18.453125</td>\n",
       "      <td>0.428711</td>\n",
       "      <td>-0.176025</td>\n",
       "      <td>0.0004</td>\n",
       "      <td>0.572754</td>\n",
       "    </tr>\n",
       "    <tr>\n",
       "      <th>...</th>\n",
       "      <td>...</td>\n",
       "      <td>...</td>\n",
       "      <td>...</td>\n",
       "      <td>...</td>\n",
       "      <td>...</td>\n",
       "      <td>...</td>\n",
       "    </tr>\n",
       "    <tr>\n",
       "      <th>12501123</th>\n",
       "      <td>50.875000</td>\n",
       "      <td>24.234375</td>\n",
       "      <td>0.381592</td>\n",
       "      <td>0.604004</td>\n",
       "      <td>0.0004</td>\n",
       "      <td>2.775391</td>\n",
       "    </tr>\n",
       "    <tr>\n",
       "      <th>12501124</th>\n",
       "      <td>-66.375000</td>\n",
       "      <td>-5.589844</td>\n",
       "      <td>-0.828125</td>\n",
       "      <td>0.154175</td>\n",
       "      <td>0.0004</td>\n",
       "      <td>3.005859</td>\n",
       "    </tr>\n",
       "    <tr>\n",
       "      <th>12501125</th>\n",
       "      <td>2.441406</td>\n",
       "      <td>47.875000</td>\n",
       "      <td>-0.214966</td>\n",
       "      <td>0.758301</td>\n",
       "      <td>0.0004</td>\n",
       "      <td>1.698242</td>\n",
       "    </tr>\n",
       "    <tr>\n",
       "      <th>12501126</th>\n",
       "      <td>35.187500</td>\n",
       "      <td>7.343750</td>\n",
       "      <td>0.248169</td>\n",
       "      <td>0.427490</td>\n",
       "      <td>0.0004</td>\n",
       "      <td>3.117188</td>\n",
       "    </tr>\n",
       "    <tr>\n",
       "      <th>12501127</th>\n",
       "      <td>34.968750</td>\n",
       "      <td>-5.523438</td>\n",
       "      <td>0.131348</td>\n",
       "      <td>0.380371</td>\n",
       "      <td>0.0004</td>\n",
       "      <td>1.192383</td>\n",
       "    </tr>\n",
       "  </tbody>\n",
       "</table>\n",
       "<p>12501128 rows × 6 columns</p>\n",
       "</div>"
      ],
      "text/plain": [
       "                  X          Y        dX        dY  Weight     Ekine\n",
       "0          0.794922  13.781250 -0.136719  0.086121  0.0004  0.702637\n",
       "1         -5.476562  -3.904297 -0.007820 -0.283203  0.0004  0.299805\n",
       "2        -18.984375  -2.642578  0.099365  0.356445  0.0004  0.626465\n",
       "3         59.906250 -11.468750  0.398682  0.154419  0.0004  0.495850\n",
       "4         27.125000 -18.453125  0.428711 -0.176025  0.0004  0.572754\n",
       "...             ...        ...       ...       ...     ...       ...\n",
       "12501123  50.875000  24.234375  0.381592  0.604004  0.0004  2.775391\n",
       "12501124 -66.375000  -5.589844 -0.828125  0.154175  0.0004  3.005859\n",
       "12501125   2.441406  47.875000 -0.214966  0.758301  0.0004  1.698242\n",
       "12501126  35.187500   7.343750  0.248169  0.427490  0.0004  3.117188\n",
       "12501127  34.968750  -5.523438  0.131348  0.380371  0.0004  1.192383\n",
       "\n",
       "[12501128 rows x 6 columns]"
      ]
     },
     "execution_count": 4,
     "metadata": {},
     "output_type": "execute_result"
    }
   ],
   "source": [
    "df10e"
   ]
  },
  {
   "cell_type": "code",
   "execution_count": 5,
   "metadata": {},
   "outputs": [],
   "source": [
    "dfe10tot=df10e[['X','Y','dX','dY','Ekine','Weight']]"
   ]
  },
  {
   "cell_type": "code",
   "execution_count": 6,
   "metadata": {},
   "outputs": [],
   "source": [
    "# ax = df10esub.plot.kde()\n"
   ]
  },
  {
   "cell_type": "code",
   "execution_count": 7,
   "metadata": {},
   "outputs": [],
   "source": [
    "# df10eMir=df10esub[['X','Y','dX','dY']]"
   ]
  },
  {
   "cell_type": "code",
   "execution_count": 8,
   "metadata": {},
   "outputs": [],
   "source": [
    "# df10eMir['Ekine']=df10esub['Ekine'].mul(-1)\n",
    "# df10eMir"
   ]
  },
  {
   "cell_type": "code",
   "execution_count": 9,
   "metadata": {},
   "outputs": [],
   "source": [
    "# dfe10tot=df10eMir.append(df10esub)"
   ]
  },
  {
   "cell_type": "code",
   "execution_count": 10,
   "metadata": {},
   "outputs": [
    {
     "data": {
      "text/html": [
       "<div>\n",
       "<style scoped>\n",
       "    .dataframe tbody tr th:only-of-type {\n",
       "        vertical-align: middle;\n",
       "    }\n",
       "\n",
       "    .dataframe tbody tr th {\n",
       "        vertical-align: top;\n",
       "    }\n",
       "\n",
       "    .dataframe thead th {\n",
       "        text-align: right;\n",
       "    }\n",
       "</style>\n",
       "<table border=\"1\" class=\"dataframe\">\n",
       "  <thead>\n",
       "    <tr style=\"text-align: right;\">\n",
       "      <th></th>\n",
       "      <th>X</th>\n",
       "      <th>Y</th>\n",
       "      <th>dX</th>\n",
       "      <th>dY</th>\n",
       "      <th>Ekine</th>\n",
       "      <th>Weight</th>\n",
       "    </tr>\n",
       "  </thead>\n",
       "  <tbody>\n",
       "    <tr>\n",
       "      <th>0</th>\n",
       "      <td>0.794922</td>\n",
       "      <td>13.781250</td>\n",
       "      <td>-0.136719</td>\n",
       "      <td>0.086121</td>\n",
       "      <td>0.702637</td>\n",
       "      <td>0.0004</td>\n",
       "    </tr>\n",
       "    <tr>\n",
       "      <th>1</th>\n",
       "      <td>-5.476562</td>\n",
       "      <td>-3.904297</td>\n",
       "      <td>-0.007820</td>\n",
       "      <td>-0.283203</td>\n",
       "      <td>0.299805</td>\n",
       "      <td>0.0004</td>\n",
       "    </tr>\n",
       "    <tr>\n",
       "      <th>2</th>\n",
       "      <td>-18.984375</td>\n",
       "      <td>-2.642578</td>\n",
       "      <td>0.099365</td>\n",
       "      <td>0.356445</td>\n",
       "      <td>0.626465</td>\n",
       "      <td>0.0004</td>\n",
       "    </tr>\n",
       "    <tr>\n",
       "      <th>3</th>\n",
       "      <td>59.906250</td>\n",
       "      <td>-11.468750</td>\n",
       "      <td>0.398682</td>\n",
       "      <td>0.154419</td>\n",
       "      <td>0.495850</td>\n",
       "      <td>0.0004</td>\n",
       "    </tr>\n",
       "    <tr>\n",
       "      <th>4</th>\n",
       "      <td>27.125000</td>\n",
       "      <td>-18.453125</td>\n",
       "      <td>0.428711</td>\n",
       "      <td>-0.176025</td>\n",
       "      <td>0.572754</td>\n",
       "      <td>0.0004</td>\n",
       "    </tr>\n",
       "    <tr>\n",
       "      <th>...</th>\n",
       "      <td>...</td>\n",
       "      <td>...</td>\n",
       "      <td>...</td>\n",
       "      <td>...</td>\n",
       "      <td>...</td>\n",
       "      <td>...</td>\n",
       "    </tr>\n",
       "    <tr>\n",
       "      <th>12501123</th>\n",
       "      <td>50.875000</td>\n",
       "      <td>24.234375</td>\n",
       "      <td>0.381592</td>\n",
       "      <td>0.604004</td>\n",
       "      <td>2.775391</td>\n",
       "      <td>0.0004</td>\n",
       "    </tr>\n",
       "    <tr>\n",
       "      <th>12501124</th>\n",
       "      <td>-66.375000</td>\n",
       "      <td>-5.589844</td>\n",
       "      <td>-0.828125</td>\n",
       "      <td>0.154175</td>\n",
       "      <td>3.005859</td>\n",
       "      <td>0.0004</td>\n",
       "    </tr>\n",
       "    <tr>\n",
       "      <th>12501125</th>\n",
       "      <td>2.441406</td>\n",
       "      <td>47.875000</td>\n",
       "      <td>-0.214966</td>\n",
       "      <td>0.758301</td>\n",
       "      <td>1.698242</td>\n",
       "      <td>0.0004</td>\n",
       "    </tr>\n",
       "    <tr>\n",
       "      <th>12501126</th>\n",
       "      <td>35.187500</td>\n",
       "      <td>7.343750</td>\n",
       "      <td>0.248169</td>\n",
       "      <td>0.427490</td>\n",
       "      <td>3.117188</td>\n",
       "      <td>0.0004</td>\n",
       "    </tr>\n",
       "    <tr>\n",
       "      <th>12501127</th>\n",
       "      <td>34.968750</td>\n",
       "      <td>-5.523438</td>\n",
       "      <td>0.131348</td>\n",
       "      <td>0.380371</td>\n",
       "      <td>1.192383</td>\n",
       "      <td>0.0004</td>\n",
       "    </tr>\n",
       "  </tbody>\n",
       "</table>\n",
       "<p>12501128 rows × 6 columns</p>\n",
       "</div>"
      ],
      "text/plain": [
       "                  X          Y        dX        dY     Ekine  Weight\n",
       "0          0.794922  13.781250 -0.136719  0.086121  0.702637  0.0004\n",
       "1         -5.476562  -3.904297 -0.007820 -0.283203  0.299805  0.0004\n",
       "2        -18.984375  -2.642578  0.099365  0.356445  0.626465  0.0004\n",
       "3         59.906250 -11.468750  0.398682  0.154419  0.495850  0.0004\n",
       "4         27.125000 -18.453125  0.428711 -0.176025  0.572754  0.0004\n",
       "...             ...        ...       ...       ...       ...     ...\n",
       "12501123  50.875000  24.234375  0.381592  0.604004  2.775391  0.0004\n",
       "12501124 -66.375000  -5.589844 -0.828125  0.154175  3.005859  0.0004\n",
       "12501125   2.441406  47.875000 -0.214966  0.758301  1.698242  0.0004\n",
       "12501126  35.187500   7.343750  0.248169  0.427490  3.117188  0.0004\n",
       "12501127  34.968750  -5.523438  0.131348  0.380371  1.192383  0.0004\n",
       "\n",
       "[12501128 rows x 6 columns]"
      ]
     },
     "execution_count": 10,
     "metadata": {},
     "output_type": "execute_result"
    }
   ],
   "source": [
    "dfe10tot"
   ]
  },
  {
   "cell_type": "code",
   "execution_count": 11,
   "metadata": {},
   "outputs": [],
   "source": [
    "nparr=dfe10tot.to_numpy()\n"
   ]
  },
  {
   "cell_type": "code",
   "execution_count": 12,
   "metadata": {},
   "outputs": [],
   "source": [
    "values=nparr.T"
   ]
  },
  {
   "cell_type": "code",
   "execution_count": 13,
   "metadata": {},
   "outputs": [],
   "source": [
    "bandwidth=0.01"
   ]
  },
  {
   "cell_type": "code",
   "execution_count": 14,
   "metadata": {},
   "outputs": [],
   "source": [
    "\n",
    "kde = stats.gaussian_kde(values, bw_method=bandwidth)\n",
    "# density = kde(values)\n",
    "\n",
    "# fig, ax = plt.subplots(subplot_kw=dict(projection='3d'))\n",
    "# x, y, z = values\n",
    "# ax.scatter(x, y, z, c=density)\n",
    "# plt.show()"
   ]
  },
  {
   "cell_type": "code",
   "execution_count": 15,
   "metadata": {},
   "outputs": [
    {
     "data": {
      "text/plain": [
       "0.01"
      ]
     },
     "execution_count": 15,
     "metadata": {},
     "output_type": "execute_result"
    }
   ],
   "source": [
    "kde.factor"
   ]
  },
  {
   "cell_type": "code",
   "execution_count": 16,
   "metadata": {},
   "outputs": [],
   "source": [
    "newsample = stats.gaussian_kde.resample(kde,12501128)\n"
   ]
  },
  {
   "cell_type": "code",
   "execution_count": 17,
   "metadata": {},
   "outputs": [],
   "source": [
    "# fig, ax = plt.subplots(subplot_kw=dict(projection='3d'))\n",
    "# kde2 = stats.gaussian_kde(newsample)\n",
    "# density2 = kde2(newsample)\n",
    "# x, y, z = newsample\n",
    "# ax.scatter(x, y, z,c=density2)\n",
    "# plt.show()\n",
    "newdf=pd.DataFrame(newsample.T,columns=['X','Y','dX','dY','Ekine','Weight'])"
   ]
  },
  {
   "cell_type": "code",
   "execution_count": 18,
   "metadata": {},
   "outputs": [
    {
     "data": {
      "image/png": "[encoded data removed]",
      "text/plain": [
       "<Figure size 432x432 with 1 Axes>"
      ]
     },
     "metadata": {
      "needs_background": "light"
     },
     "output_type": "display_data"
    }
   ],
   "source": [
    "plt.figure(figsize=(6,6))\n",
    "_=plt.hist(newdf['X'],bins=100,histtype='step',density=True)\n",
    "_=plt.hist(dfe10tot['X'],bins=100,histtype='step',color='red',density=True)"
   ]
  },
  {
   "cell_type": "code",
   "execution_count": 19,
   "metadata": {},
   "outputs": [
    {
     "name": "stderr",
     "output_type": "stream",
     "text": [
      "/usr/local/lib/python3.7/site-packages/ipykernel_launcher.py:2: SettingWithCopyWarning: \n",
      "A value is trying to be set on a copy of a slice from a DataFrame.\n",
      "Try using .loc[row_indexer,col_indexer] = value instead\n",
      "\n",
      "See the caveats in the documentation: https://pandas.pydata.org/pandas-docs/stable/user_guide/indexing.html#returning-a-view-versus-a-copy\n",
      "  \n",
      "/usr/local/lib/python3.7/site-packages/ipykernel_launcher.py:4: SettingWithCopyWarning: \n",
      "A value is trying to be set on a copy of a slice from a DataFrame.\n",
      "Try using .loc[row_indexer,col_indexer] = value instead\n",
      "\n",
      "See the caveats in the documentation: https://pandas.pydata.org/pandas-docs/stable/user_guide/indexing.html#returning-a-view-versus-a-copy\n",
      "  after removing the cwd from sys.path.\n"
     ]
    }
   ],
   "source": [
    "newdfsub=newdf[(newdf['Weight']>0)&(newdf['Ekine']>0)&(abs(newdf['X'])<75)&(abs(newdf['Y'])<75)]\n",
    "newdfsub['dZ']=-1*pow(1.0-newdfsub['dX']*newdfsub['dX']-newdfsub['dY']*newdfsub['dY'],0.5)\n",
    "# newdfsub.loc[:,'dZ']=-1*pow(1.0-newdfsub['dX']*newdfsub['dX']-newdfsub['dY']*newdfsub['dY'],0.5)\n",
    "newdfsub[\"Z\"]=-0.0000005\n",
    "# newdfsub.loc[:,'Z']=-0.0000005\n",
    "# newdfsub=newdfsub.assign(Z=-0.0000005)\n",
    "newdfsub=newdfsub.dropna(axis='index')"
   ]
  },
  {
   "cell_type": "code",
   "execution_count": 20,
   "metadata": {},
   "outputs": [
    {
     "data": {
      "image/png": "[encoded data removed]",
      "text/plain": [
       "<Figure size 1008x288 with 1 Axes>"
      ]
     },
     "metadata": {
      "needs_background": "light"
     },
     "output_type": "display_data"
    }
   ],
   "source": [
    "plt.figure(figsize=(14,4))\n",
    "_=plt.hist(newdf['Ekine'],bins=500,histtype='step',density=True)\n",
    "_=plt.hist(dfe10tot['Ekine'],bins=500,histtype='step',color='red',density=True)"
   ]
  },
  {
   "cell_type": "code",
   "execution_count": 95,
   "metadata": {},
   "outputs": [
    {
     "data": {
      "image/png": "[encoded data removed]",
      "text/plain": [
       "<Figure size 1008x288 with 1 Axes>"
      ]
     },
     "metadata": {
      "needs_background": "light"
     },
     "output_type": "display_data"
    }
   ],
   "source": [
    "plt.figure(figsize=(14,4))\n",
    "_=plt.hist(newdf['Ekine'],bins=500,histtype='step',density=True,range=(0,.1))\n",
    "_=plt.hist(dfe10tot['Ekine'],bins=500,histtype='step',color='red',density=True,range=(0,.1))"
   ]
  },
  {
   "cell_type": "code",
   "execution_count": 96,
   "metadata": {},
   "outputs": [
    {
     "data": {
      "image/png": "[encoded data removed]",
      "text/plain": [
       "<Figure size 1008x288 with 1 Axes>"
      ]
     },
     "metadata": {
      "needs_background": "light"
     },
     "output_type": "display_data"
    }
   ],
   "source": [
    "plt.figure(figsize=(14,4))\n",
    "_=plt.hist(newdf['Ekine'],bins=100,histtype='step',density=True,range=(4.2,5.0))\n",
    "_=plt.hist(dfe10tot['Ekine'],bins=100,histtype='step',color='red',density=True,range=(4.2,5.0))"
   ]
  },
  {
   "cell_type": "code",
   "execution_count": 97,
   "metadata": {},
   "outputs": [
    {
     "data": {
      "text/html": [
       "<div>\n",
       "<style scoped>\n",
       "    .dataframe tbody tr th:only-of-type {\n",
       "        vertical-align: middle;\n",
       "    }\n",
       "\n",
       "    .dataframe tbody tr th {\n",
       "        vertical-align: top;\n",
       "    }\n",
       "\n",
       "    .dataframe thead th {\n",
       "        text-align: right;\n",
       "    }\n",
       "</style>\n",
       "<table border=\"1\" class=\"dataframe\">\n",
       "  <thead>\n",
       "    <tr style=\"text-align: right;\">\n",
       "      <th></th>\n",
       "      <th>X</th>\n",
       "      <th>Y</th>\n",
       "      <th>dX</th>\n",
       "      <th>dY</th>\n",
       "      <th>Ekine</th>\n",
       "      <th>Weight</th>\n",
       "      <th>dZ</th>\n",
       "      <th>Z</th>\n",
       "    </tr>\n",
       "  </thead>\n",
       "  <tbody>\n",
       "    <tr>\n",
       "      <th>0</th>\n",
       "      <td>-5.441533</td>\n",
       "      <td>11.735367</td>\n",
       "      <td>0.250250</td>\n",
       "      <td>-0.390847</td>\n",
       "      <td>3.825784</td>\n",
       "      <td>0.000505</td>\n",
       "      <td>-0.885784</td>\n",
       "      <td>-5.000000e-07</td>\n",
       "    </tr>\n",
       "    <tr>\n",
       "      <th>1</th>\n",
       "      <td>7.710749</td>\n",
       "      <td>-1.278370</td>\n",
       "      <td>0.083387</td>\n",
       "      <td>0.234971</td>\n",
       "      <td>1.871560</td>\n",
       "      <td>0.000480</td>\n",
       "      <td>-0.968419</td>\n",
       "      <td>-5.000000e-07</td>\n",
       "    </tr>\n",
       "    <tr>\n",
       "      <th>2</th>\n",
       "      <td>22.627440</td>\n",
       "      <td>10.580041</td>\n",
       "      <td>0.131514</td>\n",
       "      <td>0.072253</td>\n",
       "      <td>3.626151</td>\n",
       "      <td>0.000387</td>\n",
       "      <td>-0.988678</td>\n",
       "      <td>-5.000000e-07</td>\n",
       "    </tr>\n",
       "    <tr>\n",
       "      <th>4</th>\n",
       "      <td>-26.341098</td>\n",
       "      <td>-17.769982</td>\n",
       "      <td>-0.156032</td>\n",
       "      <td>-0.040156</td>\n",
       "      <td>1.959971</td>\n",
       "      <td>0.000289</td>\n",
       "      <td>-0.986935</td>\n",
       "      <td>-5.000000e-07</td>\n",
       "    </tr>\n",
       "    <tr>\n",
       "      <th>5</th>\n",
       "      <td>-45.637775</td>\n",
       "      <td>10.697110</td>\n",
       "      <td>-0.427865</td>\n",
       "      <td>0.009297</td>\n",
       "      <td>0.368511</td>\n",
       "      <td>0.000403</td>\n",
       "      <td>-0.903795</td>\n",
       "      <td>-5.000000e-07</td>\n",
       "    </tr>\n",
       "    <tr>\n",
       "      <th>...</th>\n",
       "      <td>...</td>\n",
       "      <td>...</td>\n",
       "      <td>...</td>\n",
       "      <td>...</td>\n",
       "      <td>...</td>\n",
       "      <td>...</td>\n",
       "      <td>...</td>\n",
       "      <td>...</td>\n",
       "    </tr>\n",
       "    <tr>\n",
       "      <th>12501123</th>\n",
       "      <td>-21.333546</td>\n",
       "      <td>-4.791412</td>\n",
       "      <td>-0.134795</td>\n",
       "      <td>-0.401397</td>\n",
       "      <td>0.258835</td>\n",
       "      <td>0.000536</td>\n",
       "      <td>-0.905931</td>\n",
       "      <td>-5.000000e-07</td>\n",
       "    </tr>\n",
       "    <tr>\n",
       "      <th>12501124</th>\n",
       "      <td>-21.789888</td>\n",
       "      <td>23.322147</td>\n",
       "      <td>-0.544958</td>\n",
       "      <td>0.153923</td>\n",
       "      <td>0.704656</td>\n",
       "      <td>0.000283</td>\n",
       "      <td>-0.824214</td>\n",
       "      <td>-5.000000e-07</td>\n",
       "    </tr>\n",
       "    <tr>\n",
       "      <th>12501125</th>\n",
       "      <td>54.287812</td>\n",
       "      <td>10.479057</td>\n",
       "      <td>0.443258</td>\n",
       "      <td>0.146649</td>\n",
       "      <td>0.141815</td>\n",
       "      <td>0.000439</td>\n",
       "      <td>-0.884317</td>\n",
       "      <td>-5.000000e-07</td>\n",
       "    </tr>\n",
       "    <tr>\n",
       "      <th>12501126</th>\n",
       "      <td>-39.675439</td>\n",
       "      <td>7.499522</td>\n",
       "      <td>-0.443749</td>\n",
       "      <td>-0.368895</td>\n",
       "      <td>1.387397</td>\n",
       "      <td>0.000407</td>\n",
       "      <td>-0.816703</td>\n",
       "      <td>-5.000000e-07</td>\n",
       "    </tr>\n",
       "    <tr>\n",
       "      <th>12501127</th>\n",
       "      <td>-24.269279</td>\n",
       "      <td>-48.844800</td>\n",
       "      <td>0.097843</td>\n",
       "      <td>-0.744406</td>\n",
       "      <td>0.212336</td>\n",
       "      <td>0.000552</td>\n",
       "      <td>-0.660520</td>\n",
       "      <td>-5.000000e-07</td>\n",
       "    </tr>\n",
       "  </tbody>\n",
       "</table>\n",
       "<p>11831065 rows × 8 columns</p>\n",
       "</div>"
      ],
      "text/plain": [
       "                  X          Y        dX        dY     Ekine    Weight  \\\n",
       "0         -5.441533  11.735367  0.250250 -0.390847  3.825784  0.000505   \n",
       "1          7.710749  -1.278370  0.083387  0.234971  1.871560  0.000480   \n",
       "2         22.627440  10.580041  0.131514  0.072253  3.626151  0.000387   \n",
       "4        -26.341098 -17.769982 -0.156032 -0.040156  1.959971  0.000289   \n",
       "5        -45.637775  10.697110 -0.427865  0.009297  0.368511  0.000403   \n",
       "...             ...        ...       ...       ...       ...       ...   \n",
       "12501123 -21.333546  -4.791412 -0.134795 -0.401397  0.258835  0.000536   \n",
       "12501124 -21.789888  23.322147 -0.544958  0.153923  0.704656  0.000283   \n",
       "12501125  54.287812  10.479057  0.443258  0.146649  0.141815  0.000439   \n",
       "12501126 -39.675439   7.499522 -0.443749 -0.368895  1.387397  0.000407   \n",
       "12501127 -24.269279 -48.844800  0.097843 -0.744406  0.212336  0.000552   \n",
       "\n",
       "                dZ             Z  \n",
       "0        -0.885784 -5.000000e-07  \n",
       "1        -0.968419 -5.000000e-07  \n",
       "2        -0.988678 -5.000000e-07  \n",
       "4        -0.986935 -5.000000e-07  \n",
       "5        -0.903795 -5.000000e-07  \n",
       "...            ...           ...  \n",
       "12501123 -0.905931 -5.000000e-07  \n",
       "12501124 -0.824214 -5.000000e-07  \n",
       "12501125 -0.884317 -5.000000e-07  \n",
       "12501126 -0.816703 -5.000000e-07  \n",
       "12501127 -0.660520 -5.000000e-07  \n",
       "\n",
       "[11831065 rows x 8 columns]"
      ]
     },
     "execution_count": 97,
     "metadata": {},
     "output_type": "execute_result"
    }
   ],
   "source": [
    "newdfsub"
   ]
  },
  {
   "cell_type": "code",
   "execution_count": null,
   "metadata": {},
   "outputs": [],
   "source": [
    "nparr=df10esub.to_numpy()\n",
    "values2=nparr.T"
   ]
  },
  {
   "cell_type": "code",
   "execution_count": null,
   "metadata": {},
   "outputs": [],
   "source": [
    "kde2 = stats.gaussian_kde(values2,bw_method=bandwidth)\n",
    "newsample2 = stats.gaussian_kde.resample(kde2,1000000)\n",
    "kde2.factor"
   ]
  },
  {
   "cell_type": "code",
   "execution_count": null,
   "metadata": {},
   "outputs": [],
   "source": [
    "newdf2=pd.DataFrame(newsample2.T,columns=['X','Y','dX','dY','Ekine'])"
   ]
  },
  {
   "cell_type": "code",
   "execution_count": null,
   "metadata": {},
   "outputs": [],
   "source": [
    "plt.figure(figsize=(4,4))\n",
    "_=plt.hist(newdf2['Ekine'],bins=100,histtype='step',density=True)\n",
    "_=plt.hist(df10esub['Ekine'],bins=100,histtype='step',color='red',density=True)"
   ]
  },
  {
   "cell_type": "code",
   "execution_count": null,
   "metadata": {},
   "outputs": [],
   "source": [
    "plt.figure(figsize=(6,6))\n",
    "_=plt.hist(newdf2['X'],bins=100,histtype='step',density=True)\n",
    "_=plt.hist(df10esub['X'],bins=100,histtype='step',color='red',density=True)"
   ]
  },
  {
   "cell_type": "code",
   "execution_count": null,
   "metadata": {},
   "outputs": [],
   "source": [
    "plt.figure(figsize=(6,6))\n",
    "_=plt.hist(newdf2['Y'],bins=100,histtype='step',density=True)\n",
    "_=plt.hist(df10esub['Y'],bins=100,histtype='step',color='red',density=True)"
   ]
  },
  {
   "cell_type": "code",
   "execution_count": null,
   "metadata": {},
   "outputs": [],
   "source": [
    "plt.figure(figsize=(6,6))\n",
    "_=plt.hist(newdf2['dX'],bins=100,histtype='step',density=True)\n",
    "_=plt.hist(df10esub['dX'],bins=100,histtype='step',color='red',density=True)"
   ]
  },
  {
   "cell_type": "code",
   "execution_count": null,
   "metadata": {},
   "outputs": [],
   "source": [
    "plt.figure(figsize=(6,6))\n",
    "_=plt.hist(newdf2['dY'],bins=100,histtype='step',density=True)\n",
    "_=plt.hist(df10esub['dY'],bins=100,histtype='step',color='red',density=True)"
   ]
  },
  {
   "cell_type": "code",
   "execution_count": null,
   "metadata": {},
   "outputs": [],
   "source": [
    "# plt.figure(figsize=(6,6))\n",
    "# _=plt.hist(newdf2['Weight'],bins=100,histtype='step',density=True)\n",
    "# _=plt.hist(df10esub['Weight'],bins=100,histtype='step',color='red',density=True)"
   ]
  },
  {
   "cell_type": "code",
   "execution_count": null,
   "metadata": {},
   "outputs": [],
   "source": [
    "plt.figure(figsize=(6,6))\n",
    "_=plt.hist(newdf2[newdf2[\"X\"]>60]['dX'],bins=100,histtype='step',density=True)\n",
    "_=plt.hist(df10esub[df10esub[\"X\"]>60]['dX'],bins=100,histtype='step',color='red',density=True)"
   ]
  },
  {
   "cell_type": "code",
   "execution_count": null,
   "metadata": {},
   "outputs": [],
   "source": [
    "_=plt.hist2d(newdf['dX'],newdf['dY'],bins=(200,200))\n"
   ]
  },
  {
   "cell_type": "code",
   "execution_count": null,
   "metadata": {},
   "outputs": [],
   "source": [
    "plt.figure(figsize=(6,6))\n",
    "_=plt.hist(newdf[newdf[\"X\"]>60]['dX'],bins=100,histtype='step',density=True)\n",
    "_=plt.hist(dfe10tot[dfe10tot[\"X\"]>60]['dX'],bins=100,histtype='step',color='red',density=True)"
   ]
  },
  {
   "cell_type": "code",
   "execution_count": null,
   "metadata": {},
   "outputs": [],
   "source": [
    "df10e_ekine=df10e[['Ekine','X']]"
   ]
  },
  {
   "cell_type": "code",
   "execution_count": null,
   "metadata": {},
   "outputs": [],
   "source": [
    "df10e_ekine"
   ]
  },
  {
   "cell_type": "code",
   "execution_count": null,
   "metadata": {},
   "outputs": [],
   "source": [
    "newdf3neg=df10e_ekine[['X']]\n",
    "newdf3neg['Ekine']=df10e_ekine['Ekine'].mul(-1)\n",
    "df10e_ekine=df10e_ekine.append(newdf3neg)\n",
    "df10e_ekine"
   ]
  },
  {
   "cell_type": "code",
   "execution_count": null,
   "metadata": {},
   "outputs": [],
   "source": [
    "nparr=df10e_ekine.to_numpy()\n",
    "values3=nparr.T\n",
    "kde3 = stats.gaussian_kde(values3,bw_method=0.0001)\n",
    "newsample3 = stats.gaussian_kde.resample(kde3,10000000)\n",
    "kde3.factor"
   ]
  },
  {
   "cell_type": "code",
   "execution_count": null,
   "metadata": {},
   "outputs": [],
   "source": [
    "newdf3=pd.DataFrame(newsample3.T,columns=['Ekine','X'])\n",
    "# newdf3neg=newdf3.mul(-1)\n",
    "# newdf3neg\n",
    "# newdf3=newdf3.append(newdf3neg)"
   ]
  },
  {
   "cell_type": "code",
   "execution_count": null,
   "metadata": {},
   "outputs": [],
   "source": [
    "# plt.figure(figsize=(4,4))\n",
    "fig,ax=plt.subplots(1,2,figsize=(8,4))\n",
    "_=ax[0].hist(newdf3['Ekine'],bins=1000,histtype='step',density=True,range=(0,6.2))\n",
    "_=ax[0].hist(df10e_ekine['Ekine'],bins=1000,histtype='step',color='red',density=True,range=(0,6.2))\n",
    "_=ax[1].hist(newdf3['X'],bins=100,histtype='step',density=True,range=(0,6.2))\n",
    "_=ax[1].hist(df10e_ekine['X'],bins=100,histtype='step',color='red',density=True,range=(0,6.2))"
   ]
  },
  {
   "cell_type": "code",
   "execution_count": null,
   "metadata": {},
   "outputs": [],
   "source": [
    "# kde3.evaluate(newsample3)\n",
    "fig,ax=plt.subplots(1,2,figsize=(12,6))\n",
    "_=ax[0].hist2d(newdf3['Ekine'],newdf3['X'],bins=(1000,100),density=True)\n",
    "_=ax[1].hist2d(df10e_ekine['Ekine'],df10e_ekine['X'],bins=(1000,100),density=True)\n"
   ]
  },
  {
   "cell_type": "code",
   "execution_count": null,
   "metadata": {},
   "outputs": [],
   "source": [
    "plt.figure(figsize=(16,6))\n",
    "# fig,ax=plt.subplots(1,2,figsize=(8,4))\n",
    "_=plt.hist(newdf3['Ekine'],bins=1000,histtype='step',density=True,range=(0,0.21))\n",
    "_=plt.hist(df10e_ekine['Ekine'],bins=500,histtype='step',color='red',density=True, range=(0,0.21))"
   ]
  },
  {
   "cell_type": "code",
   "execution_count": null,
   "metadata": {},
   "outputs": [],
   "source": [
    "kde3.evaluate((1,1))"
   ]
  },
  {
   "cell_type": "code",
   "execution_count": null,
   "metadata": {},
   "outputs": [],
   "source": []
  }
 ],
 "metadata": {
  "kernelspec": {
   "display_name": "Python 3",
   "language": "python",
   "name": "python3"
  },
  "language_info": {
   "codemirror_mode": {
    "name": "ipython",
    "version": 3
   },
   "file_extension": ".py",
   "mimetype": "text/x-python",
   "name": "python",
   "nbconvert_exporter": "python",
   "pygments_lexer": "ipython3",
   "version": "3.8.5"
  }
 },
 "nbformat": 4,
 "nbformat_minor": 2
}
