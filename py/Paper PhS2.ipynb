{
 "cells": [
  {
   "cell_type": "code",
   "execution_count": 15,
   "metadata": {},
   "outputs": [],
   "source": [
    "import uproot\n",
    "import numpy as np\n",
    "import math\n",
    "from matplotlib import pylab as plt\n",
    "from ROOT import TTree, TFile, TH2D, TCanvas, TH1F, gROOT\n",
    "from root_numpy import array2hist, hist2array, fill_hist, tree2array, root2array, list_trees\n",
    "import pandas as pd\n",
    "from root_pandas import read_root\n",
    "from matplotlib import rc\n",
    "\n",
    "# plt.rcParams['text.usetex'] = True\n",
    "pd.set_option('use_inf_as_na', False)\n",
    "\n",
    "\n",
    "def midpoints(hvals):\n",
    "    hvals_shift=np.append(hvals[1:],0)\n",
    "\n",
    "    midp=(hvals+hvals_shift)/2.0\n",
    "    return midp[:-1]\n",
    "\n",
    "font = {'family': 'sanserif',\n",
    "        'color':  'black',\n",
    "        'weight': 'normal',\n",
    "        'size': 14,\n",
    "        }\n",
    "\n",
    "SMALL_SIZE = 12\n",
    "MEDIUM_SIZE = 15\n",
    "BIGGER_SIZE = 19\n",
    "\n",
    "plt.rc('font', size=SMALL_SIZE)          # controls default text sizes\n",
    "plt.rc('axes', titlesize=SMALL_SIZE)     # fontsize of the axes title\n",
    "plt.rc('axes', labelsize=MEDIUM_SIZE)    # fontsize of the x and y labels\n",
    "plt.rc('xtick', labelsize=SMALL_SIZE)    # fontsize of the tick labels\n",
    "plt.rc('ytick', labelsize=SMALL_SIZE)    # fontsize of the tick labels\n",
    "plt.rc('legend', fontsize=SMALL_SIZE)    # legend fontsize\n",
    "plt.rc('figure', titlesize=BIGGER_SIZE)  # fontsize of the figure title\n",
    "\n",
    "SF_PS2=np.array([0.5,1])"
   ]
  },
  {
   "cell_type": "markdown",
   "metadata": {},
   "source": [
    "## Inspect what variables are inside the file"
   ]
  },
  {
   "cell_type": "code",
   "execution_count": 3,
   "metadata": {},
   "outputs": [],
   "source": [
    "# file = uproot.open(\"/work/lb8075/PhaseSpaces/PS2/PhS2_10x10_p1_Gamma_v3/output3.root\")\n",
    "# # print(file.keys())\n",
    "# print(file['PhaseSpace'].keys())\n",
    "# file = uproot.open(\"/work/lb8075/PhaseSpaces/PS2/PhS2_20x20_p1_Gamma_v3/output3.root\")\n",
    "# # print(file.keys())\n",
    "# print(file['PhaseSpace'].keys())\n",
    "# file = uproot.open(\"/work/lb8075/PhaseSpaces/PS2/PhS2_30x30_p1_Gamma_v3/output3.root\")\n",
    "# # print(file.keys())\n",
    "# print(file['PhaseSpace'].keys())\n",
    "# file = uproot.open(\"/work/lb8075/PhaseSpaces/PS2/PhS2_40x40_p1_Gamma_v3/output3.root\")\n",
    "# # print(file.keys())\n",
    "# print(file['PhaseSpace'].keys())"
   ]
  },
  {
   "cell_type": "markdown",
   "metadata": {},
   "source": [
    "## Load root files. \n",
    "#### * loads all files \n",
    "#### Here I am creating a pandas data frame for each fieldsize/dataset and storing it in a dictionary where you access the pandas"
   ]
  },
  {
   "cell_type": "code",
   "execution_count": 2,
   "metadata": {},
   "outputs": [
    {
     "name": "stdout",
     "output_type": "stream",
     "text": [
      "/work/lb8075/PhaseSpaces/PS2/PhS2_10x10_p1_Gamma_v3/Skimmed_output_*6.root   \n",
      "\n",
      "/work/lb8075/PhaseSpaces/PS2/PhS2_10x10_p1_Elec_v3/Skimmed_output_*.root   \n",
      "\n",
      "/work/lb8075/PhaseSpaces/PS2/PhS2_10x10_p1_ElecFromPhS1/Skimmed_output_*.root   \n",
      "\n",
      "9806340\n",
      "19132572\n"
     ]
    }
   ],
   "source": [
    "filenames_g=[\n",
    "    \"/work/lb8075/PhaseSpaces/PS2/PhS2_10x10_p1_Gamma_v3/Skimmed_output_*6.root\",\\\n",
    "#     \"/work/lb8075/PhaseSpaces/PS2/PhS2_20x20_p1_Gamma_v3/Skimmed_output_6.root\",\\\n",
    "#     \"/work/lb8075/PhaseSpaces/PS2/PhS2_30x30_p1_Gamma_v3/Skimmed_output_6.root\",\\\n",
    "#     \"/work/lb8075/PhaseSpaces/PS2/PhS2_40x40_p1_Gamma_v3/Skimmed_output_6.root\",\\\n",
    "    \"/work/lb8075/PhaseSpaces/PS2/PhS2_10x10_p1_Elec_v3/Skimmed_output_*.root\",\\\n",
    "#     \"/work/lb8075/PhaseSpaces/PS2/PhS2_20x20_p1_Elec_v3/Skimmed_output_*.root\",\\\n",
    "#     \"/work/lb8075/PhaseSpaces/PS2/PhS2_30x30_p1_Elec_v3/Skimmed_output_*.root\",\\\n",
    "#     \"/work/lb8075/PhaseSpaces/PS2/PhS2_40x40_p1_Elec_v3/Skimmed_output_*.root\",\\\n",
    "    \"/work/lb8075/PhaseSpaces/PS2/PhS2_10x10_p1_ElecFromPhS1/Skimmed_output_*.root\",\\\n",
    "#     \"/work/lb8075/PhaseSpaces/PS2/PhS2_20x20_p1_ElecFromPhS1/Skimmed_output_*.root\",\\\n",
    "#     \"/work/lb8075/PhaseSpaces/PS2/PhS2_30x30_p1_ElecFromPhS1/Skimmed_output_*.root\",\\\n",
    "#     \"/work/lb8075/PhaseSpaces/PS2/PhS2_40x40_p1_ElecFromPhS1/Skimmed_output_*.root\"\n",
    "]\n",
    "\n",
    "\n",
    "data_frame_dict={}\n",
    "\n",
    "for files_g in filenames_g:\n",
    "    print(f\"{files_g}   \\n\")\n",
    "    ur=uproot.pandas.iterate(files_g, \"PhaseSpace\", ['X','Y','dX','dY','Weight','Ekine'])\n",
    "    #This creates a set of dataframes for each files as it iterates through the * wildcards\n",
    "    mylist=list(ur) \n",
    "    if \"ElecFromPhS1\" in files_g:\n",
    "        nomo=files_g.split('ElecFromPhS1')\n",
    "        nomo1=nomo[0]+\"Elec_v3\"+nomo[1]\n",
    "#         print(nomo[0]+\"Elec_v3\"+nomo[1])\n",
    "        tdf=pd.concat(mylist, ignore_index=True, sort=False  ,copy = False)\n",
    "        print(data_frame_dict[nomo1].size)\n",
    "        data_frame_dict[nomo1]=data_frame_dict[nomo1].append(tdf)\n",
    "        print(data_frame_dict[nomo1].size)\n",
    "\n",
    "\n",
    "    else:\n",
    "        data_frame_dict[files_g]=pd.concat(mylist, ignore_index=True, sort=False  ,copy = False)\n",
    "    #The concat method then stitches all the pandas data frames for each file together into one data frame\n",
    "    #which is then stored in a dictionary, accessed by the the key files_g, whatever the filename is\n",
    "\n",
    "filenames_g=[\n",
    "    \"/work/lb8075/PhaseSpaces/PS2/PhS2_10x10_p1_Gamma_v3/Skimmed_output_*6.root\",\\\n",
    "#     \"/work/lb8075/PhaseSpaces/PS2/PhS2_20x20_p1_Gamma_v3/Skimmed_output_6.root\",\\\n",
    "#     \"/work/lb8075/PhaseSpaces/PS2/PhS2_30x30_p1_Gamma_v3/Skimmed_output_6.root\",\\\n",
    "#     \"/work/lb8075/PhaseSpaces/PS2/PhS2_40x40_p1_Gamma_v3/Skimmed_output_6.root\",\\\n",
    "    \"/work/lb8075/PhaseSpaces/PS2/PhS2_10x10_p1_Elec_v3/Skimmed_output_*.root\",\\\n",
    "#     \"/work/lb8075/PhaseSpaces/PS2/PhS2_20x20_p1_Elec_v3/Skimmed_output_*.root\",\\\n",
    "#     \"/work/lb8075/PhaseSpaces/PS2/PhS2_30x30_p1_Elec_v3/Skimmed_output_*.root\",\\\n",
    "#     \"/work/lb8075/PhaseSpaces/PS2/PhS2_40x40_p1_Elec_v3/Skimmed_output_*.root\",\\\n",
    "#     \"/work/lb8075/PhaseSpaces/PS2/PhS2_10x10_p1_ElecFromPhS1/Skimmed_output_*.root\",\\\n",
    "#     \"/work/lb8075/PhaseSpaces/PS2/PhS2_20x20_p1_ElecFromPhS1/Skimmed_output_*.root\",\\\n",
    "#     \"/work/lb8075/PhaseSpaces/PS2/PhS2_30x30_p1_ElecFromPhS1/Skimmed_output_*.root\",\\\n",
    "#     \"/work/lb8075/PhaseSpaces/PS2/PhS2_40x40_p1_ElecFromPhS1/Skimmed_output_*.root\"\n",
    "]\n"
   ]
  },
  {
   "cell_type": "code",
   "execution_count": 21,
   "metadata": {},
   "outputs": [],
   "source": [
    "# filenames_g=[\n",
    "#     \"/work/lb8075/PhaseSpaces/PS2/PhS2_10x10_p1_Gamma_v3/Skimmed_output_*6.root\",\\\n",
    "# #     \"/work/lb8075/PhaseSpaces/PS2/PhS2_20x20_p1_Gamma_v3/Skimmed_output_6.root\",\\\n",
    "# #     \"/work/lb8075/PhaseSpaces/PS2/PhS2_30x30_p1_Gamma_v3/Skimmed_output_6.root\",\\\n",
    "# #     \"/work/lb8075/PhaseSpaces/PS2/PhS2_40x40_p1_Gamma_v3/Skimmed_output_6.root\",\\\n",
    "#     \"/work/lb8075/PhaseSpaces/PS2/PhS2_10x10_p1_Elec_v3/Skimmed_output_*.root\",\\\n",
    "# #     \"/work/lb8075/PhaseSpaces/PS2/PhS2_20x20_p1_Elec_v3/Skimmed_output_*.root\",\\\n",
    "# #     \"/work/lb8075/PhaseSpaces/PS2/PhS2_30x30_p1_Elec_v3/Skimmed_output_*.root\",\\\n",
    "# #     \"/work/lb8075/PhaseSpaces/PS2/PhS2_40x40_p1_Elec_v3/Skimmed_output_*.root\",\\\n",
    "# #     \"/work/lb8075/PhaseSpaces/PS2/PhS2_10x10_p1_ElecFromPhS1/Skimmed_output_*.root\",\\\n",
    "# #     \"/work/lb8075/PhaseSpaces/PS2/PhS2_20x20_p1_ElecFromPhS1/Skimmed_output_*.root\",\\\n",
    "# #     \"/work/lb8075/PhaseSpaces/PS2/PhS2_30x30_p1_ElecFromPhS1/Skimmed_output_*.root\",\\\n",
    "# #     \"/work/lb8075/PhaseSpaces/PS2/PhS2_40x40_p1_ElecFromPhS1/Skimmed_output_*.root\"\n",
    "# ]\n"
   ]
  },
  {
   "cell_type": "code",
   "execution_count": 5,
   "metadata": {},
   "outputs": [],
   "source": [
    "# for files_g in filenames_g:\n",
    "#     print(data_frame_dict[files_g]['ProductionVolume'].value_counts())\n",
    "for j,files_g in enumerate(filenames_g):\n",
    "\n",
    "    df=data_frame_dict[files_g]\n",
    "    data_frame_dict[files_g]['dZ']=np.sqrt(1-(pow(data_frame_dict[files_g]['dX'],2)+pow(data_frame_dict[files_g]['dY'],2)))\n",
    "    data_frame_dict[files_g]['dXdY']=(data_frame_dict[files_g].dX**2+data_frame_dict[files_g].dY**2)**0.5\n",
    "    ratioThetaXY=data_frame_dict[files_g].dXdY/data_frame_dict[files_g].dZ\n",
    "    ratioThetaX=data_frame_dict[files_g].dX/data_frame_dict[files_g].dZ\n",
    "    ratioThetaY=data_frame_dict[files_g].dY/data_frame_dict[files_g].dZ\n",
    "    data_frame_dict[files_g]['thetaXY']=ratioThetaXY.apply(math.atan)*180/3.14\n",
    "    data_frame_dict[files_g]['thetaX']=ratioThetaX.apply(math.atan)*180/3.14\n",
    "    data_frame_dict[files_g]['thetaY']=ratioThetaY.apply(math.atan)*180/3.14\n",
    "    data_frame_dict[files_g]['XY']=(data_frame_dict[files_g].X**2+data_frame_dict[files_g].Y**2)**0.5"
   ]
  },
  {
   "cell_type": "markdown",
   "metadata": {},
   "source": [
    "### Checking how many entries in files with different weights"
   ]
  },
  {
   "cell_type": "code",
   "execution_count": 6,
   "metadata": {},
   "outputs": [
    {
     "name": "stdout",
     "output_type": "stream",
     "text": [
      "PhS2_10x10_p1_Gamma_v3\n",
      "Gamma\n",
      "PhS2_10x10_p1_Elec_v3\n",
      "Elec\n"
     ]
    }
   ],
   "source": [
    "for files_g in filenames_g:\n",
    "        name=files_g.split(\"/\")[5]\n",
    "        print(files_g.split(\"/\")[5])\n",
    "        print(name.split(\"_\")[3])"
   ]
  },
  {
   "cell_type": "code",
   "execution_count": 16,
   "metadata": {
    "scrolled": true
   },
   "outputs": [
    {
     "name": "stderr",
     "output_type": "stream",
     "text": [
      "<ipython-input-16-963dadf8dd5e>:10: UserWarning: Boolean Series key will be reindexed to match DataFrame index.\n",
      "  y,x,_=plt.hist(df[df['X']<10][df['X']>-10][df['Y']<10][df['Y']>-10]['thetaY'],density=True,histtype='step',bins=(80),label=name)\n"
     ]
    },
    {
     "ename": "ValueError",
     "evalue": "cannot reindex from a duplicate axis",
     "output_type": "error",
     "traceback": [
      "\u001b[0;31m---------------------------------------------------------------------------\u001b[0m",
      "\u001b[0;31mValueError\u001b[0m                                Traceback (most recent call last)",
      "\u001b[0;32m<ipython-input-16-963dadf8dd5e>\u001b[0m in \u001b[0;36m<module>\u001b[0;34m\u001b[0m\n\u001b[1;32m      8\u001b[0m     \u001b[0mname\u001b[0m\u001b[0;34m=\u001b[0m\u001b[0mname\u001b[0m\u001b[0;34m.\u001b[0m\u001b[0msplit\u001b[0m\u001b[0;34m(\u001b[0m\u001b[0;34m\"_\"\u001b[0m\u001b[0;34m)\u001b[0m\u001b[0;34m[\u001b[0m\u001b[0;36m1\u001b[0m\u001b[0;34m]\u001b[0m\u001b[0;34m+\u001b[0m\u001b[0mname\u001b[0m\u001b[0;34m.\u001b[0m\u001b[0msplit\u001b[0m\u001b[0;34m(\u001b[0m\u001b[0;34m\"_\"\u001b[0m\u001b[0;34m)\u001b[0m\u001b[0;34m[\u001b[0m\u001b[0;36m3\u001b[0m\u001b[0;34m]\u001b[0m\u001b[0;34m\u001b[0m\u001b[0;34m\u001b[0m\u001b[0m\n\u001b[1;32m      9\u001b[0m     \u001b[0mdf\u001b[0m\u001b[0;34m=\u001b[0m\u001b[0mdata_frame_dict\u001b[0m\u001b[0;34m[\u001b[0m\u001b[0mfiles_g\u001b[0m\u001b[0;34m]\u001b[0m\u001b[0;34m\u001b[0m\u001b[0;34m\u001b[0m\u001b[0m\n\u001b[0;32m---> 10\u001b[0;31m     \u001b[0my\u001b[0m\u001b[0;34m,\u001b[0m\u001b[0mx\u001b[0m\u001b[0;34m,\u001b[0m\u001b[0m_\u001b[0m\u001b[0;34m=\u001b[0m\u001b[0mplt\u001b[0m\u001b[0;34m.\u001b[0m\u001b[0mhist\u001b[0m\u001b[0;34m(\u001b[0m\u001b[0mdf\u001b[0m\u001b[0;34m[\u001b[0m\u001b[0mdf\u001b[0m\u001b[0;34m[\u001b[0m\u001b[0;34m'X'\u001b[0m\u001b[0;34m]\u001b[0m\u001b[0;34m<\u001b[0m\u001b[0;36m10\u001b[0m\u001b[0;34m]\u001b[0m\u001b[0;34m[\u001b[0m\u001b[0mdf\u001b[0m\u001b[0;34m[\u001b[0m\u001b[0;34m'X'\u001b[0m\u001b[0;34m]\u001b[0m\u001b[0;34m>\u001b[0m\u001b[0;34m-\u001b[0m\u001b[0;36m10\u001b[0m\u001b[0;34m]\u001b[0m\u001b[0;34m[\u001b[0m\u001b[0mdf\u001b[0m\u001b[0;34m[\u001b[0m\u001b[0;34m'Y'\u001b[0m\u001b[0;34m]\u001b[0m\u001b[0;34m<\u001b[0m\u001b[0;36m10\u001b[0m\u001b[0;34m]\u001b[0m\u001b[0;34m[\u001b[0m\u001b[0mdf\u001b[0m\u001b[0;34m[\u001b[0m\u001b[0;34m'Y'\u001b[0m\u001b[0;34m]\u001b[0m\u001b[0;34m>\u001b[0m\u001b[0;34m-\u001b[0m\u001b[0;36m10\u001b[0m\u001b[0;34m]\u001b[0m\u001b[0;34m[\u001b[0m\u001b[0;34m'thetaY'\u001b[0m\u001b[0;34m]\u001b[0m\u001b[0;34m,\u001b[0m\u001b[0mdensity\u001b[0m\u001b[0;34m=\u001b[0m\u001b[0;32mTrue\u001b[0m\u001b[0;34m,\u001b[0m\u001b[0mhisttype\u001b[0m\u001b[0;34m=\u001b[0m\u001b[0;34m'step'\u001b[0m\u001b[0;34m,\u001b[0m\u001b[0mbins\u001b[0m\u001b[0;34m=\u001b[0m\u001b[0;34m(\u001b[0m\u001b[0;36m80\u001b[0m\u001b[0;34m)\u001b[0m\u001b[0;34m,\u001b[0m\u001b[0mlabel\u001b[0m\u001b[0;34m=\u001b[0m\u001b[0mname\u001b[0m\u001b[0;34m)\u001b[0m\u001b[0;34m\u001b[0m\u001b[0;34m\u001b[0m\u001b[0m\n\u001b[0m\u001b[1;32m     11\u001b[0m \u001b[0;34m\u001b[0m\u001b[0m\n\u001b[1;32m     12\u001b[0m \u001b[0;31m# plt.yscale('log')\u001b[0m\u001b[0;34m\u001b[0m\u001b[0;34m\u001b[0m\u001b[0;34m\u001b[0m\u001b[0m\n",
      "\u001b[0;32m~/.conda/envs/KDEpy/lib/python3.8/site-packages/pandas/core/frame.py\u001b[0m in \u001b[0;36m__getitem__\u001b[0;34m(self, key)\u001b[0m\n\u001b[1;32m   2888\u001b[0m         \u001b[0;31m# Do we have a (boolean) 1d indexer?\u001b[0m\u001b[0;34m\u001b[0m\u001b[0;34m\u001b[0m\u001b[0;34m\u001b[0m\u001b[0m\n\u001b[1;32m   2889\u001b[0m         \u001b[0;32mif\u001b[0m \u001b[0mcom\u001b[0m\u001b[0;34m.\u001b[0m\u001b[0mis_bool_indexer\u001b[0m\u001b[0;34m(\u001b[0m\u001b[0mkey\u001b[0m\u001b[0;34m)\u001b[0m\u001b[0;34m:\u001b[0m\u001b[0;34m\u001b[0m\u001b[0;34m\u001b[0m\u001b[0m\n\u001b[0;32m-> 2890\u001b[0;31m             \u001b[0;32mreturn\u001b[0m \u001b[0mself\u001b[0m\u001b[0;34m.\u001b[0m\u001b[0m_getitem_bool_array\u001b[0m\u001b[0;34m(\u001b[0m\u001b[0mkey\u001b[0m\u001b[0;34m)\u001b[0m\u001b[0;34m\u001b[0m\u001b[0;34m\u001b[0m\u001b[0m\n\u001b[0m\u001b[1;32m   2891\u001b[0m \u001b[0;34m\u001b[0m\u001b[0m\n\u001b[1;32m   2892\u001b[0m         \u001b[0;31m# We are left with two options: a single key, and a collection of keys,\u001b[0m\u001b[0;34m\u001b[0m\u001b[0;34m\u001b[0m\u001b[0;34m\u001b[0m\u001b[0m\n",
      "\u001b[0;32m~/.conda/envs/KDEpy/lib/python3.8/site-packages/pandas/core/frame.py\u001b[0m in \u001b[0;36m_getitem_bool_array\u001b[0;34m(self, key)\u001b[0m\n\u001b[1;32m   2940\u001b[0m         \u001b[0;31m# check_bool_indexer will throw exception if Series key cannot\u001b[0m\u001b[0;34m\u001b[0m\u001b[0;34m\u001b[0m\u001b[0;34m\u001b[0m\u001b[0m\n\u001b[1;32m   2941\u001b[0m         \u001b[0;31m# be reindexed to match DataFrame rows\u001b[0m\u001b[0;34m\u001b[0m\u001b[0;34m\u001b[0m\u001b[0;34m\u001b[0m\u001b[0m\n\u001b[0;32m-> 2942\u001b[0;31m         \u001b[0mkey\u001b[0m \u001b[0;34m=\u001b[0m \u001b[0mcheck_bool_indexer\u001b[0m\u001b[0;34m(\u001b[0m\u001b[0mself\u001b[0m\u001b[0;34m.\u001b[0m\u001b[0mindex\u001b[0m\u001b[0;34m,\u001b[0m \u001b[0mkey\u001b[0m\u001b[0;34m)\u001b[0m\u001b[0;34m\u001b[0m\u001b[0;34m\u001b[0m\u001b[0m\n\u001b[0m\u001b[1;32m   2943\u001b[0m         \u001b[0mindexer\u001b[0m \u001b[0;34m=\u001b[0m \u001b[0mkey\u001b[0m\u001b[0;34m.\u001b[0m\u001b[0mnonzero\u001b[0m\u001b[0;34m(\u001b[0m\u001b[0;34m)\u001b[0m\u001b[0;34m[\u001b[0m\u001b[0;36m0\u001b[0m\u001b[0;34m]\u001b[0m\u001b[0;34m\u001b[0m\u001b[0;34m\u001b[0m\u001b[0m\n\u001b[1;32m   2944\u001b[0m         \u001b[0;32mreturn\u001b[0m \u001b[0mself\u001b[0m\u001b[0;34m.\u001b[0m\u001b[0m_take_with_is_copy\u001b[0m\u001b[0;34m(\u001b[0m\u001b[0mindexer\u001b[0m\u001b[0;34m,\u001b[0m \u001b[0maxis\u001b[0m\u001b[0;34m=\u001b[0m\u001b[0;36m0\u001b[0m\u001b[0;34m)\u001b[0m\u001b[0;34m\u001b[0m\u001b[0;34m\u001b[0m\u001b[0m\n",
      "\u001b[0;32m~/.conda/envs/KDEpy/lib/python3.8/site-packages/pandas/core/indexing.py\u001b[0m in \u001b[0;36mcheck_bool_indexer\u001b[0;34m(index, key)\u001b[0m\n\u001b[1;32m   2179\u001b[0m     \u001b[0mresult\u001b[0m \u001b[0;34m=\u001b[0m \u001b[0mkey\u001b[0m\u001b[0;34m\u001b[0m\u001b[0;34m\u001b[0m\u001b[0m\n\u001b[1;32m   2180\u001b[0m     \u001b[0;32mif\u001b[0m \u001b[0misinstance\u001b[0m\u001b[0;34m(\u001b[0m\u001b[0mkey\u001b[0m\u001b[0;34m,\u001b[0m \u001b[0mABCSeries\u001b[0m\u001b[0;34m)\u001b[0m \u001b[0;32mand\u001b[0m \u001b[0;32mnot\u001b[0m \u001b[0mkey\u001b[0m\u001b[0;34m.\u001b[0m\u001b[0mindex\u001b[0m\u001b[0;34m.\u001b[0m\u001b[0mequals\u001b[0m\u001b[0;34m(\u001b[0m\u001b[0mindex\u001b[0m\u001b[0;34m)\u001b[0m\u001b[0;34m:\u001b[0m\u001b[0;34m\u001b[0m\u001b[0;34m\u001b[0m\u001b[0m\n\u001b[0;32m-> 2181\u001b[0;31m         \u001b[0mresult\u001b[0m \u001b[0;34m=\u001b[0m \u001b[0mresult\u001b[0m\u001b[0;34m.\u001b[0m\u001b[0mreindex\u001b[0m\u001b[0;34m(\u001b[0m\u001b[0mindex\u001b[0m\u001b[0;34m)\u001b[0m\u001b[0;34m\u001b[0m\u001b[0;34m\u001b[0m\u001b[0m\n\u001b[0m\u001b[1;32m   2182\u001b[0m         \u001b[0mmask\u001b[0m \u001b[0;34m=\u001b[0m \u001b[0misna\u001b[0m\u001b[0;34m(\u001b[0m\u001b[0mresult\u001b[0m\u001b[0;34m.\u001b[0m\u001b[0m_values\u001b[0m\u001b[0;34m)\u001b[0m\u001b[0;34m\u001b[0m\u001b[0;34m\u001b[0m\u001b[0m\n\u001b[1;32m   2183\u001b[0m         \u001b[0;32mif\u001b[0m \u001b[0mmask\u001b[0m\u001b[0;34m.\u001b[0m\u001b[0many\u001b[0m\u001b[0;34m(\u001b[0m\u001b[0;34m)\u001b[0m\u001b[0;34m:\u001b[0m\u001b[0;34m\u001b[0m\u001b[0;34m\u001b[0m\u001b[0m\n",
      "\u001b[0;32m~/.conda/envs/KDEpy/lib/python3.8/site-packages/pandas/core/series.py\u001b[0m in \u001b[0;36mreindex\u001b[0;34m(self, index, **kwargs)\u001b[0m\n\u001b[1;32m   4397\u001b[0m     )\n\u001b[1;32m   4398\u001b[0m     \u001b[0;32mdef\u001b[0m \u001b[0mreindex\u001b[0m\u001b[0;34m(\u001b[0m\u001b[0mself\u001b[0m\u001b[0;34m,\u001b[0m \u001b[0mindex\u001b[0m\u001b[0;34m=\u001b[0m\u001b[0;32mNone\u001b[0m\u001b[0;34m,\u001b[0m \u001b[0;34m**\u001b[0m\u001b[0mkwargs\u001b[0m\u001b[0;34m)\u001b[0m\u001b[0;34m:\u001b[0m\u001b[0;34m\u001b[0m\u001b[0;34m\u001b[0m\u001b[0m\n\u001b[0;32m-> 4399\u001b[0;31m         \u001b[0;32mreturn\u001b[0m \u001b[0msuper\u001b[0m\u001b[0;34m(\u001b[0m\u001b[0;34m)\u001b[0m\u001b[0;34m.\u001b[0m\u001b[0mreindex\u001b[0m\u001b[0;34m(\u001b[0m\u001b[0mindex\u001b[0m\u001b[0;34m=\u001b[0m\u001b[0mindex\u001b[0m\u001b[0;34m,\u001b[0m \u001b[0;34m**\u001b[0m\u001b[0mkwargs\u001b[0m\u001b[0;34m)\u001b[0m\u001b[0;34m\u001b[0m\u001b[0;34m\u001b[0m\u001b[0m\n\u001b[0m\u001b[1;32m   4400\u001b[0m \u001b[0;34m\u001b[0m\u001b[0m\n\u001b[1;32m   4401\u001b[0m     def drop(\n",
      "\u001b[0;32m~/.conda/envs/KDEpy/lib/python3.8/site-packages/pandas/core/generic.py\u001b[0m in \u001b[0;36mreindex\u001b[0;34m(self, *args, **kwargs)\u001b[0m\n\u001b[1;32m   4450\u001b[0m \u001b[0;34m\u001b[0m\u001b[0m\n\u001b[1;32m   4451\u001b[0m         \u001b[0;31m# perform the reindex on the axes\u001b[0m\u001b[0;34m\u001b[0m\u001b[0;34m\u001b[0m\u001b[0;34m\u001b[0m\u001b[0m\n\u001b[0;32m-> 4452\u001b[0;31m         return self._reindex_axes(\n\u001b[0m\u001b[1;32m   4453\u001b[0m             \u001b[0maxes\u001b[0m\u001b[0;34m,\u001b[0m \u001b[0mlevel\u001b[0m\u001b[0;34m,\u001b[0m \u001b[0mlimit\u001b[0m\u001b[0;34m,\u001b[0m \u001b[0mtolerance\u001b[0m\u001b[0;34m,\u001b[0m \u001b[0mmethod\u001b[0m\u001b[0;34m,\u001b[0m \u001b[0mfill_value\u001b[0m\u001b[0;34m,\u001b[0m \u001b[0mcopy\u001b[0m\u001b[0;34m\u001b[0m\u001b[0;34m\u001b[0m\u001b[0m\n\u001b[1;32m   4454\u001b[0m         ).__finalize__(self, method=\"reindex\")\n",
      "\u001b[0;32m~/.conda/envs/KDEpy/lib/python3.8/site-packages/pandas/core/generic.py\u001b[0m in \u001b[0;36m_reindex_axes\u001b[0;34m(self, axes, level, limit, tolerance, method, fill_value, copy)\u001b[0m\n\u001b[1;32m   4470\u001b[0m \u001b[0;34m\u001b[0m\u001b[0m\n\u001b[1;32m   4471\u001b[0m             \u001b[0maxis\u001b[0m \u001b[0;34m=\u001b[0m \u001b[0mself\u001b[0m\u001b[0;34m.\u001b[0m\u001b[0m_get_axis_number\u001b[0m\u001b[0;34m(\u001b[0m\u001b[0ma\u001b[0m\u001b[0;34m)\u001b[0m\u001b[0;34m\u001b[0m\u001b[0;34m\u001b[0m\u001b[0m\n\u001b[0;32m-> 4472\u001b[0;31m             obj = obj._reindex_with_indexers(\n\u001b[0m\u001b[1;32m   4473\u001b[0m                 \u001b[0;34m{\u001b[0m\u001b[0maxis\u001b[0m\u001b[0;34m:\u001b[0m \u001b[0;34m[\u001b[0m\u001b[0mnew_index\u001b[0m\u001b[0;34m,\u001b[0m \u001b[0mindexer\u001b[0m\u001b[0;34m]\u001b[0m\u001b[0;34m}\u001b[0m\u001b[0;34m,\u001b[0m\u001b[0;34m\u001b[0m\u001b[0;34m\u001b[0m\u001b[0m\n\u001b[1;32m   4474\u001b[0m                 \u001b[0mfill_value\u001b[0m\u001b[0;34m=\u001b[0m\u001b[0mfill_value\u001b[0m\u001b[0;34m,\u001b[0m\u001b[0;34m\u001b[0m\u001b[0;34m\u001b[0m\u001b[0m\n",
      "\u001b[0;32m~/.conda/envs/KDEpy/lib/python3.8/site-packages/pandas/core/generic.py\u001b[0m in \u001b[0;36m_reindex_with_indexers\u001b[0;34m(self, reindexers, fill_value, copy, allow_dups)\u001b[0m\n\u001b[1;32m   4513\u001b[0m \u001b[0;34m\u001b[0m\u001b[0m\n\u001b[1;32m   4514\u001b[0m             \u001b[0;31m# TODO: speed up on homogeneous DataFrame objects\u001b[0m\u001b[0;34m\u001b[0m\u001b[0;34m\u001b[0m\u001b[0;34m\u001b[0m\u001b[0m\n\u001b[0;32m-> 4515\u001b[0;31m             new_data = new_data.reindex_indexer(\n\u001b[0m\u001b[1;32m   4516\u001b[0m                 \u001b[0mindex\u001b[0m\u001b[0;34m,\u001b[0m\u001b[0;34m\u001b[0m\u001b[0;34m\u001b[0m\u001b[0m\n\u001b[1;32m   4517\u001b[0m                 \u001b[0mindexer\u001b[0m\u001b[0;34m,\u001b[0m\u001b[0;34m\u001b[0m\u001b[0;34m\u001b[0m\u001b[0m\n",
      "\u001b[0;32m~/.conda/envs/KDEpy/lib/python3.8/site-packages/pandas/core/internals/managers.py\u001b[0m in \u001b[0;36mreindex_indexer\u001b[0;34m(self, new_axis, indexer, axis, fill_value, allow_dups, copy)\u001b[0m\n\u001b[1;32m   1241\u001b[0m         \u001b[0;31m# some axes don't allow reindexing with dups\u001b[0m\u001b[0;34m\u001b[0m\u001b[0;34m\u001b[0m\u001b[0;34m\u001b[0m\u001b[0m\n\u001b[1;32m   1242\u001b[0m         \u001b[0;32mif\u001b[0m \u001b[0;32mnot\u001b[0m \u001b[0mallow_dups\u001b[0m\u001b[0;34m:\u001b[0m\u001b[0;34m\u001b[0m\u001b[0;34m\u001b[0m\u001b[0m\n\u001b[0;32m-> 1243\u001b[0;31m             \u001b[0mself\u001b[0m\u001b[0;34m.\u001b[0m\u001b[0maxes\u001b[0m\u001b[0;34m[\u001b[0m\u001b[0maxis\u001b[0m\u001b[0;34m]\u001b[0m\u001b[0;34m.\u001b[0m\u001b[0m_can_reindex\u001b[0m\u001b[0;34m(\u001b[0m\u001b[0mindexer\u001b[0m\u001b[0;34m)\u001b[0m\u001b[0;34m\u001b[0m\u001b[0;34m\u001b[0m\u001b[0m\n\u001b[0m\u001b[1;32m   1244\u001b[0m \u001b[0;34m\u001b[0m\u001b[0m\n\u001b[1;32m   1245\u001b[0m         \u001b[0;32mif\u001b[0m \u001b[0maxis\u001b[0m \u001b[0;34m>=\u001b[0m \u001b[0mself\u001b[0m\u001b[0;34m.\u001b[0m\u001b[0mndim\u001b[0m\u001b[0;34m:\u001b[0m\u001b[0;34m\u001b[0m\u001b[0;34m\u001b[0m\u001b[0m\n",
      "\u001b[0;32m~/.conda/envs/KDEpy/lib/python3.8/site-packages/pandas/core/indexes/base.py\u001b[0m in \u001b[0;36m_can_reindex\u001b[0;34m(self, indexer)\u001b[0m\n\u001b[1;32m   3281\u001b[0m         \u001b[0;31m# trying to reindex on an axis with duplicates\u001b[0m\u001b[0;34m\u001b[0m\u001b[0;34m\u001b[0m\u001b[0;34m\u001b[0m\u001b[0m\n\u001b[1;32m   3282\u001b[0m         \u001b[0;32mif\u001b[0m \u001b[0;32mnot\u001b[0m \u001b[0mself\u001b[0m\u001b[0;34m.\u001b[0m\u001b[0mis_unique\u001b[0m \u001b[0;32mand\u001b[0m \u001b[0mlen\u001b[0m\u001b[0;34m(\u001b[0m\u001b[0mindexer\u001b[0m\u001b[0;34m)\u001b[0m\u001b[0;34m:\u001b[0m\u001b[0;34m\u001b[0m\u001b[0;34m\u001b[0m\u001b[0m\n\u001b[0;32m-> 3283\u001b[0;31m             \u001b[0;32mraise\u001b[0m \u001b[0mValueError\u001b[0m\u001b[0;34m(\u001b[0m\u001b[0;34m\"cannot reindex from a duplicate axis\"\u001b[0m\u001b[0;34m)\u001b[0m\u001b[0;34m\u001b[0m\u001b[0;34m\u001b[0m\u001b[0m\n\u001b[0m\u001b[1;32m   3284\u001b[0m \u001b[0;34m\u001b[0m\u001b[0m\n\u001b[1;32m   3285\u001b[0m     \u001b[0;32mdef\u001b[0m \u001b[0mreindex\u001b[0m\u001b[0;34m(\u001b[0m\u001b[0mself\u001b[0m\u001b[0;34m,\u001b[0m \u001b[0mtarget\u001b[0m\u001b[0;34m,\u001b[0m \u001b[0mmethod\u001b[0m\u001b[0;34m=\u001b[0m\u001b[0;32mNone\u001b[0m\u001b[0;34m,\u001b[0m \u001b[0mlevel\u001b[0m\u001b[0;34m=\u001b[0m\u001b[0;32mNone\u001b[0m\u001b[0;34m,\u001b[0m \u001b[0mlimit\u001b[0m\u001b[0;34m=\u001b[0m\u001b[0;32mNone\u001b[0m\u001b[0;34m,\u001b[0m \u001b[0mtolerance\u001b[0m\u001b[0;34m=\u001b[0m\u001b[0;32mNone\u001b[0m\u001b[0;34m)\u001b[0m\u001b[0;34m:\u001b[0m\u001b[0;34m\u001b[0m\u001b[0;34m\u001b[0m\u001b[0m\n",
      "\u001b[0;31mValueError\u001b[0m: cannot reindex from a duplicate axis"
     ]
    },
    {
     "data": {
      "image/png": "[encoded data removed]",
      "text/plain": [
       "<Figure size 1080x504 with 1 Axes>"
      ]
     },
     "metadata": {
      "needs_background": "light"
     },
     "output_type": "display_data"
    }
   ],
   "source": [
    "fig,ax=plt.subplots(1,1,figsize=(15,7))\n",
    "\n",
    "for files_g in filenames_g:\n",
    "    if \"Gamma\" in files_g:\n",
    "        continue\n",
    "\n",
    "    name=files_g.split(\"/\")[5]\n",
    "    name=name.split(\"_\")[1]+name.split(\"_\")[3]\n",
    "    df=data_frame_dict[files_g]\n",
    "    y,x,_=plt.hist(df[df['X']<10][df['X']>-10][df['Y']<10][df['Y']>-10]['thetaY'],density=True,histtype='step',bins=(80),label=name)\n",
    "\n",
    "# plt.yscale('log')\n",
    "plt.legend()\n",
    "# plt.xlim(0,5.8)\n",
    "# plt.ylim(0.001,1.2)\n",
    "plt.show()\n",
    "fig.savefig(\"Phase2_Ekine_all.png\")\n"
   ]
  },
  {
   "cell_type": "code",
   "execution_count": 11,
   "metadata": {},
   "outputs": [
    {
     "name": "stdout",
     "output_type": "stream",
     "text": [
      "[ 7.35892729 53.28182684  7.54934    ...  2.88928848  2.95837201\n",
      " 17.04854478]\n"
     ]
    },
    {
     "name": "stderr",
     "output_type": "stream",
     "text": [
      "<ipython-input-11-51678e8eb10f>:1: UserWarning: Boolean Series key will be reindexed to match DataFrame index.\n",
      "  print(df[df['X']<10][df['X']>-10][df['Y']<10][df['Y']>-10]['thetaXY'].to_numpy())\n",
      "<ipython-input-11-51678e8eb10f>:1: UserWarning: Boolean Series key will be reindexed to match DataFrame index.\n",
      "  print(df[df['X']<10][df['X']>-10][df['Y']<10][df['Y']>-10]['thetaXY'].to_numpy())\n",
      "<ipython-input-11-51678e8eb10f>:1: UserWarning: Boolean Series key will be reindexed to match DataFrame index.\n",
      "  print(df[df['X']<10][df['X']>-10][df['Y']<10][df['Y']>-10]['thetaXY'].to_numpy())\n"
     ]
    }
   ],
   "source": [
    "print(df[df['X']<10][df['X']>-10][df['Y']<10][df['Y']>-10]['thetaXY'].to_numpy())"
   ]
  },
  {
   "cell_type": "code",
   "execution_count": 12,
   "metadata": {
    "scrolled": false
   },
   "outputs": [
    {
     "name": "stderr",
     "output_type": "stream",
     "text": [
      "<ipython-input-12-67f373350101>:12: UserWarning: Boolean Series key will be reindexed to match DataFrame index.\n",
      "  both=np.append(both,df[df['X']<10][df['X']>-10][df['Y']<10][df['Y']>-10]['thetaXY'].to_numpy())\n",
      "<ipython-input-12-67f373350101>:12: UserWarning: Boolean Series key will be reindexed to match DataFrame index.\n",
      "  both=np.append(both,df[df['X']<10][df['X']>-10][df['Y']<10][df['Y']>-10]['thetaXY'].to_numpy())\n",
      "<ipython-input-12-67f373350101>:12: UserWarning: Boolean Series key will be reindexed to match DataFrame index.\n",
      "  both=np.append(both,df[df['X']<10][df['X']>-10][df['Y']<10][df['Y']>-10]['thetaXY'].to_numpy())\n",
      "<ipython-input-12-67f373350101>:12: UserWarning: Boolean Series key will be reindexed to match DataFrame index.\n",
      "  both=np.append(both,df[df['X']<10][df['X']>-10][df['Y']<10][df['Y']>-10]['thetaXY'].to_numpy())\n",
      "<ipython-input-12-67f373350101>:12: UserWarning: Boolean Series key will be reindexed to match DataFrame index.\n",
      "  both=np.append(both,df[df['X']<10][df['X']>-10][df['Y']<10][df['Y']>-10]['thetaXY'].to_numpy())\n",
      "<ipython-input-12-67f373350101>:12: UserWarning: Boolean Series key will be reindexed to match DataFrame index.\n",
      "  both=np.append(both,df[df['X']<10][df['X']>-10][df['Y']<10][df['Y']>-10]['thetaXY'].to_numpy())\n"
     ]
    },
    {
     "data": {
      "image/png": "[encoded data removed]",
      "text/plain": [
       "<Figure size 1080x504 with 1 Axes>"
      ]
     },
     "metadata": {
      "needs_background": "light"
     },
     "output_type": "display_data"
    }
   ],
   "source": [
    "fig,ax=plt.subplots(1,1,figsize=(15,7))\n",
    "both=np.array([])\n",
    "\n",
    "for files_g in filenames_g:\n",
    "    if \"Gamma\" in files_g:\n",
    "        continue\n",
    "    if \"10x10\" not in files_g:\n",
    "        continue\n",
    "    name=files_g.split(\"/\")[5]\n",
    "    name=name.split(\"_\")[3]\n",
    "    df=data_frame_dict[files_g]\n",
    "    both=np.append(both,df[df['X']<10][df['X']>-10][df['Y']<10][df['Y']>-10]['thetaXY'].to_numpy())\n",
    "y,x,_=plt.hist(both,density=True,histtype='step',bins=(80),label=name)\n",
    "\n",
    "    \n",
    "# plt.yscale('log')\n",
    "plt.legend()\n",
    "# plt.xlim(0,5.8)\n",
    "# plt.ylim(0.001,1.2)\n",
    "plt.show()\n",
    "fig.savefig(\"Phase2_Ekine_all.png\")"
   ]
  },
  {
   "cell_type": "code",
   "execution_count": 6,
   "metadata": {},
   "outputs": [
    {
     "name": "stdout",
     "output_type": "stream",
     "text": [
      "1.0    634225\n",
      "Name: Weight, dtype: int64\n",
      "1.0    2778829\n",
      "Name: Weight, dtype: int64\n",
      "1.0    6634819\n",
      "Name: Weight, dtype: int64\n",
      "1.0    12618049\n",
      "Name: Weight, dtype: int64\n",
      "1.0    8177\n",
      "Name: Weight, dtype: int64\n",
      "1.0    35211\n",
      "Name: Weight, dtype: int64\n",
      "1.0    71835\n",
      "Name: Weight, dtype: int64\n",
      "1.0    113100\n",
      "Name: Weight, dtype: int64\n",
      "1.0    1584\n",
      "Name: Weight, dtype: int64\n",
      "1.0    8274\n",
      "Name: Weight, dtype: int64\n",
      "1.0    18400\n",
      "Name: Weight, dtype: int64\n",
      "1.0    30184\n",
      "Name: Weight, dtype: int64\n"
     ]
    }
   ],
   "source": [
    "for files_g in filenames_g:\n",
    "    print(data_frame_dict[files_g]['Weight'].value_counts())"
   ]
  },
  {
   "cell_type": "markdown",
   "metadata": {},
   "source": [
    "### ..and total entries (without taking into account the weight)"
   ]
  },
  {
   "cell_type": "code",
   "execution_count": 7,
   "metadata": {},
   "outputs": [
    {
     "name": "stdout",
     "output_type": "stream",
     "text": [
      "634225\n",
      "2778829\n",
      "6634819\n",
      "12618049\n",
      "8177\n",
      "35211\n",
      "71835\n",
      "113100\n",
      "1584\n",
      "8274\n",
      "18400\n",
      "30184\n"
     ]
    }
   ],
   "source": [
    "for files_g in filenames_g:\n",
    "    print(data_frame_dict[files_g]['X'].count())"
   ]
  },
  {
   "cell_type": "code",
   "execution_count": 8,
   "metadata": {},
   "outputs": [
    {
     "name": "stdout",
     "output_type": "stream",
     "text": [
      "362598 634225 0.5717182387953802\n",
      "368652 2778829 0.1326645144411549\n",
      "368967 6634819 0.055610710706652286\n",
      "368236 12618049 0.029183275481019292\n",
      "2293 8177 0.28042069218539806\n",
      "3851 35211 0.10936923120615717\n",
      "4257 71835 0.059260806013781586\n",
      "4145 113100 0.036648983200707336\n",
      "636 1584 0.4015151515151515\n",
      "1060 8274 0.12811215856901137\n",
      "1242 18400 0.0675\n",
      "1258 30184 0.041677710045056986\n"
     ]
    }
   ],
   "source": [
    "for files_g in filenames_g:\n",
    "    sub_area=data_frame_dict[files_g]['X'][abs(data_frame_dict[files_g]['X'])<20][abs(data_frame_dict[files_g]['Y'])<20].count()\n",
    "    total_area=data_frame_dict[files_g]['X'].count()\n",
    "    print(sub_area,total_area,sub_area/total_area)"
   ]
  },
  {
   "cell_type": "markdown",
   "metadata": {},
   "source": [
    "### ..and with the weight, so we take into account the biasing "
   ]
  },
  {
   "cell_type": "code",
   "execution_count": 9,
   "metadata": {},
   "outputs": [
    {
     "name": "stdout",
     "output_type": "stream",
     "text": [
      "634225.0\n",
      "2778829.0\n",
      "6634819.0\n",
      "12618049.0\n",
      "8177.0\n",
      "35211.0\n",
      "71835.0\n",
      "113100.0\n",
      "1584.0\n",
      "8274.0\n",
      "18400.0\n",
      "30184.0\n"
     ]
    }
   ],
   "source": [
    "for files_g in filenames_g:\n",
    "    df=data_frame_dict[files_g]\n",
    "    print(df['Weight'].sum(axis = 0, skipna = True) ) \n",
    "    #skipping if there are any NANs\n"
   ]
  },
  {
   "cell_type": "code",
   "execution_count": 10,
   "metadata": {},
   "outputs": [],
   "source": [
    "# # for files_g in filenames_g:\n",
    "# plt.subplots(1,1,figsize=(19,4))\n",
    "# # creating a temporary dataframe to hold the one we're currently interating over\n",
    "# df=data_frame_dict[\"/work/lb8075/PhaseSpaces/PhS2_10x10_p1_Elec_v2/Skimmed_output*.root\"]\n",
    "# df['ProductionVolume']=df['ProductionVolume'].astype('str')\n",
    "\n",
    "# # plt.hist(df['ProductionVolume'])\n",
    "# # print(df.dtypes)\n",
    "# # df['ProductionVolume']=df['ProductionVolume'].astype('str')\n",
    "# # print(df.dtypes)\n",
    "\n",
    "# df['Weight'].astype('float16')\n",
    "# # print(df.dtypes)\n",
    "\n",
    "# # print(df2)\n",
    "# # _=plt.hist(df3)\n",
    "# #     plt.xlim(-100,100)\n",
    "# #     plt.ylim(-100,100)\n",
    "# #     plt.xlabel('X')\n",
    "# #     plt.ylabel('Y')\n",
    "# #     plt.colorbar()\n",
    "# # plt.show()\n",
    "# # df2=df['ProductionVolume']\n",
    "# # print(df['ProductionVolume'].dtypes)\n",
    "# # df['ProductionVolume']=df['ProductionVolume'].astype('str')\n",
    "# # print(df['ProductionVolume'].dtypes)\n",
    "\n",
    "# _=plt.hist(df['ProductionVolume'])"
   ]
  },
  {
   "cell_type": "markdown",
   "metadata": {},
   "source": [
    "### Plotting XY plane distributed electrons"
   ]
  },
  {
   "cell_type": "code",
   "execution_count": 24,
   "metadata": {
    "scrolled": false
   },
   "outputs": [
    {
     "name": "stdout",
     "output_type": "stream",
     "text": [
      "0\n",
      "0.5\n"
     ]
    },
    {
     "data": {
      "image/png": "[encoded data removed]",
      "text/plain": [
       "<Figure size 504x360 with 2 Axes>"
      ]
     },
     "metadata": {
      "needs_background": "light"
     },
     "output_type": "display_data"
    },
    {
     "name": "stdout",
     "output_type": "stream",
     "text": [
      "1\n",
      "1.0\n"
     ]
    },
    {
     "data": {
      "image/png": "[encoded data removed]",
      "text/plain": [
       "<Figure size 504x360 with 2 Axes>"
      ]
     },
     "metadata": {
      "needs_background": "light"
     },
     "output_type": "display_data"
    }
   ],
   "source": [
    "for j,files_g in enumerate(filenames_g):\n",
    "#     if j>0:\n",
    "#         continue\n",
    "    print(j)\n",
    "    print(SF_PS2[j])\n",
    "    fig,ax=plt.subplots(1,1,figsize=(7,5))\n",
    "    df=data_frame_dict[files_g]\n",
    "    weights_array=np.ones(len(df['X']))\n",
    "    weights_array*=SF_PS2[j]\n",
    "    hist=plt.hist2d(df['X'],df['Y'],weights=weights_array,bins=(80,80),vmin=0,range=[[-125,125],[-125,125]]) #range=[[-100,100],[-100,100]]\n",
    "    plt.clf()\n",
    "    plt.imshow(hist[0],extent=[-265,265,-265,265],vmin=0)\n",
    "    plt.xlabel('X (mm)')\n",
    "    plt.ylabel('Y (mm)')\n",
    "    plt.colorbar()\n",
    "    plt.show()\n",
    "    plt.pause(0.01)\n",
    "    field=files_g.split(\"_\")[1]\n",
    "    if \"amma\" in files_g:\n",
    "        particle=\"gamma\"\n",
    "    else:\n",
    "        particle=\"electron\"\n",
    "    fig.savefig(f\"../PaperImages/Paper_PhS2XY_{particle}.png\")"
   ]
  },
  {
   "cell_type": "code",
   "execution_count": null,
   "metadata": {},
   "outputs": [],
   "source": [
    "plt.imshow(hist[0],extent=[-265,265,-265,265],vmin=0)\n"
   ]
  },
  {
   "cell_type": "code",
   "execution_count": null,
   "metadata": {},
   "outputs": [],
   "source": [
    "for j,files_g in enumerate(filenames_g):\n",
    "#     if j>0:\n",
    "#         continue\n",
    "#     fig,ax=plt.subplots(1,1,figsize=(6,5))\n",
    "    df=data_frame_dict[files_g]\n",
    "    hist=plt.hist2d(df['X'],df['Y'],bins=(200,200),range=[[-125,125],[-125,125]],vmin=0) #range=[[-100,100],[-100,100]]\n",
    "    plt.imshow(hist[0],extent=[-265,265,-265,265],vmin=0)\n",
    "    plt.show()\n",
    "    plt.pause(0.01)"
   ]
  },
  {
   "cell_type": "code",
   "execution_count": null,
   "metadata": {},
   "outputs": [],
   "source": [
    "print(hist[0])\n",
    "plt.imshow(hist[0],extent=[-265,265,-265,265],vmin=0)\n",
    "plt.show()\n",
    "plt.pause(0.01)\n"
   ]
  },
  {
   "cell_type": "code",
   "execution_count": 48,
   "metadata": {},
   "outputs": [
    {
     "data": {
      "image/png": "[encoded data removed]",
      "text/plain": [
       "<Figure size 432x360 with 2 Axes>"
      ]
     },
     "metadata": {
      "needs_background": "light"
     },
     "output_type": "display_data"
    },
    {
     "data": {
      "image/png": "[encoded data removed]",
      "text/plain": [
       "<Figure size 432x360 with 2 Axes>"
      ]
     },
     "metadata": {
      "needs_background": "light"
     },
     "output_type": "display_data"
    }
   ],
   "source": [
    "for files_g in filenames_g:\n",
    "    fig,ax=plt.subplots(1,1,figsize=(6,5))\n",
    "    # creating a temporary dataframe to hold the one we're currently interating over\n",
    "    df=data_frame_dict[files_g]\n",
    "    weights_array=np.ones(len(df['X']))\n",
    "    weights_array*=SF_PS2[j]\n",
    "    _=plt.hist2d(df['thetaX'],df['thetaY'],weights=weights_array,bins=(50,50))\n",
    "#     plt.xlim(-100,100)\n",
    "#     plt.ylim(-100,100)\n",
    "    plt.xlabel(r'$\\theta_{\\rm{X}}$ ($^{\\circ}$)')\n",
    "    plt.ylabel(r'$\\theta_{\\rm{Y}}$ ($^{\\circ}$)')\n",
    "    plt.colorbar()\n",
    "    plt.show()\n",
    "    fieldsize=files_g.split('_')[1]\n",
    "    if \"amma\" in files_g:\n",
    "        particle=\"gamma\"\n",
    "    else:\n",
    "        particle=\"electron\"\n",
    "    savename=f\"../PaperImages/Phase2_e_{fieldsize}XthetaX_{particle}.png\"\n",
    "    fig.savefig(savename)"
   ]
  },
  {
   "cell_type": "code",
   "execution_count": 55,
   "metadata": {},
   "outputs": [
    {
     "data": {
      "image/png": "[encoded data removed]",
      "text/plain": [
       "<Figure size 432x360 with 2 Axes>"
      ]
     },
     "metadata": {
      "needs_background": "light"
     },
     "output_type": "display_data"
    },
    {
     "data": {
      "image/png": "[encoded data removed]",
      "text/plain": [
       "<Figure size 432x360 with 2 Axes>"
      ]
     },
     "metadata": {
      "needs_background": "light"
     },
     "output_type": "display_data"
    }
   ],
   "source": [
    "for files_g in filenames_g:\n",
    "    fig,ax=plt.subplots(1,1,figsize=(6,5))\n",
    "    # creating a temporary dataframe to hold the one we're currently interating over\n",
    "    df=data_frame_dict[files_g]\n",
    "    weights_array=np.ones(len(df['X']))\n",
    "    weights_array*=SF_PS2[j]\n",
    "    _=plt.hist2d(df['X'],df['thetaX'],bins=(100,100))\n",
    "#     plt.xlim(-100,100)\n",
    "#     plt.ylim(-100,100)\n",
    "    plt.xlabel('X (mm)')\n",
    "\n",
    "    plt.ylabel(r'$\\theta_{\\rm{X}}$ ($^{\\circ}$)')\n",
    "    plt.colorbar()\n",
    "    plt.show()\n",
    "    fieldsize=files_g.split('_')[1]\n",
    "    if \"amma\" in files_g:\n",
    "        particle=\"gamma\"\n",
    "    else:\n",
    "        particle=\"electron\"\n",
    "    savename=f\"../PaperImages/Phase2_e_{fieldsize}XthetaX_{particle}.png\"\n",
    "    fig.savefig(savename)"
   ]
  },
  {
   "cell_type": "code",
   "execution_count": 50,
   "metadata": {},
   "outputs": [
    {
     "data": {
      "image/png": "[encoded data removed]",
      "text/plain": [
       "<Figure size 432x360 with 2 Axes>"
      ]
     },
     "metadata": {
      "needs_background": "light"
     },
     "output_type": "display_data"
    },
    {
     "data": {
      "image/png": "[encoded data removed]",
      "text/plain": [
       "<Figure size 432x360 with 2 Axes>"
      ]
     },
     "metadata": {
      "needs_background": "light"
     },
     "output_type": "display_data"
    }
   ],
   "source": [
    "for files_g in filenames_g:\n",
    "    fig,ax=plt.subplots(1,1,figsize=(6,5))\n",
    "    # creating a temporary dataframe to hold the one we're currently interating over\n",
    "    df=data_frame_dict[files_g]\n",
    "    weights_array=np.ones(len(df['X']))\n",
    "    weights_array*=SF_PS2[j]\n",
    "    _=plt.hist2d(df['X'],df['thetaY'],weights=weights_array,bins=(100,100))#,vmax=8100\n",
    "#     plt.xlim(-100,100)\n",
    "#     plt.ylim(-100,100)\n",
    "    plt.xlabel('X (mm)')\n",
    "    plt.ylabel(r'$\\theta_{\\rm{Y}}$ (deg)')\n",
    "    plt.colorbar()\n",
    "    plt.show()\n",
    "    fieldsize=files_g.split('_')[1]\n",
    "    if \"amma\" in files_g:\n",
    "        particle=\"gamma\"\n",
    "    else:\n",
    "        particle=\"electron\"\n",
    "    savename=f\"../PaperImages/Phase2_e_{fieldsize}XthetaY_{particle}.png\"\n",
    "    fig.savefig(savename)"
   ]
  },
  {
   "cell_type": "code",
   "execution_count": 51,
   "metadata": {},
   "outputs": [
    {
     "data": {
      "image/png": "[encoded data removed]",
      "text/plain": [
       "<Figure size 432x360 with 2 Axes>"
      ]
     },
     "metadata": {
      "needs_background": "light"
     },
     "output_type": "display_data"
    },
    {
     "data": {
      "image/png": "[encoded data removed]",
      "text/plain": [
       "<Figure size 432x360 with 2 Axes>"
      ]
     },
     "metadata": {
      "needs_background": "light"
     },
     "output_type": "display_data"
    }
   ],
   "source": [
    "for files_g in filenames_g:\n",
    "    fig,ax=plt.subplots(1,1,figsize=(6,5))\n",
    "    # creating a temporary dataframe to hold the one we're currently interating over\n",
    "    df=data_frame_dict[files_g]\n",
    "    weights_array=np.ones(len(df['X']))\n",
    "    weights_array*=SF_PS2[j]\n",
    "    _=plt.hist2d(df['Y'],df['thetaY'],weights=weights_array,bins=(100,100))\n",
    "#     plt.xlim(-100,100)\n",
    "#     plt.ylim(-100,100)\n",
    "    plt.xlabel('Y (mm)')\n",
    "    plt.ylabel(r'$\\theta_{\\rm{Y}}$')\n",
    "    plt.colorbar()\n",
    "    plt.show()\n",
    "    fieldsize=files_g.split('_')[1]\n",
    "    if \"amma\" in files_g:\n",
    "        particle=\"gamma\"\n",
    "    else:\n",
    "        particle=\"electron\"\n",
    "    savename=f\"../PaperImages/Phase2_e_{fieldsize}YthetaY_{particle}.png\"\n",
    "    fig.savefig(savename)\n"
   ]
  },
  {
   "cell_type": "code",
   "execution_count": 52,
   "metadata": {
    "scrolled": false
   },
   "outputs": [
    {
     "data": {
      "image/png": "[encoded data removed]",
      "text/plain": [
       "<Figure size 432x360 with 2 Axes>"
      ]
     },
     "metadata": {
      "needs_background": "light"
     },
     "output_type": "display_data"
    },
    {
     "name": "stdout",
     "output_type": "stream",
     "text": [
      "../PaperImages/Phase2_e_10x10YthetaX_gamma.png\n"
     ]
    },
    {
     "data": {
      "image/png": "[encoded data removed]",
      "text/plain": [
       "<Figure size 432x360 with 2 Axes>"
      ]
     },
     "metadata": {
      "needs_background": "light"
     },
     "output_type": "display_data"
    },
    {
     "name": "stdout",
     "output_type": "stream",
     "text": [
      "../PaperImages/Phase2_e_10x10YthetaX_electron.png\n"
     ]
    }
   ],
   "source": [
    "for files_g in filenames_g:\n",
    "    fig,ax=plt.subplots(1,1,figsize=(6,5))\n",
    "    # creating a temporary dataframe to hold the one we're currently interating over\n",
    "    df=data_frame_dict[files_g]\n",
    "    weights_array=np.ones(len(df['X']))\n",
    "    weights_array*=SF_PS2[j]\n",
    "    _=plt.hist2d(df['Y'],df['thetaX'],weights=weights_array,bins=(100,100))\n",
    "#     plt.xlim(-100,100)\n",
    "#     plt.ylim(-100,100)\n",
    "    plt.xlabel('Y (mm)')\n",
    "    plt.ylabel(r'$\\theta_{\\rm{Y}}$')\n",
    "    plt.colorbar()\n",
    "    plt.show()\n",
    "    fieldsize=files_g.split('_')[1]\n",
    "    if \"amma\" in files_g:\n",
    "        particle=\"gamma\"\n",
    "    else:\n",
    "        particle=\"electron\"\n",
    "    savename=f\"../PaperImages/Phase2_e_{fieldsize}YthetaX_{particle}.png\"\n",
    "    print(savename)\n",
    "    fig.savefig(savename)\n"
   ]
  },
  {
   "cell_type": "code",
   "execution_count": 53,
   "metadata": {},
   "outputs": [
    {
     "data": {
      "image/png": "[encoded data removed]",
      "text/plain": [
       "<Figure size 432x360 with 2 Axes>"
      ]
     },
     "metadata": {
      "needs_background": "light"
     },
     "output_type": "display_data"
    },
    {
     "data": {
      "image/png": "[encoded data removed]",
      "text/plain": [
       "<Figure size 432x360 with 2 Axes>"
      ]
     },
     "metadata": {
      "needs_background": "light"
     },
     "output_type": "display_data"
    }
   ],
   "source": [
    "for files_g in filenames_g:\n",
    "    plt.subplots(1,1,figsize=(6,5))\n",
    "    df=data_frame_dict[files_g]\n",
    "    weights_array=np.ones(len(df['X']))\n",
    "    weights_array*=SF_PS2[j]\n",
    "    \n",
    "    _=plt.hist2d(df['X'],df['dX'],weights=weights_array,bins=(100,100))\n",
    "    #using _ just suppresses the output of plt.hist2d\n",
    "    plt.xlim(-80,80)\n",
    "    plt.ylim(-0.8,0.8)\n",
    "    plt.colorbar()\n",
    "    plt.show()\n"
   ]
  },
  {
   "cell_type": "code",
   "execution_count": 47,
   "metadata": {
    "scrolled": false
   },
   "outputs": [
    {
     "name": "stdout",
     "output_type": "stream",
     "text": [
      "[1.14821308e-02 3.56231324e-02 1.66093406e-01 3.52174612e-01\n",
      " 4.58803837e-01 5.01937340e-01 5.50118660e-01 5.02898030e-01\n",
      " 4.88831686e-01 4.74488461e-01 4.54574075e-01 4.36286359e-01\n",
      " 4.19012821e-01 4.00242663e-01 3.82417462e-01 3.65212096e-01\n",
      " 3.47413115e-01 3.32210933e-01 3.16660554e-01 3.02127499e-01\n",
      " 2.88718745e-01 2.75015281e-01 2.62707754e-01 2.49754174e-01\n",
      " 2.39143586e-01 2.27206281e-01 2.17680140e-01 2.06748623e-01\n",
      " 1.98026902e-01 1.90694825e-01 1.81835713e-01 1.73184261e-01\n",
      " 1.65883648e-01 1.59118966e-01 1.50932127e-01 1.46174824e-01\n",
      " 1.40040463e-01 1.33322976e-01 1.27990938e-01 1.22912707e-01\n",
      " 1.18066258e-01 1.13134857e-01 1.08057674e-01 1.04199183e-01\n",
      " 1.00251545e-01 9.63678833e-02 9.21223895e-02 8.74951370e-02\n",
      " 8.52643650e-02 8.09318218e-02 7.83350228e-02 7.51194389e-02\n",
      " 7.15588037e-02 6.81429012e-02 6.61816677e-02 6.32891105e-02\n",
      " 5.97484023e-02 5.81605373e-02 5.48107085e-02 5.26764249e-02\n",
      " 4.99632104e-02 4.77995608e-02 4.47591245e-02 4.28272570e-02\n",
      " 4.00731398e-02 3.76147808e-02 3.54637167e-02 3.30829679e-02\n",
      " 3.04788274e-02 2.77299541e-02 2.52820830e-02 2.25814539e-02\n",
      " 1.99101910e-02 1.69589016e-02 1.41796134e-02 1.04113182e-02\n",
      " 6.12177542e-03 2.35348022e-03 4.98174289e-04 4.61466710e-05] and x [0.03787835 0.11307903 0.18827972 0.2634804  0.33868108 0.41388176\n",
      " 0.48908245 0.56428313 0.63948381 0.7146845  0.78988518 0.86508586\n",
      " 0.94028654 1.01548723 1.09068791 1.16588859 1.24108927 1.31628996\n",
      " 1.39149064 1.46669132 1.541892   1.61709269 1.69229337 1.76749405\n",
      " 1.84269474 1.91789542 1.9930961  2.06829678 2.14349747 2.21869815\n",
      " 2.29389883 2.36909951 2.4443002  2.51950088 2.59470156 2.66990225\n",
      " 2.74510293 2.82030361 2.89550429 2.97070498 3.04590566 3.12110634\n",
      " 3.19630702 3.27150771 3.34670839 3.42190907 3.49710976 3.57231044\n",
      " 3.64751112 3.7227118  3.79791249 3.87311317 3.94831385 4.02351453\n",
      " 4.09871522 4.1739159  4.24911658 4.32431727 4.39951795 4.47471863\n",
      " 4.54991931 4.62512    4.70032068 4.77552136 4.85072204 4.92592273\n",
      " 5.00112341 5.07632409 5.15152478 5.22672546 5.30192614 5.37712682\n",
      " 5.45232751 5.52752819 5.60272887 5.67792955 5.75313024 5.82833092\n",
      " 5.9035316  5.97873228]\n",
      "[3.29084031e-01 4.58603011e-01 5.20867661e-01 5.51541344e-01\n",
      " 5.58582731e-01 5.50216375e-01 5.28033126e-01 5.08455500e-01\n",
      " 4.90083196e-01 4.75495250e-01 4.53108159e-01 4.34682680e-01\n",
      " 4.17741696e-01 4.02254190e-01 3.84914386e-01 3.71332353e-01\n",
      " 3.54440114e-01 3.39054528e-01 3.24289329e-01 3.12320301e-01\n",
      " 2.97271496e-01 2.86623005e-01 2.72478192e-01 2.60828219e-01\n",
      " 2.47591830e-01 2.37696665e-01 2.27154525e-01 2.14551816e-01\n",
      " 2.05418840e-01 1.98350865e-01 1.87303554e-01 1.78392144e-01\n",
      " 1.69946025e-01 1.62297546e-01 1.54356598e-01 1.46362475e-01\n",
      " 1.39990219e-01 1.31442179e-01 1.25242745e-01 1.16770037e-01\n",
      " 1.09622298e-01 1.04362307e-01 9.86104377e-02 9.31953496e-02\n",
      " 8.73504223e-02 8.16340037e-02 7.62720916e-02 7.12070788e-02\n",
      " 6.68732358e-02 6.18082230e-02 5.70755601e-02 5.30474790e-02\n",
      " 4.87623807e-02 4.56958987e-02 4.20045989e-02 3.84816897e-02\n",
      " 3.45865486e-02 3.16574380e-02 2.88258166e-02 2.54978861e-02\n",
      " 2.32423379e-02 2.16381956e-02 1.80089345e-02 1.56913477e-02\n",
      " 1.41536754e-02 1.16366786e-02 1.01433196e-02 8.18023943e-03\n",
      " 6.56280314e-03 5.36191209e-03 4.48893962e-03 3.18169659e-03\n",
      " 2.48597742e-03 1.71935693e-03 1.07238242e-03 6.55837181e-04\n",
      " 3.19055926e-04 1.19645972e-04 3.98819907e-05 2.21566615e-05] and x [0.03548462 0.10625371 0.17702279 0.24779188 0.31856096 0.38933005\n",
      " 0.46009913 0.53086821 0.6016373  0.67240638 0.74317547 0.81394455\n",
      " 0.88471363 0.95548272 1.0262518  1.09702089 1.16778997 1.23855906\n",
      " 1.30932814 1.38009722 1.45086631 1.52163539 1.59240448 1.66317356\n",
      " 1.73394264 1.80471173 1.87548081 1.9462499  2.01701898 2.08778807\n",
      " 2.15855715 2.22932623 2.30009532 2.3708644  2.44163349 2.51240257\n",
      " 2.58317165 2.65394074 2.72470982 2.79547891 2.86624799 2.93701708\n",
      " 3.00778616 3.07855524 3.14932433 3.22009341 3.2908625  3.36163158\n",
      " 3.43240066 3.50316975 3.57393883 3.64470792 3.715477   3.78624609\n",
      " 3.85701517 3.92778425 3.99855334 4.06932242 4.14009151 4.21086059\n",
      " 4.28162967 4.35239876 4.42316784 4.49393693 4.56470601 4.6354751\n",
      " 4.70624418 4.77701326 4.84778235 4.91855143 4.98932052 5.0600896\n",
      " 5.13085868 5.20162777 5.27239685 5.34316594 5.41393502 5.48470411\n",
      " 5.55547319 5.62624227]\n"
     ]
    },
    {
     "data": {
      "image/png": "[encoded data removed]",
      "text/plain": [
       "<Figure size 720x360 with 1 Axes>"
      ]
     },
     "metadata": {
      "needs_background": "light"
     },
     "output_type": "display_data"
    }
   ],
   "source": [
    "fig,ax=plt.subplots(1,1,figsize=(10,5))\n",
    "\n",
    "for files_g in filenames_g:\n",
    "        df=data_frame_dict[files_g]\n",
    "        y,x,_=plt.hist(df['Ekine'],density=True,histtype='step',bins=(80),label=files_g[30:-33])\n",
    "        print(f\"{y} and x {midpoints(x)}\")\n",
    "\n",
    "# plt.yscale('log')\n",
    "plt.legend()\n",
    "# plt.xlim(0,5.8)\n",
    "# plt.ylim(0.001,1.2)\n",
    "plt.show()\n",
    "fig.savefig(\"Phase2_Ekine_all.png\")\n",
    "\n",
    "\n",
    "    "
   ]
  },
  {
   "cell_type": "code",
   "execution_count": null,
   "metadata": {},
   "outputs": [],
   "source": [
    "print(\"hi\")"
   ]
  },
  {
   "cell_type": "code",
   "execution_count": null,
   "metadata": {
    "scrolled": false
   },
   "outputs": [],
   "source": [
    "nbins=80\n",
    "for files_g in filenames_g:\n",
    "        df=data_frame_dict[files_g]\n",
    "        y,x,_=plt.hist(df['Ekine'],density=True,histtype='step',bins=(nbins))\n",
    "        mpy=midpoints(x)\n",
    "\n",
    "#         print(f\"{midpoints(y)} and x {x}\")\n",
    "        \n",
    "        for ij in range(0,nbins):\n",
    "            print(f\"/gate/source/mybeam/gps/hist/point {mpy[ij]} {x[ij]}\")"
   ]
  },
  {
   "cell_type": "code",
   "execution_count": null,
   "metadata": {},
   "outputs": [],
   "source": [
    "for files_g in filenames_g:\n",
    "    plt.subplots(1,1,figsize=(6,5))\n",
    "    # creating a temporary dataframe to hold the one we're currently interating over\n",
    "    df=data_frame_dict[files_g]\n",
    "    _=plt.hist2d(df['X'],df['Y'],bins=(50,50),weights=df['Weight'],vmax=6000)\n",
    "#     plt.xlim(-100,100)\n",
    "#     plt.ylim(-100,100)\n",
    "    plt.xlabel('X')\n",
    "    plt.ylabel('Y')\n",
    "    plt.colorbar()\n",
    "    plt.show()\n"
   ]
  },
  {
   "cell_type": "code",
   "execution_count": null,
   "metadata": {},
   "outputs": [],
   "source": [
    "for files_g in filenames_g:\n",
    "    plt.subplots(1,1,figsize=(8,4))\n",
    "    df=data_frame_dict[files_g]\n",
    "    \n",
    "    _=plt.hist2d(df['X'],df['dX'],weights=df['Weight'],bins=(100,100),vmax=3050)\n",
    "    #using _ just suppresses the output if plt.hist2d\n",
    "    plt.xlim(-80,80)\n",
    "    plt.ylim(-0.8,0.8)\n",
    "    plt.colorbar()\n",
    "    plt.show()\n"
   ]
  },
  {
   "cell_type": "code",
   "execution_count": null,
   "metadata": {},
   "outputs": [],
   "source": [
    "for files_g in filenames_g:\n",
    "    plt.subplots(1,1,figsize=(8,4))\n",
    "    df=data_frame_dict[files_g]\n",
    "    _=plt.hist2d(df['Ekine'],df['dX'],weights=df['Weight'],bins=(300,50))\n",
    "#     plt.xlim(-80,80)\n",
    "#     plt.ylim(-0.7,0.7)\n",
    "    plt.colorbar()\n",
    "    plt.show()\n"
   ]
  },
  {
   "cell_type": "code",
   "execution_count": null,
   "metadata": {},
   "outputs": [],
   "source": [
    "plt.subplots(1,1,figsize=(10,5))\n",
    "\n",
    "for files_g in filenames_g:\n",
    "        df=data_frame_dict[files_g]\n",
    "        y,x,_=plt.hist(df['X'],histtype='step',bins=(80),label=files_g[30:-33])\n",
    "#         print(f\"{midpoints(y)} and x {x}\")\n",
    "\n",
    "# plt.yscale('log')\n",
    "plt.legend()\n",
    "# plt.xlim(0,5.8)\n",
    "# plt.ylim(0.001,1.2)\n",
    "plt.show()\n",
    "\n",
    "\n",
    "    "
   ]
  },
  {
   "cell_type": "code",
   "execution_count": null,
   "metadata": {},
   "outputs": [],
   "source": [
    "plt.subplots(1,1,figsize=(10,5))\n",
    "\n",
    "for files_g in filenames_g:\n",
    "        df=data_frame_dict[files_g]\n",
    "        y,x,_=plt.hist(df['Y'],histtype='step',bins=(80),label=files_g[30:-33])\n",
    "#         print(f\"{midpoints(y)} and x {x}\")\n",
    "\n",
    "# plt.yscale('log')\n",
    "plt.legend()\n",
    "# plt.xlim(0,5.8)\n",
    "# plt.ylim(0.001,1.2)\n",
    "plt.show()\n"
   ]
  },
  {
   "cell_type": "code",
   "execution_count": null,
   "metadata": {},
   "outputs": [],
   "source": [
    "plt.subplots(1,1,figsize=(10,5))\n",
    "\n",
    "for files_g in filenames_g:\n",
    "        df=data_frame_dict[files_g]\n",
    "        y,x,_=plt.hist(df['Y'],histtype='step',bins=(80),label=files_g[30:-33])\n",
    "        y,x,_=plt.hist(df['X'],histtype='step',bins=(80),label=files_g[30:-33])\n",
    "#         print(f\"{midpoints(y)} and x {x}\")\n",
    "\n",
    "# plt.yscale('log')\n",
    "plt.legend()\n",
    "# plt.xlim(0,5.8)\n",
    "# plt.ylim(0.001,1.2)\n",
    "plt.show()"
   ]
  },
  {
   "cell_type": "code",
   "execution_count": null,
   "metadata": {},
   "outputs": [],
   "source": [
    "plt.subplots(1,1,figsize=(10,5))\n",
    "\n",
    "for files_g in filenames_g:\n",
    "        df=data_frame_dict[files_g]\n",
    "        y,x,_=plt.hist(df['Ekine'],density=True,histtype='step',bins=(80),label=files_g[30:-33])\n",
    "#         print(f\"{midpoints(y)} and x {x}\")\n",
    "\n",
    "# plt.yscale('log')\n",
    "plt.legend()\n",
    "# plt.xlim(0,5.8)\n",
    "plt.ylim(0.001,1.2)\n",
    "plt.show()\n",
    "\n",
    "for j,yi in enumerate(y):\n",
    "    print(f\"/gate/source/mybeam/gps/hist/point {x[j]:.4f} {y[j]*1000:.2f}\")\n",
    "    \n",
    "    \n",
    "    "
   ]
  },
  {
   "cell_type": "code",
   "execution_count": null,
   "metadata": {},
   "outputs": [],
   "source": [
    "plt.subplots(1,1,figsize=(10,5))\n",
    "\n",
    "for files_g in filenames_g:\n",
    "\n",
    "        _=plt.hist(data_frame_dict[files_g]['X'],weights=data_frame_dict[files_g]['Weight'],histtype='step',bins=(80),label=files_g[30:-13])\n",
    "\n",
    "plt.yscale('log')\n",
    "plt.legend()\n",
    "# plt.xlim(0,5.8)\n",
    "# plt.ylim(0.001,1)\n",
    "plt.show()\n"
   ]
  },
  {
   "cell_type": "code",
   "execution_count": null,
   "metadata": {},
   "outputs": [],
   "source": [
    "plt.subplots(1,1,figsize=(10,5))\n",
    "\n",
    "for files_g in filenames_g:\n",
    "\n",
    "    _=plt.hist(data_frame_dict[files_g]['dX'][data_frame_dict[files_g]['X']<40][data_frame_dict[files_g]['X']>30],histtype='step',bins=(80),label=files_g[30:-13])\n",
    "\n",
    "plt.yscale('log')\n",
    "plt.legend(loc=\"upper left\")\n",
    "# plt.xlim(0,5.8)\n",
    "# plt.ylim(0.001,1)\n",
    "plt.show()\n"
   ]
  },
  {
   "cell_type": "code",
   "execution_count": null,
   "metadata": {},
   "outputs": [],
   "source": [
    "\n",
    "\n"
   ]
  },
  {
   "cell_type": "markdown",
   "metadata": {},
   "source": [
    "# Electron"
   ]
  },
  {
   "cell_type": "code",
   "execution_count": 2,
   "metadata": {},
   "outputs": [
    {
     "name": "stdout",
     "output_type": "stream",
     "text": [
      "/work/lb8075/PhaseSpaces/PS2/PhS2_10x10_p1_ElecFromPhS1/output11.root   \n",
      "\n",
      "/work/lb8075/PhaseSpaces/PS2/PhS2_20x20_p1_ElecFromPhS1/output11.root   \n",
      "\n",
      "/work/lb8075/PhaseSpaces/PS2/PhS2_30x30_p1_ElecFromPhS1/output11.root   \n",
      "\n",
      "/work/lb8075/PhaseSpaces/PS2/PhS2_40x40_p1_ElecFromPhS1/output11.root   \n",
      "\n"
     ]
    }
   ],
   "source": [
    "filenames_e=[\n",
    "#             \"/work/lb8075/PhaseSpaces/PS2/PhS2_10x10_p1_Elec_v3/output*1.root\",\\\n",
    "#             \"/work/lb8075/PhaseSpaces/PS2/PhS2_20x20_p1_Elec_v3/output*1.root\",\\\n",
    "#             \"/work/lb8075/PhaseSpaces/PS2/PhS2_30x30_p1_Elec_v3/output*1.root\",\\\n",
    "#             \"/work/lb8075/PhaseSpaces/PS2/PhS2_40x40_p1_Elec_v3/output*1.root\",\\\n",
    "            \"/work/lb8075/PhaseSpaces/PS2/PhS2_10x10_p1_ElecFromPhS1/output11.root\",\\\n",
    "            \"/work/lb8075/PhaseSpaces/PS2/PhS2_20x20_p1_ElecFromPhS1/output11.root\",\\\n",
    "            \"/work/lb8075/PhaseSpaces/PS2/PhS2_30x30_p1_ElecFromPhS1/output11.root\",\\\n",
    "            \"/work/lb8075/PhaseSpaces/PS2/PhS2_40x40_p1_ElecFromPhS1/output11.root\"\n",
    "\n",
    "]\n",
    "\n",
    "\n",
    "data_frame_dict={}\n",
    "\n",
    "for files_g in filenames_e:\n",
    "    print(f\"{files_g}   \\n\")\n",
    "\n",
    "    ur=uproot.pandas.iterate(files_g, \"PhaseSpace\", ['X','Y','dX','dY','Weight','Ekine','ProductionVolume'])\n",
    "    #This creates a set of dataframes for each files as it iterates through the * wildcards\n",
    "    mylist=list(ur)\n",
    "#     if (\"10x10\" in files_g):\n",
    "#         filename2=\"/work/lb8075/PhaseSpaces/PhS2_10x10_p1_ElecFromPhS1/output1*.root\"\n",
    "#         ur2=uproot.pandas.iterate(filename2, \"PhaseSpace\", ['X','Y','dX','dY','Weight','Ekine','ProductionVolume'])\n",
    "#         mylist2=list(ur2)\n",
    "#         mylist+=mylist2\n",
    "#     print(mylist)\n",
    "    data_frame_dict[files_g]=pd.concat(mylist, ignore_index=True, sort=False  ,copy = False)\n",
    "    #The concat method then stitches all the pandas data frames for each file together into one data frame\n",
    "    #which is then stored in a dictionary, accessed by the the key files_g, whatever the filename is\n"
   ]
  },
  {
   "cell_type": "code",
   "execution_count": 3,
   "metadata": {},
   "outputs": [],
   "source": [
    "#     print(data_frame_dict[files_g]['ProductionVolume'].value_counts())\n",
    "for j,files_g in enumerate(filenames_e):\n",
    "    df=data_frame_dict[files_g]\n",
    "    df['dZ2']=1-(pow(data_frame_dict[files_g]['dX'],2)+pow(data_frame_dict[files_g]['dY'],2))\n"
   ]
  },
  {
   "cell_type": "code",
   "execution_count": null,
   "metadata": {},
   "outputs": [],
   "source": [
    "for j,files_g in enumerate(filenames_e):\n",
    "    df=data_frame_dict[files_g]\n",
    "    print((df['dZ2']<0).values.sum())\n",
    "    df.loc[df['dZ2'] < 0]\n",
    "    data_frame_dict[files_g]=df"
   ]
  },
  {
   "cell_type": "code",
   "execution_count": 6,
   "metadata": {},
   "outputs": [],
   "source": [
    "# for files_g in filenames_g:\n",
    "#     print(data_frame_dict[files_g]['ProductionVolume'].value_counts())\n",
    "for j,files_g in enumerate(filenames_e):\n",
    "\n",
    "    df=data_frame_dict[files_g]\n",
    "    data_frame_dict[files_g]['dZ']=np.sqrt(data_frame_dict[files_g]['dZ2'])\n",
    "    data_frame_dict[files_g]['dXdY']=(data_frame_dict[files_g].dX**2+data_frame_dict[files_g].dY**2)**0.5\n",
    "    ratioThetaXY=data_frame_dict[files_g].dXdY/data_frame_dict[files_g].dZ\n",
    "    ratioThetaX=data_frame_dict[files_g].dX/data_frame_dict[files_g].dZ\n",
    "    ratioThetaY=data_frame_dict[files_g].dY/data_frame_dict[files_g].dZ\n",
    "    data_frame_dict[files_g]['thetaXY']=ratioThetaXY.apply(math.atan)*180/3.14\n",
    "    data_frame_dict[files_g]['thetaX']=ratioThetaX.apply(math.atan)*180/3.14\n",
    "    data_frame_dict[files_g]['thetaY']=ratioThetaY.apply(math.atan)*180/3.14\n",
    "    data_frame_dict[files_g]['XY']=(data_frame_dict[files_g].X**2+data_frame_dict[files_g].Y**2)**0.5"
   ]
  },
  {
   "cell_type": "code",
   "execution_count": 7,
   "metadata": {},
   "outputs": [
    {
     "name": "stdout",
     "output_type": "stream",
     "text": [
      "<built-in method sum of numpy.ndarray object at 0x7fde67f4db70>\n",
      "<built-in method sum of numpy.ndarray object at 0x7fde67f4db70>\n",
      "<built-in method sum of numpy.ndarray object at 0x7fdda7846ad0>\n"
     ]
    }
   ],
   "source": [
    "for j,files_g in enumerate(filenames_e):\n",
    "#     print(j)\n",
    "    print(df.isnull().values.sum)\n"
   ]
  },
  {
   "cell_type": "code",
   "execution_count": 8,
   "metadata": {},
   "outputs": [],
   "source": [
    "for j,files_g in enumerate(filenames_e):\n",
    "\n",
    "    df=data_frame_dict[files_g]\n",
    "    df=df.dropna(axis='index')\n"
   ]
  },
  {
   "cell_type": "code",
   "execution_count": 9,
   "metadata": {},
   "outputs": [
    {
     "name": "stdout",
     "output_type": "stream",
     "text": [
      "[b'AtomicNumber', b'Ekine', b'Weight', b'Mass', b'X', b'Y', b'Z', b'dX', b'dY', b'dZ', b'ParticleName', b'ProductionVolume', b'CreatorProcess', b'ProcessDefinedStep', b'TrackID', b'ParentID', b'EventID', b'RunID', b'TOut', b'TProd']\n"
     ]
    }
   ],
   "source": [
    "file = uproot.open(\"/work/lb8075/PhaseSpaces/PhS2_40x40_p1_Elec_v3/output3.root\")\n",
    "# print(file.keys())\n",
    "print(file['PhaseSpace'].keys())\n"
   ]
  },
  {
   "cell_type": "code",
   "execution_count": 5,
   "metadata": {},
   "outputs": [
    {
     "name": "stdout",
     "output_type": "stream",
     "text": [
      "1502\n",
      "8155\n",
      "18375\n",
      "29892\n"
     ]
    }
   ],
   "source": [
    "for files_g in filenames_e:\n",
    "        df=data_frame_dict[files_g]\n",
    "        print(df['ProductionVolume'].count())"
   ]
  },
  {
   "cell_type": "code",
   "execution_count": 9,
   "metadata": {},
   "outputs": [
    {
     "name": "stdout",
     "output_type": "stream",
     "text": [
      "b'world_log'         2255\n",
      "b'jaws_x1_log'       1924\n",
      "b'jaws_x2_log'       1875\n",
      "b'mlc_leaf_log'       463\n",
      "b'mlc_y6_log'         248\n",
      "b'mlc_y5_log'         212\n",
      "b'mlc_y7_log'         185\n",
      "b'mlc_y3_log'         167\n",
      "b'mlc_y4_log'         133\n",
      "b'mlc_y2_log'         119\n",
      "b'jaws_y1_log'        113\n",
      "b'jaws_y2_log'        112\n",
      "b'mlc_y8_log'         111\n",
      "b'mlc_y1_log'          72\n",
      "b'mlc_y9_log'          65\n",
      "b'mlc_y0_log'          60\n",
      "b'jaws_x2Vol_log'      26\n",
      "b'mlc_y10_log'         26\n",
      "b'jaws_x1Vol_log'      26\n",
      "b'mlc_y11_log'         15\n",
      "b'mlc_system_log'       6\n",
      "b'jaws_y1Vol_log'       3\n",
      "b'mlc_y13_log'          2\n",
      "b'mlc_y12_log'          1\n",
      "Name: ProductionVolume, dtype: int64\n",
      "b'world_log'         11124\n",
      "b'jaws_x1_log'        5184\n",
      "b'jaws_x2_log'        5085\n",
      "b'mlc_leaf_log'       3226\n",
      "b'mlc_y9_log'         1226\n",
      "b'mlc_y8_log'         1177\n",
      "b'mlc_y7_log'         1170\n",
      "b'mlc_y6_log'         1131\n",
      "b'mlc_y5_log'          823\n",
      "b'mlc_y10_log'         816\n",
      "b'mlc_y4_log'          715\n",
      "b'mlc_y3_log'          690\n",
      "b'mlc_y2_log'          491\n",
      "b'mlc_y1_log'          439\n",
      "b'mlc_y0_log'          384\n",
      "b'mlc_y11_log'         257\n",
      "b'jaws_y1_log'         222\n",
      "b'jaws_y2_log'         217\n",
      "b'jaws_x1Vol_log'      136\n",
      "b'jaws_x2Vol_log'      134\n",
      "b'mlc_system_log'       54\n",
      "b'mlc_y13_log'          37\n",
      "b'mlc_y12_log'          35\n",
      "b'jaws_y1Vol_log'        6\n",
      "b'jaws_y2Vol_log'        3\n",
      "Name: ProductionVolume, dtype: int64\n",
      "b'world_log'         27031\n",
      "b'jaws_x1_log'        8610\n",
      "b'jaws_x2_log'        8475\n",
      "b'mlc_leaf_log'       8177\n",
      "b'mlc_y10_log'        2380\n",
      "b'mlc_y9_log'         2145\n",
      "b'mlc_y8_log'         2024\n",
      "b'mlc_y7_log'         1898\n",
      "b'mlc_y6_log'         1769\n",
      "b'mlc_y11_log'        1533\n",
      "b'mlc_y5_log'         1380\n",
      "b'mlc_y4_log'         1144\n",
      "b'mlc_y3_log'         1061\n",
      "b'mlc_y2_log'          805\n",
      "b'mlc_y1_log'          694\n",
      "b'mlc_y12_log'         578\n",
      "b'mlc_y0_log'          574\n",
      "b'jaws_x2Vol_log'      349\n",
      "b'jaws_x1Vol_log'      318\n",
      "b'jaws_y2_log'         312\n",
      "b'jaws_y1_log'         255\n",
      "b'mlc_system_log'      113\n",
      "b'mlc_y13_log'          83\n",
      "b'jaws_y1Vol_log'        5\n",
      "b'jaws_y2Vol_log'        4\n",
      "Name: ProductionVolume, dtype: int64\n",
      "b'world_log'         50918\n",
      "b'mlc_leaf_log'      14608\n",
      "b'jaws_x2_log'       11252\n",
      "b'jaws_x1_log'       11089\n",
      "b'mlc_y11_log'        2774\n",
      "b'mlc_y10_log'        2719\n",
      "b'mlc_y9_log'         2351\n",
      "b'mlc_y8_log'         2270\n",
      "b'mlc_y7_log'         2043\n",
      "b'mlc_y12_log'        1848\n",
      "b'mlc_y6_log'         1823\n",
      "b'mlc_y5_log'         1497\n",
      "b'mlc_y4_log'         1127\n",
      "b'mlc_y3_log'         1015\n",
      "b'mlc_y13_log'         901\n",
      "b'mlc_y2_log'          816\n",
      "b'mlc_y1_log'          642\n",
      "b'jaws_x1Vol_log'      627\n",
      "b'jaws_x2Vol_log'      596\n",
      "b'mlc_y0_log'          547\n",
      "b'jaws_y1_log'         441\n",
      "b'jaws_y2_log'         432\n",
      "b'mlc_system_log'      212\n",
      "b'jaws_y2Vol_log'       28\n",
      "b'jaws_y1Vol_log'       27\n",
      "Name: ProductionVolume, dtype: int64\n",
      "b'world_log'       1497\n",
      "b'mlc_leaf_log'       1\n",
      "b'mlc_y1_log'         1\n",
      "b'jaws_x1_log'        1\n",
      "b'jaws_y2_log'        1\n",
      "b'jaws_x2_log'        1\n",
      "Name: ProductionVolume, dtype: int64\n"
     ]
    }
   ],
   "source": [
    "for files_g in filenames_e:\n",
    "        df=data_frame_dict[files_g]\n",
    "        print(df['ProductionVolume'].value_counts())"
   ]
  },
  {
   "cell_type": "code",
   "execution_count": 3,
   "metadata": {},
   "outputs": [
    {
     "data": {
      "image/png": "[encoded data removed]",
      "text/plain": [
       "<Figure size 720x432 with 1 Axes>"
      ]
     },
     "metadata": {
      "needs_background": "light"
     },
     "output_type": "display_data"
    }
   ],
   "source": [
    "nbins=50\n",
    "plt.figure(figsize=(10,6))\n",
    "for files_g in filenames_e:\n",
    "    df=data_frame_dict[files_g]\n",
    "    _=plt.hist(df['X'],bins=nbins,histtype='step',label=f\"{files_g[34:39]} cm2\")\n",
    "    plt.xlabel('X position (mm)')\n",
    "    plt.ylabel('Electron flux')\n",
    "\n",
    "    plt.legend()\n"
   ]
  },
  {
   "cell_type": "code",
   "execution_count": null,
   "metadata": {
    "scrolled": true
   },
   "outputs": [],
   "source": [
    "nbins=50\n",
    "for files_g in filenames_e:\n",
    "    df=data_frame_dict[files_g]\n",
    "    df['ProductionVolume']=df['ProductionVolume'].astype('str')\n",
    "#     print(df['ProductionVolume'].dtypes)\n",
    "#     print(df['ProductionVolume'].str.contains('jaws_y').sum())    \n",
    "    y_jawx,x_jawx,_=plt.hist(df['Ekine'][df['ProductionVolume'].str.contains('jaws_x')],histtype='step',bins=nbins,density=True,label=\"jaws_x\")\n",
    "    y_jawy,x_jawy,_=plt.hist(df['Ekine'][df['ProductionVolume'].str.contains('jaws_y')],histtype='step',bins=nbins,density=True,label=\"jaws_y\")\n",
    "    y_mlc,x_mlc,_=plt.hist(df['Ekine'][df['ProductionVolume'].str.contains('mlc')],histtype='step',bins=nbins,density=True,label=\"mlc\")\n",
    "    y_world,x_world,_=plt.hist(df['Ekine'][df['ProductionVolume'].str.contains('world')],histtype='step',bins=nbins,density=True,label=\"world\")\n",
    "    mpx_jawx=midpoints(x_jawx)\n",
    "    mpx_jawy=midpoints(x_jawy)\n",
    "    mpx_mlc=midpoints(x_mlc)\n",
    "    mpx_world=midpoints(x_world)\n",
    "\n",
    "#         print(f\"{midpoints(y)} and x {x}\")\n",
    "        \n",
    "    for ij in range(0,nbins):\n",
    "        print(f\"/gate/source/mybeam/gps/hist/point {mpx_jawx[ij]:.4f} {y_jawx[ij]*1000:.4f}\")\n",
    "        \n",
    "    for ij in range(0,nbins):\n",
    "        print(f\"/gate/source/mybeam/gps/hist/point {mpx_jawy[ij]:.4f} {y_jawy[ij]*1000:.4f}\")\n",
    "        \n",
    "    for ij in range(0,nbins):\n",
    "        print(f\"/gate/source/mybeam/gps/hist/point {mpx_mlc[ij]:.4f} {y_mlc[ij]*1000:.4f}\")\n",
    "        \n",
    "    for ij in range(0,nbins):\n",
    "        print(f\"/gate/source/mybeam/gps/hist/point {mpx_world[ij]:.4f} {y_world[ij]*1000:.4f}\")\n",
    "    plt.legend()\n",
    "    plt.show()"
   ]
  },
  {
   "cell_type": "code",
   "execution_count": null,
   "metadata": {},
   "outputs": [],
   "source": [
    "for files_g in filenames_e:\n",
    "    fig,ax=plt.subplots(2,2,figsize=(5,5))\n",
    "    df=data_frame_dict[files_g]\n",
    "    df['ProductionVolume']=df['ProductionVolume'].astype('str')\n",
    "#     print(df['ProductionVolume'].dtypes)\n",
    "#     print(df['ProductionVolume'].str.contains('jaws_y').sum())    \n",
    "    ax[0,0].hist2d(df['X'][df['ProductionVolume'].str.contains('jaws_x')],df['Y'][df['ProductionVolume'].str.contains('jaws_x')],bins=(50,50),label=\"jaws_y\")\n",
    "    ax[0,1].hist2d(df['X'][df['ProductionVolume'].str.contains('jaws_y')],df['Y'][df['ProductionVolume'].str.contains('jaws_y')],bins=(50,50),label=\"jaws_y\")\n",
    "    ax[1,1].hist2d(df['X'][df['ProductionVolume'].str.contains('mlc')],df['Y'][df['ProductionVolume'].str.contains('mlc')],bins=(50,50),label=\"mlc\")\n",
    "    ax[1,0].hist2d(df['X'][df['ProductionVolume'].str.contains('world')],df['Y'][df['ProductionVolume'].str.contains('world')],bins=(50,50),label=\"world\")\n",
    "#     plt.legend()\n",
    "    plt.show()"
   ]
  },
  {
   "cell_type": "code",
   "execution_count": null,
   "metadata": {},
   "outputs": [],
   "source": []
  },
  {
   "cell_type": "code",
   "execution_count": null,
   "metadata": {},
   "outputs": [],
   "source": [
    "for files_g in filenames_e:\n",
    "    fig,ax=plt.subplots(2,2,figsize=(5,5))\n",
    "    df=data_frame_dict[files_g]\n",
    "    df['ProductionVolume']=df['ProductionVolume'].astype('str')\n",
    "#     print(df['ProductionVolume'].dtypes)\n",
    "#     print(df['ProductionVolume'].str.contains('jaws_y').sum())    \n",
    "    ax[0,0].hist2d(df['X'][df['ProductionVolume'].str.contains('jaws_x')],df['thetaX'][df['ProductionVolume'].str.contains('jaws_x')],bins=(50,50),label=\"jaws_y\")\n",
    "    ax[0,1].hist2d(df['X'][df['ProductionVolume'].str.contains('jaws_y')],df['thetaX'][df['ProductionVolume'].str.contains('jaws_y')],bins=(50,50),label=\"jaws_y\")\n",
    "    ax[1,1].hist2d(df['X'][df['ProductionVolume'].str.contains('mlc')],df['thetaX'][df['ProductionVolume'].str.contains('mlc')],bins=(50,50),label=\"mlc\")\n",
    "    ax[1,0].hist2d(df['X'][df['ProductionVolume'].str.contains('world')],df['thetaX'][df['ProductionVolume'].str.contains('world')],bins=(50,50),label=\"world\")\n",
    "#     plt.legend()\n",
    "    plt.show()"
   ]
  },
  {
   "cell_type": "code",
   "execution_count": null,
   "metadata": {},
   "outputs": [],
   "source": [
    "for files_g in filenames_e:\n",
    "    fig,ax=plt.subplots(2,2,figsize=(5,5))\n",
    "    df=data_frame_dict[files_g]\n",
    "    df['ProductionVolume']=df['ProductionVolume'].astype('str')\n",
    "#     print(df['ProductionVolume'].dtypes)\n",
    "#     print(df['ProductionVolume'].str.contains('jaws_y').sum())    \n",
    "    ax[0,0].hist2d(df['Y'][df['ProductionVolume'].str.contains('jaws_x')],df['thetaY'][df['ProductionVolume'].str.contains('jaws_x')],bins=(50,50),label=\"jaws_y\")\n",
    "    ax[0,1].hist2d(df['Y'][df['ProductionVolume'].str.contains('jaws_y')],df['thetaY'][df['ProductionVolume'].str.contains('jaws_y')],bins=(50,50),label=\"jaws_y\")\n",
    "    ax[1,1].hist2d(df['Y'][df['ProductionVolume'].str.contains('mlc')],df['thetaY'][df['ProductionVolume'].str.contains('mlc')],bins=(50,50),label=\"mlc\")\n",
    "    ax[1,0].hist2d(df['Y'][df['ProductionVolume'].str.contains('world')],df['thetaY'][df['ProductionVolume'].str.contains('world')],bins=(50,50),label=\"world\")\n",
    "#     plt.legend()\n",
    "    plt.show()"
   ]
  },
  {
   "cell_type": "code",
   "execution_count": null,
   "metadata": {},
   "outputs": [],
   "source": [
    "for files_g in filenames_e:\n",
    "    fig,ax=plt.subplots(2,2,figsize=(5,5))\n",
    "    df=data_frame_dict[files_g]\n",
    "    df['ProductionVolume']=df['ProductionVolume'].astype('str')\n",
    "#     print(df['ProductionVolume'].dtypes)\n",
    "#     print(df['ProductionVolume'].str.contains('jaws_y').sum())    \n",
    "    ax[0,0].hist2d(df['X'],df['Y'],bins=(50,50),label=\"jaws_y\")\n",
    "    ax[0,1].hist2d(df['X'],df['Y'],bins=(50,50),label=\"jaws_y\")\n",
    "    ax[1,1].hist2d(df['X'],df['Y'],bins=(50,50),label=\"mlc\")\n",
    "    ax[1,0].hist2d(df['X'],df['Y'],bins=(50,50),label=\"world\")\n",
    "#     plt.legend()\n",
    "    plt.show()"
   ]
  },
  {
   "cell_type": "code",
   "execution_count": null,
   "metadata": {},
   "outputs": [],
   "source": [
    "nbins=25\n",
    "for files_g in filenames_e:\n",
    "        df=data_frame_dict[files_g]\n",
    "#         print(df['ProductionVolume'].value_counts())\n",
    "        plt.subplots(1,1,figsize=(12,6))\n",
    "        plt.hist(df['Ekine'][df['ProductionVolume']==b'world_log'],bins=nbins,histtype='step',density=True,label='world_log')\n",
    "#         plt.hist(df['Ekine'][df['ProductionVolume']==b'jaws_x1_log'],bins=nbins,histtype='step',density=True,label='jaws_x1_log')\n",
    "        plt.hist(df['Ekine'][df['ProductionVolume']==b'mlc_y6_log'],bins=nbins,histtype='step',density=True,label='mlc_y6_log')\n",
    "#         plt.hist(df['Ekine'][df['ProductionVolume']==b'mlc_y5_log'],bins=nbins,histtype='step',density=True,label='mlc_y6_log')\n",
    "        plt.hist(df['Ekine'][df['ProductionVolume']==b'mlc_leaf_log'],bins=nbins,histtype='step',density=True,label='mlc_leaf_log')\n",
    "#         plt.hist(df['Ekine'][df['ProductionVolume']==b'jaws_y2_log'],bins=nbins,histtype='step',density=True,label='jaws_y2_log')\n",
    "        plt.legend()\n",
    "        plt.show()\n",
    "\n",
    "#         df['Ekine'][df['X']>1].hist()\n",
    "    \n",
    "#         y,x,_=plt.hist(df['Ekine'][df['ProductionVolume']],density=True,histtype='step',bins=(nbins))\n",
    "#         mpy=midpoints(x)\n",
    "\n",
    "# #         print(f\"{midpoints(y)} and x {x}\")\n",
    "        \n",
    "#         for ij in range(0,nbins):\n",
    "#             print(f\"/gate/source/mybeam/gps/hist/point {mpy[ij]} {y[ij]*1000}\")"
   ]
  },
  {
   "cell_type": "code",
   "execution_count": null,
   "metadata": {},
   "outputs": [],
   "source": [
    "for files_g in filenames_e:\n",
    "    fig,ax=plt.subplots(1,1,figsize=(6,5))\n",
    "    # creating a temporary dataframe to hold the one we're currently interating over\n",
    "    df=data_frame_dict[files_g]\n",
    "    _=plt.hist(df['thetaY'],bins=50)"
   ]
  },
  {
   "cell_type": "code",
   "execution_count": null,
   "metadata": {},
   "outputs": [],
   "source": [
    "for files_g in filenames_e:\n",
    "    fig,ax=plt.subplots(1,1,figsize=(6,5))\n",
    "    # creating a temporary dataframe to hold the one we're currently interating over\n",
    "    df=data_frame_dict[files_g]\n",
    "    _=plt.hist(df['Y'],bins=50)\n",
    "    plt.show()"
   ]
  },
  {
   "cell_type": "code",
   "execution_count": null,
   "metadata": {},
   "outputs": [],
   "source": [
    "for files_g in filenames_e:\n",
    "    fig,ax=plt.subplots(1,1,figsize=(6,5))\n",
    "    # creating a temporary dataframe to hold the one we're currently interating over\n",
    "    df=data_frame_dict[files_g]\n",
    "    _=plt.hist2d(df['Y'],df['X'],bins=(50,50))\n",
    "#     plt.xlim(-100,100)\n",
    "#     plt.ylim(-100,100)\n",
    "    plt.xlabel('Y (mm)')\n",
    "    plt.ylabel(r'$\\theta_{\\rm{Y}}$ ($^{\\circ}$)')\n",
    "    plt.colorbar()\n",
    "    plt.show()\n",
    "    fieldsize=files_g.split('_')[1]\n",
    "\n",
    "    savename=f\"Phase2_e_{fieldsize}XthetaX.png\"\n",
    "    fig.savefig(savename)"
   ]
  },
  {
   "cell_type": "code",
   "execution_count": null,
   "metadata": {
    "scrolled": false
   },
   "outputs": [],
   "source": [
    "for files_g in filenames_e:\n",
    "    fig,ax=plt.subplots(1,1,figsize=(6,5))\n",
    "    # creating a temporary dataframe to hold the one we're currently interating over\n",
    "    df=data_frame_dict[files_g]\n",
    "    _=plt.hist2d(df['Y'],df['thetaY'],bins=(50,50))\n",
    "#     plt.xlim(-100,100)\n",
    "#     plt.ylim(-100,100)\n",
    "    plt.xlabel('Y (mm)')\n",
    "    plt.ylabel(r'$\\theta_{\\rm{Y}}$ ($^{\\circ}$)')\n",
    "    plt.colorbar()\n",
    "    plt.show()\n",
    "    fieldsize=files_g.split('_')[1]\n",
    "\n",
    "    savename=f\"Phase2_e_{fieldsize}XthetaX.png\"\n",
    "    fig.savefig(savename)"
   ]
  },
  {
   "cell_type": "code",
   "execution_count": null,
   "metadata": {
    "scrolled": false
   },
   "outputs": [],
   "source": [
    "for files_g in filenames_e:\n",
    "    fig,ax=plt.subplots(1,1,figsize=(6,5))\n",
    "    # creating a temporary dataframe to hold the one we're currently interating over\n",
    "    df=data_frame_dict[files_g]\n",
    "    _=plt.hist2d(df['X'],df['thetaX'],bins=(50,50))\n",
    "#     plt.xlim(-100,100)\n",
    "#     plt.ylim(-100,100)\n",
    "    plt.xlabel('Y (mm)')\n",
    "    plt.ylabel(r'$\\theta_{\\rm{Y}}$ ($^{\\circ}$)')\n",
    "    plt.colorbar()\n",
    "    plt.show()\n",
    "    fieldsize=files_g.split('_')[1]\n",
    "\n",
    "    savename=f\"Phase2_e_{fieldsize}XthetaX.png\"\n",
    "    fig.savefig(savename)"
   ]
  },
  {
   "cell_type": "code",
   "execution_count": null,
   "metadata": {},
   "outputs": [],
   "source": [
    "nbins=80\n",
    "for files_g in filenames_e:\n",
    "        df=data_frame_dict[files_g]\n",
    "        y,x,_=plt.hist(df['Ekine'],density=True,histtype='step',bins=(nbins))\n",
    "        mpy=midpoints(x)\n",
    "\n",
    "#         print(f\"{midpoints(y)} and x {x}\")\n",
    "        \n",
    "        for ij in range(0,nbins):\n",
    "            print(f\"/gate/source/mybeam/gps/hist/point {mpy[ij]} {y[ij]*1000}\")"
   ]
  },
  {
   "cell_type": "code",
   "execution_count": null,
   "metadata": {},
   "outputs": [],
   "source": [
    "\n",
    "data_frame_dict={}\n",
    "\n",
    "for files_g in filenames_e:\n",
    "    print(f\"{files_g}   \\n\")\n",
    "    ur=uproot.pandas.iterate(files_g, \"PhaseSpace\", ['X','Y','dX','dY','Weight','Ekine','ProductionVolume','CreatorProcess'])\n",
    "    #This creates a set of dataframes for each files as it iterates through the * wildcards\n",
    "    mylist=list(ur)        \n",
    "    data_frame_dict[files_g]=pd.concat(mylist, ignore_index=True, sort=False  ,copy = False)\n",
    "    #The concat method then stitches all the pandas data frames for each file together into one data frame\n",
    "    #which is then stored in a dictionary, accessed by the the key files_g, whatever the filename is\n",
    "\n"
   ]
  },
  {
   "cell_type": "code",
   "execution_count": null,
   "metadata": {},
   "outputs": [],
   "source": [
    "for files_g in filenames_e:\n",
    "    sub_area=data_frame_dict[files_g]['X'][abs(data_frame_dict[files_g]['X'])<20][abs(data_frame_dict[files_g]['Y'])<20].count()\n",
    "    total_area=data_frame_dict[files_g]['X'].count()\n",
    "    print(sub_area,total_area,sub_area/total_area)"
   ]
  },
  {
   "cell_type": "code",
   "execution_count": null,
   "metadata": {},
   "outputs": [],
   "source": [
    "for files_g in filenames_g:\n",
    "#     print(data_frame_dict[files_g]['ProductionVolume'].value_counts())\n",
    "    print(data_frame_dict[files_g].groupby('ProductionVolume')['Weight'].sum())\n"
   ]
  },
  {
   "cell_type": "code",
   "execution_count": null,
   "metadata": {},
   "outputs": [],
   "source": [
    "for files_g in filenames_g:\n",
    "    plt.subplots(1,1,figsize=(19,4))\n",
    "# creating a temporary dataframe to hold the one we're currently interating over\n",
    "    df=data_frame_dict[files_g]\n",
    "    np2=df['CreatorProcess'].to_numpy(dtype=\"str\")\n",
    "    np3=df['Weight'].to_numpy(dtype=\"float16\")\n",
    "    np2=np2.astype('str')\n",
    "    print(np2.dtype)\n",
    "    print(np3.dtype)\n",
    "\n",
    "# plt.hist(df['ProductionVolume'])\n",
    "# print(df.dtypes)\n",
    "# df['ProductionVolume']=df['ProductionVolume'].astype('str')\n",
    "# print(df.dtypes)\n",
    "\n",
    "#     df['Weight'].astype('float16')\n",
    "# print(df.dtypes)\n",
    "\n",
    "# print(df2)\n",
    "# _=plt.hist(df3)\n",
    "#     plt.xlim(-100,100)\n",
    "#     plt.ylim(-100,100)\n",
    "#     plt.xlabel('X')\n",
    "#     plt.ylabel('Y')\n",
    "#     plt.colorbar()\n",
    "# plt.show()\n",
    "# df2=df['ProductionVolume']\n",
    "# print(df['ProductionVolume'].dtypes)\n",
    "# df['ProductionVolume']=df['ProductionVolume'].astype('str')\n",
    "# print(df['ProductionVolume'].dtypes)\n",
    "\n",
    "#     df['CreatorProcess'].value_counts().plot(kind='bar',logy=True, ylim=(1,5500000))\n",
    "    plt.hist2d(np2,np3)"
   ]
  },
  {
   "cell_type": "code",
   "execution_count": null,
   "metadata": {},
   "outputs": [],
   "source": []
  },
  {
   "cell_type": "markdown",
   "metadata": {},
   "source": [
    "## Inspecting phase 1A"
   ]
  },
  {
   "cell_type": "code",
   "execution_count": null,
   "metadata": {},
   "outputs": [],
   "source": [
    "filenames_g=[\n",
    "            \"/work/lb8075/PhaseSpaces/PhS1A_Gamma/output-1A_bias100_3.root\",\\\n",
    "            \"/work/lb8075/PhaseSpaces/PhS1A_Gamma/output-1A_bias1_3.root\"\n",
    "]\n",
    "\n",
    "#ran 10x more bias 1 than bias 100"
   ]
  },
  {
   "cell_type": "code",
   "execution_count": null,
   "metadata": {},
   "outputs": [],
   "source": [
    "data_frame_dict={}\n",
    "\n",
    "for files_g in filenames_g:\n",
    "    print(f\"{files_g}   \\n\")\n",
    "    ur=uproot.pandas.iterate(files_g, \"PhaseSpace\", ['X','Y','dX','dY','Weight','Ekine','ParticleName','ProductionVolume','CreatorProcess'])\n",
    "    #This creates a set of dataframes for each files as it iterates through the * wildcards\n",
    "    mylist=list(ur)        \n",
    "    data_frame_dict[files_g]=pd.concat(mylist, ignore_index=True, sort=False  ,copy = False)\n",
    "    #The concat method then stitches all the pandas data frames for each file together into one data frame\n",
    "    #which is then stored in a dictionary, accessed by the the key files_g, whatever the filename is\n",
    "\n"
   ]
  },
  {
   "cell_type": "code",
   "execution_count": null,
   "metadata": {},
   "outputs": [],
   "source": [
    "for files_g in filenames_g:\n",
    "#     print(data_frame_dict[files_g]['ProductionVolume'].value_counts())\n",
    "    print(data_frame_dict[files_g].groupby('ProductionVolume')['Weight'].sum())\n"
   ]
  },
  {
   "cell_type": "code",
   "execution_count": null,
   "metadata": {},
   "outputs": [],
   "source": [
    "for files_g in filenames_g:\n",
    "    plt.subplots(1,1,figsize=(10,5))\n",
    "    print(files_g)\n",
    "#     print(data_frame_dict[files_g]['ProductionVolume'].value_counts())\n",
    "    df=data_frame_dict[files_g]\n",
    "    df['CreatorProcess']=df['CreatorProcess'].astype(\"str\")\n",
    "\n",
    "#     df['Weight'][df['Weight']<0.5].plot(kind='bar')\n",
    "#     (df['ProductionVolume'][df['Weight']>0.5]).value_counts().plot(kind='bar')\n",
    "    (df['CreatorProcess'][df['Weight']>0.5]).value_counts().plot(kind='bar')\n",
    "    "
   ]
  },
  {
   "cell_type": "code",
   "execution_count": null,
   "metadata": {},
   "outputs": [],
   "source": [
    "plt.subplots(1,1,figsize=(10,5))\n",
    "print(files_g)\n",
    "#     print(data_frame_dict[files_g]['ProductionVolume'].value_counts())\n",
    "df=data_frame_dict[\"/work/lb8075/PhaseSpaces/PhS1A_Gamma/output-1A_bias100_3.root\"]\n",
    "df['ProductionVolume']=df['ProductionVolume'].astype(\"str\")\n",
    "\n",
    "#     df['Weight'][df['Weight']<0.5].plot(kind='bar')\n",
    "#     (df['ProductionVolume'][df['Weight']>0.5]).value_counts().plot(kind='bar')\n",
    "(df['ParticleName'][df['Weight']<0.5]).value_counts().plot(kind='bar',logy=True,ylim=(1,10000000))\n",
    "                   \n",
    "for files_g in filenames_g:\n",
    "    plt.subplots(1,1,figsize=(10,5))\n",
    "    print(files_g)\n",
    "#     print(data_frame_dict[files_g]['ProductionVolume'].value_counts())\n",
    "    df=data_frame_dict[files_g]\n",
    "    df['ProductionVolume']=df['ProductionVolume'].astype(\"str\")\n",
    "\n",
    "#     df['Weight'][df['Weight']<0.5].plot(kind='bar')\n",
    "#     (df['ProductionVolume'][df['Weight']>0.5]).value_counts().plot(kind='bar')\n",
    "    (df['ParticleName'][df['Weight']>0.5]).value_counts().plot(kind='bar',logy=True,ylim=(1,10000000))\n",
    "    "
   ]
  },
  {
   "cell_type": "code",
   "execution_count": null,
   "metadata": {},
   "outputs": [],
   "source": [
    "plt.subplots(1,1,figsize=(7,3))\n",
    "print(files_g)\n",
    "#     print(data_frame_dict[files_g]['ProductionVolume'].value_counts())\n",
    "df=data_frame_dict[\"/work/lb8075/PhaseSpaces/PhS1A_Gamma/output-1A_bias100_3.root\"]\n",
    "df['ProductionVolume']=df['ProductionVolume'].astype(\"str\")\n",
    "\n",
    "#     df['Weight'][df['Weight']<0.5].plot(kind='bar')\n",
    "#     (df['ProductionVolume'][df['Weight']>0.5]).value_counts().plot(kind='bar')\n",
    "(df['ProductionVolume'][df['Weight']<0.5]).value_counts().plot(kind='bar',sort_columns=True)\n",
    "    \n",
    "for files_g in filenames_g:\n",
    "    plt.subplots(1,1,figsize=(7,3))\n",
    "    print(files_g)\n",
    "#     print(data_frame_dict[files_g]['ProductionVolume'].value_counts())\n",
    "    df=data_frame_dict[files_g]\n",
    "    df['ProductionVolume']=df['ProductionVolume'].astype(\"str\")\n",
    "\n",
    "#     df['Weight'][df['Weight']<0.5].plot(kind='bar')\n",
    "#     (df['ProductionVolume'][df['Weight']>0.5]).value_counts().plot(kind='bar')\n",
    "    (df['ProductionVolume'][df['Weight']>0.5]).value_counts().plot(kind='bar',sort_columns=True)\n",
    "    "
   ]
  },
  {
   "cell_type": "code",
   "execution_count": null,
   "metadata": {},
   "outputs": [],
   "source": [
    "for files_g in filenames_g:\n",
    "    plt.subplots(1,1,figsize=(10,5))\n",
    "\n",
    "#     print(data_frame_dict[files_g]['ProductionVolume'].value_counts())\n",
    "    df=data_frame_dict[files_g]\n",
    "#     df['ProductionVolume']=df['ProductionVolume'].astype(\"str\")\n",
    "\n",
    "    df['Weight'].hist()"
   ]
  },
  {
   "cell_type": "code",
   "execution_count": null,
   "metadata": {},
   "outputs": [],
   "source": [
    "for files_g in filenames_g:\n",
    "    print(data_frame_dict[files_g]['X'].count())"
   ]
  },
  {
   "cell_type": "code",
   "execution_count": null,
   "metadata": {},
   "outputs": [],
   "source": [
    "for files_g in filenames_g:\n",
    "    print(data_frame_dict[files_g]['Weight'].value_counts())"
   ]
  },
  {
   "cell_type": "code",
   "execution_count": null,
   "metadata": {},
   "outputs": [],
   "source": [
    "for j,files_g in enumerate(filenames_g):\n",
    "    df=data_frame_dict[files_g]\n",
    "    if j==0:\n",
    "        col=\"cyan\"\n",
    "    else:\n",
    "        col=\"magenta\"\n",
    "    plt.hist(df['X'],density=True,weights=df['Weight'],histtype='step',color=col)"
   ]
  },
  {
   "cell_type": "code",
   "execution_count": null,
   "metadata": {},
   "outputs": [],
   "source": [
    "for j,files_g in enumerate(filenames_g):\n",
    "    df=data_frame_dict[files_g]\n",
    "    if j==0:\n",
    "        col=\"cyan\"\n",
    "    else:\n",
    "        col=\"magenta\"\n",
    "    plt.hist(df['Ekine'],density=True,weights=df['Weight'],histtype='step',color=col)"
   ]
  },
  {
   "cell_type": "code",
   "execution_count": null,
   "metadata": {},
   "outputs": [],
   "source": [
    "for j,files_g in enumerate(filenames_g):\n",
    "    df=data_frame_dict[files_g]\n",
    "    if j==0:\n",
    "        col=\"cyan\"\n",
    "    else:\n",
    "        col=\"magenta\"\n",
    "    plt.hist(df['X'][df['Y']<1],density=True,weights=df['Weight'][df['Y']<1],histtype='step',color=col)"
   ]
  },
  {
   "cell_type": "code",
   "execution_count": null,
   "metadata": {},
   "outputs": [],
   "source": [
    "for j,files_g in enumerate(filenames_g):\n",
    "    plt.subplots(1,1,figsize=(6,5))\n",
    "\n",
    "    df=data_frame_dict[files_g]\n",
    "\n",
    "    plt.hist2d(df['X'][df['ParticleName']==b'gamma'],df['Y'][df['ParticleName']==b'gamma'],weights=df['Weight'][df['ParticleName']==b'gamma'],bins=(60,60))"
   ]
  },
  {
   "cell_type": "code",
   "execution_count": null,
   "metadata": {
    "scrolled": false
   },
   "outputs": [],
   "source": [
    "df=data_frame_dict[\"/work/lb8075/PhaseSpaces/PhS1A_Gamma/output-1A_bias100_3.root\"]\n",
    "dfsubgamma=df[[\"ProductionVolume\",\"CreatorProcess\",\"ParticleName\",\"Weight\"]][df['Weight']>0.5][df['ParticleName']==b\"gamma\"]\n",
    "dfsubgamma[\"ProductionVolume\"].value_counts().plot(kind='bar',logy=True)"
   ]
  },
  {
   "cell_type": "code",
   "execution_count": null,
   "metadata": {},
   "outputs": [],
   "source": [
    "df=data_frame_dict[\"/work/lb8075/PhaseSpaces/PhS1A_Gamma/output-1A_bias100_3.root\"]\n",
    "df\n",
    "# dfsubgamma=df[df['CreatorProcess']==b'eBrem']\n",
    "# dfsubgamma"
   ]
  },
  {
   "cell_type": "code",
   "execution_count": null,
   "metadata": {},
   "outputs": [],
   "source": [
    "dfsubgamma=df[df['ProductionVolume']==b'target_log'][df['Weight']>0.5][df['ParticleName']==b'gamma']\n",
    "dfsubgamma"
   ]
  },
  {
   "cell_type": "code",
   "execution_count": null,
   "metadata": {
    "scrolled": false
   },
   "outputs": [],
   "source": [
    "df=data_frame_dict[\"/work/lb8075/PhaseSpaces/PhS1A_Gamma/output-1A_bias100_3.root\"]\n",
    "dfsubelec=df[[\"ProductionVolume\",\"CreatorProcess\",\"ParticleName\",\"Weight\"]][df['Weight']>0.5][df['ParticleName']==b\"e-\"]\n",
    "dfsubelec[\"ProductionVolume\"].value_counts().plot(kind='bar')"
   ]
  },
  {
   "cell_type": "code",
   "execution_count": null,
   "metadata": {},
   "outputs": [],
   "source": [
    "pd.set_option('display.max_rows',1000)\n"
   ]
  },
  {
   "cell_type": "code",
   "execution_count": null,
   "metadata": {},
   "outputs": [],
   "source": [
    "df1=data_frame_dict[\"/work/lb8075/PhaseSpaces/PhS1A_Gamma/output-1A_bias1_3.root\"]\n",
    "dfsubgamma=df1[[\"ProductionVolume\",\"CreatorProcess\",\"ParticleName\",\"Weight\"]][df1['ParticleName']==b\"gamma\"]\n",
    "dfsubgamma[\"ProductionVolume\"].value_counts().plot(kind='bar',logy=True)\n"
   ]
  },
  {
   "cell_type": "code",
   "execution_count": null,
   "metadata": {},
   "outputs": [],
   "source": [
    "# plt.subplots(1,1,figsize=(15,10))\n",
    "\n",
    "for j,files_g in enumerate(filenames_g):\n",
    "    df=data_frame_dict[files_g]\n",
    "    dfsubgamma=df[[\"ProductionVolume\",\"CreatorProcess\",\"ParticleName\",\"Weight\"]][df['ParticleName']==b\"gamma\"]\n",
    "    # dfsubgamma[\"ProductionVolume\"].value_counts().plot(kind='bar',logy=True)\n",
    "    print(dfsubgamma.groupby('ProductionVolume')['Weight'].value_counts())\n",
    "    print(\"\")"
   ]
  },
  {
   "cell_type": "code",
   "execution_count": null,
   "metadata": {},
   "outputs": [],
   "source": [
    "plt.subplots(1,1,figsize=(10,4))\n",
    "df[\"ProductionVolume\"][df['ParticleName']==b\"gamma\"].hist(histtype='bar', weights=df['Weight'][df['ParticleName']==b\"gamma\"])"
   ]
  },
  {
   "cell_type": "code",
   "execution_count": null,
   "metadata": {},
   "outputs": [],
   "source": [
    "df=data_frame_dict[\"/work/lb8075/PhaseSpaces/PhS1A_Gamma/output-1A_bias100_3.root\"]\n",
    "dfsubgamma=df[[\"ProductionVolume\",\"CreatorProcess\",\"ParticleName\",\"Weight\"]][df['ParticleName']==b\"gamma\"]\n",
    "# dfsubgamma[\"ProductionVolume\"].value_counts().plot(kind='bar',logy=True)[df['ParticleName']==b\"gamma\"]\n",
    "df[\"ProductionVolume\"][df['ParticleName']==b\"gamma\"].hist(histtype='bar', weights=df['Weight'][df['ParticleName']==b\"gamma\"])"
   ]
  },
  {
   "cell_type": "code",
   "execution_count": null,
   "metadata": {},
   "outputs": [],
   "source": [
    "plt.subplots(1,1,figsize=(15,10))\n",
    "\n",
    "for j,files_g in enumerate(filenames_g):\n",
    "    df=data_frame_dict[files_g]\n",
    "    print(files_g)\n",
    "    if j==0:\n",
    "        col=\"cyan\"\n",
    "        factor=10\n",
    "    else:\n",
    "        col=\"magenta\"\n",
    "        factor=1\n",
    "    df[\"ProductionVolume\"][df['ParticleName']==b\"gamma\"].hist(histtype='step',log=True, weights=factor*df['Weight'][df['ParticleName']==b\"gamma\"],color=col)"
   ]
  },
  {
   "cell_type": "code",
   "execution_count": null,
   "metadata": {},
   "outputs": [],
   "source": []
  },
  {
   "cell_type": "code",
   "execution_count": null,
   "metadata": {},
   "outputs": [],
   "source": []
  },
  {
   "cell_type": "code",
   "execution_count": null,
   "metadata": {},
   "outputs": [],
   "source": [
    "filenames_g=[\n",
    "            \"/work/lb8075/PhaseSpaces/PhS1AB_Gamma_ZeroBias/output-PhS_bias1_76.root\"\n",
    "]"
   ]
  },
  {
   "cell_type": "code",
   "execution_count": null,
   "metadata": {},
   "outputs": [],
   "source": [
    "data_frame_dict={}\n",
    "\n",
    "for files_g in filenames_g:\n",
    "    print(f\"{files_g}   \\n\")\n",
    "    ur=uproot.pandas.iterate(files_g, \"PhaseSpace\", ['X','Y','dX','dY','dZ','Weight','Ekine','ProductionVolume','CreatorProcess'])\n",
    "    #This creates a set of dataframes for each files as it iterates through the * wildcards\n",
    "    mylist=list(ur)        \n",
    "    data_frame_dict[files_g]=pd.concat(mylist, ignore_index=True, sort=False  ,copy = False)\n",
    "    #The concat method then stitches all the pandas data frames for each file together into one data frame\n",
    "    #which is then stored in a dictionary, accessed by the the key files_g, whatever the filename is\n"
   ]
  },
  {
   "cell_type": "code",
   "execution_count": null,
   "metadata": {},
   "outputs": [],
   "source": [
    "for j,files_g in enumerate(filenames_g):\n",
    "\n",
    "    df=data_frame_dict[files_g]\n",
    "    data_frame_dict[files_g]['dXdY']=(data_frame_dict[files_g].dX**2+data_frame_dict[files_g].dY**2)**0.5\n",
    "    ratioThetaXY=data_frame_dict[files_g].dXdY/data_frame_dict[files_g].dZ\n",
    "    ratioThetaX=data_frame_dict[files_g].dX/data_frame_dict[files_g].dZ\n",
    "    ratioThetaY=data_frame_dict[files_g].dX/data_frame_dict[files_g].dZ\n",
    "    data_frame_dict[files_g]['thetaXY']=ratioThetaXY.apply(math.atan)*180/3.14\n",
    "    data_frame_dict[files_g]['thetaX']=ratioThetaX.apply(math.atan)*180/3.14\n",
    "    data_frame_dict[files_g]['thetaY']=ratioThetaY.apply(math.atan)*180/3.14\n",
    "    data_frame_dict[files_g]['XY']=(data_frame_dict[files_g].X**2+data_frame_dict[files_g].Y**2)**0.5\n"
   ]
  },
  {
   "cell_type": "code",
   "execution_count": null,
   "metadata": {},
   "outputs": [],
   "source": [
    "for j,files_g in enumerate(filenames_g):\n",
    "    plt.subplots(1,1,figsize=(6,5))\n",
    "\n",
    "    df=data_frame_dict[files_g]\n",
    "\n",
    "    plt.hist2d(df['X'],df['Y'],weights=df['Weight'],bins=(60,60))\n",
    "    plt.colorbar()"
   ]
  },
  {
   "cell_type": "code",
   "execution_count": null,
   "metadata": {},
   "outputs": [],
   "source": [
    "for j,files_g in enumerate(filenames_g):\n",
    "    plt.subplots(1,1,figsize=(6,5))\n",
    "\n",
    "    df=data_frame_dict[files_g]\n",
    "\n",
    "    _=plt.hist2d(df['X'][df['Y']<10][df['Y']>-10],df['thetaX'][df['Y']<10][df['Y']>-10],weights=df['Weight'][df['Y']<10][df['Y']>-10],bins=(200,200))\n",
    "    plt.ylim(-30,30)\n",
    "    plt.colorbar()"
   ]
  },
  {
   "cell_type": "code",
   "execution_count": null,
   "metadata": {},
   "outputs": [],
   "source": [
    "for j,files_g in enumerate(filenames_g):\n",
    "    plt.subplots(1,1,figsize=(6,5))\n",
    "\n",
    "    df=data_frame_dict[files_g]\n",
    "\n",
    "    _=plt.hist2d(df['XY'],df['thetaXY'],weights=df['Weight'],bins=(100,200))\n",
    "    plt.ylim(-20,0)\n",
    "    plt.colorbar()"
   ]
  },
  {
   "cell_type": "code",
   "execution_count": null,
   "metadata": {},
   "outputs": [],
   "source": []
  }
 ],
 "metadata": {
  "kernelspec": {
   "display_name": "Python 3",
   "language": "python",
   "name": "python3"
  },
  "language_info": {
   "codemirror_mode": {
    "name": "ipython",
    "version": 3
   },
   "file_extension": ".py",
   "mimetype": "text/x-python",
   "name": "python",
   "nbconvert_exporter": "python",
   "pygments_lexer": "ipython3",
   "version": "3.8.5"
  }
 },
 "nbformat": 4,
 "nbformat_minor": 2
}
