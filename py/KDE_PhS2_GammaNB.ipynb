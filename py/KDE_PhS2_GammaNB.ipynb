{
 "cells": [
  {
   "cell_type": "code",
   "execution_count": 1,
   "metadata": {},
   "outputs": [
    {
     "name": "stdout",
     "output_type": "stream",
     "text": [
      "Welcome to JupyROOT 6.22/02\n"
     ]
    }
   ],
   "source": [
    "import numpy as np\n",
    "import math\n",
    "import pandas as pd\n",
    "from root_pandas import read_root, to_root\n",
    "from matplotlib import pylab as plt\n",
    "import uproot\n",
    "from scipy import stats\n",
    "import argparse\n",
    "import gc\n",
    "from memory_profiler import profile"
   ]
  },
  {
   "cell_type": "code",
   "execution_count": 2,
   "metadata": {},
   "outputs": [],
   "source": [
    "font = {'family': 'sanserif',\n",
    "        'color':  'black',\n",
    "        'weight': 'normal',\n",
    "        'size': 14,\n",
    "        }\n",
    "\n",
    "SMALL_SIZE = 18\n",
    "MEDIUM_SIZE = 21\n",
    "BIGGER_SIZE = 25\n",
    "\n",
    "plt.rc('font', size=SMALL_SIZE)          # controls default text sizes\n",
    "plt.rc('axes', titlesize=SMALL_SIZE)     # fontsize of the axes title\n",
    "plt.rc('axes', labelsize=MEDIUM_SIZE)    # fontsize of the x and y labels\n",
    "plt.rc('xtick', labelsize=SMALL_SIZE)    # fontsize of the tick labels\n",
    "plt.rc('ytick', labelsize=SMALL_SIZE)    # fontsize of the tick labels\n",
    "plt.rc('legend', fontsize=SMALL_SIZE)    # legend fontsize\n",
    "plt.rc('figure', titlesize=BIGGER_SIZE)  # fontsize of the figure title\n"
   ]
  },
  {
   "cell_type": "code",
   "execution_count": 3,
   "metadata": {},
   "outputs": [],
   "source": [
    "# @profile\n",
    "\n",
    "def KDEgen(f_input):\n",
    "    field_size=\"10x10\"\n",
    "    PBS_ID=999\n",
    "    n_file=999\n",
    "    filename=f_input\n",
    "    print(f\"input file: {filename}\")\n",
    "    ur=uproot.pandas.iterate(filename, \"PhaseSpace\", ['X','Y','dX','dY','Ekine'])\n",
    "    mylist=list(ur)        \n",
    "    df=pd.concat(mylist, ignore_index=True, sort=False  ,copy = False)\n",
    "\n",
    "    print(\"read files\")\n",
    "\n",
    "    nparr=df.to_numpy()\n",
    "\n",
    "    del ur\n",
    "    del mylist\n",
    "    # del dftot\n",
    "\n",
    "    gc.collect()\n",
    "\n",
    "    values=nparr.T\n",
    "\n",
    "    bandwidth=0.025\n",
    "\n",
    "    kde = stats.gaussian_kde(values,bw_method=bandwidth)\n",
    "    print(\"generated KDE\")\n",
    "\n",
    "    del nparr\n",
    "    del values\n",
    "\n",
    "    gc.collect()\n",
    "\n",
    "    events_to_be_generated=10000000   #1000000\n",
    "\n",
    "    newsample = stats.gaussian_kde.resample(kde,events_to_be_generated)\n",
    "    print(\"resampled KDE\")\n",
    "    del kde\n",
    "    gc.collect()\n",
    "\n",
    "    newsample=newsample.T\n",
    "    newdf=pd.DataFrame(newsample,columns=['X','Y','dX','dY','Ekine'])\n",
    "    del newsample\n",
    "    gc.collect()\n",
    "    newdf=newdf.astype('float32')\n",
    "\n",
    "    newdf=newdf[(newdf['Ekine']>0)]\n",
    "    newdf=newdf.astype('float32')\n",
    "\n",
    "    newdf['dZ']=-1*pow(1.0-newdf['dX']*newdf['dX']-newdf['dY']*newdf['dY'],0.5)\n",
    "    newdf=newdf.astype('float32')\n",
    "    newdf=newdf[(newdf['dZ']<0)]\n",
    "\n",
    "    newdf[\"Z\"]=-0.0000005\n",
    "    newdf=newdf.dropna(axis='index')\n",
    "    newdf=newdf.astype('float32')\n",
    "    \n",
    "    ur=uproot.pandas.iterate(filename, \"PhaseSpace\", ['X','Y','dX','dY','dZ','Ekine'])\n",
    "    mylist=list(ur)        \n",
    "    df=pd.concat(mylist, ignore_index=True, sort=False  ,copy = False)\n",
    "    del ur\n",
    "    del mylist\n",
    "    print(\"Finished\")\n",
    "    return newdf, df\n",
    "\n"
   ]
  },
  {
   "cell_type": "code",
   "execution_count": 33,
   "metadata": {},
   "outputs": [
    {
     "name": "stdout",
     "output_type": "stream",
     "text": [
      "input file: /work/lb8075/PhaseSpaces/PS2/PhS2_10x10_p1_Gamma_v3_highEn/Skimmed_output_1.root\n",
      "read files\n",
      "generated KDE\n",
      "resampled KDE\n",
      "Finished\n"
     ]
    }
   ],
   "source": [
    "newdf,df=KDEgen(\"/work/lb8075/PhaseSpaces/PS2/PhS2_10x10_p1_Gamma_v3_highEn/Skimmed_output_1.root\")"
   ]
  },
  {
   "cell_type": "code",
   "execution_count": 36,
   "metadata": {
    "scrolled": false
   },
   "outputs": [
    {
     "data": {
      "image/png": "[encoded data removed]",
      "text/plain": [
       "<Figure size 576x360 with 1 Axes>"
      ]
     },
     "metadata": {
      "needs_background": "light"
     },
     "output_type": "display_data"
    }
   ],
   "source": [
    "# fig=plt.figure(figsize=(8,5))\n",
    "# fig.subplots_adjust(hspace=0.4)\n",
    "# # fig.subplots_adjust(vspace=0.1)\n",
    "# y1,x1,_=plt.hist(newdf['X'],bins=160,histtype='step',density=True,range=(-160,160),linewidth=4,linestyle=\"dotted\",label=\"Generated\")\n",
    "# y2,x2,_=plt.hist(df['X'],bins=160,histtype='step',color='red',density=True,linewidth=1.5,linestyle=\"solid\",range=(-160,160),label=\"Training\")\n",
    "# plt.xlabel('X (cm)')\n",
    "# plt.legend(loc='upper right')\n",
    "# fig.savefig('KDE_Gamma_X.png')\n",
    "\n",
    "\n",
    "# fig=plt.figure(figsize=(8,5))\n",
    "# plt.hist(newdf['Y'],bins=160,histtype='step',linewidth=4,linestyle=\"dotted\",density=True,range=(-160,160),label=\"Generated\")\n",
    "# plt.hist(df['Y'],bins=160,histtype='step',color='red',linewidth=1.5,linestyle=\"solid\",density=True,range=(-160,160),label=\"Training\")\n",
    "# plt.xlabel('Y (cm)')\n",
    "# plt.legend(loc='upper right')\n",
    "# fig.savefig('KDE_Gamma_Y.png')\n",
    "\n",
    "# fig=plt.figure(figsize=(8,5))\n",
    "# plt.hist(newdf['Ekine'],bins=100,histtype='step',linewidth=4,linestyle=\"dotted\",density=True,range=(0,6.5),label=\"Generated\")\n",
    "# plt.hist(df['Ekine'],bins=100,histtype='step',color='red',linewidth=1.5,linestyle=\"solid\",density=True,range=(0,6.5),label=\"Training\")\n",
    "# plt.xlabel('Kinetic Energy (MeV)')\n",
    "# plt.legend(loc='upper right')\n",
    "# # plt.yscale('log')\n",
    "# fig.savefig('KDE_Gamma_Ekine.png')\n",
    "\n",
    "# fig=plt.figure(figsize=(8,5))\n",
    "# plt.hist(newdf['dX'],bins=100,histtype='step',linewidth=4,linestyle=\"dotted\",density=True,range=(-1.0,1.0),label=\"Generated\")\n",
    "# plt.hist(df['dX'],bins=100,histtype='step',color='red',linewidth=1.5,linestyle=\"solid\",density=True,range=(-1.0,1.0),label=\"Training\")\n",
    "# plt.xlabel('dX')\n",
    "# plt.legend(loc='upper right')\n",
    "# fig.savefig('KDE_Gamma_dX.png')\n",
    "\n",
    "# fig=plt.figure(figsize=(8,5))\n",
    "# plt.hist(newdf['dY'],bins=100,histtype='step',linewidth=4,linestyle=\"dotted\",density=True,range=(-1.0,1.0),label=\"Generated\")\n",
    "# plt.hist(df['dY'],bins=100,histtype='step',color='red',linewidth=1.5,linestyle=\"solid\",density=True,range=(-1.0,1.0),label=\"Training\")\n",
    "# plt.xlabel('dY')\n",
    "# plt.legend(loc='upper right')\n",
    "# fig.savefig('KDE_Gamma_dY.png')\n",
    "\n",
    "fig=plt.figure(figsize=(8,5))\n",
    "plt.hist(newdf['dZ'],bins=100,histtype='step',linewidth=4,linestyle=\"dotted\",density=True,range=(-1,0),label=\"Generated\")\n",
    "plt.hist(df['dZ'],bins=100,histtype='step',color='red',linewidth=1.5,linestyle=\"solid\",density=True,range=(-1,0),label=\"Training\")\n",
    "plt.xlabel('dZ')\n",
    "plt.legend(loc='upper right')\n",
    "plt.yscale('log')\n",
    "fig.savefig('KDE_Gamma_dZ.png')"
   ]
  },
  {
   "cell_type": "code",
   "execution_count": 16,
   "metadata": {},
   "outputs": [
    {
     "data": {
      "text/plain": [
       "(-40.0, 40.0)"
      ]
     },
     "execution_count": 16,
     "metadata": {},
     "output_type": "execute_result"
    },
    {
     "data": {
      "image/png": "[encoded data removed]",
      "text/plain": [
       "<Figure size 432x288 with 1 Axes>"
      ]
     },
     "metadata": {
      "needs_background": "light"
     },
     "output_type": "display_data"
    }
   ],
   "source": [
    "plt.hist(x1[:-1],bins=x1,weights=y1)\n",
    "plt.xlim(-40,40)"
   ]
  },
  {
   "cell_type": "code",
   "execution_count": 37,
   "metadata": {},
   "outputs": [
    {
     "name": "stdout",
     "output_type": "stream",
     "text": [
      "input file: /work/lb8075/PhaseSpaces/PS2/PhS2_10x10_p1_Elec_v3_highEn/Skimmed_output_*.root\n",
      "read files\n",
      "generated KDE\n",
      "resampled KDE\n",
      "Finished\n"
     ]
    }
   ],
   "source": [
    "newdf,df=KDEgen(\"/work/lb8075/PhaseSpaces/PS2/PhS2_10x10_p1_Elec_v3_highEn/Skimmed_output_*.root\")"
   ]
  },
  {
   "cell_type": "code",
   "execution_count": 38,
   "metadata": {},
   "outputs": [
    {
     "data": {
      "text/plain": [
       "<Figure size 576x360 with 0 Axes>"
      ]
     },
     "metadata": {},
     "output_type": "display_data"
    },
    {
     "data": {
      "image/png": "[encoded data removed]",
      "text/plain": [
       "<Figure size 576x360 with 1 Axes>"
      ]
     },
     "metadata": {
      "needs_background": "light"
     },
     "output_type": "display_data"
    }
   ],
   "source": [
    "fig=plt.figure(figsize=(8,5))\n",
    "fig.subplots_adjust(hspace=0.4)\n",
    "# # fig.subplots_adjust(vspace=0.1)\n",
    "# y1,x1,_=plt.hist(newdf['X'],bins=160,histtype='step',density=True,range=(-160,160),linewidth=4,linestyle=\"dotted\",label=\"Generated\")\n",
    "# y2,x2,_=plt.hist(df['X'],bins=160,histtype='step',color='red',density=True,linewidth=1.5,linestyle=\"solid\",range=(-160,160),label=\"Training\")\n",
    "# plt.xlabel('X (cm)')\n",
    "# plt.legend(loc='upper right')\n",
    "# fig.savefig('KDE_ElecPS1PS2_X.png')\n",
    "\n",
    "\n",
    "# fig=plt.figure(figsize=(8,5))\n",
    "# plt.hist(newdf['Y'],bins=160,histtype='step',linewidth=4,linestyle=\"dotted\",density=True,range=(-160,160),label=\"Generated\")\n",
    "# plt.hist(df['Y'],bins=160,histtype='step',color='red',linewidth=1.5,linestyle=\"solid\",density=True,range=(-160,160),label=\"Training\")\n",
    "# plt.xlabel('Y (cm)')\n",
    "# plt.legend(loc='upper right')\n",
    "# fig.savefig('KDE_ElecPS1PS2_Y.png')\n",
    "\n",
    "# fig=plt.figure(figsize=(8,5))\n",
    "# plt.hist(newdf['Ekine'],bins=100,histtype='step',linewidth=4,linestyle=\"dotted\",density=True,range=(0,6.5),label=\"Generated\")\n",
    "# plt.hist(df['Ekine'],bins=100,histtype='step',color='red',linewidth=1.5,linestyle=\"solid\",density=True,range=(0,6.5),label=\"Training\")\n",
    "# plt.xlabel('Kinetic Energy (MeV)')\n",
    "# plt.legend(loc='upper right')\n",
    "# fig.savefig('KDE_ElecPS1PS2_Ekine.png')\n",
    "\n",
    "# fig=plt.figure(figsize=(8,5))\n",
    "# plt.hist(newdf['dX'],bins=100,histtype='step',linewidth=4,linestyle=\"dotted\",density=True,range=(-1.0,1.0),label=\"Generated\")\n",
    "# plt.hist(df['dX'],bins=100,histtype='step',color='red',linewidth=1.5,linestyle=\"solid\",density=True,range=(-1.0,1.0),label=\"Training\")\n",
    "# plt.xlabel('dX')\n",
    "# plt.legend(loc='upper right')\n",
    "# fig.savefig('KDE_ElecPS1PS2_dX.png')\n",
    "\n",
    "# fig=plt.figure(figsize=(8,5))\n",
    "# plt.hist(newdf['dY'],bins=100,histtype='step',linewidth=4,linestyle=\"dotted\",density=True,range=(-1.0,1.0),label=\"Generated\")\n",
    "# plt.hist(df['dY'],bins=100,histtype='step',color='red',linewidth=1.5,linestyle=\"solid\",density=True,range=(-1.0,1.0),label=\"Training\")\n",
    "# plt.xlabel('dY')\n",
    "# plt.legend(loc='upper right')\n",
    "# fig.savefig('KDE_ElecPS1PS2_dY.png')\n",
    "\n",
    "fig=plt.figure(figsize=(8,5))\n",
    "plt.hist(newdf['dZ'],bins=100,histtype='step',linewidth=4,linestyle=\"dotted\",density=True,range=(-1,0),label=\"Generated\")\n",
    "plt.hist(df['dZ'],bins=100,histtype='step',color='red',linewidth=1.5,linestyle=\"solid\",density=True,range=(-1,0),label=\"Training\")\n",
    "plt.xlabel('dZ')\n",
    "plt.legend(loc='upper right')\n",
    "plt.yscale('log')\n",
    "\n",
    "fig.savefig('KDE_ElecPS1PS2_dZ.png')\n",
    "\n",
    "# fig=plt.figure(figsize=(7,5))\n",
    "# # fig.subplots_adjust(hspace=0.4)\n",
    "# # fig.subplots_adjust(vspace=0.1)\n",
    "# y1,x1,_=plt.hist(newdf['X'],bins=100,histtype='step',density=True,range=(-140,140),linewidth=4,linestyle=\"dotted\",label=\"Generated\")\n",
    "# y2,x2,_=plt.hist(df['X'],bins=100,histtype='step',color='red',density=True,linewidth=1.5,linestyle=\"solid\",range=(-140,140),label=\"Training\")\n",
    "\n",
    "# plt.xlabel('X (cm)')\n",
    "# fig.savefig('KDE_ElecPS1PS2_X.png')\n",
    "\n",
    "\n",
    "# fig=plt.figure(figsize=(7,5))\n",
    "# plt.hist(newdf['Y'],bins=100,histtype='step',linewidth=4,linestyle=\"dotted\",density=True,range=(-70,70),label=\"Generated\")\n",
    "# plt.hist(df['Y'],bins=100,histtype='step',color='red',linewidth=1.5,linestyle=\"solid\",density=True,range=(-70,70),label=\"Training\")\n",
    "# plt.xlabel('Y (cm)')\n",
    "# fig.savefig('KDE_ElecPS1PS2_Y.png')\n",
    "# fig=plt.figure(figsize=(7,5))\n",
    "\n",
    "# plt.hist(newdf['Ekine'],bins=100,histtype='step',linewidth=4,linestyle=\"dotted\",density=True,range=(0,6.5),label=\"Generated\")\n",
    "# plt.hist(df['Ekine'],bins=100,histtype='step',color='red',linewidth=1.5,linestyle=\"solid\",density=True,range=(0,6.5),label=\"Training\")\n",
    "# plt.xlabel('Kinetic Energy (MeV)')\n",
    "# fig.savefig('KDE_ElecPS1PS2_Ekine.png')\n",
    "# fig=plt.figure(figsize=(7,5))\n",
    "\n",
    "# plt.hist(newdf['dX'],bins=100,histtype='step',linewidth=4,linestyle=\"dotted\",density=True,range=(-1.0,1.0),label=\"Generated\")\n",
    "# plt.hist(df['dX'],bins=100,histtype='step',color='red',linewidth=1.5,linestyle=\"solid\",density=True,range=(-1.0,1.0),label=\"Training\")\n",
    "# plt.xlabel('dX')\n",
    "# fig.savefig('KDE_ElecPS1PS2_dX.png')\n",
    "# fig=plt.figure(figsize=(7,5))\n",
    "\n",
    "# plt.hist(newdf['dY'],bins=100,histtype='step',linewidth=4,linestyle=\"dotted\",density=True,range=(-1.0,1.0),label=\"Generated\")\n",
    "# plt.hist(df['dY'],bins=100,histtype='step',color='red',linewidth=1.5,linestyle=\"solid\",density=True,range=(-1.0,1.0),label=\"Training\")\n",
    "# plt.xlabel('dY')\n",
    "# fig.savefig('KDE_ElecPS1PS2_dY.png')\n",
    "# fig=plt.figure(figsize=(7,5))\n",
    "\n",
    "\n",
    "# plt.hist(newdf['dZ'],bins=100,histtype='step',linewidth=4,linestyle=\"dotted\",density=True,range=(-1,-0.1),label=\"Generated\")\n",
    "# plt.hist(df['dZ'],bins=100,histtype='step',color='red',linewidth=1.5,linestyle=\"solid\",density=True,range=(-1,-0.1),label=\"Training\")\n",
    "# plt.xlabel('dZ')\n",
    "# fig.savefig('KDE_ElecPS1PS2_dZ.png')"
   ]
  },
  {
   "cell_type": "code",
   "execution_count": 39,
   "metadata": {},
   "outputs": [
    {
     "name": "stdout",
     "output_type": "stream",
     "text": [
      "input file: /work/lb8075/PhaseSpaces/PS2/PhS2_10x10_p1_ElecFromPhS1_highEn/Skimmed_output_*.root\n",
      "read files\n",
      "generated KDE\n",
      "resampled KDE\n",
      "Finished\n"
     ]
    }
   ],
   "source": [
    "newdf,df=KDEgen(\"/work/lb8075/PhaseSpaces/PS2/PhS2_10x10_p1_ElecFromPhS1_highEn/Skimmed_output_*.root\")"
   ]
  },
  {
   "cell_type": "code",
   "execution_count": 40,
   "metadata": {
    "scrolled": false
   },
   "outputs": [
    {
     "data": {
      "image/png": "[encoded data removed]",
      "text/plain": [
       "<Figure size 576x360 with 1 Axes>"
      ]
     },
     "metadata": {
      "needs_background": "light"
     },
     "output_type": "display_data"
    }
   ],
   "source": [
    "# fig=plt.figure(figsize=(8,5))\n",
    "# fig.subplots_adjust(hspace=0.4)\n",
    "# # fig.subplots_adjust(vspace=0.1)\n",
    "# y1,x1,_=plt.hist(newdf['X'],bins=160,histtype='step',density=True,range=(-160,160),linewidth=4,linestyle=\"dotted\",label=\"Generated\")\n",
    "# y2,x2,_=plt.hist(df['X'],bins=160,histtype='step',color='red',density=True,linewidth=1.5,linestyle=\"solid\",range=(-160,160),label=\"Training\")\n",
    "# plt.xlabel('X (cm)')\n",
    "# plt.legend(loc='upper right')\n",
    "# fig.savefig('KDE_ElecPS2_X.png')\n",
    "\n",
    "\n",
    "# fig=plt.figure(figsize=(8,5))\n",
    "# plt.hist(newdf['Y'],bins=160,histtype='step',linewidth=4,linestyle=\"dotted\",density=True,range=(-160,160),label=\"Generated\")\n",
    "# plt.hist(df['Y'],bins=160,histtype='step',color='red',linewidth=1.5,linestyle=\"solid\",density=True,range=(-160,160),label=\"Training\")\n",
    "# plt.xlabel('Y (cm)')\n",
    "# plt.legend(loc='upper right')\n",
    "# fig.savefig('KDE_ElecPS2_Y.png')\n",
    "\n",
    "# fig=plt.figure(figsize=(8,5))\n",
    "# plt.hist(newdf['Ekine'],bins=100,histtype='step',linewidth=4,linestyle=\"dotted\",density=True,range=(0,6.5),label=\"Generated\")\n",
    "# plt.hist(df['Ekine'],bins=100,histtype='step',color='red',linewidth=1.5,linestyle=\"solid\",density=True,range=(0,6.5),label=\"Training\")\n",
    "# plt.xlabel('Kinetic Energy (MeV)')\n",
    "# plt.legend(loc='upper right')\n",
    "# fig.savefig('KDE_ElecPS2_Ekine.png')\n",
    "\n",
    "# fig=plt.figure(figsize=(8,5))\n",
    "# plt.hist(newdf['dX'],bins=100,histtype='step',linewidth=4,linestyle=\"dotted\",density=True,range=(-1.0,1.0),label=\"Generated\")\n",
    "# plt.hist(df['dX'],bins=100,histtype='step',color='red',linewidth=1.5,linestyle=\"solid\",density=True,range=(-1.0,1.0),label=\"Training\")\n",
    "# plt.xlabel('dX')\n",
    "# plt.legend(loc='upper right')\n",
    "# fig.savefig('KDE_ElecPS2_dX.png')\n",
    "\n",
    "# fig=plt.figure(figsize=(8,5))\n",
    "# plt.hist(newdf['dY'],bins=100,histtype='step',linewidth=4,linestyle=\"dotted\",density=True,range=(-1.0,1.0),label=\"Generated\")\n",
    "# plt.hist(df['dY'],bins=100,histtype='step',color='red',linewidth=1.5,linestyle=\"solid\",density=True,range=(-1.0,1.0),label=\"Training\")\n",
    "# plt.xlabel('dY')\n",
    "# plt.legend(loc='upper right')\n",
    "# fig.savefig('KDE_ElecPS2_dY.png')\n",
    "\n",
    "fig=plt.figure(figsize=(8,5))\n",
    "plt.hist(newdf['dZ'],bins=100,histtype='step',linewidth=4,linestyle=\"dotted\",density=True,range=(-1,-0.1),label=\"Generated\")\n",
    "plt.hist(df['dZ'],bins=100,histtype='step',color='red',linewidth=1.5,linestyle=\"solid\",density=True,range=(-1,-0.1),label=\"Training\")\n",
    "plt.xlabel('dZ')\n",
    "plt.legend(loc='upper right')\n",
    "plt.yscale('log')\n",
    "fig.savefig('KDE_ElecPS2_dZ.png')\n",
    "\n",
    "# fig=plt.figure(figsize=(7,5))\n",
    "# # fig.subplots_adjust(hspace=0.4)\n",
    "# # fig.subplots_adjust(vspace=0.1)\n",
    "# y1,x1,_=plt.hist(newdf['X'],bins=100,histtype='step',density=True,range=(-140,140),linewidth=4,linestyle=\"dotted\",label=\"Generated\")\n",
    "# y2,x2,_=plt.hist(df['X'],bins=100,histtype='step',color='red',density=True,linewidth=1.5,linestyle=\"solid\",range=(-140,140),label=\"Training\")\n",
    "\n",
    "# plt.xlabel('X (cm)')\n",
    "# fig.savefig('KDE_ElecPS2_X.png')\n",
    "\n",
    "\n",
    "# fig=plt.figure(figsize=(7,5))\n",
    "# plt.hist(newdf['Y'],bins=100,histtype='step',linewidth=4,linestyle=\"dotted\",density=True,range=(-70,70),label=\"Generated\")\n",
    "# plt.hist(df['Y'],bins=100,histtype='step',color='red',linewidth=1.5,linestyle=\"solid\",density=True,range=(-70,70),label=\"Training\")\n",
    "# plt.xlabel('Y (cm)')\n",
    "# fig.savefig('KDE_ElecPS2_Y.png')\n",
    "# fig=plt.figure(figsize=(7,5))\n",
    "\n",
    "# plt.hist(newdf['Ekine'],bins=100,histtype='step',linewidth=4,linestyle=\"dotted\",density=True,range=(0,6.5),label=\"Generated\")\n",
    "# plt.hist(df['Ekine'],bins=100,histtype='step',color='red',linewidth=1.5,linestyle=\"solid\",density=True,range=(0,6.5),label=\"Training\")\n",
    "# plt.xlabel('Kinetic Energy (MeV)')\n",
    "# fig.savefig('KDE_ElecPS2_Ekine.png')\n",
    "# fig=plt.figure(figsize=(7,5))\n",
    "\n",
    "# plt.hist(newdf['dX'],bins=100,histtype='step',linewidth=4,linestyle=\"dotted\",density=True,range=(-1.0,1.0),label=\"Generated\")\n",
    "# plt.hist(df['dX'],bins=100,histtype='step',color='red',linewidth=1.5,linestyle=\"solid\",density=True,range=(-1.0,1.0),label=\"Training\")\n",
    "# plt.xlabel('dX')\n",
    "# fig.savefig('KDE_ElecPS2_dX.png')\n",
    "# fig=plt.figure(figsize=(7,5))\n",
    "\n",
    "# plt.hist(newdf['dY'],bins=100,histtype='step',linewidth=4,linestyle=\"dotted\",density=True,range=(-1.0,1.0),label=\"Generated\")\n",
    "# plt.hist(df['dY'],bins=100,histtype='step',color='red',linewidth=1.5,linestyle=\"solid\",density=True,range=(-1.0,1.0),label=\"Training\")\n",
    "# plt.xlabel('dY')\n",
    "# fig.savefig('KDE_ElecPS2_dY.png')\n",
    "# fig=plt.figure(figsize=(7,5))\n",
    "\n",
    "\n",
    "# plt.hist(newdf['dZ'],bins=100,histtype='step',linewidth=4,linestyle=\"dotted\",density=True,range=(-1,-0.1),label=\"Generated\")\n",
    "# plt.hist(df['dZ'],bins=100,histtype='step',color='red',linewidth=1.5,linestyle=\"solid\",density=True,range=(-1,-0.1),label=\"Training\")\n",
    "# plt.xlabel('dZ')\n",
    "# fig.savefig('KDE_ElecPS2_dZ.png')"
   ]
  },
  {
   "cell_type": "code",
   "execution_count": 10,
   "metadata": {},
   "outputs": [],
   "source": [
    "# fig,ax=plt.subplots(1,1,figsize=(8,8))\n",
    "# plt.hist(x1[:-1],bins=x1,weights=y1,linewidth=4,linestyle=\"dotted\",histtype='step',label=\"Generated\")\n",
    "# plt.hist(x2[:-1],bins=x2,weights=y2,linewidth=1.5,linestyle=\"solid\",histtype='step',color='red',density=True,range=(-140,140),label=\"Training\")\n",
    "# plt.xlabel('X (cm)')\n",
    "# plt.legend(loc='lower center')\n",
    "# plt.show()\n",
    "\n",
    "# fig.savefig('KDE_ElecPS2_X.png')"
   ]
  },
  {
   "cell_type": "code",
   "execution_count": null,
   "metadata": {},
   "outputs": [],
   "source": []
  },
  {
   "cell_type": "code",
   "execution_count": null,
   "metadata": {},
   "outputs": [],
   "source": []
  },
  {
   "cell_type": "code",
   "execution_count": null,
   "metadata": {},
   "outputs": [],
   "source": []
  },
  {
   "cell_type": "code",
   "execution_count": 11,
   "metadata": {},
   "outputs": [],
   "source": [
    "# fig,ax=plt.subplots(2,3,figsize=(15,8))\n",
    "# fig.subplots_adjust(hspace=0.3)\n",
    "# _=ax[0,0].hist(newdf['X'],bins=100,histtype='step',density=True,range=(-40,40),label=\"Generated\")\n",
    "# _=ax[0,0].hist(df['X'],bins=100,histtype='step',color='red',density=True,range=(-40,40),label=\"Training\")\n",
    "# _=ax[0,1].hist(newdf['Y'],bins=100,histtype='step',density=True,range=(-40,40),label=\"Generated\")\n",
    "# _=ax[0,1].hist(df['Y'],bins=100,histtype='step',color='red',density=True,range=(-40,40),label=\"Training\")\n",
    "# _=ax[0,2].hist(newdf['Ekine'],bins=100,histtype='step',density=True,label=\"Generated\")\n",
    "# _=ax[0,2].hist(df['Ekine'],bins=100,histtype='step',color='red',density=True,label=\"Training\")\n",
    "# _=ax[1,0].hist(newdf['dX'],bins=100,histtype='step',density=True,range=(-0.2,0.2),label=\"Generated\")\n",
    "# _=ax[1,0].hist(df['dX'],bins=100,histtype='step',color='red',density=True,range=(-0.2,0.2),label=\"Training\")\n",
    "# _=ax[1,1].hist(newdf['dY'],bins=100,histtype='step',density=True,range=(-0.2,0.2),label=\"Generated\")\n",
    "# _=ax[1,1].hist(df['dY'],bins=100,histtype='step',color='red',density=True,range=(-0.2,0.2),label=\"Training\")\n",
    "# _=ax[1,2].hist(newdf['dZ'],bins=100,histtype='step',density=True,range=(-1,-0.99),label=\"Generated\")\n",
    "# _=ax[1,2].hist(df['dZ'],bins=100,histtype='step',color='red',density=True,range=(-1,-0.99),label=\"Training\")\n",
    "\n",
    "# # _=ax[0,0].hist(newdf['X'],bins=100,histtype='step',density=True,range=(-140,140))\n",
    "# # _=ax[0,0].hist(df['X'],bins=100,histtype='step',color='red',density=True,range=(-140,140))\n",
    "# # _=ax[0,1].hist(newdf['Y'],bins=100,histtype='step',density=True,range=(-70,70))\n",
    "# # _=ax[0,1].hist(df['Y'],bins=100,histtype='step',color='red',density=True,range=(-70,70))\n",
    "# # _=ax[0,2].hist(newdf['Ekine'],bins=100,histtype='step',density=True,range=(0,6.5))\n",
    "# # _=ax[0,2].hist(df['Ekine'],bins=100,histtype='step',color='red',density=True,range=(0,6.5))\n",
    "# # _=ax[1,0].hist(newdf['dX'],bins=100,histtype='step',density=True,range=(-1.0,1.0))\n",
    "# # _=ax[1,0].hist(df['dX'],bins=100,histtype='step',color='red',density=True,range=(-1.0,1.0))\n",
    "# # _=ax[1,1].hist(newdf['dY'],bins=100,histtype='step',density=True,range=(-1.0,1.0))\n",
    "# # _=ax[1,1].hist(df['dY'],bins=100,histtype='step',color='red',density=True,range=(-1.0,1.0))\n",
    "# # _=ax[1,2].hist(newdf['dZ'],bins=100,histtype='step',density=True,range=(-1,-0.1))\n",
    "# # _=ax[1,2].hist(df['dZ'],bins=100,histtype='step',color='red',density=True,range=(-1,-0.1))\n",
    "\n",
    "# ax[0,0].set_xlabel('X (cm)')\n",
    "# ax[0,1].set_xlabel('Y (cm)')\n",
    "# ax[0,2].set_xlabel('Kinetic Energy (MeV)')\n",
    "# ax[1,0].set_xlabel('dX')\n",
    "# ax[1,1].set_xlabel('dY')\n",
    "# ax[1,2].set_xlabel('dZ')\n",
    "# ax[1,2].legend(loc='upper right')\n",
    "# fig.savefig('KDE_Gamma.png')"
   ]
  },
  {
   "cell_type": "code",
   "execution_count": null,
   "metadata": {},
   "outputs": [],
   "source": []
  }
 ],
 "metadata": {
  "kernelspec": {
   "display_name": "Python 3",
   "language": "python",
   "name": "python3"
  },
  "language_info": {
   "codemirror_mode": {
    "name": "ipython",
    "version": 3
   },
   "file_extension": ".py",
   "mimetype": "text/x-python",
   "name": "python",
   "nbconvert_exporter": "python",
   "pygments_lexer": "ipython3",
   "version": "3.8.5"
  }
 },
 "nbformat": 4,
 "nbformat_minor": 4
}
