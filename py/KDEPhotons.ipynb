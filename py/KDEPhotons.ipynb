{
 "cells": [
  {
   "cell_type": "code",
   "execution_count": 1,
   "metadata": {},
   "outputs": [],
   "source": [
    "import numpy as np\n",
    "import math\n",
    "from matplotlib import pylab as plt\n",
    "# from ROOT import TTree, TFile, TH2D, TCanvas, TH1F, gROOT\n",
    "# from root_numpy import array2hist, hist2array, fill_hist, tree2array, root2array, list_trees\n",
    "import pandas as pd\n",
    "# from root_pandas import read_root\n",
    "# import uproot\n",
    "import time\n",
    "from mpl_toolkits.mplot3d import Axes3D # <--- This is important for 3d plotting \n",
    "\n",
    "from scipy import stats"
   ]
  },
  {
   "cell_type": "code",
   "execution_count": 2,
   "metadata": {},
   "outputs": [
    {
     "name": "stdout",
     "output_type": "stream",
     "text": [
      "read\n"
     ]
    }
   ],
   "source": [
    "# df5e = pd.read_pickle(\"electron5x5.pkl\")\n",
    "# print(\"read\")\n",
    "# df5g = pd.read_pickle(\"../PhS2_5x5/Gamma5x5.pkl\")\n",
    "# print(\"read\")\n",
    "# df10e = pd.read_pickle(\"electron10x10.pkl\")\n",
    "# print(\"read\")\n",
    "df10e = pd.read_pickle(\"../PhS2_10x10/Gamma10x10.pkl\")\n",
    "print(\"read\")\n",
    "# df20e = pd.read_pickle(\"electron20x20.pkl\")\n",
    "# print(\"read\")\n",
    "# df20g = pd.read_pickle(\"../PhS2_20x20/Gamma20x20.pkl\")\n",
    "# print(\"read\")"
   ]
  },
  {
   "cell_type": "code",
   "execution_count": 3,
   "metadata": {},
   "outputs": [
    {
     "data": {
      "text/html": [
       "<div>\n",
       "<style scoped>\n",
       "    .dataframe tbody tr th:only-of-type {\n",
       "        vertical-align: middle;\n",
       "    }\n",
       "\n",
       "    .dataframe tbody tr th {\n",
       "        vertical-align: top;\n",
       "    }\n",
       "\n",
       "    .dataframe thead th {\n",
       "        text-align: right;\n",
       "    }\n",
       "</style>\n",
       "<table border=\"1\" class=\"dataframe\">\n",
       "  <thead>\n",
       "    <tr style=\"text-align: right;\">\n",
       "      <th></th>\n",
       "      <th>X</th>\n",
       "      <th>Y</th>\n",
       "      <th>dX</th>\n",
       "      <th>dY</th>\n",
       "      <th>Weight</th>\n",
       "      <th>Ekine</th>\n",
       "    </tr>\n",
       "  </thead>\n",
       "  <tbody>\n",
       "    <tr>\n",
       "      <th>0</th>\n",
       "      <td>8.875000</td>\n",
       "      <td>15.421875</td>\n",
       "      <td>0.020874</td>\n",
       "      <td>0.028427</td>\n",
       "      <td>0.020004</td>\n",
       "      <td>3.330078</td>\n",
       "    </tr>\n",
       "    <tr>\n",
       "      <th>1</th>\n",
       "      <td>-14.687500</td>\n",
       "      <td>-3.492188</td>\n",
       "      <td>-0.050232</td>\n",
       "      <td>0.069336</td>\n",
       "      <td>0.020004</td>\n",
       "      <td>0.111328</td>\n",
       "    </tr>\n",
       "    <tr>\n",
       "      <th>2</th>\n",
       "      <td>1.917969</td>\n",
       "      <td>-15.992188</td>\n",
       "      <td>0.004704</td>\n",
       "      <td>-0.026215</td>\n",
       "      <td>0.020004</td>\n",
       "      <td>3.886719</td>\n",
       "    </tr>\n",
       "    <tr>\n",
       "      <th>3</th>\n",
       "      <td>-18.328125</td>\n",
       "      <td>14.812500</td>\n",
       "      <td>-0.034210</td>\n",
       "      <td>0.027039</td>\n",
       "      <td>0.020004</td>\n",
       "      <td>3.050781</td>\n",
       "    </tr>\n",
       "    <tr>\n",
       "      <th>4</th>\n",
       "      <td>-11.101562</td>\n",
       "      <td>18.703125</td>\n",
       "      <td>-0.022614</td>\n",
       "      <td>0.035797</td>\n",
       "      <td>0.020004</td>\n",
       "      <td>1.916992</td>\n",
       "    </tr>\n",
       "    <tr>\n",
       "      <th>...</th>\n",
       "      <td>...</td>\n",
       "      <td>...</td>\n",
       "      <td>...</td>\n",
       "      <td>...</td>\n",
       "      <td>...</td>\n",
       "      <td>...</td>\n",
       "    </tr>\n",
       "    <tr>\n",
       "      <th>129343542</th>\n",
       "      <td>-20.937500</td>\n",
       "      <td>-15.906250</td>\n",
       "      <td>-0.042542</td>\n",
       "      <td>-0.027756</td>\n",
       "      <td>0.020004</td>\n",
       "      <td>1.041992</td>\n",
       "    </tr>\n",
       "    <tr>\n",
       "      <th>129343543</th>\n",
       "      <td>17.265625</td>\n",
       "      <td>-19.828125</td>\n",
       "      <td>0.029541</td>\n",
       "      <td>-0.035156</td>\n",
       "      <td>0.020004</td>\n",
       "      <td>2.033203</td>\n",
       "    </tr>\n",
       "    <tr>\n",
       "      <th>129343544</th>\n",
       "      <td>9.789062</td>\n",
       "      <td>1.289062</td>\n",
       "      <td>0.016541</td>\n",
       "      <td>0.002724</td>\n",
       "      <td>0.020004</td>\n",
       "      <td>0.598145</td>\n",
       "    </tr>\n",
       "    <tr>\n",
       "      <th>129343545</th>\n",
       "      <td>-14.507812</td>\n",
       "      <td>15.484375</td>\n",
       "      <td>-0.157104</td>\n",
       "      <td>0.110596</td>\n",
       "      <td>0.000400</td>\n",
       "      <td>0.640625</td>\n",
       "    </tr>\n",
       "    <tr>\n",
       "      <th>129343546</th>\n",
       "      <td>24.312500</td>\n",
       "      <td>-24.187500</td>\n",
       "      <td>0.059845</td>\n",
       "      <td>-0.121460</td>\n",
       "      <td>0.020004</td>\n",
       "      <td>2.298828</td>\n",
       "    </tr>\n",
       "  </tbody>\n",
       "</table>\n",
       "<p>129343547 rows × 6 columns</p>\n",
       "</div>"
      ],
      "text/plain": [
       "                   X          Y        dX        dY    Weight     Ekine\n",
       "0           8.875000  15.421875  0.020874  0.028427  0.020004  3.330078\n",
       "1         -14.687500  -3.492188 -0.050232  0.069336  0.020004  0.111328\n",
       "2           1.917969 -15.992188  0.004704 -0.026215  0.020004  3.886719\n",
       "3         -18.328125  14.812500 -0.034210  0.027039  0.020004  3.050781\n",
       "4         -11.101562  18.703125 -0.022614  0.035797  0.020004  1.916992\n",
       "...              ...        ...       ...       ...       ...       ...\n",
       "129343542 -20.937500 -15.906250 -0.042542 -0.027756  0.020004  1.041992\n",
       "129343543  17.265625 -19.828125  0.029541 -0.035156  0.020004  2.033203\n",
       "129343544   9.789062   1.289062  0.016541  0.002724  0.020004  0.598145\n",
       "129343545 -14.507812  15.484375 -0.157104  0.110596  0.000400  0.640625\n",
       "129343546  24.312500 -24.187500  0.059845 -0.121460  0.020004  2.298828\n",
       "\n",
       "[129343547 rows x 6 columns]"
      ]
     },
     "execution_count": 3,
     "metadata": {},
     "output_type": "execute_result"
    }
   ],
   "source": [
    "df10e"
   ]
  },
  {
   "cell_type": "code",
   "execution_count": 124,
   "metadata": {},
   "outputs": [],
   "source": [
    "# dfe10tot=df10e[['X','Y','dX','dY','Ekine','Weight']]\n",
    "pd.set_option('mode.use_inf_as_na', True)\n"
   ]
  },
  {
   "cell_type": "code",
   "execution_count": 125,
   "metadata": {},
   "outputs": [
    {
     "data": {
      "text/plain": [
       "Int64Index([], dtype='int64')"
      ]
     },
     "execution_count": 125,
     "metadata": {},
     "output_type": "execute_result"
    }
   ],
   "source": [
    "dfe10tot.index[np.isinf(dfe10tot).any(1)]\n",
    "# dfe10tot.loc[[129168038]]"
   ]
  },
  {
   "cell_type": "code",
   "execution_count": 126,
   "metadata": {},
   "outputs": [],
   "source": [
    "dfe10tot=dfe10tot.dropna()\n"
   ]
  },
  {
   "cell_type": "code",
   "execution_count": 127,
   "metadata": {},
   "outputs": [],
   "source": [
    "#dfe10tot=dfe10tot.head(129000000)"
   ]
  },
  {
   "cell_type": "code",
   "execution_count": 128,
   "metadata": {},
   "outputs": [],
   "source": [
    "nparr=dfe10tot.to_numpy()\n",
    "values=nparr.T"
   ]
  },
  {
   "cell_type": "code",
   "execution_count": 137,
   "metadata": {},
   "outputs": [],
   "source": [
    "bandwidth=0.01"
   ]
  },
  {
   "cell_type": "code",
   "execution_count": 138,
   "metadata": {},
   "outputs": [],
   "source": [
    "kde = stats.gaussian_kde(values,bw_method=bandwidth)"
   ]
  },
  {
   "cell_type": "code",
   "execution_count": 139,
   "metadata": {},
   "outputs": [],
   "source": [
    "newsample = stats.gaussian_kde.resample(kde,1000000)\n"
   ]
  },
  {
   "cell_type": "code",
   "execution_count": 140,
   "metadata": {},
   "outputs": [],
   "source": [
    "newdf=pd.DataFrame(newsample.T,columns=['X','Y','dX','dY','Ekine','Weight'])"
   ]
  },
  {
   "cell_type": "code",
   "execution_count": 141,
   "metadata": {},
   "outputs": [
    {
     "data": {
      "image/png": "[encoded data removed]",
      "text/plain": [
       "<Figure size 432x432 with 1 Axes>"
      ]
     },
     "metadata": {
      "needs_background": "light"
     },
     "output_type": "display_data"
    }
   ],
   "source": [
    "plt.figure(figsize=(6,6))\n",
    "_=plt.hist(newdf['X'],bins=100,histtype='step',density=True)\n",
    "_=plt.hist(dfe10tot['X'],bins=100,histtype='step',color='red',density=True)"
   ]
  },
  {
   "cell_type": "code",
   "execution_count": 144,
   "metadata": {},
   "outputs": [
    {
     "data": {
      "image/png": "[encoded data removed]",
      "text/plain": [
       "<Figure size 1008x288 with 1 Axes>"
      ]
     },
     "metadata": {
      "needs_background": "light"
     },
     "output_type": "display_data"
    }
   ],
   "source": [
    "plt.figure(figsize=(14,4))\n",
    "_=plt.hist(dfe10tot['Ekine'],bins=500,histtype='step',color='red',density=True)\n",
    "_=plt.hist(newdf['Ekine'],bins=500,histtype='step',density=True)\n"
   ]
  },
  {
   "cell_type": "code",
   "execution_count": 164,
   "metadata": {},
   "outputs": [
    {
     "data": {
      "image/png": "[encoded data removed]",
      "text/plain": [
       "<Figure size 1008x288 with 1 Axes>"
      ]
     },
     "metadata": {
      "needs_background": "light"
     },
     "output_type": "display_data"
    }
   ],
   "source": [
    "plt.figure(figsize=(14,4))\n",
    "_=plt.hist(dfe10tot[dfe10tot['Weight']>0]['Ekine'],weights=dfe10tot[dfe10tot['Weight']>0]['Weight'],bins=300,histtype='step',color='red')\n",
    "# _=plt.hist(newdf['Ekine'],weights=newdf['Weight'],bins=200,histtype='step',density=True,color='green')\n"
   ]
  },
  {
   "cell_type": "code",
   "execution_count": 165,
   "metadata": {},
   "outputs": [
    {
     "data": {
      "image/png": "[encoded data removed]",
      "text/plain": [
       "<Figure size 1008x288 with 1 Axes>"
      ]
     },
     "metadata": {
      "needs_background": "light"
     },
     "output_type": "display_data"
    }
   ],
   "source": [
    "plt.figure(figsize=(14,4))\n",
    "# _=plt.hist(dfe10tot[dfe10tot['Weight']>0.00001]['Ekine'],weights=dfe10tot[dfe10tot['Weight']>0.00001]['Weight'],bins=100,histtype='step',color='red')\n",
    "_=plt.hist(newdf[newdf['Weight']>0]['Ekine'],weights=newdf[newdf['Weight']>0]['Weight'],bins=300,histtype='step',color='green')\n"
   ]
  },
  {
   "cell_type": "code",
   "execution_count": 136,
   "metadata": {},
   "outputs": [
    {
     "data": {
      "image/png": "[encoded data removed]",
      "text/plain": [
       "<Figure size 1008x288 with 1 Axes>"
      ]
     },
     "metadata": {
      "needs_background": "light"
     },
     "output_type": "display_data"
    }
   ],
   "source": [
    "plt.figure(figsize=(14,4))\n",
    "\n",
    "_=plt.hist(dfe10tot['Ekine'],bins=300,histtype='step',color='red')\n"
   ]
  },
  {
   "cell_type": "code",
   "execution_count": null,
   "metadata": {},
   "outputs": [],
   "source": []
  }
 ],
 "metadata": {
  "kernelspec": {
   "display_name": "Python 3",
   "language": "python",
   "name": "python3"
  },
  "language_info": {
   "codemirror_mode": {
    "name": "ipython",
    "version": 3
   },
   "file_extension": ".py",
   "mimetype": "text/x-python",
   "name": "python",
   "nbconvert_exporter": "python",
   "pygments_lexer": "ipython3",
   "version": "3.8.5"
  }
 },
 "nbformat": 4,
 "nbformat_minor": 2
}
