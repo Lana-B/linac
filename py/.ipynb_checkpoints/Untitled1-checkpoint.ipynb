{
 "cells": [
  {
   "cell_type": "code",
   "execution_count": 1,
   "metadata": {},
   "outputs": [
    {
     "name": "stdout",
     "output_type": "stream",
     "text": [
      "Welcome to JupyROOT 6.18/04\n"
     ]
    }
   ],
   "source": [
    "import numpy as np\n",
    "import math\n",
    "from matplotlib import pylab as plt\n",
    "from ROOT import TTree, TFile, TH2D, TCanvas, TH1F, gROOT\n",
    "from root_numpy import array2hist, hist2array, fill_hist, tree2array, root2array, list_trees\n",
    "import pandas as pd\n",
    "from root_pandas import read_root\n",
    "import pickle\n",
    "import lzma"
   ]
  },
  {
   "cell_type": "code",
   "execution_count": 3,
   "metadata": {},
   "outputs": [
    {
     "name": "stdout",
     "output_type": "stream",
     "text": [
      "1\n"
     ]
    }
   ],
   "source": [
    "for filenum in range(1,2):\n",
    "    filename=\"../PhS2_5x5/output-lana2-PhS-e\"+str(filenum)+\".root\"\n",
    "    inputFile=TFile(filename)\n",
    "    tree=inputFile.Get(\"PhaseSpace\")\n",
    "#     dfe = read_root(filename, columns=['X','Y','Z','dX', 'dY','dZ','Weight','Ekine','ProductionVolume','CreatorProcess'])\n",
    "    print(filenum)\n",
    "    with lzma.open(\"../Phs2_5x5/RLZMA-Skimmed2_e\"+str(filenum)+\".pkl\", \"w\") as f:\n",
    "        pickle.dump(tree, f)"
   ]
  },
  {
   "cell_type": "code",
   "execution_count": null,
   "metadata": {},
   "outputs": [],
   "source": []
  }
 ],
 "metadata": {
  "kernelspec": {
   "display_name": "Python 3",
   "language": "python",
   "name": "python3"
  },
  "language_info": {
   "codemirror_mode": {
    "name": "ipython",
    "version": 3
   },
   "file_extension": ".py",
   "mimetype": "text/x-python",
   "name": "python",
   "nbconvert_exporter": "python",
   "pygments_lexer": "ipython3",
   "version": "3.7.7"
  }
 },
 "nbformat": 4,
 "nbformat_minor": 2
}
