{
 "cells": [
  {
   "cell_type": "code",
   "execution_count": 1,
   "metadata": {},
   "outputs": [],
   "source": [
    "import numpy as np\n",
    "import math\n",
    "from matplotlib import pylab as plt\n",
    "# from ROOT import TTree, TFile, TH2D, TCanvas, TH1F, gROOT\n",
    "# from root_numpy import array2hist, hist2array, fill_hist, tree2array, root2array, list_trees\n",
    "import pandas as pd\n",
    "# from root_pandas import read_root\n",
    "import uproot\n",
    "import time\n",
    "\n",
    "\n",
    "# filenameg=\"../output/ClusterAllOne_main_phs1_gamma.root\"\n",
    "# filename=\"../output/ClusterAllOne_main_phs1_electron.root\"\n",
    "# inputFile=TFile(filename)\n",
    "# tree=inputFile.Get(\"PhaseSpace\")\n",
    "# # tree.ls()\\\\\\\\\\\n",
    "# # tree.GetEntries()\n",
    "# # list_trees(filename)\n",
    "# inputFileg=TFile(filenameg)\n",
    "# treeg=inputFileg.Get(\"PhaseSpace\")\n",
    "# # treeg.ls()\n",
    "# # treeg.GetEntries()\n",
    "\n",
    "# filename_2g=\"../output/output-lana2-PhS-g.root\"\n",
    "# inputFile_2g=TFile(filename_2g)\n",
    "# tree_2g=inputFile_2g.Get(\"PhaseSpace\")\n",
    "# # tree_2g.ls()\n",
    "# # tree_2g.GetEntries()\n",
    "\n",
    "# filename_2e=\"../output/output-lana2-PhS-e.root\"\n",
    "# inputFile_2e=TFile(filename_2e)\n",
    "# tree_2e=inputFile_2e.Get(\"PhaseSpace\")\n",
    "# # tree_2e.ls()"
   ]
  },
  {
   "cell_type": "code",
   "execution_count": 2,
   "metadata": {},
   "outputs": [
    {
     "name": "stdout",
     "output_type": "stream",
     "text": [
      "50.584593772888184\n",
      "0.5853991508483887\n"
     ]
    }
   ],
   "source": [
    "# dftote = pd.DataFrame()\n",
    "# for filenum in range(1,989):\n",
    "#     filename=\"../PhS2_10x10/output-lana2-PhS-e\"+str(filenum)+\".root\"\n",
    "#     inputFile=TFile(filename)\n",
    "#     tree=inputFile.Get(\"PhaseSpace\")\n",
    "#     dfe = read_root(filename, columns=['X','Y','Z','dX', 'dY','dZ','Weight','Ekine'])\n",
    "#     dftote=dftote.append(dfe)\n",
    "#     print(filenum)\n",
    "filename=\"../PhS2_10x10/Skimmed/Skimmed-PhS-e*.root\"    \n",
    "ur=uproot.pandas.iterate(filename, \"PhaseSpace\", ['X','Y','dX','dY','Weight','Ekine'])\n",
    "prevtime=time.time()\n",
    "mylist=list(ur)        \n",
    "newtime=time.time()\n",
    "\n",
    "print(newtime-prevtime)\n",
    "\n",
    "prevtime=time.time()\n",
    "dftot=pd.concat(mylist, ignore_index=True, sort=False  ,copy = False)\n",
    "dftot=dftot.astype('float16')\n",
    "newtime=time.time()\n",
    "print(newtime-prevtime)\n",
    "dftot=dftot.to_pickle(\"electron10x10.pkl\")"
   ]
  },
  {
   "cell_type": "code",
   "execution_count": null,
   "metadata": {},
   "outputs": [],
   "source": []
  },
  {
   "cell_type": "code",
   "execution_count": 5,
   "metadata": {},
   "outputs": [
    {
     "name": "stdout",
     "output_type": "stream",
     "text": [
      "45.64898610115051\n",
      "0.13486695289611816\n"
     ]
    }
   ],
   "source": [
    "filename=\"../PhS2_5x5/Skimmed/Skimmed-PhS-e*.root\"    \n",
    "ur=uproot.pandas.iterate(filename, \"PhaseSpace\", ['X','Y','dX','dY','Weight','Ekine'])\n",
    "prevtime=time.time()\n",
    "mylist=list(ur)        \n",
    "newtime=time.time()\n",
    "\n",
    "print(newtime-prevtime)\n",
    "\n",
    "prevtime=time.time()\n",
    "dftot5=pd.concat(mylist, ignore_index=True, sort=False  ,copy = False)\n",
    "newtime=time.time()\n",
    "dftot5=dftot5.astype('float16')\n",
    "\n",
    "print(newtime-prevtime)\n",
    "dftot5=dftot5.to_pickle(\"electron5x5.pkl\")"
   ]
  },
  {
   "cell_type": "code",
   "execution_count": 3,
   "metadata": {},
   "outputs": [
    {
     "name": "stdout",
     "output_type": "stream",
     "text": [
      "78.12828397750854\n",
      "0.6308362483978271\n"
     ]
    }
   ],
   "source": [
    "filename=\"../PhS2_20x20/Skimmed/Skimmed-PhS-e*.root\"    \n",
    "ur=uproot.pandas.iterate(filename, \"PhaseSpace\", ['X','Y','dX','dY','Weight','Ekine'])\n",
    "prevtime=time.time()\n",
    "mylist=list(ur)        \n",
    "newtime=time.time()\n",
    "\n",
    "print(newtime-prevtime)\n",
    "\n",
    "prevtime=time.time()\n",
    "dftot20=pd.concat(mylist, ignore_index=True, sort=False  ,copy = False)\n",
    "newtime=time.time()\n",
    "print(newtime-prevtime)\n",
    "dftot20=dftot20.astype('float16')\n",
    "\n",
    "dftot20=dftot20.to_pickle(\"electron20x20.pkl\")"
   ]
  },
  {
   "cell_type": "code",
   "execution_count": 4,
   "metadata": {},
   "outputs": [
    {
     "ename": "NameError",
     "evalue": "name 'dftote' is not defined",
     "output_type": "error",
     "traceback": [
      "\u001b[0;31m---------------------------------------------------------------------------\u001b[0m",
      "\u001b[0;31mNameError\u001b[0m                                 Traceback (most recent call last)",
      "\u001b[0;32m<ipython-input-4-98c94793bb7f>\u001b[0m in \u001b[0;36m<module>\u001b[0;34m\u001b[0m\n\u001b[0;32m----> 1\u001b[0;31m \u001b[0m_\u001b[0m\u001b[0;34m=\u001b[0m\u001b[0mplt\u001b[0m\u001b[0;34m.\u001b[0m\u001b[0mhist2d\u001b[0m\u001b[0;34m(\u001b[0m\u001b[0mdftote\u001b[0m\u001b[0;34m[\u001b[0m\u001b[0;34m'X'\u001b[0m\u001b[0;34m]\u001b[0m\u001b[0;34m,\u001b[0m\u001b[0mdftote\u001b[0m\u001b[0;34m[\u001b[0m\u001b[0;34m'dX'\u001b[0m\u001b[0;34m]\u001b[0m\u001b[0;34m,\u001b[0m\u001b[0mweights\u001b[0m\u001b[0;34m=\u001b[0m\u001b[0mdfe\u001b[0m\u001b[0;34m[\u001b[0m\u001b[0;34m'Weight'\u001b[0m\u001b[0;34m]\u001b[0m\u001b[0;34m,\u001b[0m\u001b[0mbins\u001b[0m\u001b[0;34m=\u001b[0m\u001b[0;34m(\u001b[0m\u001b[0;36m50\u001b[0m\u001b[0;34m,\u001b[0m\u001b[0;36m50\u001b[0m\u001b[0;34m)\u001b[0m\u001b[0;34m)\u001b[0m\u001b[0;34m\u001b[0m\u001b[0;34m\u001b[0m\u001b[0m\n\u001b[0m",
      "\u001b[0;31mNameError\u001b[0m: name 'dftote' is not defined"
     ]
    }
   ],
   "source": [
    "_=plt.hist2d(dftote['X'],dftote['dX'],weights=dfe['Weight'],bins=(50,50))\n"
   ]
  },
  {
   "cell_type": "code",
   "execution_count": null,
   "metadata": {},
   "outputs": [],
   "source": [
    "dftote['dXdY']=(dftote.dX**2+dftote.dY**2)**0.5\n",
    "\n",
    "ratioThetaXYe=dftote.dXdY/dftote.dZ\n",
    "ratioThetaXe=dftote.dX/dftote.dZ\n",
    "ratioThetaYe=dftote.dY/dftote.dZ\n",
    "dftote['thetaXY']=ratioThetaXYe.apply(math.atan)*180/3.14\n",
    "dftote['thetaX']=ratioThetaXe.apply(math.atan)*180/3.14\n",
    "dftote['thetaY']=ratioThetaYe.apply(math.atan)*180/3.14"
   ]
  },
  {
   "cell_type": "code",
   "execution_count": null,
   "metadata": {},
   "outputs": [],
   "source": [
    "_=plt.hist2d(dftote['X'],dftote['dX'],weights=dftote['Weight'],bins=(100,100))\n",
    "\n",
    "# ,cmax=20"
   ]
  },
  {
   "cell_type": "code",
   "execution_count": null,
   "metadata": {},
   "outputs": [],
   "source": [
    "plt.figure(figsize=(5,5))\n",
    "_=plt.hist2d(dftote['X'],dftote['thetaX'],weights=dftote['Weight'],bins=(50,50),range=([[-26.5,26.5],[-60,60]]))\n",
    "plt.xlabel(\"X (mm)\")\n",
    "plt.ylabel(\"thetaX (deg)\")\n",
    "plt.colorbar()\n"
   ]
  },
  {
   "cell_type": "code",
   "execution_count": null,
   "metadata": {},
   "outputs": [],
   "source": [
    "dftote2 = pd.DataFrame()\n",
    "for filenum in range(1,989):\n",
    "    filename=\"../PhS2_5x5/output-lana2-PhS-e\"+str(filenum)+\".root\"\n",
    "    inputFile=TFile(filename)\n",
    "    tree=inputFile.Get(\"PhaseSpace\")\n",
    "    dfe = read_root(filename, columns=['X','Y','Z','dX', 'dY','dZ','Weight','Ekine'])\n",
    "    dftote2=dftote2.append(dfe)\n",
    "    if filenum%50==0:\n",
    "        print(filenum)"
   ]
  },
  {
   "cell_type": "code",
   "execution_count": null,
   "metadata": {},
   "outputs": [],
   "source": [
    "dftote2['dXdY']=(dftote2.dX**2+dftote2.dY**2)**0.5\n",
    "\n",
    "ratioThetaXYe2=dftote2.dXdY/dftote2.dZ\n",
    "ratioThetaXe2=dftote2.dX/dftote2.dZ\n",
    "ratioThetaYe2=dftote2.dY/dftote2.dZ\n",
    "dftote2['thetaXY']=ratioThetaXYe2.apply(math.atan)*180/3.14\n",
    "dftote2['thetaX']=ratioThetaXe2.apply(math.atan)*180/3.14\n",
    "dftote2['thetaY']=ratioThetaYe2.apply(math.atan)*180/3.14"
   ]
  },
  {
   "cell_type": "code",
   "execution_count": null,
   "metadata": {},
   "outputs": [],
   "source": [
    "plt.figure(figsize=(5,5))\n",
    "\n",
    "hist2=plt.hist2d(dftote2['X'],dftote2['thetaX'],weights=dftote2['Weight'],bins=(50,50),range=([[-13.33,13.33],[-60,60]]))\n",
    "plt.xlabel(\"X (mm)\")\n",
    "plt.ylabel(\"thetaX (deg)\")\n",
    "plt.colorbar() \n"
   ]
  },
  {
   "cell_type": "code",
   "execution_count": null,
   "metadata": {},
   "outputs": [],
   "source": [
    "plt.figure(figsize=(5,5))\n",
    "_=plt.hist2d(dftote2['X'],dftote2['Y'],weights=dftote2['Weight'],bins=(100,100))\n",
    "plt.xlabel(\"X (mm)\")\n",
    "plt.ylabel(\"Y (mm)\")\n",
    "plt.colorbar()\n"
   ]
  },
  {
   "cell_type": "code",
   "execution_count": null,
   "metadata": {},
   "outputs": [],
   "source": [
    "plt.figure(figsize=(5,5))\n",
    "_=plt.hist2d(dftote['X'],dftote['Y'],weights=dftote['Weight'],bins=(50,50))\n",
    "plt.xlabel(\"X (mm)\")\n",
    "plt.ylabel(\"Y (mm)\")\n",
    "plt.colorbar()\n",
    "\n"
   ]
  },
  {
   "cell_type": "code",
   "execution_count": null,
   "metadata": {},
   "outputs": [],
   "source": [
    "dftote20 = pd.DataFrame()\n",
    "for filenum in range(1,989):\n",
    "    filename=\"../PhS2_20x20/output-lana2-PhS-e\"+str(filenum)+\".root\"\n",
    "    inputFile=TFile(filename)\n",
    "    tree=inputFile.Get(\"PhaseSpace\")\n",
    "    dfe = read_root(filename, columns=['X','Y','Z','dX', 'dY','dZ','Weight','Ekine'])\n",
    "    dftote20=dftote20.append(dfe)\n",
    "    if filenum%10==0:\n",
    "        print(filenum)"
   ]
  },
  {
   "cell_type": "code",
   "execution_count": null,
   "metadata": {},
   "outputs": [],
   "source": [
    "dftote20['dXdY']=(dftote20.dX**2+dftote20.dY**2)**0.5\n",
    "\n",
    "ratioThetaXYe20=dftote20.dXdY/dftote20.dZ\n",
    "ratioThetaXe20=dftote20.dX/dftote20.dZ\n",
    "ratioThetaYe20=dftote20.dY/dftote20.dZ\n",
    "dftote20['thetaXY']=ratioThetaXYe20.apply(math.atan)*180/3.14\n",
    "dftote20['thetaX']=ratioThetaXe20.apply(math.atan)*180/3.14\n",
    "dftote20['thetaY']=ratioThetaYe20.apply(math.atan)*180/3.14"
   ]
  },
  {
   "cell_type": "code",
   "execution_count": null,
   "metadata": {},
   "outputs": [],
   "source": [
    "plt.figure(figsize=(5,5))\n",
    "_=plt.hist2d(dftote20['X'],dftote20['Y'],weights=dftote20['Weight'],bins=(100,100))\n",
    "plt.xlabel(\"X (mm)\")\n",
    "plt.ylabel(\"Y (mm)\")\n",
    "plt.colorbar()\n"
   ]
  },
  {
   "cell_type": "code",
   "execution_count": null,
   "metadata": {},
   "outputs": [],
   "source": [
    "plt.figure(figsize=(5,5))\n",
    "_=plt.hist2d(dftote20['X'],dftote20['thetaX'],weights=dftote20['Weight'],bins=( 100,100),range=([[-52.9,52.9],[-60,60]]))\n",
    "plt.xlabel(\"X (mm)\")\n",
    "plt.ylabel(\"thetaX (deg)\")\n",
    "plt.colorbar()\n"
   ]
  },
  {
   "cell_type": "code",
   "execution_count": null,
   "metadata": {},
   "outputs": [],
   "source": [
    "plt.figure(figsize=(5,5))\n",
    "_=plt.hist2d(dftote['X'],dftote['thetaX'],weights=dftote['Weight']*dftote['Ekine'],bins=(100,100))\n",
    "plt.xlabel(\"X (mm)\")\n",
    "plt.ylabel(\"thetaX (deg)\")"
   ]
  },
  {
   "cell_type": "code",
   "execution_count": null,
   "metadata": {},
   "outputs": [],
   "source": [
    "_=plt.hist(-dftote['thetaXY'],bins=100)"
   ]
  },
  {
   "cell_type": "code",
   "execution_count": null,
   "metadata": {},
   "outputs": [],
   "source": [
    "plt.figure(figsize=(10,10))\n",
    "_=plt.hist(dftote['thetaX'],bins=200,histtype=\"step\",color='red')\n",
    "_=plt.hist(dftote['thetaY'],bins=200,histtype=\"step\",color='green')"
   ]
  },
  {
   "cell_type": "code",
   "execution_count": null,
   "metadata": {},
   "outputs": [],
   "source": [
    "_=plt.hist(dftote['thetaY'],bins=100,histtype=\"step\")"
   ]
  },
  {
   "cell_type": "code",
   "execution_count": null,
   "metadata": {},
   "outputs": [],
   "source": [
    "print(\"10x10\")\n",
    "\n",
    "dftote['Weight'].sum(axis = 0, skipna = True) \n"
   ]
  },
  {
   "cell_type": "code",
   "execution_count": null,
   "metadata": {},
   "outputs": [],
   "source": [
    "print(\"5x5\")\n",
    "\n",
    "dftote2['Weight'].sum(axis = 0, skipna = True) \n"
   ]
  },
  {
   "cell_type": "code",
   "execution_count": null,
   "metadata": {},
   "outputs": [],
   "source": [
    "print(\"20x20\")\n",
    "\n",
    "dftote20['Weight'].sum(axis = 0, skipna = True) \n"
   ]
  },
  {
   "cell_type": "code",
   "execution_count": null,
   "metadata": {},
   "outputs": [],
   "source": [
    "plt.plot(np.array([5,10,20]),np.array([3428,14029,49277]),marker='o',linestyle=\"none\")"
   ]
  },
  {
   "cell_type": "code",
   "execution_count": null,
   "metadata": {},
   "outputs": [],
   "source": [
    "plt.figure(figsize=(5,5))\n",
    "_=plt.hist2d(dftote20['X'],dftote20['Y'],weights=dftote20['Weight'],bins=(10,10),range=([[-50,50],[-50,50]]))\n",
    "plt.xlabel(\"X (mm)\")\n",
    "plt.ylabel(\"Y (mm)\")\n",
    "plt.colorbar()\n"
   ]
  },
  {
   "cell_type": "code",
   "execution_count": null,
   "metadata": {},
   "outputs": [],
   "source": [
    "plt.figure(figsize=(11,10))\n",
    "_=plt.hist2d(dftote2['X'],dftote2['Y'],weights=dftote2['Weight'],bins=(10,10),range=([[-50,50],[-50,50]]))\n",
    "plt.xlabel(\"X (mm)\")\n",
    "plt.ylabel(\"Y (mm)\")\n",
    "plt.colorbar()"
   ]
  },
  {
   "cell_type": "code",
   "execution_count": null,
   "metadata": {},
   "outputs": [],
   "source": [
    "plt.figure(figsize=(6,5))\n",
    "_=plt.hist2d(dftote['X'],dftote['Y'],weights=dftote['Weight'],bins=(10,10),range=([[-50,50],[-50,50]]))\n",
    "plt.xlabel(\"X (mm)\")\n",
    "plt.ylabel(\"Y (mm)\")\n",
    "plt.colorbar()"
   ]
  },
  {
   "cell_type": "code",
   "execution_count": null,
   "metadata": {},
   "outputs": [],
   "source": []
  }
 ],
 "metadata": {
  "kernelspec": {
   "display_name": "Python 3",
   "language": "python",
   "name": "python3"
  },
  "language_info": {
   "codemirror_mode": {
    "name": "ipython",
    "version": 3
   },
   "file_extension": ".py",
   "mimetype": "text/x-python",
   "name": "python",
   "nbconvert_exporter": "python",
   "pygments_lexer": "ipython3",
   "version": "3.7.7"
  }
 },
 "nbformat": 4,
 "nbformat_minor": 2
}
