{
 "cells": [
  {
   "cell_type": "code",
   "execution_count": 1,
   "metadata": {},
   "outputs": [
    {
     "name": "stdout",
     "output_type": "stream",
     "text": [
      "Welcome to JupyROOT 6.18/04\n"
     ]
    }
   ],
   "source": [
    "import numpy as np\n",
    "import math\n",
    "from matplotlib import pylab as plt\n",
    "from ROOT import TTree, TFile, TH2D, TCanvas, TH1F, gROOT\n",
    "from root_numpy import array2hist, hist2array, fill_hist, tree2array, root2array, list_trees\n",
    "import pandas as pd\n",
    "from root_pandas import read_root\n",
    "import uproot\n",
    "import time\n"
   ]
  },
  {
   "cell_type": "code",
   "execution_count": 4,
   "metadata": {},
   "outputs": [
    {
     "name": "stdout",
     "output_type": "stream",
     "text": [
      "120.44384598731995\n",
      "4.16448712348938\n"
     ]
    }
   ],
   "source": [
    "ur=uproot.pandas.iterate(\"../PhS2_10x10/Skimmed/Skimmed-PhS-g*.root\", \"PhaseSpace\", ['X','Y','dX','dY','Weight','Ekine'])\n",
    "\n",
    "\n",
    "prevtime=time.time()\n",
    "mylist=list(ur)        \n",
    "newtime=time.time()\n",
    "\n",
    "print(newtime-prevtime)\n",
    "\n",
    "prevtime=time.time()\n",
    "dftot=pd.concat(mylist, ignore_index=True, sort=False  ,copy = False)\n",
    "newtime=time.time()\n",
    "print(newtime-prevtime)\n",
    "\n",
    "dftot=dftot.astype('float16')\n",
    "dftot.to_pickle(\"../PhS2_10x10/Gamma10x10.pkl\")"
   ]
  },
  {
   "cell_type": "code",
   "execution_count": null,
   "metadata": {},
   "outputs": [],
   "source": []
  },
  {
   "cell_type": "code",
   "execution_count": 2,
   "metadata": {},
   "outputs": [
    {
     "name": "stdout",
     "output_type": "stream",
     "text": [
      "553.5816659927368\n",
      "84.283616065979\n"
     ]
    }
   ],
   "source": [
    "ur=uproot.pandas.iterate(\"../PhS2_20x20/Skimmed/Skimmed-PhS-g*.root\", \"PhaseSpace\", ['X','Y','dX','dY','Weight','Ekine'])\n",
    "\n",
    "# nFiles=987\n",
    "# mylist=[None]*nFiles\n",
    "\n",
    "prevtime=time.time()\n",
    "mylist=list(ur)        \n",
    "newtime=time.time()\n",
    "\n",
    "print(newtime-prevtime)\n",
    "\n",
    "prevtime=time.time()\n",
    "dftot20=pd.concat(mylist, ignore_index=True, sort=False  ,copy = False)\n",
    "newtime=time.time()\n",
    "print(newtime-prevtime)\n",
    "dftot20=dftot20.astype(\"float16\")\n",
    "dftot20.to_pickle(\"../PhS2_20x20/Gamma20x20.pkl\")\n"
   ]
  },
  {
   "cell_type": "code",
   "execution_count": 3,
   "metadata": {},
   "outputs": [
    {
     "name": "stdout",
     "output_type": "stream",
     "text": [
      "0 0.1748659610748291\n",
      "100 6.7071027755737305\n",
      "200 8.614758968353271\n",
      "300 8.631002187728882\n",
      "400 8.412523031234741\n",
      "500 9.11737871170044\n",
      "600 9.669775247573853\n",
      "700 7.9285078048706055\n",
      "800 8.488725185394287\n",
      "900 8.763889074325562\n",
      "1.4050571918487549\n"
     ]
    }
   ],
   "source": [
    "mylist=[]\n",
    "filename=\"../PhS2_5x5/Skimmed/Skimmed-PhS-g*.root\"\n",
    "prevtime=time.time()\n",
    "for filenum,df in enumerate(uproot.pandas.iterate(filename, \"PhaseSpace\", ['X','Y','dX','dY','Weight','Ekine'])):\n",
    "    mylist.append(df)\n",
    "    if filenum%100==0:\n",
    "        newtime=time.time()\n",
    "        print(filenum,newtime-prevtime)\n",
    "        prevtime=newtime\n",
    "\n",
    "prevtime=time.time()\n",
    "dftot5=pd.concat(mylist, ignore_index=True, sort=False  ,copy = False)\n",
    "dftot5=dftot5.astype('float16')\n",
    "newtime=time.time()\n",
    "print(newtime-prevtime)\n",
    "dftot5.to_pickle(\"../PhS2_5x5/Gamma5x5.pkl\")\n"
   ]
  },
  {
   "cell_type": "code",
   "execution_count": null,
   "metadata": {},
   "outputs": [],
   "source": [
    "plt.figure(figsize=(9,8))\n",
    "_=plt.hist2d(dftot[\"X\"],dftot[\"Y\"],weights=dftot['Weight'],bins=(40,40),range=([[-40,40],[-40,40]]))\n",
    "plt.colorbar()"
   ]
  },
  {
   "cell_type": "code",
   "execution_count": null,
   "metadata": {},
   "outputs": [],
   "source": [
    "plt.figure(figsize=(9,8))\n",
    "twoDXY10=plt.hist2d(dftot[\"X\"],dftot[\"Y\"],weights=dftot['Weight'],bins=(11,11),range=([[-55,55],[-55,55]]))\n",
    "plt.colorbar()"
   ]
  },
  {
   "cell_type": "code",
   "execution_count": null,
   "metadata": {},
   "outputs": [],
   "source": [
    "plt.figure(figsize=(9,8))\n",
    "twoDXY5=plt.hist2d(dftot20[\"X\"],dftot20[\"Y\"],weights=dftot20['Weight'],bins=(11,11),range=([[-55,55],[-55,55]]))\n",
    "plt.colorbar()"
   ]
  },
  {
   "cell_type": "code",
   "execution_count": null,
   "metadata": {},
   "outputs": [],
   "source": [
    "plt.figure(figsize=(9,8))\n",
    "twoDXY5=plt.hist2d(dftot5[\"X\"],dftot5[\"Y\"],weights=dftot5['Weight'],bins=(11,11),range=([[-55,55],[-55,55]]))\n",
    "plt.colorbar()"
   ]
  },
  {
   "cell_type": "code",
   "execution_count": null,
   "metadata": {},
   "outputs": [],
   "source": [
    "dftote.dtypes"
   ]
  },
  {
   "cell_type": "code",
   "execution_count": null,
   "metadata": {},
   "outputs": [],
   "source": [
    "dftote.info()"
   ]
  },
  {
   "cell_type": "code",
   "execution_count": null,
   "metadata": {},
   "outputs": [],
   "source": [
    "dftote.memory_usage()"
   ]
  },
  {
   "cell_type": "code",
   "execution_count": null,
   "metadata": {},
   "outputs": [],
   "source": [
    "258424988*6/1024/1024/1024 "
   ]
  },
  {
   "cell_type": "code",
   "execution_count": null,
   "metadata": {},
   "outputs": [],
   "source": [
    "mylist=[]\n",
    "\n",
    "prevtime=time.time()\n",
    "for filenum,df in enumerate(ur):\n",
    "    mylist.append(df)\n",
    "    if filenum%100==0:\n",
    "        newtime=time.time()\n",
    "        print(filenum,newtime-prevtime)\n",
    "        prevtime=newtime"
   ]
  },
  {
   "cell_type": "code",
   "execution_count": null,
   "metadata": {},
   "outputs": [],
   "source": [
    "# nFiles=987\n",
    "# mylist=[None]*nFiles\n",
    "\n",
    "# prevtime=time.time()\n",
    "# for filenum,df in enumerate(ur):\n",
    "#     mylist[filenum] = df\n",
    "#     if filenum%100==0:\n",
    "#         newtime=time.time()\n",
    "#         print(filenum,newtime-prevtime)\n",
    "#         prevtime=newtime"
   ]
  },
  {
   "cell_type": "code",
   "execution_count": null,
   "metadata": {},
   "outputs": [],
   "source": [
    "# mylist=[]\n",
    "\n",
    "# prevtime=time.time()\n",
    "# for filenum,df in enumerate(ur):\n",
    "#     mylist.append(df)\n",
    "#     if filenum%100==0:\n",
    "#         newtime=time.time()\n",
    "#         print(filenum,newtime-prevtime)\n",
    "#         prevtime=newtime"
   ]
  }
 ],
 "metadata": {
  "kernelspec": {
   "display_name": "Python 3",
   "language": "python",
   "name": "python3"
  },
  "language_info": {
   "codemirror_mode": {
    "name": "ipython",
    "version": 3
   },
   "file_extension": ".py",
   "mimetype": "text/x-python",
   "name": "python",
   "nbconvert_exporter": "python",
   "pygments_lexer": "ipython3",
   "version": "3.7.7"
  }
 },
 "nbformat": 4,
 "nbformat_minor": 2
}
