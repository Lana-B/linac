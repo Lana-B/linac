{
 "cells": [
  {
   "cell_type": "code",
   "execution_count": 1,
   "metadata": {},
   "outputs": [
    {
     "name": "stdout",
     "output_type": "stream",
     "text": [
      "Welcome to JupyROOT 6.18/04\n"
     ]
    }
   ],
   "source": [
    "import numpy as np\n",
    "import math\n",
    "from matplotlib import pylab as plt\n",
    "from ROOT import TTree, TFile, TH2D, TCanvas, TH1F, gROOT\n",
    "from root_numpy import array2hist, hist2array, fill_hist, tree2array, root2array, list_trees\n",
    "import pandas as pd\n",
    "from root_pandas import read_root\n",
    "import pickle\n",
    "import lzma\n"
   ]
  },
  {
   "cell_type": "code",
   "execution_count": 2,
   "metadata": {},
   "outputs": [
    {
     "name": "stdout",
     "output_type": "stream",
     "text": [
      "1\n",
      "              X          Y             Z        dX        dY        dZ  \\\n",
      "0      7.390289  -0.466954  5.000000e-07  0.700306  0.396743 -0.593436   \n",
      "1     13.757916 -17.529522  5.000000e-07  0.079464 -0.686314 -0.722951   \n",
      "2     23.275198   5.567578  5.000000e-07  0.132553 -0.247088 -0.959884   \n",
      "3     19.877262 -23.426647  5.000000e-07  0.391776 -0.149797 -0.907784   \n",
      "4    -50.227367  -6.253265  5.000000e-07 -0.570099  0.168848 -0.804038   \n",
      "...         ...        ...           ...       ...       ...       ...   \n",
      "3089  -3.843947   4.285698  5.000000e-07 -0.400098 -0.000569 -0.916472   \n",
      "3090  36.381145 -21.579227  5.000000e-07  0.347991 -0.612608 -0.709657   \n",
      "3091 -15.498177   1.162658  5.000000e-07  0.542600 -0.222593 -0.809961   \n",
      "3092 -62.043510  -8.591144  5.000000e-07 -0.475170 -0.312516 -0.822525   \n",
      "3093 -62.587265   5.916790  5.000000e-07 -0.141087  0.180986 -0.973313   \n",
      "\n",
      "        Weight     Ekine ProductionVolume     CreatorProcess  \n",
      "0     0.000400  0.055759     b'world_log'  b'WrappedCompton'  \n",
      "1     0.000400  0.186511   b'jaws_x1_log'  b'WrappedCompton'  \n",
      "2     0.000400  0.176765   b'jaws_x1_log'  b'WrappedCompton'  \n",
      "3     0.000400  0.051930   b'jaws_x1_log'  b'WrappedCompton'  \n",
      "4     0.000008  0.631447   b'jaws_x2_log'  b'WrappedCompton'  \n",
      "...        ...       ...              ...                ...  \n",
      "3089  0.000400  0.441338   b'jaws_x2_log'  b'WrappedCompton'  \n",
      "3090  0.000400  0.140265   b'jaws_x2_log'  b'WrappedCompton'  \n",
      "3091  0.000400  0.169116   b'jaws_x2_log'  b'WrappedCompton'  \n",
      "3092  0.000400  0.607069   b'jaws_x2_log'  b'WrappedCompton'  \n",
      "3093  0.000400  0.089361   b'jaws_x1_log'           b'eIoni'  \n",
      "\n",
      "[3094 rows x 10 columns]\n"
     ]
    }
   ],
   "source": [
    "for filenum in range(1,2):\n",
    "    filename=\"../PhS2_5x5/output-lana2-PhS-e\"+str(filenum)+\".root\"\n",
    "    inputFile=TFile(filename)\n",
    "    tree=inputFile.Get(\"PhaseSpace\")\n",
    "    dfe = read_root(filename, columns=['X','Y','Z','dX', 'dY','dZ','Weight','Ekine','ProductionVolume','CreatorProcess'])\n",
    "    print(filenum)\n",
    "    with lzma.open(\"../Phs2_5x5/LZMA-Skimmed2_e\"+str(filenum)+\".pkl\", \"w\") as f:\n",
    "        pickle.dump(tree, f)\n",
    "    dfe.to_pickle(\"../Phs2_5x5/PSkimmed_e\"+str(filenum)+\".pkl\")\n",
    "    print(dfe)"
   ]
  },
  {
   "cell_type": "code",
   "execution_count": 7,
   "metadata": {},
   "outputs": [],
   "source": [
    "unpickled_df = pd.read_pickle(\"../Phs2_5x5/Skimmed_e\"+str(filenum)+\".pkl\")"
   ]
  },
  {
   "cell_type": "code",
   "execution_count": 8,
   "metadata": {},
   "outputs": [
    {
     "name": "stdout",
     "output_type": "stream",
     "text": [
      "              X          Y             Z        dX        dY            dZ  \\\n",
      "0      7.390289  -0.466954  5.000000e-07  0.700306  0.396743 -5.898499e-01   \n",
      "1     13.757916 -17.529522  5.000000e-07  0.079464 -0.686314  9.499027e-39   \n",
      "2     23.275198   5.567578  5.000000e-07  0.132553 -0.247088  9.499027e-39   \n",
      "3     19.877262 -23.426647  5.000000e-07  0.391776 -0.149797  9.499027e-39   \n",
      "4    -50.227367  -6.253265  5.000000e-07 -0.570099  0.168848  9.499027e-39   \n",
      "...         ...        ...           ...       ...       ...           ...   \n",
      "3089  -3.843947   4.285698  5.000000e-07 -0.400098 -0.000569  9.499027e-39   \n",
      "3090  36.381145 -21.579227  5.000000e-07  0.347991 -0.612608  9.499027e-39   \n",
      "3091 -15.498177   1.162658  5.000000e-07  0.542600 -0.222593  9.499027e-39   \n",
      "3092 -62.043510  -8.591144  5.000000e-07 -0.475170 -0.312516  9.499027e-39   \n",
      "3093 -62.587265   5.916790  5.000000e-07 -0.141087  0.180986  9.499027e-39   \n",
      "\n",
      "        Weight     Ekine ProductionVolume     CreatorProcess  \n",
      "0     0.000400  0.055759        b'ompton'  b'WrappedCompton'  \n",
      "1     0.000400  0.186511        b'ompton'  b'WrappedCompton'  \n",
      "2     0.000400  0.176765        b'ompton'  b'WrappedCompton'  \n",
      "3     0.000400  0.051930        b'ompton'  b'WrappedCompton'  \n",
      "4     0.000008  0.631447        b'ompton'  b'WrappedCompton'  \n",
      "...        ...       ...              ...                ...  \n",
      "3089  0.000400  0.441338        b'ompton'  b'WrappedCompton'  \n",
      "3090  0.000400  0.140265        b'ompton'  b'WrappedCompton'  \n",
      "3091  0.000400  0.169116        b'ompton'  b'WrappedCompton'  \n",
      "3092  0.000400  0.607069        b'ompton'  b'WrappedCompton'  \n",
      "3093  0.000400  0.089361   b'jaws_x1_log'           b'eIoni'  \n",
      "\n",
      "[3094 rows x 10 columns]\n"
     ]
    }
   ],
   "source": [
    "print(unpickled_df)"
   ]
  },
  {
   "cell_type": "code",
   "execution_count": 12,
   "metadata": {},
   "outputs": [],
   "source": [
    "import bz2\n",
    "\n",
    "with bz2.BZ2File(\"../Phs2_5x5/Skimmed_e\"+str(filenum)+\"smol.pkl\", \"w\") as f:\n",
    "     pickle.dump(dfe, f)"
   ]
  },
  {
   "cell_type": "code",
   "execution_count": 15,
   "metadata": {},
   "outputs": [],
   "source": [
    "import lzma\n",
    "with lzma.open(\"../Phs2_5x5/LZMA-Skimmed_e\"+str(filenum)+\".pkl\", \"w\") as f:\n",
    "    pickle.dump(dfe, f)"
   ]
  },
  {
   "cell_type": "code",
   "execution_count": 35,
   "metadata": {
    "scrolled": true
   },
   "outputs": [],
   "source": [
    "fname=\"../Phs2_5x5/LZMA-Skimmed2_e\"+str(filenum)+\".pkl\"\n",
    "newting=pickle.load(lzma.open(fname,\"rb\"))"
   ]
  },
  {
   "cell_type": "code",
   "execution_count": 36,
   "metadata": {},
   "outputs": [
    {
     "data": {
      "text/plain": [
       "<ROOT.TTree object (\"PhaseSpace\") at 0x7f9b5462d570>"
      ]
     },
     "execution_count": 36,
     "metadata": {},
     "output_type": "execute_result"
    }
   ],
   "source": [
    "newting"
   ]
  },
  {
   "cell_type": "code",
   "execution_count": 4,
   "metadata": {},
   "outputs": [
    {
     "name": "stdout",
     "output_type": "stream",
     "text": [
      "OBJ: TTree\tPhaseSpace\tPhase space tree : 0 at: 0x7fc432bde3b0\n"
     ]
    }
   ],
   "source": [
    "comptree=pickle.load(lzma.open(\"../Phs2_5x5/FSkimmed-PhS-e2.pkl\", \"rb\"))\n",
    "rootfile=TFile(\"../Phs2_5x5/newfiletest.root\",\"NEW\")\n",
    "comptree.AutoSave()\n",
    "comptree.ls()\n"
   ]
  },
  {
   "cell_type": "code",
   "execution_count": 5,
   "metadata": {},
   "outputs": [
    {
     "ename": "OSError",
     "evalue": "cannot read newfiletest.root",
     "output_type": "error",
     "traceback": [
      "\u001b[0;31m---------------------------------------------------------------------------\u001b[0m",
      "\u001b[0;31mOSError\u001b[0m                                   Traceback (most recent call last)",
      "\u001b[0;32m<ipython-input-5-cf405f34abaa>\u001b[0m in \u001b[0;36m<module>\u001b[0;34m\u001b[0m\n\u001b[1;32m      1\u001b[0m \u001b[0;31m# data, columns = comptree.AsMatrix(return_labels=True)\u001b[0m\u001b[0;34m\u001b[0m\u001b[0;34m\u001b[0m\u001b[0;34m\u001b[0m\u001b[0m\n\u001b[1;32m      2\u001b[0m \u001b[0;31m# df = pandas.DataFrame(data=data, columns=columns)\u001b[0m\u001b[0;34m\u001b[0m\u001b[0;34m\u001b[0m\u001b[0;34m\u001b[0m\u001b[0m\n\u001b[0;32m----> 3\u001b[0;31m \u001b[0mdf\u001b[0m \u001b[0;34m=\u001b[0m \u001b[0mread_root\u001b[0m\u001b[0;34m(\u001b[0m\u001b[0;34m\"newfiletest.root\"\u001b[0m\u001b[0;34m,\u001b[0m \u001b[0mcolumns\u001b[0m\u001b[0;34m=\u001b[0m\u001b[0;34m[\u001b[0m\u001b[0;34m'X'\u001b[0m\u001b[0;34m,\u001b[0m\u001b[0;34m'Y'\u001b[0m\u001b[0;34m,\u001b[0m\u001b[0;34m'Z'\u001b[0m\u001b[0;34m,\u001b[0m\u001b[0;34m'dX'\u001b[0m\u001b[0;34m,\u001b[0m \u001b[0;34m'dY'\u001b[0m\u001b[0;34m,\u001b[0m\u001b[0;34m'dZ'\u001b[0m\u001b[0;34m,\u001b[0m\u001b[0;34m'Weight'\u001b[0m\u001b[0;34m,\u001b[0m\u001b[0;34m'Ekine'\u001b[0m\u001b[0;34m,\u001b[0m\u001b[0;34m'ProductionVolume'\u001b[0m\u001b[0;34m,\u001b[0m\u001b[0;34m'CreatorProcess'\u001b[0m\u001b[0;34m]\u001b[0m\u001b[0;34m)\u001b[0m\u001b[0;34m\u001b[0m\u001b[0;34m\u001b[0m\u001b[0m\n\u001b[0m",
      "\u001b[0;32m/usr/local/lib/python3.7/site-packages/root_pandas/readwrite.py\u001b[0m in \u001b[0;36mread_root\u001b[0;34m(paths, key, columns, ignore, chunksize, where, flatten, *args, **kwargs)\u001b[0m\n\u001b[1;32m    204\u001b[0m     \u001b[0;31m# Use a single file to search for trees and branches, ensuring the key exists\u001b[0m\u001b[0;34m\u001b[0m\u001b[0;34m\u001b[0m\u001b[0;34m\u001b[0m\u001b[0m\n\u001b[1;32m    205\u001b[0m     \u001b[0;32mfor\u001b[0m \u001b[0mseed_path\u001b[0m \u001b[0;32min\u001b[0m \u001b[0mpaths\u001b[0m\u001b[0;34m:\u001b[0m\u001b[0;34m\u001b[0m\u001b[0;34m\u001b[0m\u001b[0m\n\u001b[0;32m--> 206\u001b[0;31m         \u001b[0mtrees\u001b[0m \u001b[0;34m=\u001b[0m \u001b[0mlist_trees\u001b[0m\u001b[0;34m(\u001b[0m\u001b[0mseed_path\u001b[0m\u001b[0;34m)\u001b[0m\u001b[0;34m\u001b[0m\u001b[0;34m\u001b[0m\u001b[0m\n\u001b[0m\u001b[1;32m    207\u001b[0m         \u001b[0;32mif\u001b[0m \u001b[0mkey\u001b[0m \u001b[0;32mand\u001b[0m \u001b[0mkey\u001b[0m \u001b[0;32mnot\u001b[0m \u001b[0;32min\u001b[0m \u001b[0mtrees\u001b[0m\u001b[0;34m:\u001b[0m\u001b[0;34m\u001b[0m\u001b[0;34m\u001b[0m\u001b[0m\n\u001b[1;32m    208\u001b[0m             \u001b[0;32mcontinue\u001b[0m\u001b[0;34m\u001b[0m\u001b[0;34m\u001b[0m\u001b[0m\n",
      "\u001b[0;32m/usr/local/lib/python3.7/site-packages/root_numpy/_tree.py\u001b[0m in \u001b[0;36mlist_trees\u001b[0;34m(filename)\u001b[0m\n\u001b[1;32m     53\u001b[0m \u001b[0;34m\u001b[0m\u001b[0m\n\u001b[1;32m     54\u001b[0m     \"\"\"\n\u001b[0;32m---> 55\u001b[0;31m     \u001b[0;32mreturn\u001b[0m \u001b[0m_librootnumpy\u001b[0m\u001b[0;34m.\u001b[0m\u001b[0mlist_trees\u001b[0m\u001b[0;34m(\u001b[0m\u001b[0mfilename\u001b[0m\u001b[0;34m)\u001b[0m\u001b[0;34m\u001b[0m\u001b[0;34m\u001b[0m\u001b[0m\n\u001b[0m\u001b[1;32m     56\u001b[0m \u001b[0;34m\u001b[0m\u001b[0m\n\u001b[1;32m     57\u001b[0m \u001b[0;34m\u001b[0m\u001b[0m\n",
      "\u001b[0;32mroot_numpy/src/tree.pyx\u001b[0m in \u001b[0;36m_librootnumpy.list_trees\u001b[0;34m()\u001b[0m\n",
      "\u001b[0;32mroot_numpy/src/tree.pyx\u001b[0m in \u001b[0;36m_librootnumpy.list_objects\u001b[0;34m()\u001b[0m\n",
      "\u001b[0;31mOSError\u001b[0m: cannot read newfiletest.root"
     ]
    },
    {
     "name": "stderr",
     "output_type": "stream",
     "text": [
      "Error in <TFile::ReadBuffer>: error reading all requested bytes from file newfiletest.root, got 228 of 300\n",
      "Error in <TFile::Init>: newfiletest.root failed to read the file type data.\n"
     ]
    }
   ],
   "source": [
    "# data, columns = comptree.AsMatrix(return_labels=True)\n",
    "# df = pandas.DataFrame(data=data, columns=columns)\n",
    "df = read_root(\"newfiletest.root\", columns=['X','Y','Z','dX', 'dY','dZ','Weight','Ekine','ProductionVolume','CreatorProcess'])\n"
   ]
  },
  {
   "cell_type": "code",
   "execution_count": 49,
   "metadata": {},
   "outputs": [
    {
     "data": {
      "text/plain": [
       "<lzma.LZMAFile at 0x11bdb5090>"
      ]
     },
     "execution_count": 49,
     "metadata": {},
     "output_type": "execute_result"
    },
    {
     "name": "stdout",
     "output_type": "stream",
     "text": [
      "The history saving thread hit an unexpected error (OperationalError('unable to open database file')).History will not be written to the database."
     ]
    },
    {
     "name": "stderr",
     "output_type": "stream",
     "text": [
      "Exception in thread IPythonHistorySavingThread:\n",
      "Traceback (most recent call last):\n",
      "  File \"/usr/local/lib/python3.7/site-packages/IPython/core/history.py\", line 834, in run\n",
      "  File \"</usr/local/lib/python3.7/site-packages/decorator.py:decorator-gen-23>\", line 2, in writeout_cache\n",
      "  File \"/usr/local/lib/python3.7/site-packages/IPython/core/history.py\", line 58, in needs_sqlite\n",
      "  File \"/usr/local/lib/python3.7/site-packages/IPython/core/history.py\", line 780, in writeout_cache\n",
      "  File \"/usr/local/lib/python3.7/site-packages/IPython/core/history.py\", line 764, in _writeout_input_cache\n",
      "sqlite3.OperationalError: unable to open database file\n",
      "\n",
      "During handling of the above exception, another exception occurred:\n",
      "\n",
      "Traceback (most recent call last):\n",
      "  File \"/usr/local/lib/python3.7/site-packages/ipykernel/iostream.py\", line 97, in _event_pipe\n",
      "AttributeError: '_thread._local' object has no attribute 'event_pipe'\n",
      "\n",
      "During handling of the above exception, another exception occurred:\n",
      "\n",
      "Traceback (most recent call last):\n",
      "  File \"/usr/local/Cellar/python/3.7.7/Frameworks/Python.framework/Versions/3.7/lib/python3.7/threading.py\", line 926, in _bootstrap_inner\n",
      "  File \"</usr/local/lib/python3.7/site-packages/decorator.py:decorator-gen-24>\", line 2, in run\n",
      "  File \"/usr/local/lib/python3.7/site-packages/IPython/core/history.py\", line 58, in needs_sqlite\n",
      "  File \"/usr/local/lib/python3.7/site-packages/IPython/core/history.py\", line 837, in run\n",
      "  File \"/usr/local/lib/python3.7/site-packages/ipykernel/iostream.py\", line 402, in write\n",
      "  File \"/usr/local/lib/python3.7/site-packages/ipykernel/iostream.py\", line 205, in schedule\n",
      "  File \"/usr/local/lib/python3.7/site-packages/ipykernel/iostream.py\", line 101, in _event_pipe\n",
      "  File \"/usr/local/lib/python3.7/site-packages/zmq/sugar/context.py\", line 204, in socket\n",
      "  File \"/usr/local/lib/python3.7/site-packages/zmq/sugar/socket.py\", line 59, in __init__\n",
      "  File \"zmq/backend/cython/socket.pyx\", line 328, in zmq.backend.cython.socket.Socket.__init__\n",
      "zmq.error.ZMQError: Too many open files\n",
      "Unhandled exception in thread started by <bound method Thread._bootstrap of <HistorySavingThread(IPythonHistorySavingThread, started 123145568092160)>>\n",
      "ERROR:root:Internal Python error in the inspect module.\n",
      "Below is the traceback from this internal error.\n",
      "\n",
      "--- Logging error ---\n",
      "Error in sys.excepthook:\n",
      "Traceback (most recent call last):\n",
      "\n",
      "\n",
      "During handling of the above exception, another exception occurred:\n",
      "\n",
      "\n",
      "\n",
      "During handling of the above exception, another exception occurred:\n",
      "\n",
      "\n",
      "\n",
      "During handling of the above exception, another exception occurred:\n",
      "\n",
      "\n",
      "\n",
      "During handling of the above exception, another exception occurred:\n",
      "\n",
      "\n",
      "\n",
      "During handling of the above exception, another exception occurred:\n",
      "\n",
      "\n",
      "\n",
      "Original exception was:\n",
      "Traceback (most recent call last):\n",
      "\n",
      "\n",
      "During handling of the above exception, another exception occurred:\n",
      "\n",
      "\n",
      "\n",
      "During handling of the above exception, another exception occurred:\n",
      "\n",
      "\n",
      "\n",
      "During handling of the above exception, another exception occurred:\n",
      "\n",
      "\n",
      "\n",
      "During handling of the above exception, another exception occurred:\n",
      "\n",
      "\n",
      "Unhandled exception in thread started by \n",
      "Error in sys.excepthook:\n",
      "\n",
      "Original exception was:\n"
     ]
    }
   ],
   "source": [
    "lzma.open(\"../Phs2_5x5/FSkimmed-PhS-e2.pkl\", \"rb\")"
   ]
  },
  {
   "cell_type": "code",
   "execution_count": null,
   "metadata": {},
   "outputs": [],
   "source": []
  }
 ],
 "metadata": {
  "kernelspec": {
   "display_name": "Python 3",
   "language": "python",
   "name": "python3"
  },
  "language_info": {
   "codemirror_mode": {
    "name": "ipython",
    "version": 3
   },
   "file_extension": ".py",
   "mimetype": "text/x-python",
   "name": "python",
   "nbconvert_exporter": "python",
   "pygments_lexer": "ipython3",
   "version": "3.7.7"
  }
 },
 "nbformat": 4,
 "nbformat_minor": 2
}
